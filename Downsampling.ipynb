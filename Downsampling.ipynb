{
 "cells": [
  {
   "cell_type": "code",
   "execution_count": null,
   "metadata": {},
   "outputs": [
    {
     "name": "stderr",
     "output_type": "stream",
     "text": [
      "d:\\workspace\\ThesisProject\\venv\\Lib\\site-packages\\torchvision\\models\\_utils.py:208: UserWarning: The parameter 'pretrained' is deprecated since 0.13 and may be removed in the future, please use 'weights' instead.\n",
      "  warnings.warn(\n",
      "d:\\workspace\\ThesisProject\\venv\\Lib\\site-packages\\torchvision\\models\\_utils.py:223: UserWarning: Arguments other than a weight enum or `None` for 'weights' are deprecated since 0.13 and may be removed in the future. The current behavior is equivalent to passing `weights=ResNet50_Weights.IMAGENET1K_V1`. You can also use `weights=ResNet50_Weights.DEFAULT` to get the most up-to-date weights.\n",
      "  warnings.warn(msg)\n"
     ]
    }
   ],
   "source": [
    "import os\n",
    "import shutil\n",
    "import numpy as np\n",
    "from PIL import Image\n",
    "from torchvision import models, transforms\n",
    "import torch\n",
    "from torch.utils.data import DataLoader, Dataset\n",
    "from imblearn.under_sampling import NearMiss\n",
    "from sklearn.preprocessing import LabelEncoder\n",
    "from collections import Counter\n",
    "\n",
    "device = torch.device('cuda' if torch.cuda.is_available() else 'cpu')\n",
    "resnet = models.resnet50(weights=\"IMAGENET1K_V1\")\n",
    "resnet.fc = torch.nn.Identity() \n",
    "resnet = resnet.to(device)\n",
    "resnet.eval()\n",
    "\n",
    "transform = transforms.Compose([\n",
    "    transforms.Resize((224, 224)),\n",
    "    transforms.ToTensor(),\n",
    "    transforms.Normalize(mean=[0.485, 0.456, 0.406], std=[0.229, 0.224, 0.225])\n",
    "])\n",
    "\n",
    "# Custom dataset for loading images\n",
    "class ImageDataset(Dataset):\n",
    "    def __init__(self, image_paths, transform):\n",
    "        self.image_paths = image_paths\n",
    "        self.transform = transform\n",
    "\n",
    "    def __len__(self):\n",
    "        return len(self.image_paths)\n",
    "\n",
    "    def __getitem__(self, idx):\n",
    "        image_path = self.image_paths[idx]\n",
    "        image = Image.open(image_path).convert('RGB')\n",
    "        image = self.transform(image)\n",
    "        label = os.path.basename(os.path.dirname(image_path))  # Class name\n",
    "        return image, label, image_path\n",
    "\n",
    "def extract_features_in_batches(image_paths, batch_size=32):\n",
    "    dataset = ImageDataset(image_paths, transform)\n",
    "    dataloader = DataLoader(dataset, batch_size=batch_size, shuffle=False)\n",
    "    features, labels, paths = [], [], []\n",
    "\n",
    "    for images, batch_labels, batch_paths in dataloader:\n",
    "        images = images.to(device)\n",
    "        with torch.no_grad():\n",
    "            batch_features = resnet(images).cpu().numpy()\n",
    "        features.extend(batch_features)\n",
    "        labels.extend(batch_labels)\n",
    "        paths.extend(batch_paths)\n",
    "    \n",
    "    return np.array(features), labels, paths\n",
    "\n",
    "# DATASET\n",
    "image_paths = []\n",
    "dataset_path = '../../ORIGINAL DATASET'\n",
    "\n",
    "for class_name in os.listdir(dataset_path):\n",
    "    class_folder = os.path.join(dataset_path, class_name)\n",
    "    if os.path.isdir(class_folder):\n",
    "        for image_name in os.listdir(class_folder):\n",
    "            image_paths.append(os.path.join(class_folder, image_name))\n",
    "\n",
    "# Extract features\n",
    "features, labels, image_paths = extract_features_in_batches(image_paths)\n"
   ]
  },
  {
   "cell_type": "code",
   "execution_count": null,
   "metadata": {},
   "outputs": [
    {
     "name": "stdout",
     "output_type": "stream",
     "text": [
      "Class distribution after Near Miss: Counter({np.int64(0): 16, np.int64(1): 16, np.int64(2): 16, np.int64(3): 16, np.int64(4): 16, np.int64(5): 16, np.int64(6): 16, np.int64(7): 16, np.int64(8): 16, np.int64(9): 16, np.int64(10): 16, np.int64(11): 16, np.int64(12): 16, np.int64(13): 16, np.int64(14): 16, np.int64(15): 16, np.int64(16): 16, np.int64(17): 16, np.int64(18): 16, np.int64(19): 16, np.int64(20): 16, np.int64(21): 16, np.int64(22): 16})\n"
     ]
    }
   ],
   "source": [
    "# Use features to for encoder and resample the dataset\n",
    "label_encoder = LabelEncoder()\n",
    "y = label_encoder.fit_transform(labels)\n",
    "\n",
    "# Apply Near Miss to balance the classes from encouded labels\n",
    "nearmiss = NearMiss(version=1)\n",
    "features_resampled, y_resampled = nearmiss.fit_resample(features, y)\n",
    "\n",
    "# Get the selected image paths\n",
    "selected_indices = nearmiss.sample_indices_\n",
    "selected_image_paths = [image_paths[i] for i in selected_indices]\n",
    "\n",
    "print(\"Class distribution after Near Miss:\", Counter(y_resampled))"
   ]
  },
  {
   "cell_type": "code",
   "execution_count": 10,
   "metadata": {},
   "outputs": [],
   "source": [
    "# SAVE THE BALANCED DATASET\n",
    "output_folder = '../../balanced_dataset'\n",
    "\n",
    "os.makedirs(output_folder, exist_ok=True)\n",
    "\n",
    "for image_path in selected_image_paths:\n",
    "    class_name = os.path.basename(os.path.dirname(image_path))\n",
    "    class_folder = os.path.join(output_folder, class_name)\n",
    "    os.makedirs(class_folder, exist_ok=True)\n",
    "    shutil.copy(image_path, class_folder)"
   ]
  }
 ],
 "metadata": {
  "kernelspec": {
   "display_name": "venv",
   "language": "python",
   "name": "python3"
  },
  "language_info": {
   "codemirror_mode": {
    "name": "ipython",
    "version": 3
   },
   "file_extension": ".py",
   "mimetype": "text/x-python",
   "name": "python",
   "nbconvert_exporter": "python",
   "pygments_lexer": "ipython3",
   "version": "3.12.5"
  }
 },
 "nbformat": 4,
 "nbformat_minor": 2
}
