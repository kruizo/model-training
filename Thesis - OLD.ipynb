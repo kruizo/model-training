{
  "cells": [
    {
      "cell_type": "markdown",
      "metadata": {
        "id": "2aE2ZLtysudb"
      },
      "source": [
        "# Imports"
      ]
    },
    {
      "cell_type": "code",
      "execution_count": 1,
      "metadata": {
        "id": "2PUCYLbwlJuH"
      },
      "outputs": [
        {
          "name": "stdout",
          "output_type": "stream",
          "text": [
            "d:\\workspace\\ThesisProject\\venv\\Scripts\\python.exe\n",
            "Current device: NVIDIA GeForce GTX 1050 Ti\n",
            "Using device: cuda\n"
          ]
        }
      ],
      "source": [
        "import torch\n",
        "import sys\n",
        "# import functools\n",
        "print(sys.executable)\n",
        "import tensorflow as tf\n",
        "import torch.nn as nn\n",
        "import torch.optim as optim\n",
        "from torch.utils.data import DataLoader\n",
        "from torchvision import datasets, transforms\n",
        "from torchvision.models import resnet50\n",
        "from PIL import Image\n",
        "import torch.nn.functional as F\n",
        "from torchvision.transforms import InterpolationMode\n",
        "\n",
        "from torch.optim.lr_scheduler import ReduceLROnPlateau\n",
        "from torch.optim.lr_scheduler import CosineAnnealingLR\n",
        "# from torch.optim import lr_scheduler\n",
        "# import random\n",
        "import pandas as pd\n",
        "import numpy as np\n",
        "import matplotlib.pyplot as plt\n",
        "import time\n",
        "from sklearn.metrics import classification_report, accuracy_score, f1_score, precision_score, recall_score\n",
        "import matplotlib.pyplot as plt\n",
        "import os\n",
        "import glob\n",
        "from tqdm import tqdm\n",
        "# from FinalModels.ESRGAN.model import ESRGAN\n",
        "from sklearn.utils.class_weight import compute_class_weight\n",
        "\n",
        "project_root = os.path.abspath(os.path.join(os.getcwd()))\n",
        "\n",
        "device = torch.device(\"cuda\" if torch.cuda.is_available() else \"cpu\")\n",
        "\n",
        "folder_path = \"d:\\\\workspace\\\\ThesisProject\\\\TESTS\\\\images\\\\LR\"\n",
        "\n",
        "print(\"Current device:\", torch.cuda.get_device_name(0) if torch.cuda.is_available() else \"None\")\n",
        "print(f\"Using device: {torch.device(\"cuda\" if torch.cuda.is_available() else \"cpu\")}\")\n",
        "\n",
        "# esrgan_model = ESRGAN(model_path='./FinalModels/ESRGAN/model/RRDB_ESRGAN_x4.pth', device=device)\n",
        "\n",
        "\n",
        "#TENSOR\n",
        "# from tensorflow.keras.applications.resnet50 import preprocess_input\n",
        "# from tensorflow.keras.applications import ResNet50\n",
        "# from tensorflow.keras.layers import GlobalAveragePooling2D, GlobalMaxPooling2D, Concatenate, Dense, Dropout, Activation, Conv2D, BatchNormalization\n",
        "# from tensorflow.keras.models import Model\n",
        "# from tensorflow.keras.callbacks import ModelCheckpoint, ReduceLROnPlateau, EarlyStopping\n",
        "# from tensorflow.keras.optimizers import Adamax, Adam\n",
        "# from tensorflow.keras.preprocessing.image import ImageDataGenerator\n",
        "# from tensorflow.keras.models import load_model\n",
        "\n",
        "\n"
      ]
    },
    {
      "cell_type": "markdown",
      "metadata": {},
      "source": [
        "# FUNCTIONS"
      ]
    },
    {
      "cell_type": "code",
      "execution_count": 2,
      "metadata": {},
      "outputs": [],
      "source": [
        "\n",
        "\n",
        "def train_and_validate(model, criterion, optimizer, train_loader, val_loader, device, num_epochs=5):\n",
        "    history = {\n",
        "        \"epoch\": [],\n",
        "        \"train_loss\": [],\n",
        "        \"train_accuracy\": [],\n",
        "        \"val_loss\": [],\n",
        "        \"val_accuracy\": []\n",
        "    }\n",
        "\n",
        "    # scheduler = CosineAnnealingLR(optimizer, T_max=num_epochs, eta_min=0)\n",
        "    for epoch in range(num_epochs):\n",
        "        # Training Phase\n",
        "        model.train()\n",
        "        train_loss, correct, total = 0.0, 0, 0\n",
        "\n",
        "        # lr = optimizer.param_groups[0]['lr']\n",
        "\n",
        "        print(f\"=====================================Epoch: {epoch + 1} / {num_epochs}=====================================\")\n",
        "        train_progress = tqdm(train_loader, total=len(train_loader), leave=True)\n",
        "\n",
        "        for images, labels in train_progress:\n",
        "            images, labels = images.to(device), labels.to(device)\n",
        "            optimizer.zero_grad()\n",
        "            outputs = model(images)\n",
        "            loss = criterion(outputs, labels)\n",
        "            loss.backward()\n",
        "            optimizer.step()\n",
        "\n",
        "            train_loss += loss.item() * images.size(0)\n",
        "            _, predicted = outputs.max(1)\n",
        "            total += labels.size(0)\n",
        "            correct += predicted.eq(labels).sum().item()\n",
        "            \n",
        "            train_progress.set_description(f'[TRAIN] ')\n",
        "            \n",
        "        train_loss /= len(train_loader.dataset)\n",
        "        train_acc = correct / total\n",
        "\n",
        "        # Validation Phase\n",
        "        model.eval()\n",
        "        val_loss, correct, total = 0.0, 0, 0\n",
        "\n",
        "        val_progress = tqdm(val_loader, total=len(val_loader), leave=True)\n",
        "        with torch.no_grad():\n",
        "            for inputs, labels in val_progress:\n",
        "                inputs, labels = inputs.to(device), labels.to(device)\n",
        "                outputs = model(inputs)\n",
        "                loss = criterion(outputs, labels)\n",
        "                val_loss += loss.item() * inputs.size(0) # 1\n",
        "\n",
        "                probs = F.softmax(outputs, dim=1) # 3\n",
        "                _, predicted = torch.max(probs, 1)\n",
        "                correct += predicted.eq(labels).sum().item()\n",
        "                total += labels.size(0)\n",
        "\n",
        "                val_progress.set_description(f'[VALID] ')\n",
        "\n",
        "        val_loss /= len(val_loader.dataset) # 2\n",
        "        val_acc = correct / total\n",
        "\n",
        "        print(f'=> Train Loss={train_loss:.4f}, Val Loss={val_loss:.4f} |  Train Acc={train_acc:.4f},  Val Acc={val_acc:.4f}')\n",
        "\n",
        "        history[\"epoch\"].append(epoch + 1)\n",
        "        history[\"train_loss\"].append(train_loss)\n",
        "        history[\"train_accuracy\"].append(train_acc)\n",
        "        history[\"val_loss\"].append(val_loss)\n",
        "        history[\"val_accuracy\"].append(val_acc)\n",
        "\n",
        "        # scheduler.step()\n",
        "\n",
        "    \n",
        "    return history\n",
        "\n",
        "def save_image(image, filename):\n",
        "  \"\"\"\n",
        "    Saves unscaled Tensor Images.\n",
        "    Args:\n",
        "      image: 3D image tensor. [height, width, channels]\n",
        "      filename: Name of the file to save.\n",
        "  \"\"\"\n",
        "  if not isinstance(image, Image.Image):\n",
        "    image = tf.clip_by_value(image, 0, 255)\n",
        "    image = Image.fromarray(tf.cast(image, tf.uint8).numpy())\n",
        "  image.save(\"%s.jpg\" % filename)\n",
        "  print(\"Saved as %s.jpg\" % filename)\n",
        "\n",
        "\n",
        "def pad_to_square(image):\n",
        "    # Get original dimensions\n",
        "    old_h, old_w = image.shape[:2]\n",
        "    \n",
        "    # Find the larger dimension to make the image square\n",
        "    max_dim = max(old_h, old_w)\n",
        "    \n",
        "    # Calculate padding\n",
        "    pad_h = (max_dim - old_h) // 2\n",
        "    pad_w = (max_dim - old_w) // 2\n",
        "    \n",
        "    # Ensure padding is non-negative and compatible\n",
        "    padded_image = tf.image.pad_to_bounding_box(image, pad_h, pad_w, max_dim, max_dim)\n",
        "    \n",
        "    # Handle any excess due to rounding differences\n",
        "    padded_image = tf.image.resize_with_crop_or_pad(padded_image, max_dim, max_dim)\n",
        "    \n",
        "    return padded_image\n",
        "\n",
        "def get_image_index(file_name, image_dir=\"./data/DATASET/TRAIN_UNET/enhanced_images/*.jpg\"):\n",
        "    \"\"\"\n",
        "    Retrieves the index of an image file name in the list of loaded images.\n",
        "    \n",
        "    Args:\n",
        "        file_name (str): The file name of the image (e.g., 'image1.jpg').\n",
        "        image_dir (str): The directory path of the images.\n",
        "\n",
        "    Returns:\n",
        "        int: The index of the image in the list of images, or -1 if not found.\n",
        "    \"\"\"\n",
        "    for idx, img_path in enumerate(glob.glob(image_dir)):\n",
        "        if file_name in img_path:\n",
        "            return idx\n",
        "    return -1\n",
        "\n",
        "def plot_image(image, title=\"\"):\n",
        "  \"\"\"\n",
        "    Plots images from image tensors.\n",
        "    Args:\n",
        "      image: 3D image tensor. [height, width, channels].\n",
        "      title: Title to display in the plot.\n",
        "  \"\"\"\n",
        "  image = np.asarray(image)\n",
        "  plt.imshow(image)\n",
        "  plt.axis(\"off\")\n",
        "  plt.title(title)\n",
        "\n",
        "def plot_image_tensor(image, title=\"\"):\n",
        "  \"\"\"\n",
        "    Plots images from image tensors.\n",
        "    Args:\n",
        "      image: 3D image tensor. [height, width, channels].\n",
        "      title: Title to display in the plot.\n",
        "  \"\"\"\n",
        "  image = np.asarray(image)\n",
        "  image = tf.clip_by_value(image, 0, 255)\n",
        "  image = Image.fromarray(tf.cast(image, tf.uint8).numpy())\n",
        "  plt.imshow(image)\n",
        "  plt.axis(\"off\")\n",
        "  plt.title(title)\n",
        "\n",
        "# Training and evaluation loop for RESNET\n",
        "def train_model(model, dataloader, val_dataloader, optimizer, criterion, epochs, device):\n",
        "    # Initialize lists to store metrics for each epoch\n",
        "    train_losses = []\n",
        "    val_losses = []\n",
        "    train_accuracies = []\n",
        "    val_accuracies = []\n",
        "    # scheduler = lr_scheduler.CosineAnnealingLR(optimizer, T_max=epochs)\n",
        "\n",
        "\n",
        "    for epoch in range(epochs):\n",
        "        model.train()\n",
        "        running_loss = 0.0\n",
        "        correct = 0\n",
        "        total = 0\n",
        "\n",
        "        # Create a tqdm progress bar for the dataloader\n",
        "        progress_bar = tqdm(dataloader, desc=f\"Epoch {epoch + 1}/{epochs}\", ncols=100, unit=\"batch\")\n",
        "\n",
        "        for inputs, labels in progress_bar:\n",
        "            inputs, labels = inputs.to(device), labels.to(device)\n",
        "\n",
        "            # Forward pass\n",
        "            optimizer.zero_grad()\n",
        "            outputs = model(inputs)\n",
        "            loss = criterion(outputs, labels)\n",
        "\n",
        "            # Backward pass and optimization\n",
        "            loss.backward()\n",
        "            optimizer.step()\n",
        "\n",
        "            running_loss += loss.item()\n",
        "            _, predicted = torch.max(outputs, 1)\n",
        "            correct += (predicted == labels).sum().item()\n",
        "            total += labels.size(0)\n",
        "\n",
        "            # Update progress bar with loss and accuracy\n",
        "            progress_bar.set_postfix(loss=running_loss/total, accuracy=correct/total)\n",
        "\n",
        "        # Calculate training accuracy\n",
        "        # scheduler.step()\n",
        "\n",
        "        train_loss = running_loss / len(dataloader)\n",
        "        train_acc = correct / total\n",
        "\n",
        "        # Evaluate on the validation set\n",
        "        val_acc, val_loss = evaluate_model(model, val_dataloader, criterion)\n",
        "\n",
        "        # Save metrics for this epoch\n",
        "        train_losses.append(train_loss)\n",
        "        train_accuracies.append(train_acc)\n",
        "        val_losses.append(val_loss)\n",
        "        val_accuracies.append(val_acc)\n",
        "\n",
        "        # , Learning Rate: {scheduler.get_last_lr()[0]:.6f}\n",
        "        print(f\"Epoch {epoch + 1}/{epochs}: Train Loss={train_loss:.4f}, Train Acc={train_acc:.4f}, Val Loss={val_loss:.4f}, Val Acc={val_acc:.4f}\")\n",
        "\n",
        "    # Return the history for further processing (such as saving or plotting)\n",
        "    history = {\n",
        "        'epoch': range(1, epochs + 1),\n",
        "        'train_loss': train_losses,\n",
        "        'val_loss': val_losses,\n",
        "        'train_accuracy': train_accuracies,\n",
        "        'val_accuracy': val_accuracies\n",
        "    }\n",
        "\n",
        "    return history  # Return the history dictionary\n",
        "\n",
        "\n",
        "# Evaluation loop for RESNET\n",
        "def evaluate_model(model, dataloader, criterion):\n",
        "    model.eval()\n",
        "    val_loss = 0.0\n",
        "    correct = 0\n",
        "    total = 0\n",
        "\n",
        "    with torch.no_grad():\n",
        "        for inputs, labels in dataloader:\n",
        "            inputs, labels = inputs.to(device), labels.to(device)\n",
        "            outputs = model(inputs)\n",
        "            loss = criterion(outputs, labels)\n",
        "            val_loss += loss.item()\n",
        "\n",
        "            # probs = F.softmax(outputs, dim=1)\n",
        "            _, predicted = torch.max(outputs, 1)\n",
        "            correct += (predicted == labels).sum().item()\n",
        "            total += labels.size(0)\n",
        "\n",
        "    val_acc = correct / total\n",
        "    return val_acc, val_loss / len(dataloader)\n",
        "\n",
        "def test_model(model, test_dataloader):\n",
        "    model.eval()\n",
        "    y_true = []\n",
        "    y_pred = []\n",
        "\n",
        "    with torch.no_grad():\n",
        "        for inputs, labels in test_dataloader:\n",
        "            inputs, labels = inputs.to(device), labels.to(device)\n",
        "            outputs = model(inputs)\n",
        "            _, predicted = torch.max(outputs, 1)\n",
        "\n",
        "            y_true.extend(labels.cpu().numpy())\n",
        "            y_pred.extend(predicted.cpu().numpy())\n",
        "\n",
        "    return y_true, y_pred\n",
        "\n",
        "def predict_image(model, image_path, device, class_labels):\n",
        "    # Load and preprocess the image\n",
        "    image = Image.open(image_path).convert('RGB')\n",
        "    transform = transforms.Compose([\n",
        "        transforms.Resize((224, 224)),  # Resize to match model input size\n",
        "        transforms.ToTensor(),\n",
        "        transforms.Normalize(mean=[0.485, 0.456, 0.406], std=[0.229, 0.224, 0.225])  # Normalize as per ResNet's requirements\n",
        "    ])\n",
        "    image = transform(image).unsqueeze(0).to(device)  # Add batch dimension\n",
        "\n",
        "    # Move the image to the same device as the model\n",
        "    image = image.to(device)\n",
        "\n",
        "    # Start time for inference\n",
        "    start_time = time.time()\n",
        "\n",
        "    # Perform inference\n",
        "    model.eval()\n",
        "    with torch.no_grad():\n",
        "        outputs = model(image)\n",
        "\n",
        "    # Calculate prediction probabilities using softmax\n",
        "    probabilities = torch.nn.functional.softmax(outputs, dim=1)\n",
        "\n",
        "    # Get the predicted class and its probability\n",
        "    predicted_class_index = probabilities.argmax().item()\n",
        "    predicted_class = class_labels[predicted_class_index]\n",
        "    prediction_time = time.time() - start_time\n",
        "\n",
        "    return predicted_class, prediction_time, probabilities[0]  # Return class, time, and probabilities\n",
        "\n",
        "def predict_image_with_debug(model, image_path, device, class_labels):\n",
        "    image = Image.open(image_path).convert('RGB')\n",
        "    transform = transforms.Compose([\n",
        "        transforms.Resize((224, 224)),\n",
        "        transforms.ToTensor(),\n",
        "        transforms.Normalize(mean=[0.485, 0.456, 0.406], std=[0.229, 0.224, 0.225])\n",
        "    ])\n",
        "    image = transform(image).unsqueeze(0).to(device)\n",
        "    # image = image.squeeze(0).permute(1, 2, 0).cpu().numpy()  # Convert tensor to NumPy array (H, W, C)\n",
        "    # image = (image * [0.229, 0.224, 0.225]) + [0.485, 0.456, 0.406]  # De-normalize\n",
        "    # image = (image * 255).astype(np.uint8)  # Convert to 8-bit image\n",
        "\n",
        "    # Start time for inference\n",
        "    start_time = time.time()\n",
        "\n",
        "    # Perform inference\n",
        "    model.eval()\n",
        "    with torch.no_grad():\n",
        "        logits = model(image)  # Raw logits from the model\n",
        "\n",
        "    # Calculate probabilities using softmax\n",
        "    probabilities = torch.nn.functional.softmax(logits, dim=1)\n",
        "\n",
        "    # Plot class probabilities\n",
        "    plt.bar(range(len(class_labels)), probabilities[0].cpu().numpy())\n",
        "    plt.xticks(range(len(class_labels)), class_labels, rotation=90)\n",
        "    plt.show()\n",
        "\n",
        "    # Get predicted class and its probability\n",
        "    predicted_class_index = probabilities.argmax().item()\n",
        "    predicted_class = class_labels[predicted_class_index]\n",
        "    confidence = probabilities.max().item()\n",
        "    prediction_time = time.time() - start_time\n",
        "\n",
        "    return predicted_class, confidence, prediction_time\n",
        "\n",
        "\n",
        "def plot_from_history(history, max_epochs):\n",
        "    # Extract data from the history dictionary\n",
        "    if isinstance(history['epoch'], range):\n",
        "        # 'epoch' is a column in the DataFrame\n",
        "        epochs = list(history['epoch'])[:max_epochs]\n",
        "        train_losses = history['train_loss'][:max_epochs]\n",
        "        val_losses = history['val_loss'][:max_epochs]\n",
        "        train_accuracies = history['train_accuracy'][:max_epochs]\n",
        "        val_accuracies = history['val_accuracy'][:max_epochs]\n",
        "\n",
        "    elif isinstance(history['epoch'], list):\n",
        "        # 'epoch' is a list\n",
        "        epochs = history['epoch'][:max_epochs]\n",
        "        train_losses = history['train_loss'][:max_epochs]\n",
        "        val_losses = history['val_loss'][:max_epochs]\n",
        "        train_accuracies = history['train_accuracy'][:max_epochs]\n",
        "        val_accuracies = history['val_accuracy'][:max_epochs]\n",
        "    else:\n",
        "        # 'epoch' is a range object\n",
        "        history_filtered = history[history['epoch'] <= max_epochs]\n",
        "        epochs = history_filtered['epoch']\n",
        "        train_losses = history_filtered['train_loss']\n",
        "        val_losses = history_filtered['val_loss']\n",
        "        train_accuracies = history_filtered['train_accuracy']\n",
        "        val_accuracies = history_filtered['val_accuracy']\n",
        "\n",
        "    # Plot the metrics\n",
        "    plt.figure(figsize=(12, 6))\n",
        "\n",
        "    # Loss plot\n",
        "    plt.subplot(1, 2, 1)\n",
        "    plt.plot(epochs, train_losses, label='Train Loss', color='blue', marker='o')\n",
        "    plt.plot(epochs, val_losses, label='Validation Loss', color='red', marker='o')\n",
        "    plt.xlabel('Epoch')\n",
        "    plt.ylabel('Loss')\n",
        "    plt.title('Training and Validation Loss')\n",
        "    plt.legend()\n",
        "    plt.grid(True)  # Add grid\n",
        "\n",
        "    # Accuracy plot\n",
        "    plt.subplot(1, 2, 2)\n",
        "    plt.plot(epochs, train_accuracies, label='Train Accuracy', color='blue', marker='o')\n",
        "    plt.plot(epochs, val_accuracies, label='Validation Accuracy', color='red', marker='o')\n",
        "    plt.xlabel('Epoch')\n",
        "    plt.ylabel('Accuracy')\n",
        "    plt.title('Training and Validation Accuracy')\n",
        "    plt.legend()\n",
        "    plt.grid(True)  # Add grid\n",
        "\n",
        "    # Save the plot\n",
        "    plt.tight_layout()\n",
        "    plt.show()\n",
        "\n",
        "def get_class_labels(dataset_dir):\n",
        "    # Get all folder names in the directory, which are your class labels\n",
        "    class_labels = sorted(os.listdir(dataset_dir))  # Assuming each subfolder is a class\n",
        "    return class_labels\n",
        "\n",
        "def save_model(model, history, model_path, history_path):\n",
        "    # Save the model state dict\n",
        "    torch.save(model, model_path)\n",
        "\n",
        "    save_history_to_csv(history, history_path)\n",
        "\n",
        "    print(f\"Model saved to {model_path}\")\n",
        "    print(f\"History saved to {history_path}\")\n",
        "\n",
        "def save_history_to_csv(history, filename):\n",
        "    df = pd.DataFrame(history)\n",
        "    df.to_csv(filename, index=False)\n",
        "    print(f\"History saved to {filename}\")\n",
        "\n",
        "def load_entire_model(model_path, device):\n",
        "    # Load the entire model\n",
        "    model = torch.load(model_path, weights_only=False)\n",
        "    model.to(device)  # Ensure the model is on the correct device (CPU or GPU)\n",
        "    print(f\"Model loaded from {model_path}\")\n",
        "    \n",
        "    return model\n",
        "\n",
        "def load_history_from_csv(filename):\n",
        "    df = pd.read_csv(filename)\n",
        "    return df\n",
        "\n"
      ]
    },
    {
      "cell_type": "markdown",
      "metadata": {
        "id": "D0ZinKSzn8CK"
      },
      "source": [
        "# Dataset Preparation"
      ]
    },
    {
      "cell_type": "code",
      "execution_count": 9,
      "metadata": {
        "id": "8EN9tbvv_7EB"
      },
      "outputs": [],
      "source": [
        "train_dir = './DATASET/TRAIN'\n",
        "enhancedtrain_dir = './DATASET/TRAIN_ESRGAN_UNET - ESRGAN'\n",
        "test_dir = './DATASET/TEST - mergedval'\n",
        "enhancedtest_dir = './DATASET/TEST_ESRGAN_UNET - ESRGAN-mergedval'\n",
        "val_dir = './DATASET/VALIDATION'\n",
        "enhancedval_dir = './DATASET/VALIDATION_ESRGAN_UNET - ESRGAN'\n",
        "\n",
        "# train_dir = './DATASET/TRAIN'\n",
        "# enhancedtrain_dir = './DATASET/TRAIN_ESRGAN2_UNET - ESRGAN'\n",
        "# test_dir = './DATASET/TEST - mergedval'\n",
        "# enhancedtest_dir = './DATASET/TEST_ESRGAN2_UNET - mergedval'\n",
        "# val_dir = './DATASET/VALIDATION'\n",
        "# enhancedval_dir = './DATASET/VALIDATION_ESRGAN2_UNET - ESRGAN'\n",
        "\n",
        "# train_dir = './DATASET/TRAIN'\n",
        "# enhancedtrain_dir = './DATASET/TRAIN_ESRGAN'\n",
        "# test_dir = './DATASET/TEST'\n",
        "# enhancedtest_dir = './DATASET/TEST_ESRGAN'\n",
        "# val_dir = './DATASET/VALIDATION'\n",
        "# enhancedval_dir = './DATASET/VALIDATION_ESRGAN'\n",
        "\n",
        "# train_dir = './DATASET/TRAIN'\n",
        "# enhancedtrain_dir = './DATASET/TRAIN_ESRGAN2_UNET - ESRGAN'\n",
        "# test_dir = './DATASET/TEST - mergedval'\n",
        "# enhancedtest_dir = './DATASET/TEST_ESRGAN2_UNET - mergedval'\n",
        "# val_dir = './DATASET/VALIDATION'\n",
        "# enhancedval_dir = './DATASET/VALIDATION_ESRGAN2_UNET - ESRGAN'\n",
        "\n",
        "# train_dir = './DATASET/TRAIN'\n",
        "# enhancedtrain_dir = './DATASET/TRAIN_ESRGAN2_UNET - ESRGAN'\n",
        "# test_dir = './DATASET/TEST'\n",
        "# enhancedtest_dir = './DATASET/TEST_ESRGAN2_UNET - ESRGAN'\n",
        "# val_dir = './DATASET/VALIDATION'\n",
        "# enhancedval_dir = './DATASET/VALIDATION_ESRGAN2_UNET - ESRGAN'\n",
        "\n",
        "seed = 42\n",
        "# np.random.seed(seed)\n",
        "# random.seed(seed)\n"
      ]
    },
    {
      "cell_type": "code",
      "execution_count": 10,
      "metadata": {},
      "outputs": [],
      "source": [
        "import random\n",
        "\n",
        "random.seed(seed)\n",
        "np.random.seed(seed)\n",
        "torch.cuda.manual_seed_all(seed)\n",
        "torch.backends.cudnn.deterministic = True\n",
        "torch.backends.cudnn.benchmark = False"
      ]
    },
    {
      "cell_type": "markdown",
      "metadata": {},
      "source": [
        "**FOR TENSORFLOW**"
      ]
    },
    {
      "cell_type": "code",
      "execution_count": null,
      "metadata": {},
      "outputs": [],
      "source": [
        "\n",
        "\n",
        "\n",
        "img_height, img_width = 224, 224\n",
        "batch_size = 64\n",
        "\n",
        "\n",
        "tf.random.set_seed(seed)\n",
        "\n",
        "train_datagen = ImageDataGenerator(\n",
        "                                preprocessing_function=preprocess_input,\n",
        "                                   )\n",
        "\n",
        "enhancedtrain_datagen = ImageDataGenerator(\n",
        "                                   preprocessing_function=preprocess_input,\n",
        "                                   )\n",
        "\n",
        "\n",
        "\n",
        "test_datagen = ImageDataGenerator(preprocessing_function=preprocess_input)\n",
        "validation_datagen = ImageDataGenerator(preprocessing_function=preprocess_input)\n",
        "\n",
        "\n",
        "enhancedval_datagen = ImageDataGenerator(preprocessing_function=preprocess_input)\n",
        "enhancedtest_datagen = ImageDataGenerator(preprocessing_function=preprocess_input)\n",
        "\n",
        "train_generator = train_datagen.flow_from_directory(\n",
        "    train_dir,\n",
        "    target_size=(img_height, img_width),  \n",
        "    batch_size=batch_size,\n",
        "    class_mode='categorical',\n",
        "    shuffle=True,\n",
        "    seed=seed\n",
        ")\n",
        "\n",
        "\n",
        "validation_generator = validation_datagen.flow_from_directory(\n",
        "    val_dir,  \n",
        "    target_size=(img_height, img_width),  \n",
        "    batch_size=batch_size,\n",
        "    class_mode='categorical',\n",
        "    shuffle=False  \n",
        ")\n",
        "\n",
        "test_generator = test_datagen.flow_from_directory(\n",
        "    test_dir,\n",
        "    target_size=(img_height, img_width),  \n",
        "    batch_size=batch_size,\n",
        "    class_mode='categorical',\n",
        "    shuffle=False\n",
        ")\n",
        "\n",
        "enhancedtrain_generator = enhancedtrain_datagen.flow_from_directory(\n",
        "    enhancedtrain_dir,\n",
        "    target_size=(img_height, img_width),  \n",
        "    batch_size=batch_size,\n",
        "    class_mode='categorical',\n",
        "    shuffle=True,\n",
        "    seed=seed\n",
        ")\n",
        "\n",
        "enhancedvalidation_generator = enhancedval_datagen.flow_from_directory(\n",
        "    enhancedval_dir,  \n",
        "    target_size=(img_height, img_width),  \n",
        "    batch_size=batch_size,\n",
        "    class_mode='categorical',\n",
        "    shuffle=False  \n",
        ")\n",
        "\n",
        "enhancedtest_generator = enhancedtest_datagen.flow_from_directory(\n",
        "    enhancedtest_dir,  \n",
        "    target_size=(img_height, img_width),  \n",
        "    batch_size=batch_size,\n",
        "    class_mode='categorical',\n",
        "    shuffle=False  \n",
        ")"
      ]
    },
    {
      "cell_type": "markdown",
      "metadata": {},
      "source": [
        "**PYTORCH**"
      ]
    },
    {
      "cell_type": "code",
      "execution_count": 11,
      "metadata": {},
      "outputs": [
        {
          "name": "stdout",
          "output_type": "stream",
          "text": [
            "Class Weights: tensor([1.3717, 0.6057, 3.3313, 0.8969, 0.7013, 0.5519, 3.2165, 0.6433, 0.2961,\n",
            "        9.3278, 0.4421, 4.6639, 0.7345, 2.3917, 2.7435, 5.4869, 6.6627, 1.5045],\n",
            "       device='cuda:0')\n",
            "Number of images in training set: 1679\n",
            "Number of images in validation set: 474\n",
            "Number of images in test set: 720\n",
            "Number of images in enhanced training set: 1679\n",
            "Number of images in enhanced validation set: 474\n",
            "Number of images in enhanced test set: 720\n",
            "✅ No duplicate images found between train and validation sets.\n"
          ]
        }
      ],
      "source": [
        "\n",
        "\n",
        "# Hyperparameters\n",
        "\n",
        "\n",
        "img_height, img_width = 224, 224\n",
        "batch_size = 16 #change to finetune\n",
        "\n",
        "torch.manual_seed(seed)\n",
        "\n",
        "device = torch.device(\"cuda\" if torch.cuda.is_available() else \"cpu\")\n",
        "\n",
        "\n",
        "\n",
        "# Data augmentation and normalization for training\n",
        "augmented_transform = transforms.Compose([\n",
        "    transforms.Resize((img_height, img_width)),\n",
        "    # transforms.RandomRotation(90),\n",
        "    transforms.ColorJitter(brightness=(0.8, 1.2), contrast=(0.8, 1.2)),\n",
        "    transforms.RandomHorizontalFlip(),\n",
        "    # transforms.RandomResizedCrop((img_height, img_width), scale=(0.8, 1.0)),\n",
        "    transforms.ToTensor(),\n",
        "    transforms.Normalize([0.485, 0.456, 0.406], [0.229, 0.224, 0.225]),\n",
        "])\n",
        "\n",
        "\n",
        "unaugmented_transform = transforms.Compose([\n",
        "    transforms.Resize((img_height, img_width), interpolation=InterpolationMode.BICUBIC),\n",
        "    transforms.ToTensor(),\n",
        "    transforms.Normalize(mean=[0.485, 0.456, 0.406], std=[0.229, 0.224, 0.225]),\n",
        "])\n",
        "\n",
        "# Load datasets\n",
        "train_dataset = datasets.ImageFolder(train_dir, transform=unaugmented_transform) \n",
        "val_dataset = datasets.ImageFolder(val_dir, transform=unaugmented_transform)\n",
        "test_dataset = datasets.ImageFolder(test_dir, transform=unaugmented_transform)\n",
        "\n",
        "# Enhanced datasets\n",
        "enhanced_train_dataset = datasets.ImageFolder(enhancedtrain_dir, transform=unaugmented_transform)\n",
        "enhanced_val_dataset = datasets.ImageFolder(enhancedval_dir, transform=unaugmented_transform)\n",
        "enhanced_test_dataset = datasets.ImageFolder(enhancedtest_dir, transform=unaugmented_transform)\n",
        "\n",
        "# Create DataLoaders\n",
        "train_loader = DataLoader(train_dataset, batch_size=batch_size, shuffle=True, num_workers=4)\n",
        "val_loader = DataLoader(val_dataset, batch_size=batch_size, shuffle=False, num_workers=4)\n",
        "test_loader = DataLoader(test_dataset, batch_size=batch_size, shuffle=False, num_workers=4)\n",
        "\n",
        "enhanced_train_loader = DataLoader(enhanced_train_dataset, batch_size=batch_size, shuffle=True, num_workers=4)\n",
        "enhanced_val_loader = DataLoader(enhanced_val_dataset, batch_size=batch_size, shuffle=False, num_workers=4)\n",
        "enhanced_test_loader = DataLoader(enhanced_test_dataset, batch_size=batch_size, shuffle=False, num_workers=4)\n",
        "\n",
        "\n",
        "class_counts = np.bincount(train_dataset.targets)\n",
        "num_classes = len(class_counts)\n",
        "\n",
        "class_weights = compute_class_weight(class_weight='balanced', classes=np.arange(num_classes), y=train_dataset.targets)\n",
        "class_weights = torch.tensor(class_weights, dtype=torch.float32).to(device)\n",
        "\n",
        "print(\"Class Weights:\", class_weights)\n",
        "print(f\"Number of images in training set: {len(train_dataset)}\")\n",
        "print(f\"Number of images in validation set: {len(val_dataset)}\")\n",
        "print(f\"Number of images in test set: {len(test_dataset)}\")\n",
        "\n",
        "print(f\"Number of images in enhanced training set: {len(enhanced_train_dataset)}\")\n",
        "print(f\"Number of images in enhanced validation set: {len(enhanced_val_dataset)}\")\n",
        "print(f\"Number of images in enhanced test set: {len(enhanced_test_dataset)}\")\n",
        "\n",
        "# Get file paths from train and validation datasets\n",
        "train_files = set([sample[0] for sample in train_dataset.samples])\n",
        "val_files = set([sample[0] for sample in val_dataset.samples])\n",
        "\n",
        "# Find overlapping images\n",
        "overlapping_files = train_files.intersection(val_files)\n",
        "\n",
        "# Check if there's any overlap\n",
        "if overlapping_files:\n",
        "    print(f\"{len(overlapping_files)} duplicate images found between train and validation sets.\")\n",
        "    print(\"Examples:\", list(overlapping_files)[:5])  # Show first 5 duplicate file paths\n",
        "else:\n",
        "    print(\"✅ No duplicate images found between train and validation sets.\")\n",
        "\n"
      ]
    },
    {
      "cell_type": "markdown",
      "metadata": {},
      "source": [
        "# BASELINE (TENSORFLOW)"
      ]
    },
    {
      "cell_type": "code",
      "execution_count": null,
      "metadata": {},
      "outputs": [
        {
          "name": "stdout",
          "output_type": "stream",
          "text": [
            "0 input_layer_5 False\n",
            "1 conv1_pad False\n",
            "2 conv1_conv False\n",
            "3 conv1_bn False\n",
            "4 conv1_relu False\n",
            "5 pool1_pad False\n",
            "6 pool1_pool False\n",
            "7 conv2_block1_1_conv False\n",
            "8 conv2_block1_1_bn False\n",
            "9 conv2_block1_1_relu False\n",
            "10 conv2_block1_2_conv False\n",
            "11 conv2_block1_2_bn False\n",
            "12 conv2_block1_2_relu False\n",
            "13 conv2_block1_0_conv False\n",
            "14 conv2_block1_3_conv False\n",
            "15 conv2_block1_0_bn False\n",
            "16 conv2_block1_3_bn False\n",
            "17 conv2_block1_add False\n",
            "18 conv2_block1_out False\n",
            "19 conv2_block2_1_conv False\n",
            "20 conv2_block2_1_bn False\n",
            "21 conv2_block2_1_relu False\n",
            "22 conv2_block2_2_conv False\n",
            "23 conv2_block2_2_bn False\n",
            "24 conv2_block2_2_relu False\n",
            "25 conv2_block2_3_conv False\n",
            "26 conv2_block2_3_bn False\n",
            "27 conv2_block2_add False\n",
            "28 conv2_block2_out False\n",
            "29 conv2_block3_1_conv False\n",
            "30 conv2_block3_1_bn False\n",
            "31 conv2_block3_1_relu False\n",
            "32 conv2_block3_2_conv False\n",
            "33 conv2_block3_2_bn False\n",
            "34 conv2_block3_2_relu False\n",
            "35 conv2_block3_3_conv False\n",
            "36 conv2_block3_3_bn False\n",
            "37 conv2_block3_add False\n",
            "38 conv2_block3_out False\n",
            "39 conv3_block1_1_conv False\n",
            "40 conv3_block1_1_bn False\n",
            "41 conv3_block1_1_relu False\n",
            "42 conv3_block1_2_conv False\n",
            "43 conv3_block1_2_bn False\n",
            "44 conv3_block1_2_relu False\n",
            "45 conv3_block1_0_conv False\n",
            "46 conv3_block1_3_conv False\n",
            "47 conv3_block1_0_bn False\n",
            "48 conv3_block1_3_bn False\n",
            "49 conv3_block1_add False\n",
            "50 conv3_block1_out False\n",
            "51 conv3_block2_1_conv False\n",
            "52 conv3_block2_1_bn False\n",
            "53 conv3_block2_1_relu False\n",
            "54 conv3_block2_2_conv False\n",
            "55 conv3_block2_2_bn False\n",
            "56 conv3_block2_2_relu False\n",
            "57 conv3_block2_3_conv False\n",
            "58 conv3_block2_3_bn False\n",
            "59 conv3_block2_add False\n",
            "60 conv3_block2_out False\n",
            "61 conv3_block3_1_conv False\n",
            "62 conv3_block3_1_bn False\n",
            "63 conv3_block3_1_relu False\n",
            "64 conv3_block3_2_conv False\n",
            "65 conv3_block3_2_bn False\n",
            "66 conv3_block3_2_relu False\n",
            "67 conv3_block3_3_conv False\n",
            "68 conv3_block3_3_bn False\n",
            "69 conv3_block3_add False\n",
            "70 conv3_block3_out False\n",
            "71 conv3_block4_1_conv False\n",
            "72 conv3_block4_1_bn False\n",
            "73 conv3_block4_1_relu False\n",
            "74 conv3_block4_2_conv False\n",
            "75 conv3_block4_2_bn False\n",
            "76 conv3_block4_2_relu False\n",
            "77 conv3_block4_3_conv False\n",
            "78 conv3_block4_3_bn False\n",
            "79 conv3_block4_add False\n",
            "80 conv3_block4_out False\n",
            "81 conv4_block1_1_conv False\n",
            "82 conv4_block1_1_bn False\n",
            "83 conv4_block1_1_relu False\n",
            "84 conv4_block1_2_conv False\n",
            "85 conv4_block1_2_bn False\n",
            "86 conv4_block1_2_relu False\n",
            "87 conv4_block1_0_conv False\n",
            "88 conv4_block1_3_conv False\n",
            "89 conv4_block1_0_bn False\n",
            "90 conv4_block1_3_bn False\n",
            "91 conv4_block1_add False\n",
            "92 conv4_block1_out False\n",
            "93 conv4_block2_1_conv False\n",
            "94 conv4_block2_1_bn False\n",
            "95 conv4_block2_1_relu False\n",
            "96 conv4_block2_2_conv False\n",
            "97 conv4_block2_2_bn False\n",
            "98 conv4_block2_2_relu False\n",
            "99 conv4_block2_3_conv False\n",
            "100 conv4_block2_3_bn False\n",
            "101 conv4_block2_add False\n",
            "102 conv4_block2_out False\n",
            "103 conv4_block3_1_conv False\n",
            "104 conv4_block3_1_bn False\n",
            "105 conv4_block3_1_relu False\n",
            "106 conv4_block3_2_conv False\n",
            "107 conv4_block3_2_bn False\n",
            "108 conv4_block3_2_relu False\n",
            "109 conv4_block3_3_conv False\n",
            "110 conv4_block3_3_bn False\n",
            "111 conv4_block3_add False\n",
            "112 conv4_block3_out False\n",
            "113 conv4_block4_1_conv False\n",
            "114 conv4_block4_1_bn False\n",
            "115 conv4_block4_1_relu False\n",
            "116 conv4_block4_2_conv False\n",
            "117 conv4_block4_2_bn False\n",
            "118 conv4_block4_2_relu False\n",
            "119 conv4_block4_3_conv False\n",
            "120 conv4_block4_3_bn False\n",
            "121 conv4_block4_add False\n",
            "122 conv4_block4_out False\n",
            "123 conv4_block5_1_conv False\n",
            "124 conv4_block5_1_bn False\n",
            "125 conv4_block5_1_relu False\n",
            "126 conv4_block5_2_conv False\n",
            "127 conv4_block5_2_bn False\n",
            "128 conv4_block5_2_relu False\n",
            "129 conv4_block5_3_conv False\n",
            "130 conv4_block5_3_bn False\n",
            "131 conv4_block5_add False\n",
            "132 conv4_block5_out False\n",
            "133 conv4_block6_1_conv False\n",
            "134 conv4_block6_1_bn False\n",
            "135 conv4_block6_1_relu False\n",
            "136 conv4_block6_2_conv False\n",
            "137 conv4_block6_2_bn False\n",
            "138 conv4_block6_2_relu False\n",
            "139 conv4_block6_3_conv False\n",
            "140 conv4_block6_3_bn False\n",
            "141 conv4_block6_add False\n",
            "142 conv4_block6_out False\n",
            "143 conv5_block1_1_conv False\n",
            "144 conv5_block1_1_bn False\n",
            "145 conv5_block1_1_relu False\n",
            "146 conv5_block1_2_conv False\n",
            "147 conv5_block1_2_bn False\n",
            "148 conv5_block1_2_relu False\n",
            "149 conv5_block1_0_conv False\n",
            "150 conv5_block1_3_conv False\n",
            "151 conv5_block1_0_bn False\n",
            "152 conv5_block1_3_bn False\n",
            "153 conv5_block1_add False\n",
            "154 conv5_block1_out False\n",
            "155 conv5_block2_1_conv False\n",
            "156 conv5_block2_1_bn False\n",
            "157 conv5_block2_1_relu False\n",
            "158 conv5_block2_2_conv False\n",
            "159 conv5_block2_2_bn False\n",
            "160 conv5_block2_2_relu False\n",
            "161 conv5_block2_3_conv False\n",
            "162 conv5_block2_3_bn False\n",
            "163 conv5_block2_add False\n",
            "164 conv5_block2_out False\n",
            "165 conv5_block3_1_conv False\n",
            "166 conv5_block3_1_bn False\n",
            "167 conv5_block3_1_relu False\n",
            "168 conv5_block3_2_conv False\n",
            "169 conv5_block3_2_bn False\n",
            "170 conv5_block3_2_relu False\n",
            "171 conv5_block3_3_conv False\n",
            "172 conv5_block3_3_bn False\n",
            "173 conv5_block3_add False\n",
            "174 conv5_block3_out False\n"
          ]
        }
      ],
      "source": [
        "baseline_model = ResNet50(weights='imagenet', include_top=False, input_shape=(224, 224, 3))\n",
        "\n",
        "#143 LAYERS ORIGINAL\n",
        "for layer in baseline_model.layers:  \n",
        "    layer.trainable = False\n",
        "\n",
        "\n",
        "for i, layer in enumerate(baseline_model.layers):\n",
        "   print(i, layer.name, layer.trainable)"
      ]
    },
    {
      "cell_type": "code",
      "execution_count": null,
      "metadata": {},
      "outputs": [],
      "source": [
        "x = baseline_model.output\n",
        "\n",
        "x = GlobalAveragePooling2D()(x)\n",
        "\n",
        "x = Activation('tanh')(x)\n",
        "\n",
        "output_layer = Dense(18, activation=\"softmax\", name='classification_output')(x)\n",
        "\n",
        "# Final model\n",
        "baseline_model = Model(inputs=baseline_model.input, outputs=output_layer, name=\"baseline_ResNet-50\")\n",
        "\n",
        "\n",
        "\n",
        "initial_lr = 0.001\n",
        "\n",
        "optimizer = Adamax(learning_rate=initial_lr)\n",
        "\n",
        "baseline_model.compile(optimizer=optimizer, loss='categorical_crossentropy', metrics=['accuracy'])\n",
        "\n",
        "# basemodel.summary()"
      ]
    },
    {
      "cell_type": "code",
      "execution_count": null,
      "metadata": {},
      "outputs": [
        {
          "name": "stdout",
          "output_type": "stream",
          "text": [
            "Epoch 1/5\n",
            "\u001b[1m27/27\u001b[0m \u001b[32m━━━━━━━━━━━━━━━━━━━━\u001b[0m\u001b[37m\u001b[0m \u001b[1m111s\u001b[0m 4s/step - accuracy: 0.3076 - loss: 2.4241 - val_accuracy: 0.6083 - val_loss: 1.4770\n",
            "Epoch 2/5\n",
            "\u001b[1m27/27\u001b[0m \u001b[32m━━━━━━━━━━━━━━━━━━━━\u001b[0m\u001b[37m\u001b[0m \u001b[1m103s\u001b[0m 4s/step - accuracy: 0.6877 - loss: 1.3279 - val_accuracy: 0.7111 - val_loss: 1.0872\n",
            "Epoch 3/5\n",
            "\u001b[1m27/27\u001b[0m \u001b[32m━━━━━━━━━━━━━━━━━━━━\u001b[0m\u001b[37m\u001b[0m \u001b[1m95s\u001b[0m 4s/step - accuracy: 0.7675 - loss: 0.9264 - val_accuracy: 0.7736 - val_loss: 0.8936\n",
            "Epoch 4/5\n",
            "\u001b[1m27/27\u001b[0m \u001b[32m━━━━━━━━━━━━━━━━━━━━\u001b[0m\u001b[37m\u001b[0m \u001b[1m112s\u001b[0m 4s/step - accuracy: 0.8174 - loss: 0.7589 - val_accuracy: 0.8042 - val_loss: 0.7707\n",
            "Epoch 5/5\n",
            "\u001b[1m27/27\u001b[0m \u001b[32m━━━━━━━━━━━━━━━━━━━━\u001b[0m\u001b[37m\u001b[0m \u001b[1m97s\u001b[0m 4s/step - accuracy: 0.8547 - loss: 0.6522 - val_accuracy: 0.8194 - val_loss: 0.6822\n"
          ]
        }
      ],
      "source": [
        "#HYPER PARAMETERS\n",
        "#checkpoint = ModelCheckpoint('best_model.keras', monitor='val_loss', save_best_only=True, mode='min')\n",
        "#early_stopping = EarlyStopping(monitor='val_loss', patience=3, restore_best_weights=True)\n",
        "#reduce_lr = ReduceLROnPlateau(monitor='val_loss', factor=0.2, patience=1, min_lr=0.00001)\n",
        "\n",
        "baseline_history_tensor = baseline_model.fit(\n",
        "    train_generator,\n",
        "    validation_data = test_generator,\n",
        "    epochs=5,\n",
        "    validation_freq=1,\n",
        "    verbose=1,\n",
        ")\n"
      ]
    },
    {
      "cell_type": "code",
      "execution_count": null,
      "metadata": {},
      "outputs": [],
      "source": [
        "y_pred = baseline_model.predict(test_generator)\n",
        "y_pred_classes = y_pred.argmax(axis=1)\n",
        "\n",
        "y_true = test_generator.classes\n",
        "\n",
        "\n",
        "for i in range(10):  # Checking the first 10 predictions\n",
        "    print(f\"True Label: {y_true[i]}, Predicted Label: {y_pred_classes[i]}\")\n",
        "\n",
        "print(\"Classification Report:\")\n",
        "print(classification_report(y_true, y_pred_classes, target_names=test_generator.class_indices.keys()))\n",
        "\n",
        "f1 = f1_score(y_true, y_pred_classes, average='weighted')\n",
        "precision = precision_score(y_true, y_pred_classes, average='weighted')\n",
        "recall = recall_score(y_true, y_pred_classes, average='weighted')\n",
        "accuracy = accuracy_score(y_true, y_pred_classes)\n",
        "\n",
        "print(f'F1 Score: {f1:.4f}')\n",
        "print(f'Precision: {precision:.4f}')\n",
        "print(f'Recall: {recall:.4f}')\n",
        "print(f'Accuracy: {accuracy:.4f}')"
      ]
    },
    {
      "cell_type": "code",
      "execution_count": null,
      "metadata": {},
      "outputs": [],
      "source": [
        "# Plot the Loss\n",
        "\n",
        "plt.plot(baseline_history_tensor.history['loss'], label = 'train_loss')\n",
        "plt.plot(baseline_history_tensor.history['val_loss'], label ='val loss')\n",
        "plt.legend()\n",
        "plt.show()\n",
        "# plt.savefig('LossVal_loss')\n",
        "\n",
        "# Plot the Accuracy\n",
        "plt.plot(baseline_history_tensor.history['accuracy'], label = 'train accuracy')\n",
        "plt.plot(baseline_history_tensor.history['val_accuracy'], label ='val accuracy')\n",
        "plt.legend()\n",
        "plt.show()\n",
        "# plt.savefig('valAccuracy')\n"
      ]
    },
    {
      "cell_type": "markdown",
      "metadata": {},
      "source": [
        "# BASELINE (PYTORCH)"
      ]
    },
    {
      "cell_type": "code",
      "execution_count": 20,
      "metadata": {},
      "outputs": [
        {
          "name": "stdout",
          "output_type": "stream",
          "text": [
            ": True\n",
            "conv1: False\n",
            "bn1: False\n",
            "relu: False\n",
            "maxpool: False\n",
            "layer1: False\n",
            "layer1.0: False\n",
            "layer1.0.conv1: False\n",
            "layer1.0.bn1: False\n",
            "layer1.0.conv2: False\n",
            "layer1.0.bn2: False\n",
            "layer1.0.conv3: False\n",
            "layer1.0.bn3: False\n",
            "layer1.0.relu: False\n",
            "layer1.0.downsample: False\n",
            "layer1.0.downsample.0: False\n",
            "layer1.0.downsample.1: False\n",
            "layer1.1: False\n",
            "layer1.1.conv1: False\n",
            "layer1.1.bn1: False\n",
            "layer1.1.conv2: False\n",
            "layer1.1.bn2: False\n",
            "layer1.1.conv3: False\n",
            "layer1.1.bn3: False\n",
            "layer1.1.relu: False\n",
            "layer1.2: False\n",
            "layer1.2.conv1: False\n",
            "layer1.2.bn1: False\n",
            "layer1.2.conv2: False\n",
            "layer1.2.bn2: False\n",
            "layer1.2.conv3: False\n",
            "layer1.2.bn3: False\n",
            "layer1.2.relu: False\n",
            "layer2: False\n",
            "layer2.0: False\n",
            "layer2.0.conv1: False\n",
            "layer2.0.bn1: False\n",
            "layer2.0.conv2: False\n",
            "layer2.0.bn2: False\n",
            "layer2.0.conv3: False\n",
            "layer2.0.bn3: False\n",
            "layer2.0.relu: False\n",
            "layer2.0.downsample: False\n",
            "layer2.0.downsample.0: False\n",
            "layer2.0.downsample.1: False\n",
            "layer2.1: False\n",
            "layer2.1.conv1: False\n",
            "layer2.1.bn1: False\n",
            "layer2.1.conv2: False\n",
            "layer2.1.bn2: False\n",
            "layer2.1.conv3: False\n",
            "layer2.1.bn3: False\n",
            "layer2.1.relu: False\n",
            "layer2.2: False\n",
            "layer2.2.conv1: False\n",
            "layer2.2.bn1: False\n",
            "layer2.2.conv2: False\n",
            "layer2.2.bn2: False\n",
            "layer2.2.conv3: False\n",
            "layer2.2.bn3: False\n",
            "layer2.2.relu: False\n",
            "layer2.3: False\n",
            "layer2.3.conv1: False\n",
            "layer2.3.bn1: False\n",
            "layer2.3.conv2: False\n",
            "layer2.3.bn2: False\n",
            "layer2.3.conv3: False\n",
            "layer2.3.bn3: False\n",
            "layer2.3.relu: False\n",
            "layer3: False\n",
            "layer3.0: False\n",
            "layer3.0.conv1: False\n",
            "layer3.0.bn1: False\n",
            "layer3.0.conv2: False\n",
            "layer3.0.bn2: False\n",
            "layer3.0.conv3: False\n",
            "layer3.0.bn3: False\n",
            "layer3.0.relu: False\n",
            "layer3.0.downsample: False\n",
            "layer3.0.downsample.0: False\n",
            "layer3.0.downsample.1: False\n",
            "layer3.1: False\n",
            "layer3.1.conv1: False\n",
            "layer3.1.bn1: False\n",
            "layer3.1.conv2: False\n",
            "layer3.1.bn2: False\n",
            "layer3.1.conv3: False\n",
            "layer3.1.bn3: False\n",
            "layer3.1.relu: False\n",
            "layer3.2: False\n",
            "layer3.2.conv1: False\n",
            "layer3.2.bn1: False\n",
            "layer3.2.conv2: False\n",
            "layer3.2.bn2: False\n",
            "layer3.2.conv3: False\n",
            "layer3.2.bn3: False\n",
            "layer3.2.relu: False\n",
            "layer3.3: False\n",
            "layer3.3.conv1: False\n",
            "layer3.3.bn1: False\n",
            "layer3.3.conv2: False\n",
            "layer3.3.bn2: False\n",
            "layer3.3.conv3: False\n",
            "layer3.3.bn3: False\n",
            "layer3.3.relu: False\n",
            "layer3.4: False\n",
            "layer3.4.conv1: False\n",
            "layer3.4.bn1: False\n",
            "layer3.4.conv2: False\n",
            "layer3.4.bn2: False\n",
            "layer3.4.conv3: False\n",
            "layer3.4.bn3: False\n",
            "layer3.4.relu: False\n",
            "layer3.5: False\n",
            "layer3.5.conv1: False\n",
            "layer3.5.bn1: False\n",
            "layer3.5.conv2: False\n",
            "layer3.5.bn2: False\n",
            "layer3.5.conv3: False\n",
            "layer3.5.bn3: False\n",
            "layer3.5.relu: False\n",
            "layer4: False\n",
            "layer4.0: False\n",
            "layer4.0.conv1: False\n",
            "layer4.0.bn1: False\n",
            "layer4.0.conv2: False\n",
            "layer4.0.bn2: False\n",
            "layer4.0.conv3: False\n",
            "layer4.0.bn3: False\n",
            "layer4.0.relu: False\n",
            "layer4.0.downsample: False\n",
            "layer4.0.downsample.0: False\n",
            "layer4.0.downsample.1: False\n",
            "layer4.1: False\n",
            "layer4.1.conv1: False\n",
            "layer4.1.bn1: False\n",
            "layer4.1.conv2: False\n",
            "layer4.1.bn2: False\n",
            "layer4.1.conv3: False\n",
            "layer4.1.bn3: False\n",
            "layer4.1.relu: False\n",
            "layer4.2: False\n",
            "layer4.2.conv1: False\n",
            "layer4.2.bn1: False\n",
            "layer4.2.conv2: False\n",
            "layer4.2.bn2: False\n",
            "layer4.2.conv3: False\n",
            "layer4.2.bn3: False\n",
            "layer4.2.relu: False\n",
            "avgpool: False\n",
            "fc: True\n"
          ]
        }
      ],
      "source": [
        "learning_rate = 0.001\n",
        "epochs = 30\n",
        "\n",
        "\n",
        "torch_baseline = resnet50(weights=\"IMAGENET1K_V1\")\n",
        "torch_baseline = torch_baseline.to(device)\n",
        "\n",
        "# Freeze the initial 39 layers\n",
        "# freeze = True\n",
        "# for name, layer in torch_baseline.named_modules():\n",
        "#     # Explicitly freeze all layers up to layer3\n",
        "#     if 'layer4' in name:\n",
        "#         freeze = False  # Start unfreezing at layer3\n",
        "#     if freeze:\n",
        "#         for param in layer.parameters():\n",
        "#             param.requires_grad = False\n",
        "#     else:\n",
        "#         for param in layer.parameters():\n",
        "#             param.requires_grad = True\n",
        "\n",
        "# FREEZE ALL LAYERS\n",
        "for param in torch_baseline.parameters():\n",
        "    param.requires_grad = False\n",
        "\n",
        "for param in torch_baseline.fc.parameters():\n",
        "    param.requires_grad = True\n",
        "\n",
        "class BaselineResNet(nn.Module):\n",
        "    def __init__(self, base_model, num_classes=18):\n",
        "        super(BaselineResNet, self).__init__()\n",
        "        self.base_model = nn.Sequential(*list(base_model.children())[:-2])  # Exclude top layers\n",
        "        self.gap = nn.AdaptiveAvgPool2d((1, 1))\n",
        "        self.fc = nn.Linear(2048, num_classes)  # 2048 (gap) + 2048 (gmp) = 4096\n",
        "\n",
        "    def forward(self, x):\n",
        "        x = self.base_model(x)\n",
        "        gap = self.gap(x).view(x.size(0), -1)\n",
        "        x = self.fc(gap)\n",
        "        return x\n",
        "\n",
        "\n",
        "torch_baseline_model = BaselineResNet(torch_baseline).to(device)\n",
        "\n",
        "\n",
        "criterion = nn.CrossEntropyLoss(weight=class_weights)\n",
        "optimizer = optim.Adamax(torch_baseline_model.parameters(), lr=learning_rate)\n",
        "\n",
        "\n",
        "\n",
        "for name, layer in torch_baseline.named_modules():\n",
        "    print(f'{name}: {any(param.requires_grad for param in layer.parameters())}')\n"
      ]
    },
    {
      "cell_type": "markdown",
      "metadata": {},
      "source": [
        "**TRAIN METHOD 1**"
      ]
    },
    {
      "cell_type": "code",
      "execution_count": null,
      "metadata": {},
      "outputs": [],
      "source": [
        "baseline_history = train_model(torch_baseline_model, train_loader, val_loader, optimizer, criterion, epochs=epochs, device=device)"
      ]
    },
    {
      "cell_type": "code",
      "execution_count": 21,
      "metadata": {},
      "outputs": [
        {
          "name": "stderr",
          "output_type": "stream",
          "text": [
            "Epoch 1/30: 100%|██████████████████| 105/105 [00:30<00:00,  3.46batch/s, accuracy=0.486, loss=0.149]\n"
          ]
        },
        {
          "name": "stdout",
          "output_type": "stream",
          "text": [
            "Epoch 1/30: Train Loss=2.3867, Train Acc=0.4860, Val Loss=1.6745, Val Acc=0.7384\n"
          ]
        },
        {
          "name": "stderr",
          "output_type": "stream",
          "text": [
            "Epoch 2/30: 100%|██████████████████| 105/105 [00:28<00:00,  3.69batch/s, accuracy=0.756, loss=0.102]\n"
          ]
        },
        {
          "name": "stdout",
          "output_type": "stream",
          "text": [
            "Epoch 2/30: Train Loss=1.6236, Train Acc=0.7564, Val Loss=1.2512, Val Acc=0.8165\n"
          ]
        },
        {
          "name": "stderr",
          "output_type": "stream",
          "text": [
            "Epoch 3/30: 100%|█████████████████| 105/105 [00:29<00:00,  3.56batch/s, accuracy=0.802, loss=0.0812]\n"
          ]
        },
        {
          "name": "stdout",
          "output_type": "stream",
          "text": [
            "Epoch 3/30: Train Loss=1.2991, Train Acc=0.8023, Val Loss=1.0201, Val Acc=0.8439\n"
          ]
        },
        {
          "name": "stderr",
          "output_type": "stream",
          "text": [
            "Epoch 4/30: 100%|█████████████████| 105/105 [00:27<00:00,  3.76batch/s, accuracy=0.841, loss=0.0673]\n"
          ]
        },
        {
          "name": "stdout",
          "output_type": "stream",
          "text": [
            "Epoch 4/30: Train Loss=1.0757, Train Acc=0.8410, Val Loss=0.8850, Val Acc=0.8544\n"
          ]
        },
        {
          "name": "stderr",
          "output_type": "stream",
          "text": [
            "Epoch 5/30: 100%|█████████████████| 105/105 [00:28<00:00,  3.71batch/s, accuracy=0.858, loss=0.0582]\n"
          ]
        },
        {
          "name": "stdout",
          "output_type": "stream",
          "text": [
            "Epoch 5/30: Train Loss=0.9310, Train Acc=0.8577, Val Loss=0.7929, Val Acc=0.8671\n"
          ]
        },
        {
          "name": "stderr",
          "output_type": "stream",
          "text": [
            "Epoch 6/30: 100%|██████████████████| 105/105 [00:29<00:00,  3.53batch/s, accuracy=0.87, loss=0.0514]\n"
          ]
        },
        {
          "name": "stdout",
          "output_type": "stream",
          "text": [
            "Epoch 6/30: Train Loss=0.8227, Train Acc=0.8702, Val Loss=0.7207, Val Acc=0.8840\n"
          ]
        },
        {
          "name": "stderr",
          "output_type": "stream",
          "text": [
            "Epoch 7/30: 100%|██████████████████| 105/105 [00:28<00:00,  3.64batch/s, accuracy=0.87, loss=0.0461]\n"
          ]
        },
        {
          "name": "stdout",
          "output_type": "stream",
          "text": [
            "Epoch 7/30: Train Loss=0.7378, Train Acc=0.8696, Val Loss=0.6522, Val Acc=0.8797\n"
          ]
        },
        {
          "name": "stderr",
          "output_type": "stream",
          "text": [
            "Epoch 8/30: 100%|█████████████████| 105/105 [00:28<00:00,  3.72batch/s, accuracy=0.891, loss=0.0419]\n"
          ]
        },
        {
          "name": "stdout",
          "output_type": "stream",
          "text": [
            "Epoch 8/30: Train Loss=0.6696, Train Acc=0.8910, Val Loss=0.5882, Val Acc=0.9008\n"
          ]
        },
        {
          "name": "stderr",
          "output_type": "stream",
          "text": [
            "Epoch 9/30: 100%|█████████████████| 105/105 [00:28<00:00,  3.72batch/s, accuracy=0.889, loss=0.0397]\n"
          ]
        },
        {
          "name": "stdout",
          "output_type": "stream",
          "text": [
            "Epoch 9/30: Train Loss=0.6351, Train Acc=0.8886, Val Loss=0.5571, Val Acc=0.9008\n"
          ]
        },
        {
          "name": "stderr",
          "output_type": "stream",
          "text": [
            "Epoch 10/30: 100%|█████████████████| 105/105 [00:30<00:00,  3.47batch/s, accuracy=0.904, loss=0.036]\n"
          ]
        },
        {
          "name": "stdout",
          "output_type": "stream",
          "text": [
            "Epoch 10/30: Train Loss=0.5755, Train Acc=0.9035, Val Loss=0.5453, Val Acc=0.9008\n"
          ]
        },
        {
          "name": "stderr",
          "output_type": "stream",
          "text": [
            "Epoch 11/30: 100%|████████████████| 105/105 [00:28<00:00,  3.64batch/s, accuracy=0.904, loss=0.0337]\n"
          ]
        },
        {
          "name": "stdout",
          "output_type": "stream",
          "text": [
            "Epoch 11/30: Train Loss=0.5383, Train Acc=0.9041, Val Loss=0.5527, Val Acc=0.8840\n"
          ]
        },
        {
          "name": "stderr",
          "output_type": "stream",
          "text": [
            "Epoch 12/30: 100%|████████████████| 105/105 [00:28<00:00,  3.72batch/s, accuracy=0.902, loss=0.0318]\n"
          ]
        },
        {
          "name": "stdout",
          "output_type": "stream",
          "text": [
            "Epoch 12/30: Train Loss=0.5080, Train Acc=0.9017, Val Loss=0.4666, Val Acc=0.9072\n"
          ]
        },
        {
          "name": "stderr",
          "output_type": "stream",
          "text": [
            "Epoch 13/30: 100%|████████████████| 105/105 [00:28<00:00,  3.69batch/s, accuracy=0.915, loss=0.0284]\n"
          ]
        },
        {
          "name": "stdout",
          "output_type": "stream",
          "text": [
            "Epoch 13/30: Train Loss=0.4541, Train Acc=0.9148, Val Loss=0.4517, Val Acc=0.9114\n"
          ]
        },
        {
          "name": "stderr",
          "output_type": "stream",
          "text": [
            "Epoch 14/30: 100%|████████████████| 105/105 [00:30<00:00,  3.48batch/s, accuracy=0.905, loss=0.0281]\n"
          ]
        },
        {
          "name": "stdout",
          "output_type": "stream",
          "text": [
            "Epoch 14/30: Train Loss=0.4501, Train Acc=0.9053, Val Loss=0.4500, Val Acc=0.9051\n"
          ]
        },
        {
          "name": "stderr",
          "output_type": "stream",
          "text": [
            "Epoch 15/30: 100%|████████████████| 105/105 [00:28<00:00,  3.70batch/s, accuracy=0.924, loss=0.0243]\n"
          ]
        },
        {
          "name": "stdout",
          "output_type": "stream",
          "text": [
            "Epoch 15/30: Train Loss=0.3890, Train Acc=0.9238, Val Loss=0.4270, Val Acc=0.9114\n"
          ]
        },
        {
          "name": "stderr",
          "output_type": "stream",
          "text": [
            "Epoch 16/30: 100%|████████████████| 105/105 [00:28<00:00,  3.74batch/s, accuracy=0.916, loss=0.0257]\n"
          ]
        },
        {
          "name": "stdout",
          "output_type": "stream",
          "text": [
            "Epoch 16/30: Train Loss=0.4111, Train Acc=0.9160, Val Loss=0.4291, Val Acc=0.9114\n"
          ]
        },
        {
          "name": "stderr",
          "output_type": "stream",
          "text": [
            "Epoch 17/30: 100%|████████████████| 105/105 [00:31<00:00,  3.39batch/s, accuracy=0.924, loss=0.0238]\n"
          ]
        },
        {
          "name": "stdout",
          "output_type": "stream",
          "text": [
            "Epoch 17/30: Train Loss=0.3803, Train Acc=0.9238, Val Loss=0.3849, Val Acc=0.9198\n"
          ]
        },
        {
          "name": "stderr",
          "output_type": "stream",
          "text": [
            "Epoch 18/30: 100%|█████████████████| 105/105 [00:30<00:00,  3.39batch/s, accuracy=0.916, loss=0.023]\n"
          ]
        },
        {
          "name": "stdout",
          "output_type": "stream",
          "text": [
            "Epoch 18/30: Train Loss=0.3678, Train Acc=0.9160, Val Loss=0.3771, Val Acc=0.9093\n"
          ]
        },
        {
          "name": "stderr",
          "output_type": "stream",
          "text": [
            "Epoch 19/30: 100%|████████████████| 105/105 [00:27<00:00,  3.79batch/s, accuracy=0.923, loss=0.0218]\n"
          ]
        },
        {
          "name": "stdout",
          "output_type": "stream",
          "text": [
            "Epoch 19/30: Train Loss=0.3482, Train Acc=0.9232, Val Loss=0.3597, Val Acc=0.9241\n"
          ]
        },
        {
          "name": "stderr",
          "output_type": "stream",
          "text": [
            "Epoch 20/30: 100%|████████████████| 105/105 [00:27<00:00,  3.81batch/s, accuracy=0.928, loss=0.0204]\n"
          ]
        },
        {
          "name": "stdout",
          "output_type": "stream",
          "text": [
            "Epoch 20/30: Train Loss=0.3257, Train Acc=0.9279, Val Loss=0.3653, Val Acc=0.9114\n"
          ]
        },
        {
          "name": "stderr",
          "output_type": "stream",
          "text": [
            "Epoch 21/30: 100%|████████████████| 105/105 [00:31<00:00,  3.37batch/s, accuracy=0.925, loss=0.0191]\n"
          ]
        },
        {
          "name": "stdout",
          "output_type": "stream",
          "text": [
            "Epoch 21/30: Train Loss=0.3061, Train Acc=0.9250, Val Loss=0.3429, Val Acc=0.9156\n"
          ]
        },
        {
          "name": "stderr",
          "output_type": "stream",
          "text": [
            "Epoch 22/30: 100%|████████████████| 105/105 [00:30<00:00,  3.39batch/s, accuracy=0.933, loss=0.0197]\n"
          ]
        },
        {
          "name": "stdout",
          "output_type": "stream",
          "text": [
            "Epoch 22/30: Train Loss=0.3153, Train Acc=0.9333, Val Loss=0.3438, Val Acc=0.9325\n"
          ]
        },
        {
          "name": "stderr",
          "output_type": "stream",
          "text": [
            "Epoch 23/30: 100%|████████████████| 105/105 [00:27<00:00,  3.84batch/s, accuracy=0.936, loss=0.0179]\n"
          ]
        },
        {
          "name": "stdout",
          "output_type": "stream",
          "text": [
            "Epoch 23/30: Train Loss=0.2855, Train Acc=0.9357, Val Loss=0.3439, Val Acc=0.9198\n"
          ]
        },
        {
          "name": "stderr",
          "output_type": "stream",
          "text": [
            "Epoch 24/30: 100%|████████████████| 105/105 [00:27<00:00,  3.83batch/s, accuracy=0.929, loss=0.0184]\n"
          ]
        },
        {
          "name": "stdout",
          "output_type": "stream",
          "text": [
            "Epoch 24/30: Train Loss=0.2940, Train Acc=0.9291, Val Loss=0.3478, Val Acc=0.9283\n"
          ]
        },
        {
          "name": "stderr",
          "output_type": "stream",
          "text": [
            "Epoch 25/30: 100%|████████████████| 105/105 [00:30<00:00,  3.42batch/s, accuracy=0.937, loss=0.0182]\n"
          ]
        },
        {
          "name": "stdout",
          "output_type": "stream",
          "text": [
            "Epoch 25/30: Train Loss=0.2909, Train Acc=0.9375, Val Loss=0.3166, Val Acc=0.9219\n"
          ]
        },
        {
          "name": "stderr",
          "output_type": "stream",
          "text": [
            "Epoch 26/30: 100%|█████████████████| 105/105 [00:27<00:00,  3.85batch/s, accuracy=0.94, loss=0.0159]\n"
          ]
        },
        {
          "name": "stdout",
          "output_type": "stream",
          "text": [
            "Epoch 26/30: Train Loss=0.2541, Train Acc=0.9398, Val Loss=0.3212, Val Acc=0.9241\n"
          ]
        },
        {
          "name": "stderr",
          "output_type": "stream",
          "text": [
            "Epoch 27/30: 100%|████████████████| 105/105 [00:27<00:00,  3.80batch/s, accuracy=0.939, loss=0.0152]\n"
          ]
        },
        {
          "name": "stdout",
          "output_type": "stream",
          "text": [
            "Epoch 27/30: Train Loss=0.2427, Train Acc=0.9387, Val Loss=0.3162, Val Acc=0.9241\n"
          ]
        },
        {
          "name": "stderr",
          "output_type": "stream",
          "text": [
            "Epoch 28/30: 100%|████████████████| 105/105 [00:30<00:00,  3.41batch/s, accuracy=0.944, loss=0.0155]\n"
          ]
        },
        {
          "name": "stdout",
          "output_type": "stream",
          "text": [
            "Epoch 28/30: Train Loss=0.2476, Train Acc=0.9440, Val Loss=0.2955, Val Acc=0.9346\n"
          ]
        },
        {
          "name": "stderr",
          "output_type": "stream",
          "text": [
            "Epoch 29/30: 100%|████████████████| 105/105 [00:31<00:00,  3.38batch/s, accuracy=0.949, loss=0.0148]\n"
          ]
        },
        {
          "name": "stdout",
          "output_type": "stream",
          "text": [
            "Epoch 29/30: Train Loss=0.2364, Train Acc=0.9488, Val Loss=0.2910, Val Acc=0.9241\n"
          ]
        },
        {
          "name": "stderr",
          "output_type": "stream",
          "text": [
            "Epoch 30/30: 100%|████████████████| 105/105 [00:27<00:00,  3.80batch/s, accuracy=0.943, loss=0.0148]\n"
          ]
        },
        {
          "name": "stdout",
          "output_type": "stream",
          "text": [
            "Epoch 30/30: Train Loss=0.2375, Train Acc=0.9428, Val Loss=0.2893, Val Acc=0.9219\n"
          ]
        }
      ],
      "source": [
        "baseline_history = train_model(torch_baseline_model, enhanced_train_loader, enhanced_val_loader, optimizer, criterion, epochs=epochs, device=device)"
      ]
    },
    {
      "cell_type": "markdown",
      "metadata": {},
      "source": [
        "**TRAIN METHOD 2**"
      ]
    },
    {
      "cell_type": "code",
      "execution_count": 87,
      "metadata": {},
      "outputs": [
        {
          "name": "stdout",
          "output_type": "stream",
          "text": [
            "=====================================Epoch: 1 / 10=====================================\n"
          ]
        },
        {
          "name": "stderr",
          "output_type": "stream",
          "text": [
            "[TRAIN] : 100%|██████████| 105/105 [00:40<00:00,  2.61it/s]\n",
            "[VALID] : 100%|██████████| 30/30 [00:15<00:00,  1.97it/s]\n"
          ]
        },
        {
          "name": "stdout",
          "output_type": "stream",
          "text": [
            "=> Train Loss=2.4332, Val Loss=1.6478 |  Train Acc=0.4943,  Val Acc=0.7700\n",
            "=====================================Epoch: 2 / 10=====================================\n"
          ]
        },
        {
          "name": "stderr",
          "output_type": "stream",
          "text": [
            "[TRAIN] : 100%|██████████| 105/105 [00:34<00:00,  3.06it/s]\n",
            "[VALID] : 100%|██████████| 30/30 [00:15<00:00,  1.96it/s]\n"
          ]
        },
        {
          "name": "stdout",
          "output_type": "stream",
          "text": [
            "=> Train Loss=1.6470, Val Loss=1.2303 |  Train Acc=0.7641,  Val Acc=0.8165\n",
            "=====================================Epoch: 3 / 10=====================================\n"
          ]
        },
        {
          "name": "stderr",
          "output_type": "stream",
          "text": [
            "[TRAIN] : 100%|██████████| 105/105 [00:34<00:00,  3.06it/s]\n",
            "[VALID] : 100%|██████████| 30/30 [00:13<00:00,  2.17it/s]\n"
          ]
        },
        {
          "name": "stdout",
          "output_type": "stream",
          "text": [
            "=> Train Loss=1.3189, Val Loss=0.9680 |  Train Acc=0.8160,  Val Acc=0.8523\n",
            "=====================================Epoch: 4 / 10=====================================\n"
          ]
        },
        {
          "name": "stderr",
          "output_type": "stream",
          "text": [
            "[TRAIN] : 100%|██████████| 105/105 [00:34<00:00,  3.09it/s]\n",
            "[VALID] : 100%|██████████| 30/30 [00:14<00:00,  2.09it/s]\n"
          ]
        },
        {
          "name": "stdout",
          "output_type": "stream",
          "text": [
            "=> Train Loss=1.1094, Val Loss=0.8213 |  Train Acc=0.8541,  Val Acc=0.8713\n",
            "=====================================Epoch: 5 / 10=====================================\n"
          ]
        },
        {
          "name": "stderr",
          "output_type": "stream",
          "text": [
            "[TRAIN] : 100%|██████████| 105/105 [00:34<00:00,  3.04it/s]\n",
            "[VALID] : 100%|██████████| 30/30 [00:14<00:00,  2.01it/s]\n"
          ]
        },
        {
          "name": "stdout",
          "output_type": "stream",
          "text": [
            "=> Train Loss=0.9364, Val Loss=0.7470 |  Train Acc=0.8851,  Val Acc=0.8840\n",
            "=====================================Epoch: 6 / 10=====================================\n"
          ]
        },
        {
          "name": "stderr",
          "output_type": "stream",
          "text": [
            "[TRAIN] : 100%|██████████| 105/105 [00:34<00:00,  3.07it/s]\n",
            "[VALID] : 100%|██████████| 30/30 [00:14<00:00,  2.07it/s]\n"
          ]
        },
        {
          "name": "stdout",
          "output_type": "stream",
          "text": [
            "=> Train Loss=0.8225, Val Loss=0.7014 |  Train Acc=0.8833,  Val Acc=0.8523\n",
            "=====================================Epoch: 7 / 10=====================================\n"
          ]
        },
        {
          "name": "stderr",
          "output_type": "stream",
          "text": [
            "[TRAIN] : 100%|██████████| 105/105 [00:33<00:00,  3.13it/s]\n",
            "[VALID] : 100%|██████████| 30/30 [00:14<00:00,  2.08it/s]\n"
          ]
        },
        {
          "name": "stdout",
          "output_type": "stream",
          "text": [
            "=> Train Loss=0.7210, Val Loss=0.5728 |  Train Acc=0.8916,  Val Acc=0.9030\n",
            "=====================================Epoch: 8 / 10=====================================\n"
          ]
        },
        {
          "name": "stderr",
          "output_type": "stream",
          "text": [
            "[TRAIN] : 100%|██████████| 105/105 [00:33<00:00,  3.16it/s]\n",
            "[VALID] : 100%|██████████| 30/30 [00:14<00:00,  2.03it/s]\n"
          ]
        },
        {
          "name": "stdout",
          "output_type": "stream",
          "text": [
            "=> Train Loss=0.6408, Val Loss=0.5496 |  Train Acc=0.9023,  Val Acc=0.9093\n",
            "=====================================Epoch: 9 / 10=====================================\n"
          ]
        },
        {
          "name": "stderr",
          "output_type": "stream",
          "text": [
            "[TRAIN] : 100%|██████████| 105/105 [00:34<00:00,  3.00it/s]\n",
            "[VALID] : 100%|██████████| 30/30 [00:14<00:00,  2.09it/s]\n"
          ]
        },
        {
          "name": "stdout",
          "output_type": "stream",
          "text": [
            "=> Train Loss=0.5738, Val Loss=0.5261 |  Train Acc=0.9089,  Val Acc=0.9008\n",
            "=====================================Epoch: 10 / 10=====================================\n"
          ]
        },
        {
          "name": "stderr",
          "output_type": "stream",
          "text": [
            "[TRAIN] : 100%|██████████| 105/105 [00:34<00:00,  3.04it/s]\n",
            "[VALID] : 100%|██████████| 30/30 [00:19<00:00,  1.53it/s]"
          ]
        },
        {
          "name": "stdout",
          "output_type": "stream",
          "text": [
            "=> Train Loss=0.5418, Val Loss=0.5016 |  Train Acc=0.9119,  Val Acc=0.9030\n"
          ]
        },
        {
          "name": "stderr",
          "output_type": "stream",
          "text": [
            "\n"
          ]
        }
      ],
      "source": [
        "# Train model\n",
        "baseline_history = train_and_validate(torch_baseline_model, criterion, optimizer, train_loader, val_loader, device, num_epochs=epochs)"
      ]
    },
    {
      "cell_type": "code",
      "execution_count": 84,
      "metadata": {},
      "outputs": [
        {
          "name": "stdout",
          "output_type": "stream",
          "text": [
            "=====================================Epoch: 1 / 10=====================================\n"
          ]
        },
        {
          "name": "stderr",
          "output_type": "stream",
          "text": [
            "[TRAIN] : 100%|██████████| 105/105 [00:38<00:00,  2.72it/s]\n",
            "[VALID] : 100%|██████████| 30/30 [00:14<00:00,  2.06it/s]\n"
          ]
        },
        {
          "name": "stdout",
          "output_type": "stream",
          "text": [
            "=> Train Loss=2.3682, Val Loss=1.6307 |  Train Acc=0.4860,  Val Acc=0.6878\n",
            "=====================================Epoch: 2 / 10=====================================\n"
          ]
        },
        {
          "name": "stderr",
          "output_type": "stream",
          "text": [
            "[TRAIN] : 100%|██████████| 105/105 [00:34<00:00,  3.01it/s]\n",
            "[VALID] : 100%|██████████| 30/30 [00:15<00:00,  1.95it/s]\n"
          ]
        },
        {
          "name": "stdout",
          "output_type": "stream",
          "text": [
            "=> Train Loss=1.6011, Val Loss=1.2192 |  Train Acc=0.7362,  Val Acc=0.8017\n",
            "=====================================Epoch: 3 / 10=====================================\n"
          ]
        },
        {
          "name": "stderr",
          "output_type": "stream",
          "text": [
            "[TRAIN] : 100%|██████████| 105/105 [00:34<00:00,  3.02it/s]\n",
            "[VALID] : 100%|██████████| 30/30 [00:14<00:00,  2.00it/s]\n"
          ]
        },
        {
          "name": "stdout",
          "output_type": "stream",
          "text": [
            "=> Train Loss=1.3199, Val Loss=1.0691 |  Train Acc=0.8029,  Val Acc=0.8122\n",
            "=====================================Epoch: 4 / 10=====================================\n"
          ]
        },
        {
          "name": "stderr",
          "output_type": "stream",
          "text": [
            "[TRAIN] : 100%|██████████| 105/105 [00:34<00:00,  3.03it/s]\n",
            "[VALID] : 100%|██████████| 30/30 [00:16<00:00,  1.86it/s]\n"
          ]
        },
        {
          "name": "stdout",
          "output_type": "stream",
          "text": [
            "=> Train Loss=1.0850, Val Loss=0.9100 |  Train Acc=0.8362,  Val Acc=0.8608\n",
            "=====================================Epoch: 5 / 10=====================================\n"
          ]
        },
        {
          "name": "stderr",
          "output_type": "stream",
          "text": [
            "[TRAIN] : 100%|██████████| 105/105 [00:34<00:00,  3.05it/s]\n",
            "[VALID] : 100%|██████████| 30/30 [00:15<00:00,  1.95it/s]\n"
          ]
        },
        {
          "name": "stdout",
          "output_type": "stream",
          "text": [
            "=> Train Loss=0.9383, Val Loss=0.8158 |  Train Acc=0.8517,  Val Acc=0.8755\n",
            "=====================================Epoch: 6 / 10=====================================\n"
          ]
        },
        {
          "name": "stderr",
          "output_type": "stream",
          "text": [
            "[TRAIN] : 100%|██████████| 105/105 [00:34<00:00,  3.06it/s]\n",
            "[VALID] : 100%|██████████| 30/30 [00:15<00:00,  1.99it/s]\n"
          ]
        },
        {
          "name": "stdout",
          "output_type": "stream",
          "text": [
            "=> Train Loss=0.8254, Val Loss=0.7895 |  Train Acc=0.8636,  Val Acc=0.8481\n",
            "=====================================Epoch: 7 / 10=====================================\n"
          ]
        },
        {
          "name": "stderr",
          "output_type": "stream",
          "text": [
            "[TRAIN] : 100%|██████████| 105/105 [00:34<00:00,  3.03it/s]\n",
            "[VALID] : 100%|██████████| 30/30 [00:16<00:00,  1.82it/s]\n"
          ]
        },
        {
          "name": "stdout",
          "output_type": "stream",
          "text": [
            "=> Train Loss=0.7424, Val Loss=0.6763 |  Train Acc=0.8678,  Val Acc=0.8776\n",
            "=====================================Epoch: 8 / 10=====================================\n"
          ]
        },
        {
          "name": "stderr",
          "output_type": "stream",
          "text": [
            "[TRAIN] : 100%|██████████| 105/105 [00:34<00:00,  3.08it/s]\n",
            "[VALID] : 100%|██████████| 30/30 [00:14<00:00,  2.00it/s]\n"
          ]
        },
        {
          "name": "stdout",
          "output_type": "stream",
          "text": [
            "=> Train Loss=0.7062, Val Loss=0.6063 |  Train Acc=0.8690,  Val Acc=0.8861\n",
            "=====================================Epoch: 9 / 10=====================================\n"
          ]
        },
        {
          "name": "stderr",
          "output_type": "stream",
          "text": [
            "[TRAIN] : 100%|██████████| 105/105 [00:34<00:00,  3.06it/s]\n",
            "[VALID] : 100%|██████████| 30/30 [00:14<00:00,  2.04it/s]\n"
          ]
        },
        {
          "name": "stdout",
          "output_type": "stream",
          "text": [
            "=> Train Loss=0.6239, Val Loss=0.5521 |  Train Acc=0.8928,  Val Acc=0.8945\n",
            "=====================================Epoch: 10 / 10=====================================\n"
          ]
        },
        {
          "name": "stderr",
          "output_type": "stream",
          "text": [
            "[TRAIN] : 100%|██████████| 105/105 [00:34<00:00,  3.05it/s]\n",
            "[VALID] : 100%|██████████| 30/30 [00:14<00:00,  2.00it/s]"
          ]
        },
        {
          "name": "stdout",
          "output_type": "stream",
          "text": [
            "=> Train Loss=0.5577, Val Loss=0.5522 |  Train Acc=0.8993,  Val Acc=0.8924\n"
          ]
        },
        {
          "name": "stderr",
          "output_type": "stream",
          "text": [
            "\n"
          ]
        }
      ],
      "source": [
        "# Train model\n",
        "baseline_history = train_and_validate(torch_baseline_model, criterion, optimizer, enhanced_train_loader, enhanced_val_loader, device, num_epochs=epochs)"
      ]
    },
    {
      "cell_type": "markdown",
      "metadata": {},
      "source": [
        "**LOAD MODEL (OPTIONAL)**"
      ]
    },
    {
      "cell_type": "code",
      "execution_count": null,
      "metadata": {},
      "outputs": [],
      "source": [
        "torch_baseline_model = BaselineResNet(torch_baseline).to(device)\n",
        "\n",
        "# Load the saved weights\n",
        "torch_baseline_model.load_state_dict(torch.load(\"./saved_models/PREFINAL/weights/filename.pth\", map_location=device))\n",
        "\n",
        "# Set the model to evaluation mode\n",
        "torch_baseline_model.eval()"
      ]
    },
    {
      "cell_type": "markdown",
      "metadata": {},
      "source": [
        "# BASELINE 2 (PYTORCH)"
      ]
    },
    {
      "cell_type": "code",
      "execution_count": 79,
      "metadata": {},
      "outputs": [],
      "source": [
        "from torchvision import models\n",
        "# Model Definition\n",
        "torch_baseline_model = models.resnet50(weights=\"IMAGENET1K_V1\")\n",
        "\n",
        "torch_baseline_model.fc = nn.Sequential(\n",
        "    nn.Linear(2048, 18),  \n",
        ")\n",
        "\n",
        "# Freeze all layers\n",
        "for param in torch_baseline_model.parameters():\n",
        "    param.requires_grad = False\n",
        "\n",
        "for param in torch_baseline_model.fc.parameters():\n",
        "    param.requires_grad = True\n",
        "\n",
        "\n",
        "torch_baseline_model = torch_baseline_model.to(device)\n",
        "\n",
        "# Loss function and optimizer\n",
        "criterion = nn.CrossEntropyLoss()\n",
        "optimizer = optim.Adamax(torch_baseline_model.parameters(), lr=0.001)\n",
        "\n",
        "# for name, layer in baseline_model.named_modules():\n",
        "#     print(f'{name}: {any(param.requires_grad for param in layer.parameters())}')\n",
        "    \n"
      ]
    },
    {
      "cell_type": "code",
      "execution_count": 80,
      "metadata": {},
      "outputs": [
        {
          "name": "stdout",
          "output_type": "stream",
          "text": [
            "=====================================Epoch: 1 / 10=====================================\n"
          ]
        },
        {
          "name": "stderr",
          "output_type": "stream",
          "text": [
            "[TRAIN] : 100%|██████████| 105/105 [00:34<00:00,  3.03it/s]\n",
            "[VALID] : 100%|██████████| 16/16 [00:10<00:00,  1.49it/s]\n"
          ]
        },
        {
          "name": "stdout",
          "output_type": "stream",
          "text": [
            "=> Train Loss=1.9012, Val Loss=1.3781 |  Train Acc=0.5205,  Val Acc=0.6707\n",
            "=====================================Epoch: 2 / 10=====================================\n"
          ]
        },
        {
          "name": "stderr",
          "output_type": "stream",
          "text": [
            "[TRAIN] : 100%|██████████| 105/105 [00:31<00:00,  3.30it/s]\n",
            "[VALID] : 100%|██████████| 16/16 [00:07<00:00,  2.22it/s]\n"
          ]
        },
        {
          "name": "stdout",
          "output_type": "stream",
          "text": [
            "=> Train Loss=1.1871, Val Loss=0.9890 |  Train Acc=0.7207,  Val Acc=0.7398\n",
            "=====================================Epoch: 3 / 10=====================================\n"
          ]
        },
        {
          "name": "stderr",
          "output_type": "stream",
          "text": [
            "[TRAIN] : 100%|██████████| 105/105 [00:35<00:00,  2.99it/s]\n",
            "[VALID] : 100%|██████████| 16/16 [00:07<00:00,  2.08it/s]\n"
          ]
        },
        {
          "name": "stdout",
          "output_type": "stream",
          "text": [
            "=> Train Loss=0.8956, Val Loss=0.8261 |  Train Acc=0.7915,  Val Acc=0.7805\n",
            "=====================================Epoch: 4 / 10=====================================\n"
          ]
        },
        {
          "name": "stderr",
          "output_type": "stream",
          "text": [
            "[TRAIN] : 100%|██████████| 105/105 [00:34<00:00,  3.01it/s]\n",
            "[VALID] : 100%|██████████| 16/16 [00:07<00:00,  2.27it/s]\n"
          ]
        },
        {
          "name": "stdout",
          "output_type": "stream",
          "text": [
            "=> Train Loss=0.7386, Val Loss=0.6861 |  Train Acc=0.8314,  Val Acc=0.8252\n",
            "=====================================Epoch: 5 / 10=====================================\n"
          ]
        },
        {
          "name": "stderr",
          "output_type": "stream",
          "text": [
            "[TRAIN] : 100%|██████████| 105/105 [00:33<00:00,  3.10it/s]\n",
            "[VALID] : 100%|██████████| 16/16 [00:07<00:00,  2.02it/s]\n"
          ]
        },
        {
          "name": "stdout",
          "output_type": "stream",
          "text": [
            "=> Train Loss=0.6306, Val Loss=0.6152 |  Train Acc=0.8612,  Val Acc=0.8293\n",
            "=====================================Epoch: 6 / 10=====================================\n"
          ]
        },
        {
          "name": "stderr",
          "output_type": "stream",
          "text": [
            "[TRAIN] : 100%|██████████| 105/105 [00:29<00:00,  3.50it/s]\n",
            "[VALID] : 100%|██████████| 16/16 [00:09<00:00,  1.61it/s]\n"
          ]
        },
        {
          "name": "stdout",
          "output_type": "stream",
          "text": [
            "=> Train Loss=0.5575, Val Loss=0.5371 |  Train Acc=0.8791,  Val Acc=0.8659\n",
            "=====================================Epoch: 7 / 10=====================================\n"
          ]
        },
        {
          "name": "stderr",
          "output_type": "stream",
          "text": [
            "[TRAIN] : 100%|██████████| 105/105 [00:32<00:00,  3.28it/s]\n",
            "[VALID] : 100%|██████████| 16/16 [00:08<00:00,  1.89it/s]\n"
          ]
        },
        {
          "name": "stdout",
          "output_type": "stream",
          "text": [
            "=> Train Loss=0.4978, Val Loss=0.4992 |  Train Acc=0.8851,  Val Acc=0.8659\n",
            "=====================================Epoch: 8 / 10=====================================\n"
          ]
        },
        {
          "name": "stderr",
          "output_type": "stream",
          "text": [
            "[TRAIN] : 100%|██████████| 105/105 [00:34<00:00,  3.01it/s]\n",
            "[VALID] : 100%|██████████| 16/16 [00:07<00:00,  2.09it/s]\n"
          ]
        },
        {
          "name": "stdout",
          "output_type": "stream",
          "text": [
            "=> Train Loss=0.4660, Val Loss=0.4619 |  Train Acc=0.9017,  Val Acc=0.8902\n",
            "=====================================Epoch: 9 / 10=====================================\n"
          ]
        },
        {
          "name": "stderr",
          "output_type": "stream",
          "text": [
            "[TRAIN] : 100%|██████████| 105/105 [00:34<00:00,  3.05it/s]\n",
            "[VALID] : 100%|██████████| 16/16 [00:07<00:00,  2.07it/s]\n"
          ]
        },
        {
          "name": "stdout",
          "output_type": "stream",
          "text": [
            "=> Train Loss=0.4026, Val Loss=0.4267 |  Train Acc=0.9136,  Val Acc=0.8862\n",
            "=====================================Epoch: 10 / 10=====================================\n"
          ]
        },
        {
          "name": "stderr",
          "output_type": "stream",
          "text": [
            "[TRAIN] : 100%|██████████| 105/105 [00:31<00:00,  3.30it/s]\n",
            "[VALID] : 100%|██████████| 16/16 [00:06<00:00,  2.29it/s]"
          ]
        },
        {
          "name": "stdout",
          "output_type": "stream",
          "text": [
            "=> Train Loss=0.3837, Val Loss=0.3965 |  Train Acc=0.9148,  Val Acc=0.9065\n"
          ]
        },
        {
          "name": "stderr",
          "output_type": "stream",
          "text": [
            "\n"
          ]
        }
      ],
      "source": [
        "\n",
        "baseline_history = train_and_validate(torch_baseline_model, criterion, optimizer, train_loader, test_loader, device, num_epochs=10)"
      ]
    },
    {
      "cell_type": "code",
      "execution_count": 76,
      "metadata": {},
      "outputs": [
        {
          "name": "stdout",
          "output_type": "stream",
          "text": [
            "=====================================Epoch: 1 / 10=====================================\n"
          ]
        },
        {
          "name": "stderr",
          "output_type": "stream",
          "text": [
            "[TRAIN] : 100%|██████████| 105/105 [00:35<00:00,  2.98it/s]\n",
            "[VALID] : 100%|██████████| 16/16 [00:09<00:00,  1.61it/s]\n"
          ]
        },
        {
          "name": "stdout",
          "output_type": "stream",
          "text": [
            "=> Train Loss=1.9252, Val Loss=1.4310 |  Train Acc=0.4961,  Val Acc=0.6585\n",
            "=====================================Epoch: 2 / 10=====================================\n"
          ]
        },
        {
          "name": "stderr",
          "output_type": "stream",
          "text": [
            "[TRAIN] : 100%|██████████| 105/105 [00:32<00:00,  3.24it/s]\n",
            "[VALID] : 100%|██████████| 16/16 [00:07<00:00,  2.12it/s]\n"
          ]
        },
        {
          "name": "stdout",
          "output_type": "stream",
          "text": [
            "=> Train Loss=1.2165, Val Loss=1.0441 |  Train Acc=0.7082,  Val Acc=0.7195\n",
            "=====================================Epoch: 3 / 10=====================================\n"
          ]
        },
        {
          "name": "stderr",
          "output_type": "stream",
          "text": [
            "[TRAIN] : 100%|██████████| 105/105 [00:36<00:00,  2.90it/s]\n",
            "[VALID] : 100%|██████████| 16/16 [00:07<00:00,  2.13it/s]\n"
          ]
        },
        {
          "name": "stdout",
          "output_type": "stream",
          "text": [
            "=> Train Loss=0.9500, Val Loss=0.8365 |  Train Acc=0.7618,  Val Acc=0.7886\n",
            "=====================================Epoch: 4 / 10=====================================\n"
          ]
        },
        {
          "name": "stderr",
          "output_type": "stream",
          "text": [
            "[TRAIN] : 100%|██████████| 105/105 [00:34<00:00,  3.02it/s]\n",
            "[VALID] : 100%|██████████| 16/16 [00:07<00:00,  2.11it/s]\n"
          ]
        },
        {
          "name": "stdout",
          "output_type": "stream",
          "text": [
            "=> Train Loss=0.7984, Val Loss=0.7483 |  Train Acc=0.8076,  Val Acc=0.7927\n",
            "=====================================Epoch: 5 / 10=====================================\n"
          ]
        },
        {
          "name": "stderr",
          "output_type": "stream",
          "text": [
            "[TRAIN] : 100%|██████████| 105/105 [00:35<00:00,  2.99it/s]\n",
            "[VALID] : 100%|██████████| 16/16 [00:08<00:00,  1.96it/s]\n"
          ]
        },
        {
          "name": "stdout",
          "output_type": "stream",
          "text": [
            "=> Train Loss=0.6965, Val Loss=0.6366 |  Train Acc=0.8267,  Val Acc=0.8415\n",
            "=====================================Epoch: 6 / 10=====================================\n"
          ]
        },
        {
          "name": "stderr",
          "output_type": "stream",
          "text": [
            "[TRAIN] : 100%|██████████| 105/105 [00:31<00:00,  3.38it/s]\n",
            "[VALID] : 100%|██████████| 16/16 [00:09<00:00,  1.65it/s]\n"
          ]
        },
        {
          "name": "stdout",
          "output_type": "stream",
          "text": [
            "=> Train Loss=0.6191, Val Loss=0.5605 |  Train Acc=0.8374,  Val Acc=0.8821\n",
            "=====================================Epoch: 7 / 10=====================================\n"
          ]
        },
        {
          "name": "stderr",
          "output_type": "stream",
          "text": [
            "[TRAIN] : 100%|██████████| 105/105 [00:32<00:00,  3.21it/s]\n",
            "[VALID] : 100%|██████████| 16/16 [00:10<00:00,  1.60it/s]\n"
          ]
        },
        {
          "name": "stdout",
          "output_type": "stream",
          "text": [
            "=> Train Loss=0.5545, Val Loss=0.5551 |  Train Acc=0.8678,  Val Acc=0.8618\n",
            "=====================================Epoch: 8 / 10=====================================\n"
          ]
        },
        {
          "name": "stderr",
          "output_type": "stream",
          "text": [
            "[TRAIN] : 100%|██████████| 105/105 [00:32<00:00,  3.21it/s]\n",
            "[VALID] : 100%|██████████| 16/16 [00:07<00:00,  2.20it/s]\n"
          ]
        },
        {
          "name": "stdout",
          "output_type": "stream",
          "text": [
            "=> Train Loss=0.4992, Val Loss=0.4872 |  Train Acc=0.8809,  Val Acc=0.8984\n",
            "=====================================Epoch: 9 / 10=====================================\n"
          ]
        },
        {
          "name": "stderr",
          "output_type": "stream",
          "text": [
            "[TRAIN] : 100%|██████████| 105/105 [00:35<00:00,  2.95it/s]\n",
            "[VALID] : 100%|██████████| 16/16 [00:07<00:00,  2.01it/s]\n"
          ]
        },
        {
          "name": "stdout",
          "output_type": "stream",
          "text": [
            "=> Train Loss=0.4840, Val Loss=0.4536 |  Train Acc=0.8803,  Val Acc=0.8821\n",
            "=====================================Epoch: 10 / 10=====================================\n"
          ]
        },
        {
          "name": "stderr",
          "output_type": "stream",
          "text": [
            "[TRAIN] : 100%|██████████| 105/105 [00:35<00:00,  2.96it/s]\n",
            "[VALID] : 100%|██████████| 16/16 [00:07<00:00,  2.22it/s]"
          ]
        },
        {
          "name": "stdout",
          "output_type": "stream",
          "text": [
            "=> Train Loss=0.4351, Val Loss=0.4297 |  Train Acc=0.9011,  Val Acc=0.8984\n"
          ]
        },
        {
          "name": "stderr",
          "output_type": "stream",
          "text": [
            "\n"
          ]
        }
      ],
      "source": [
        "\n",
        "baseline_history = train_and_validate(torch_baseline_model, criterion, optimizer, enhanced_train_loader, enhanced_test_loader, device, num_epochs=10)"
      ]
    },
    {
      "cell_type": "markdown",
      "metadata": {},
      "source": [
        "# TEST BASELINE"
      ]
    },
    {
      "cell_type": "markdown",
      "metadata": {},
      "source": [
        "**CLASSIFICATION REPORT**"
      ]
    },
    {
      "cell_type": "code",
      "execution_count": 110,
      "metadata": {},
      "outputs": [
        {
          "name": "stdout",
          "output_type": "stream",
          "text": [
            "\n",
            "Classification Report:\n",
            "                         precision    recall  f1-score   support\n",
            "\n",
            "   Abudefduf Vaigiensis       0.81      0.87      0.84        30\n",
            " Acanthurus Nigrofuscus       0.90      0.86      0.88        64\n",
            "   Balistapus Undulatus       0.80      0.92      0.86        13\n",
            " Canthigaster Valentini       0.91      0.95      0.93        43\n",
            " Chaetodon Trifascialis       0.94      0.81      0.87        57\n",
            "   Hemigymnus Fasciatus       0.94      0.92      0.93        72\n",
            "  Hemigymnus Melapterus       0.75      0.92      0.83        13\n",
            "        Lutjanus fulvus       0.98      0.95      0.97        61\n",
            "     Myripristis Kuntee       0.98      0.97      0.98       135\n",
            "Neoglyphidodon Nigroris       0.60      0.50      0.55         6\n",
            "      Neoniphon Sammara       0.99      1.00      0.99        88\n",
            " Pempheris Vanicolensis       1.00      1.00      1.00         9\n",
            "Pomacentrus Moluccensis       1.00      1.00      1.00        54\n",
            "               Scaridae       0.89      1.00      0.94        17\n",
            "    Scolopsis Bilineata       0.88      1.00      0.94        15\n",
            "     Siganus Fuscescens       0.89      1.00      0.94         8\n",
            "       Zanclus Cornutus       0.70      1.00      0.82         7\n",
            "       Zebrasoma Scopas       0.89      0.89      0.89        28\n",
            "\n",
            "               accuracy                           0.93       720\n",
            "              macro avg       0.88      0.92      0.90       720\n",
            "           weighted avg       0.94      0.93      0.93       720\n",
            "\n",
            "\n",
            "F1 Score: 0.9347\n",
            "Precision: 0.9372\n",
            "Recall: 0.9347\n",
            "Accuracy: 0.9347\n"
          ]
        }
      ],
      "source": [
        "\n",
        "# ENAHCED\n",
        "y_true, y_pred = test_model(torch_baseline_model, enhanced_test_loader)\n",
        "\n",
        "print(\"\\nClassification Report:\")\n",
        "\n",
        "class_names = train_dataset.classes\n",
        "\n",
        "print(classification_report(y_true, y_pred, target_names=class_names))\n",
        "\n",
        "f1 = f1_score(y_true, y_pred, average='weighted')\n",
        "precision = precision_score(y_true, y_pred, average='weighted')\n",
        "recall = recall_score(y_true, y_pred, average='weighted')\n",
        "accuracy = accuracy_score(y_true, y_pred)\n",
        "\n",
        "print(f'\\nF1 Score: {f1:.4f}')\n",
        "print(f'Precision: {precision:.4f}')\n",
        "print(f'Recall: {recall:.4f}')\n",
        "print(f'Accuracy: {accuracy:.4f}')\n"
      ]
    },
    {
      "cell_type": "code",
      "execution_count": 105,
      "metadata": {},
      "outputs": [
        {
          "name": "stdout",
          "output_type": "stream",
          "text": [
            "\n",
            "Classification Report:\n",
            "                         precision    recall  f1-score   support\n",
            "\n",
            "   Abudefduf Vaigiensis       0.88      0.93      0.90        30\n",
            " Acanthurus Nigrofuscus       0.89      0.84      0.86        64\n",
            "   Balistapus Undulatus       0.92      0.85      0.88        13\n",
            " Canthigaster Valentini       0.91      1.00      0.96        43\n",
            " Chaetodon Trifascialis       0.91      0.89      0.90        57\n",
            "   Hemigymnus Fasciatus       0.96      0.93      0.94        72\n",
            "  Hemigymnus Melapterus       0.80      0.92      0.86        13\n",
            "        Lutjanus fulvus       1.00      1.00      1.00        61\n",
            "     Myripristis Kuntee       0.99      0.97      0.98       135\n",
            "Neoglyphidodon Nigroris       1.00      0.83      0.91         6\n",
            "      Neoniphon Sammara       0.99      0.99      0.99        88\n",
            " Pempheris Vanicolensis       0.90      1.00      0.95         9\n",
            "Pomacentrus Moluccensis       1.00      0.96      0.98        54\n",
            "               Scaridae       0.77      1.00      0.87        17\n",
            "    Scolopsis Bilineata       1.00      0.87      0.93        15\n",
            "     Siganus Fuscescens       0.88      0.88      0.88         8\n",
            "       Zanclus Cornutus       0.75      0.86      0.80         7\n",
            "       Zebrasoma Scopas       0.93      0.93      0.93        28\n",
            "\n",
            "               accuracy                           0.94       720\n",
            "              macro avg       0.91      0.93      0.92       720\n",
            "           weighted avg       0.95      0.94      0.94       720\n",
            "\n",
            "\n",
            "F1 Score: 0.9448\n",
            "Precision: 0.9470\n",
            "Recall: 0.9444\n",
            "Accuracy: 0.9444\n"
          ]
        }
      ],
      "source": [
        "\n",
        "# NOT ENHANCED\n",
        "y_true, y_pred = test_model(torch_baseline_model, test_loader)\n",
        "\n",
        "print(\"\\nClassification Report:\")\n",
        "\n",
        "class_names = train_dataset.classes\n",
        "\n",
        "print(classification_report(y_true, y_pred, target_names=class_names))\n",
        "\n",
        "f1 = f1_score(y_true, y_pred, average='weighted')\n",
        "precision = precision_score(y_true, y_pred, average='weighted')\n",
        "recall = recall_score(y_true, y_pred, average='weighted')\n",
        "accuracy = accuracy_score(y_true, y_pred)\n",
        "\n",
        "print(f'\\nF1 Score: {f1:.4f}')\n",
        "print(f'Precision: {precision:.4f}')\n",
        "print(f'Recall: {recall:.4f}')\n",
        "print(f'Accuracy: {accuracy:.4f}')\n"
      ]
    },
    {
      "cell_type": "markdown",
      "metadata": {},
      "source": [
        "**CONFUSION MATRIX**"
      ]
    },
    {
      "cell_type": "code",
      "execution_count": 48,
      "metadata": {},
      "outputs": [
        {
          "data": {
            "image/png": "[encoded data removed]",
            "text/plain": [
              "<Figure size 1600x1200 with 2 Axes>"
            ]
          },
          "metadata": {},
          "output_type": "display_data"
        }
      ],
      "source": [
        "from sklearn.metrics import confusion_matrix, ConfusionMatrixDisplay\n",
        "\n",
        "y_true = [class_names[i] for i in y_true]\n",
        "y_pred = [class_names[i] for i in y_pred]\n",
        "\n",
        "cm = confusion_matrix(y_true, y_pred, labels=class_names)\n",
        "disp = ConfusionMatrixDisplay(confusion_matrix=cm, display_labels=class_names)\n",
        "plt.figure(figsize=(16, 12))\n",
        "disp.plot(cmap=plt.cm.Blues, xticks_rotation=45, ax=plt.gca())\n",
        "\n",
        "# Customize axis label sizes for better readability\n",
        "plt.xticks(fontsize=10)\n",
        "plt.yticks(fontsize=10)\n",
        "plt.title('Confusion Matrix', fontsize=16)\n",
        "plt.show()"
      ]
    },
    {
      "cell_type": "markdown",
      "metadata": {},
      "source": [
        "**PLOT FROM HISTORY**"
      ]
    },
    {
      "cell_type": "code",
      "execution_count": 113,
      "metadata": {},
      "outputs": [
        {
          "data": {
            "image/png": "[encoded data removed]",
            "text/plain": [
              "<Figure size 1200x600 with 2 Axes>"
            ]
          },
          "metadata": {},
          "output_type": "display_data"
        }
      ],
      "source": [
        "# loaded_history = load_history_from_csv('./saved_models/PREFINAL/history/torch_history_BESTproposedwithUNETmergedlayer4dp5b32notauglr001enhancedvallacc99testacc99-03traintime8m10sepoch5ratio70_30ratioNOBatchNormNOOVERFIT.csv')\n",
        "# ENHANCED\n",
        "plot_from_history(baseline_history, max_epochs=30) # use loaded history for csv"
      ]
    },
    {
      "cell_type": "code",
      "execution_count": 106,
      "metadata": {},
      "outputs": [
        {
          "data": {
            "image/png": "[encoded data removed]",
            "text/plain": [
              "<Figure size 1200x600 with 2 Axes>"
            ]
          },
          "metadata": {},
          "output_type": "display_data"
        }
      ],
      "source": [
        "#NOT ENHANCED\n",
        "plot_from_history(baseline_history, max_epochs=30) # use loaded history for csv"
      ]
    },
    {
      "cell_type": "markdown",
      "metadata": {},
      "source": [
        "**TEST ON SINGLE IMAGE**"
      ]
    },
    {
      "cell_type": "code",
      "execution_count": null,
      "metadata": {},
      "outputs": [
        {
          "name": "stdout",
          "output_type": "stream",
          "text": [
            "['Abudefduf Vaigiensis', 'Acanthurus Nigrofuscus', 'Balistapus Undulatus', 'Canthigaster Valentini', 'Chaetodon Trifascialis', 'Hemigymnus Fasciatus', 'Hemigymnus Melapterus', 'Lutjanus fulvus', 'Myripristis Kuntee', 'Neoglyphidodon Nigroris', 'Neoniphon Sammara', 'Pempheris Vanicolensis', 'Pomacentrus Moluccensis', 'Scaridae', 'Scolopsis Bilineata', 'Siganus Fuscescens', 'Zanclus Cornutus', 'Zebrasoma Scopas']\n"
          ]
        },
        {
          "data": {
            "image/png": "[encoded data removed]",
            "text/plain": [
              "<Figure size 640x480 with 1 Axes>"
            ]
          },
          "metadata": {},
          "output_type": "display_data"
        },
        {
          "name": "stdout",
          "output_type": "stream",
          "text": [
            "Predicted Class: Canthigaster Valentini\n",
            "Confidence: 28.55%\n",
            "Inference Time: 0.3678 seconds\n"
          ]
        }
      ],
      "source": [
        "class_labels = train_dataset.classes\n",
        "print(class_labels)\n",
        "\n",
        "\n",
        "image_path = \"./TESTS/images/LR/Zanclus Cornutus.png\"\n",
        "\n",
        "random_path = \"./DATASET/TEST/Balistapus Undulatus/fish_000021760001_01812.png\"\n",
        "predicted_class, confidence, prediction_time = predict_image_with_debug(torch_baseline_model, image_path, device, class_labels)\n",
        "\n",
        "print(f\"Predicted Class: {predicted_class}\")\n",
        "print(f\"Confidence: {confidence * 100:.2f}%\") \n",
        "print(f\"Inference Time: {prediction_time:.4f} seconds\")\n"
      ]
    },
    {
      "cell_type": "markdown",
      "metadata": {},
      "source": [
        "**Save Model - MAKE FILENAME MEANINGFUL**"
      ]
    },
    {
      "cell_type": "code",
      "execution_count": 107,
      "metadata": {},
      "outputs": [],
      "source": [
        "\n",
        "df = pd.DataFrame(baseline_history)\n",
        "\n",
        "# HISTORY OR GRAPH\n",
        "df.to_csv('./saved_models/history/TEST_torch_history_BASELINEb16freezedAllnotauglr001decay_1e_4_vallacc_testacc_traintime_sepoch30ratio70_30.csv', index=False)\n",
        "\n",
        "# MODEL\n",
        "torch.save(torch_baseline_model, './saved_models/model/TEST_torch_BASELINEb16freezedAllnotauglr001decay_1e_4_vallacc_testacc_traintime_sepoch30ratio70_30.pth')\n",
        "\n",
        "#WEIGHTS\n",
        "torch.save(torch_baseline_model.state_dict(), './saved_models/weights/TEST_torch_weights_BASELINEb16freezedAllnotauglr001decay_1e_4_vallacc_testacc_traintime_sepoch30ratio70_30.pth')"
      ]
    },
    {
      "cell_type": "code",
      "execution_count": 112,
      "metadata": {},
      "outputs": [],
      "source": [
        "\n",
        "df = pd.DataFrame(baseline_history)\n",
        "\n",
        "# HISTORY OR GRAPH\n",
        "df.to_csv('./saved_models/history/TEST_torch_history_BASELINEwithUNET_ESRGANb16freezedAllnotauglr001decay_1e_4_vallacctest_acc_traintime_sepoch30ratio70_30.csv', index=False)\n",
        "\n",
        "# MODEL\n",
        "torch.save(torch_baseline_model, './saved_models/model/TEST_torch_BASELINEwithUNET_ESRGANb16freezedAllnotauglr001decay_1e_4_vallacc_testacc_traintime_sepoch30ratio70_30.pth')\n",
        "\n",
        "#WEIGHTS\n",
        "torch.save(torch_baseline_model.state_dict(), './saved_models/weights/TEST_torch_weights_BASELINEwithUNET_ESRGANb16freezedAllnotauglr001decay_1e_4_evallacc_testacc_traintime_sepoch30ratio70_30.pth')"
      ]
    },
    {
      "cell_type": "markdown",
      "metadata": {},
      "source": [
        "**LOAD MODEL**"
      ]
    },
    {
      "cell_type": "code",
      "execution_count": null,
      "metadata": {},
      "outputs": [],
      "source": [
        "torch_baseline_model = BaselineResNet(torch_baseline).to(device)\n",
        "\n",
        "torch_baseline_model.load_state_dict(torch.load(\"./saved_models/model/torch_weights_baselineb16aug1enhancedlr001FreezeAllvallacc86testacc92,11traintime3m10s.pth\", map_location=device))\n",
        "\n",
        "# Set the model to evaluation mode\n",
        "torch_baseline_model.eval()"
      ]
    },
    {
      "cell_type": "markdown",
      "metadata": {},
      "source": [
        "# PROPOSED (TENSORFLOW)"
      ]
    },
    {
      "cell_type": "code",
      "execution_count": null,
      "metadata": {},
      "outputs": [
        {
          "name": "stdout",
          "output_type": "stream",
          "text": [
            "0 input_layer_8 False\n",
            "1 conv1_pad False\n",
            "2 conv1_conv False\n",
            "3 conv1_bn False\n",
            "4 conv1_relu False\n",
            "5 pool1_pad False\n",
            "6 pool1_pool False\n",
            "7 conv2_block1_1_conv False\n",
            "8 conv2_block1_1_bn False\n",
            "9 conv2_block1_1_relu False\n",
            "10 conv2_block1_2_conv False\n",
            "11 conv2_block1_2_bn False\n",
            "12 conv2_block1_2_relu False\n",
            "13 conv2_block1_0_conv False\n",
            "14 conv2_block1_3_conv False\n",
            "15 conv2_block1_0_bn False\n",
            "16 conv2_block1_3_bn False\n",
            "17 conv2_block1_add False\n",
            "18 conv2_block1_out False\n",
            "19 conv2_block2_1_conv False\n",
            "20 conv2_block2_1_bn False\n",
            "21 conv2_block2_1_relu False\n",
            "22 conv2_block2_2_conv False\n",
            "23 conv2_block2_2_bn False\n",
            "24 conv2_block2_2_relu False\n",
            "25 conv2_block2_3_conv False\n",
            "26 conv2_block2_3_bn False\n",
            "27 conv2_block2_add False\n",
            "28 conv2_block2_out False\n",
            "29 conv2_block3_1_conv False\n",
            "30 conv2_block3_1_bn False\n",
            "31 conv2_block3_1_relu False\n",
            "32 conv2_block3_2_conv False\n",
            "33 conv2_block3_2_bn False\n",
            "34 conv2_block3_2_relu False\n",
            "35 conv2_block3_3_conv False\n",
            "36 conv2_block3_3_bn False\n",
            "37 conv2_block3_add False\n",
            "38 conv2_block3_out False\n",
            "39 conv3_block1_1_conv False\n",
            "40 conv3_block1_1_bn False\n",
            "41 conv3_block1_1_relu False\n",
            "42 conv3_block1_2_conv False\n",
            "43 conv3_block1_2_bn False\n",
            "44 conv3_block1_2_relu False\n",
            "45 conv3_block1_0_conv False\n",
            "46 conv3_block1_3_conv False\n",
            "47 conv3_block1_0_bn False\n",
            "48 conv3_block1_3_bn False\n",
            "49 conv3_block1_add False\n",
            "50 conv3_block1_out False\n",
            "51 conv3_block2_1_conv False\n",
            "52 conv3_block2_1_bn False\n",
            "53 conv3_block2_1_relu False\n",
            "54 conv3_block2_2_conv False\n",
            "55 conv3_block2_2_bn False\n",
            "56 conv3_block2_2_relu False\n",
            "57 conv3_block2_3_conv False\n",
            "58 conv3_block2_3_bn False\n",
            "59 conv3_block2_add False\n",
            "60 conv3_block2_out False\n",
            "61 conv3_block3_1_conv False\n",
            "62 conv3_block3_1_bn False\n",
            "63 conv3_block3_1_relu False\n",
            "64 conv3_block3_2_conv False\n",
            "65 conv3_block3_2_bn False\n",
            "66 conv3_block3_2_relu False\n",
            "67 conv3_block3_3_conv False\n",
            "68 conv3_block3_3_bn False\n",
            "69 conv3_block3_add False\n",
            "70 conv3_block3_out False\n",
            "71 conv3_block4_1_conv False\n",
            "72 conv3_block4_1_bn False\n",
            "73 conv3_block4_1_relu False\n",
            "74 conv3_block4_2_conv False\n",
            "75 conv3_block4_2_bn False\n",
            "76 conv3_block4_2_relu False\n",
            "77 conv3_block4_3_conv False\n",
            "78 conv3_block4_3_bn False\n",
            "79 conv3_block4_add False\n",
            "80 conv3_block4_out False\n",
            "81 conv4_block1_1_conv False\n",
            "82 conv4_block1_1_bn False\n",
            "83 conv4_block1_1_relu False\n",
            "84 conv4_block1_2_conv False\n",
            "85 conv4_block1_2_bn False\n",
            "86 conv4_block1_2_relu False\n",
            "87 conv4_block1_0_conv False\n",
            "88 conv4_block1_3_conv False\n",
            "89 conv4_block1_0_bn False\n",
            "90 conv4_block1_3_bn False\n",
            "91 conv4_block1_add False\n",
            "92 conv4_block1_out False\n",
            "93 conv4_block2_1_conv False\n",
            "94 conv4_block2_1_bn False\n",
            "95 conv4_block2_1_relu False\n",
            "96 conv4_block2_2_conv False\n",
            "97 conv4_block2_2_bn False\n",
            "98 conv4_block2_2_relu False\n",
            "99 conv4_block2_3_conv False\n",
            "100 conv4_block2_3_bn False\n",
            "101 conv4_block2_add False\n",
            "102 conv4_block2_out False\n",
            "103 conv4_block3_1_conv False\n",
            "104 conv4_block3_1_bn False\n",
            "105 conv4_block3_1_relu False\n",
            "106 conv4_block3_2_conv False\n",
            "107 conv4_block3_2_bn False\n",
            "108 conv4_block3_2_relu False\n",
            "109 conv4_block3_3_conv False\n",
            "110 conv4_block3_3_bn False\n",
            "111 conv4_block3_add False\n",
            "112 conv4_block3_out False\n",
            "113 conv4_block4_1_conv False\n",
            "114 conv4_block4_1_bn False\n",
            "115 conv4_block4_1_relu False\n",
            "116 conv4_block4_2_conv False\n",
            "117 conv4_block4_2_bn False\n",
            "118 conv4_block4_2_relu False\n",
            "119 conv4_block4_3_conv False\n",
            "120 conv4_block4_3_bn False\n",
            "121 conv4_block4_add False\n",
            "122 conv4_block4_out False\n",
            "123 conv4_block5_1_conv False\n",
            "124 conv4_block5_1_bn False\n",
            "125 conv4_block5_1_relu False\n",
            "126 conv4_block5_2_conv False\n",
            "127 conv4_block5_2_bn False\n",
            "128 conv4_block5_2_relu False\n",
            "129 conv4_block5_3_conv False\n",
            "130 conv4_block5_3_bn False\n",
            "131 conv4_block5_add False\n",
            "132 conv4_block5_out False\n",
            "133 conv4_block6_1_conv False\n",
            "134 conv4_block6_1_bn False\n",
            "135 conv4_block6_1_relu False\n",
            "136 conv4_block6_2_conv False\n",
            "137 conv4_block6_2_bn False\n",
            "138 conv4_block6_2_relu False\n",
            "139 conv4_block6_3_conv False\n",
            "140 conv4_block6_3_bn False\n",
            "141 conv4_block6_add False\n",
            "142 conv4_block6_out False\n",
            "143 conv5_block1_1_conv True\n",
            "144 conv5_block1_1_bn True\n",
            "145 conv5_block1_1_relu True\n",
            "146 conv5_block1_2_conv True\n",
            "147 conv5_block1_2_bn True\n",
            "148 conv5_block1_2_relu True\n",
            "149 conv5_block1_0_conv True\n",
            "150 conv5_block1_3_conv True\n",
            "151 conv5_block1_0_bn True\n",
            "152 conv5_block1_3_bn True\n",
            "153 conv5_block1_add True\n",
            "154 conv5_block1_out True\n",
            "155 conv5_block2_1_conv True\n",
            "156 conv5_block2_1_bn True\n",
            "157 conv5_block2_1_relu True\n",
            "158 conv5_block2_2_conv True\n",
            "159 conv5_block2_2_bn True\n",
            "160 conv5_block2_2_relu True\n",
            "161 conv5_block2_3_conv True\n",
            "162 conv5_block2_3_bn True\n",
            "163 conv5_block2_add True\n",
            "164 conv5_block2_out True\n",
            "165 conv5_block3_1_conv True\n",
            "166 conv5_block3_1_bn True\n",
            "167 conv5_block3_1_relu True\n",
            "168 conv5_block3_2_conv True\n",
            "169 conv5_block3_2_bn True\n",
            "170 conv5_block3_2_relu True\n",
            "171 conv5_block3_3_conv True\n",
            "172 conv5_block3_3_bn True\n",
            "173 conv5_block3_add True\n",
            "174 conv5_block3_out True\n"
          ]
        }
      ],
      "source": [
        "proposed_model = ResNet50(weights='imagenet', include_top=False, input_shape=(224, 224, 3))\n",
        "\n",
        "for layer in proposed_model.layers[:143]:\n",
        "    layer.trainable = False\n",
        "\n",
        "\n",
        "for i, layer in enumerate(proposed_model.layers):\n",
        "   print(i, layer.name, layer.trainable)\n"
      ]
    },
    {
      "cell_type": "code",
      "execution_count": null,
      "metadata": {},
      "outputs": [],
      "source": [
        "x = proposed_model.output\n",
        "\n",
        "proposed_gap = GlobalAveragePooling2D()(x)\n",
        "proposed_gmp = GlobalMaxPooling2D()(x)\n",
        "\n",
        "concat = Concatenate()([proposed_gap, proposed_gmp])\n",
        "\n",
        "x = Dropout(0.5)(concat) \n",
        "\n",
        "output_layer = Dense(18, activation=\"softmax\", name='classification_output')(x)\n",
        "\n",
        "# Final model\n",
        "proposed_model = Model(inputs=proposed_model.input, outputs=output_layer, name=\"baseline_ResNet-50\")\n",
        "\n",
        "\n",
        "initial_lr = 0.001\n",
        "\n",
        "optimizer = Adamax(learning_rate=initial_lr)\n",
        "\n",
        "proposed_model.compile(optimizer=optimizer, loss='categorical_crossentropy', metrics=['accuracy'])\n"
      ]
    },
    {
      "cell_type": "code",
      "execution_count": null,
      "metadata": {},
      "outputs": [
        {
          "name": "stderr",
          "output_type": "stream",
          "text": [
            "d:\\workspace\\ThesisProject\\venv\\Lib\\site-packages\\keras\\src\\trainers\\data_adapters\\py_dataset_adapter.py:121: UserWarning: Your `PyDataset` class should call `super().__init__(**kwargs)` in its constructor. `**kwargs` can include `workers`, `use_multiprocessing`, `max_queue_size`. Do not pass these arguments to `fit()`, as they will be ignored.\n",
            "  self._warn_if_super_not_called()\n"
          ]
        },
        {
          "name": "stdout",
          "output_type": "stream",
          "text": [
            "Epoch 1/5\n",
            "\u001b[1m53/53\u001b[0m \u001b[32m━━━━━━━━━━━━━━━━━━━━\u001b[0m\u001b[37m\u001b[0m \u001b[1m138s\u001b[0m 2s/step - accuracy: 0.5850 - loss: 5.6615 - val_accuracy: 0.6603 - val_loss: 4.9159\n",
            "Epoch 2/5\n",
            "\u001b[1m53/53\u001b[0m \u001b[32m━━━━━━━━━━━━━━━━━━━━\u001b[0m\u001b[37m\u001b[0m \u001b[1m124s\u001b[0m 2s/step - accuracy: 0.9184 - loss: 0.4833 - val_accuracy: 0.8608 - val_loss: 0.8043\n",
            "Epoch 3/5\n",
            "\u001b[1m53/53\u001b[0m \u001b[32m━━━━━━━━━━━━━━━━━━━━\u001b[0m\u001b[37m\u001b[0m \u001b[1m124s\u001b[0m 2s/step - accuracy: 0.9256 - loss: 0.3993 - val_accuracy: 0.9578 - val_loss: 0.2701\n",
            "Epoch 4/5\n",
            "\u001b[1m53/53\u001b[0m \u001b[32m━━━━━━━━━━━━━━━━━━━━\u001b[0m\u001b[37m\u001b[0m \u001b[1m123s\u001b[0m 2s/step - accuracy: 0.9641 - loss: 0.1412 - val_accuracy: 0.9684 - val_loss: 0.1880\n",
            "Epoch 5/5\n",
            "\u001b[1m53/53\u001b[0m \u001b[32m━━━━━━━━━━━━━━━━━━━━\u001b[0m\u001b[37m\u001b[0m \u001b[1m124s\u001b[0m 2s/step - accuracy: 0.9648 - loss: 0.1488 - val_accuracy: 0.9641 - val_loss: 0.1803\n"
          ]
        }
      ],
      "source": [
        "\n",
        "proposed_history_tensorflow = proposed_model.fit(\n",
        "    enhancedtrain_generator,\n",
        "    validation_data = enhancedvalidation_generator,\n",
        "    epochs=5,\n",
        "    validation_freq=1,\n",
        "#    class_weight = class_weight_dict,\n",
        "    verbose=1,\n",
        "    #callbacks=[reduce_lr]\n",
        ")\n",
        "\n"
      ]
    },
    {
      "cell_type": "markdown",
      "metadata": {},
      "source": [
        "# PROPOSED (PYTORCH)"
      ]
    },
    {
      "cell_type": "code",
      "execution_count": null,
      "metadata": {},
      "outputs": [
        {
          "name": "stdout",
          "output_type": "stream",
          "text": [
            ": True\n",
            "base_model: True\n",
            "base_model.0: False\n",
            "base_model.1: False\n",
            "base_model.2: False\n",
            "base_model.3: False\n",
            "base_model.4: False\n",
            "base_model.4.0: False\n",
            "base_model.4.0.conv1: False\n",
            "base_model.4.0.bn1: False\n",
            "base_model.4.0.conv2: False\n",
            "base_model.4.0.bn2: False\n",
            "base_model.4.0.conv3: False\n",
            "base_model.4.0.bn3: False\n",
            "base_model.4.0.relu: False\n",
            "base_model.4.0.downsample: False\n",
            "base_model.4.0.downsample.0: False\n",
            "base_model.4.0.downsample.1: False\n",
            "base_model.4.1: False\n",
            "base_model.4.1.conv1: False\n",
            "base_model.4.1.bn1: False\n",
            "base_model.4.1.conv2: False\n",
            "base_model.4.1.bn2: False\n",
            "base_model.4.1.conv3: False\n",
            "base_model.4.1.bn3: False\n",
            "base_model.4.1.relu: False\n",
            "base_model.4.2: False\n",
            "base_model.4.2.conv1: False\n",
            "base_model.4.2.bn1: False\n",
            "base_model.4.2.conv2: False\n",
            "base_model.4.2.bn2: False\n",
            "base_model.4.2.conv3: False\n",
            "base_model.4.2.bn3: False\n",
            "base_model.4.2.relu: False\n",
            "base_model.5: False\n",
            "base_model.5.0: False\n",
            "base_model.5.0.conv1: False\n",
            "base_model.5.0.bn1: False\n",
            "base_model.5.0.conv2: False\n",
            "base_model.5.0.bn2: False\n",
            "base_model.5.0.conv3: False\n",
            "base_model.5.0.bn3: False\n",
            "base_model.5.0.relu: False\n",
            "base_model.5.0.downsample: False\n",
            "base_model.5.0.downsample.0: False\n",
            "base_model.5.0.downsample.1: False\n",
            "base_model.5.1: False\n",
            "base_model.5.1.conv1: False\n",
            "base_model.5.1.bn1: False\n",
            "base_model.5.1.conv2: False\n",
            "base_model.5.1.bn2: False\n",
            "base_model.5.1.conv3: False\n",
            "base_model.5.1.bn3: False\n",
            "base_model.5.1.relu: False\n",
            "base_model.5.2: False\n",
            "base_model.5.2.conv1: False\n",
            "base_model.5.2.bn1: False\n",
            "base_model.5.2.conv2: False\n",
            "base_model.5.2.bn2: False\n",
            "base_model.5.2.conv3: False\n",
            "base_model.5.2.bn3: False\n",
            "base_model.5.2.relu: False\n",
            "base_model.5.3: False\n",
            "base_model.5.3.conv1: False\n",
            "base_model.5.3.bn1: False\n",
            "base_model.5.3.conv2: False\n",
            "base_model.5.3.bn2: False\n",
            "base_model.5.3.conv3: False\n",
            "base_model.5.3.bn3: False\n",
            "base_model.5.3.relu: False\n",
            "base_model.6: False\n",
            "base_model.6.0: False\n",
            "base_model.6.0.conv1: False\n",
            "base_model.6.0.bn1: False\n",
            "base_model.6.0.conv2: False\n",
            "base_model.6.0.bn2: False\n",
            "base_model.6.0.conv3: False\n",
            "base_model.6.0.bn3: False\n",
            "base_model.6.0.relu: False\n",
            "base_model.6.0.downsample: False\n",
            "base_model.6.0.downsample.0: False\n",
            "base_model.6.0.downsample.1: False\n",
            "base_model.6.1: False\n",
            "base_model.6.1.conv1: False\n",
            "base_model.6.1.bn1: False\n",
            "base_model.6.1.conv2: False\n",
            "base_model.6.1.bn2: False\n",
            "base_model.6.1.conv3: False\n",
            "base_model.6.1.bn3: False\n",
            "base_model.6.1.relu: False\n",
            "base_model.6.2: False\n",
            "base_model.6.2.conv1: False\n",
            "base_model.6.2.bn1: False\n",
            "base_model.6.2.conv2: False\n",
            "base_model.6.2.bn2: False\n",
            "base_model.6.2.conv3: False\n",
            "base_model.6.2.bn3: False\n",
            "base_model.6.2.relu: False\n",
            "base_model.6.3: False\n",
            "base_model.6.3.conv1: False\n",
            "base_model.6.3.bn1: False\n",
            "base_model.6.3.conv2: False\n",
            "base_model.6.3.bn2: False\n",
            "base_model.6.3.conv3: False\n",
            "base_model.6.3.bn3: False\n",
            "base_model.6.3.relu: False\n",
            "base_model.6.4: False\n",
            "base_model.6.4.conv1: False\n",
            "base_model.6.4.bn1: False\n",
            "base_model.6.4.conv2: False\n",
            "base_model.6.4.bn2: False\n",
            "base_model.6.4.conv3: False\n",
            "base_model.6.4.bn3: False\n",
            "base_model.6.4.relu: False\n",
            "base_model.6.5: False\n",
            "base_model.6.5.conv1: False\n",
            "base_model.6.5.bn1: False\n",
            "base_model.6.5.conv2: False\n",
            "base_model.6.5.bn2: False\n",
            "base_model.6.5.conv3: False\n",
            "base_model.6.5.bn3: False\n",
            "base_model.6.5.relu: False\n",
            "base_model.7: True\n",
            "base_model.7.0: True\n",
            "base_model.7.0.conv1: True\n",
            "base_model.7.0.bn1: True\n",
            "base_model.7.0.conv2: True\n",
            "base_model.7.0.bn2: True\n",
            "base_model.7.0.conv3: True\n",
            "base_model.7.0.bn3: True\n",
            "base_model.7.0.relu: False\n",
            "base_model.7.0.downsample: True\n",
            "base_model.7.0.downsample.0: True\n",
            "base_model.7.0.downsample.1: True\n",
            "base_model.7.1: True\n",
            "base_model.7.1.conv1: True\n",
            "base_model.7.1.bn1: True\n",
            "base_model.7.1.conv2: True\n",
            "base_model.7.1.bn2: True\n",
            "base_model.7.1.conv3: True\n",
            "base_model.7.1.bn3: True\n",
            "base_model.7.1.relu: False\n",
            "base_model.7.2: True\n",
            "base_model.7.2.conv1: True\n",
            "base_model.7.2.bn1: True\n",
            "base_model.7.2.conv2: True\n",
            "base_model.7.2.bn2: True\n",
            "base_model.7.2.conv3: True\n",
            "base_model.7.2.bn3: True\n",
            "base_model.7.2.relu: False\n",
            "gap: False\n",
            "gmp: False\n",
            "dropout: False\n",
            "fc: True\n"
          ]
        }
      ],
      "source": [
        "learning_rate = 0.001\n",
        "epochs = 5\n",
        "\n",
        "\n",
        "torch_proposed = resnet50(weights=\"IMAGENET1K_V1\")\n",
        "torch_proposed = torch_proposed.to(device)\n",
        "\n",
        "\n",
        "# freeze = True\n",
        "# for name, layer in torch_proposed.named_modules():\n",
        "#     # Explicitly freeze all layers up to layer3\n",
        "#     if 'layer4' in name:\n",
        "#         freeze = False  # Start unfreezing at layer3\n",
        "#     if freeze:\n",
        "#         for param in layer.parameters():\n",
        "#             param.requires_grad = False\n",
        "#     else:\n",
        "#         for param in layer.parameters():\n",
        "#             param.requires_grad = True\n",
        "\n",
        "# FREEZE ALL LAYERS\n",
        "for param in torch_proposed.parameters():\n",
        "    param.requires_grad = False\n",
        "\n",
        "for param in torch_proposed.fc.parameters():\n",
        "    param.requires_grad = True\n",
        "\n",
        "\n",
        "class ProposedResNet(nn.Module):\n",
        "    def __init__(self, base_model, num_classes=18, dropout_rate=0.5):\n",
        "        super(ProposedResNet, self).__init__()\n",
        "        self.base_model = nn.Sequential(*list(base_model.children())[:-2])  # Exclude top layers\n",
        "        self.gap = nn.AdaptiveAvgPool2d((1, 1))\n",
        "        self.gmp = nn.AdaptiveMaxPool2d((1, 1))\n",
        "        # self.bn = nn.BatchNorm1d(4096)\n",
        "        self.dropout = nn.Dropout(dropout_rate)\n",
        "        self.fc = nn.Linear(4096, num_classes)  # 4096 (2048 from GAP + 2048 from GMP)\n",
        "\n",
        "    def forward(self, x):\n",
        "        x = self.base_model(x)\n",
        "\n",
        "        gap = self.gap(x).view(x.size(0), -1)\n",
        "        gmp = self.gmp(x).view(x.size(0), -1)\n",
        "        x = torch.cat((gap, gmp), dim=1)\n",
        "        # x = torch.tanh(x)  \n",
        "        # x = self.bn(x)\n",
        "        x = self.dropout(x)\n",
        "        x = self.fc(x)\n",
        "\n",
        "        return x\n",
        "\n",
        "\n",
        "torch_proposed_model = ProposedResNet(torch_proposed).to(device)\n",
        "\n",
        "learning_rate = .001\n",
        "criterion = nn.CrossEntropyLoss(weight=class_weights)\n",
        "optimizer = optim.Adamax(torch_proposed_model.parameters(), lr=0.001)\n",
        "\n",
        "\n",
        "\n",
        "for name, layer in torch_proposed_model.named_modules():\n",
        "    print(f'{name}: {any(param.requires_grad for param in layer.parameters())}')\n"
      ]
    },
    {
      "cell_type": "markdown",
      "metadata": {},
      "source": [
        "**TRAIN METHOD 1**"
      ]
    },
    {
      "cell_type": "code",
      "execution_count": null,
      "metadata": {},
      "outputs": [],
      "source": [
        "# Train model\n",
        "proposed_history = train_model(torch_proposed_model, enhanced_train_loader, enhanced_test_loader, optimizer, criterion, epochs=epochs, device=device)"
      ]
    },
    {
      "cell_type": "markdown",
      "metadata": {},
      "source": [
        "**TRAIN METHOD 2**"
      ]
    },
    {
      "cell_type": "code",
      "execution_count": 68,
      "metadata": {},
      "outputs": [
        {
          "name": "stdout",
          "output_type": "stream",
          "text": [
            "=====================================Epoch: 1=====================================\n"
          ]
        },
        {
          "name": "stderr",
          "output_type": "stream",
          "text": [
            "[TRAIN] : 100%|██████████| 105/105 [00:29<00:00,  3.60it/s]\n",
            "[VALID] : 100%|██████████| 45/45 [00:20<00:00,  2.21it/s]\n"
          ]
        },
        {
          "name": "stdout",
          "output_type": "stream",
          "text": [
            "=> Train Loss=1.4330, Val Loss=0.5717 |  Train Acc=0.6772,  Val Acc=0.8542\n",
            "=====================================Epoch: 2=====================================\n"
          ]
        },
        {
          "name": "stderr",
          "output_type": "stream",
          "text": [
            "[TRAIN] : 100%|██████████| 105/105 [00:29<00:00,  3.61it/s]\n",
            "[VALID] : 100%|██████████| 45/45 [00:20<00:00,  2.20it/s]\n"
          ]
        },
        {
          "name": "stdout",
          "output_type": "stream",
          "text": [
            "=> Train Loss=0.5854, Val Loss=0.4016 |  Train Acc=0.8553,  Val Acc=0.8972\n",
            "=====================================Epoch: 3=====================================\n"
          ]
        },
        {
          "name": "stderr",
          "output_type": "stream",
          "text": [
            "[TRAIN] : 100%|██████████| 105/105 [00:29<00:00,  3.58it/s]\n",
            "[VALID] : 100%|██████████| 45/45 [00:17<00:00,  2.55it/s]\n"
          ]
        },
        {
          "name": "stdout",
          "output_type": "stream",
          "text": [
            "=> Train Loss=0.4106, Val Loss=0.3436 |  Train Acc=0.8928,  Val Acc=0.9111\n",
            "=====================================Epoch: 4=====================================\n"
          ]
        },
        {
          "name": "stderr",
          "output_type": "stream",
          "text": [
            "[TRAIN] : 100%|██████████| 105/105 [00:28<00:00,  3.63it/s]\n",
            "[VALID] : 100%|██████████| 45/45 [00:19<00:00,  2.27it/s]\n"
          ]
        },
        {
          "name": "stdout",
          "output_type": "stream",
          "text": [
            "=> Train Loss=0.3241, Val Loss=0.3101 |  Train Acc=0.9136,  Val Acc=0.9208\n",
            "=====================================Epoch: 5=====================================\n"
          ]
        },
        {
          "name": "stderr",
          "output_type": "stream",
          "text": [
            "[TRAIN] : 100%|██████████| 105/105 [00:28<00:00,  3.67it/s]\n",
            "[VALID] : 100%|██████████| 45/45 [00:16<00:00,  2.77it/s]"
          ]
        },
        {
          "name": "stdout",
          "output_type": "stream",
          "text": [
            "=> Train Loss=0.2403, Val Loss=0.2673 |  Train Acc=0.9327,  Val Acc=0.9250\n"
          ]
        },
        {
          "name": "stderr",
          "output_type": "stream",
          "text": [
            "\n"
          ]
        }
      ],
      "source": [
        "# Train model\n",
        "proposed_history = train_and_validate(torch_proposed_model, criterion, optimizer, enhanced_train_loader, enhanced_test_loader, device, num_epochs=5)"
      ]
    },
    {
      "cell_type": "markdown",
      "metadata": {},
      "source": [
        "# PROPOSED 2 (PYTORCH)"
      ]
    },
    {
      "cell_type": "code",
      "execution_count": null,
      "metadata": {},
      "outputs": [],
      "source": [
        "# Model Definition\n",
        "torch_proposed2_model = models.resnet50(weights=\"IMAGENET1K_V1\")\n",
        "torch_proposed2_model.avgpool = nn.Sequential(\n",
        "    nn.AdaptiveAvgPool2d((1, 1)),\n",
        "    nn.AdaptiveMaxPool2d((1, 1))\n",
        ")\n",
        "\n",
        "torch_proposed2_model.fc = nn.Sequential(\n",
        "    nn.BatchNorm1d(4096),\n",
        "    nn.Dropout(0.5),\n",
        "    nn.Linear(4096, 18)\n",
        ")\n",
        "\n",
        "\n",
        "# Freeze all layers\n",
        "freeze = False\n",
        "for name, param in torch_proposed2_model.named_parameters():\n",
        "    if name.startswith(\"fc\") or freeze:\n",
        "        param.requires_grad = True  \n",
        "        freeze = True\n",
        "    else:\n",
        "        param.requires_grad = False  \n",
        "\n",
        "\n",
        "torch_proposed2_model = torch_proposed2_model.to(device)\n",
        "\n",
        "# Loss function and optimizer\n",
        "criterion = nn.CrossEntropyLoss()\n",
        "optimizer = optim.Adamax(torch_proposed2_model.parameters(), lr=0.001)\n",
        "\n",
        "for name, layer in torch_proposed2_model.named_modules():\n",
        "    print(f'{name}: {any(param.requires_grad for param in layer.parameters())}')\n",
        "    \n"
      ]
    },
    {
      "cell_type": "code",
      "execution_count": null,
      "metadata": {},
      "outputs": [],
      "source": [
        "proposed2_history = train_and_validate(torch_proposed2_model, criterion, optimizer, train_loader, test_loader, device, num_epochs=5)\n"
      ]
    },
    {
      "cell_type": "markdown",
      "metadata": {},
      "source": [
        "# TEST PROPOSED"
      ]
    },
    {
      "cell_type": "markdown",
      "metadata": {},
      "source": [
        "**CLASSIFICATION REPORT**"
      ]
    },
    {
      "cell_type": "code",
      "execution_count": 23,
      "metadata": {},
      "outputs": [
        {
          "name": "stdout",
          "output_type": "stream",
          "text": [
            "\n",
            "Classification Report:\n",
            "                         precision    recall  f1-score   support\n",
            "\n",
            "   Abudefduf Vaigiensis       0.97      1.00      0.98        30\n",
            " Acanthurus Nigrofuscus       0.97      1.00      0.98        64\n",
            "   Balistapus Undulatus       0.87      1.00      0.93        13\n",
            " Canthigaster Valentini       1.00      1.00      1.00        43\n",
            " Chaetodon Trifascialis       0.98      1.00      0.99        57\n",
            "   Hemigymnus Fasciatus       1.00      0.97      0.99        72\n",
            "  Hemigymnus Melapterus       1.00      0.85      0.92        13\n",
            "        Lutjanus fulvus       1.00      0.97      0.98        61\n",
            "     Myripristis Kuntee       1.00      1.00      1.00       135\n",
            "Neoglyphidodon Nigroris       1.00      0.83      0.91         6\n",
            "      Neoniphon Sammara       1.00      1.00      1.00        88\n",
            " Pempheris Vanicolensis       1.00      1.00      1.00         9\n",
            "Pomacentrus Moluccensis       1.00      1.00      1.00        54\n",
            "               Scaridae       1.00      1.00      1.00        17\n",
            "    Scolopsis Bilineata       0.94      1.00      0.97        15\n",
            "     Siganus Fuscescens       1.00      1.00      1.00         8\n",
            "       Zanclus Cornutus       1.00      1.00      1.00         7\n",
            "       Zebrasoma Scopas       1.00      1.00      1.00        28\n",
            "\n",
            "               accuracy                           0.99       720\n",
            "              macro avg       0.98      0.98      0.98       720\n",
            "           weighted avg       0.99      0.99      0.99       720\n",
            "\n",
            "\n",
            "F1 Score: 0.9902\n",
            "Precision: 0.9909\n",
            "Recall: 0.9903\n",
            "Accuracy: 0.9903\n"
          ]
        }
      ],
      "source": [
        "\n",
        "# Test model and evaluate performance\n",
        "y_true, y_pred = test_model(torch_proposed_model, enhanced_test_loader)\n",
        "\n",
        "print(\"\\nClassification Report:\")\n",
        "class_names = train_dataset.classes\n",
        "\n",
        "print(classification_report(y_true, y_pred, target_names=class_names))\n",
        "\n",
        "f1 = f1_score(y_true, y_pred, average='weighted')\n",
        "precision = precision_score(y_true, y_pred, average='weighted')\n",
        "recall = recall_score(y_true, y_pred, average='weighted')\n",
        "accuracy = accuracy_score(y_true, y_pred)\n",
        "\n",
        "print(f'\\nF1 Score: {f1:.4f}')\n",
        "print(f'Precision: {precision:.4f}')\n",
        "print(f'Recall: {recall:.4f}')\n",
        "print(f'Accuracy: {accuracy:.4f}')"
      ]
    },
    {
      "cell_type": "markdown",
      "metadata": {},
      "source": [
        "**PLOT FROM HISTORY**"
      ]
    },
    {
      "cell_type": "code",
      "execution_count": 29,
      "metadata": {},
      "outputs": [
        {
          "data": {
            "image/png": "[encoded data removed]",
            "text/plain": [
              "<Figure size 1200x600 with 2 Axes>"
            ]
          },
          "metadata": {},
          "output_type": "display_data"
        }
      ],
      "source": [
        "loaded_history = load_history_from_csv('./saved_models/PREFINAL/history/torch_history_BESTproposedwithUNETmergedlayer4dp5b32notauglr001enhancedvallacc99testacc99-03traintime8m10sepoch5ratio70_30ratioNOBatchNormNOOVERFIT.csv')\n",
        "plot_from_history(loaded_history, max_epochs=5)"
      ]
    },
    {
      "cell_type": "markdown",
      "metadata": {},
      "source": [
        "**TEST ON SAMPLE IMAGE**"
      ]
    },
    {
      "cell_type": "code",
      "execution_count": null,
      "metadata": {},
      "outputs": [],
      "source": [
        "class_labels = train_dataset.classes\n",
        "print(class_labels)\n",
        "\n",
        "\n",
        "image_path = \"./DATASET/TEST_ESRGAN_UNET/Balistapus Undulatus/fish_000021760001_01817.png\"\n",
        "\n",
        "random_path = './TESTS/images/LR/Balistapus Undulatus-notenhanced.png'\n",
        "predicted_class, confidence, prediction_time = predict_image_with_debug(torch_proposed_model, image_path, device, class_labels)\n",
        "\n",
        "predicted_class_label = predicted_class\n",
        "\n",
        "\n",
        "print(f\"Predicted Class: {predicted_class_label}\")\n",
        "print(f\"Confidence: {confidence * 100:.2f}%\") \n",
        "print(f\"Inference Time: {prediction_time:.4f} seconds\")\n"
      ]
    },
    {
      "cell_type": "markdown",
      "metadata": {},
      "source": [
        "**SAVE MODEL: MAKE FILENAME MEANINGFUL**"
      ]
    },
    {
      "cell_type": "code",
      "execution_count": null,
      "metadata": {},
      "outputs": [],
      "source": [
        "\n",
        "df = pd.DataFrame(proposed_history)\n",
        "# HISTORY OR GRAPH\n",
        "df.to_csv('./saved_models/PREFINAL/history/torch_history_FINALproposedwithUNETdp2b32notauglr001enhancedESRGAN2vallacc99_31testacc99_31traintime4m21sepoch5ratio70_30NOBatchNormSlightOVERFIT.csv', index=False)\n",
        "\n",
        "# MODEL\n",
        "torch.save(torch_proposed_model, './saved_models/PREFINAL/model/torch_FINALproposedwithUNETdp2b32notauglr001enhancedESRGAN2vallacc99_31testacc99_31traintime4m21sepoch5ratio70_30NOBatchNormSlightOVERFIT.pth')\n",
        "\n",
        "# WEIGHTS\n",
        "torch.save(torch_proposed_model.state_dict(), './saved_models/PREFINAL/weights/torch_weights_FINALproposedwithUNETdp2b32notauglr001enhancedESRGAN2vallacc99_31testacc99_31traintime4m21sepoch5ratio70_30NOBatchNormSlightOVERFIT.pth')"
      ]
    },
    {
      "cell_type": "markdown",
      "metadata": {},
      "source": [
        "**LOAD MODEL**"
      ]
    },
    {
      "cell_type": "code",
      "execution_count": 28,
      "metadata": {},
      "outputs": [
        {
          "data": {
            "text/plain": [
              "ProposedResNet(\n",
              "  (base_model): Sequential(\n",
              "    (0): Conv2d(3, 64, kernel_size=(7, 7), stride=(2, 2), padding=(3, 3), bias=False)\n",
              "    (1): BatchNorm2d(64, eps=1e-05, momentum=0.1, affine=True, track_running_stats=True)\n",
              "    (2): ReLU(inplace=True)\n",
              "    (3): MaxPool2d(kernel_size=3, stride=2, padding=1, dilation=1, ceil_mode=False)\n",
              "    (4): Sequential(\n",
              "      (0): Bottleneck(\n",
              "        (conv1): Conv2d(64, 64, kernel_size=(1, 1), stride=(1, 1), bias=False)\n",
              "        (bn1): BatchNorm2d(64, eps=1e-05, momentum=0.1, affine=True, track_running_stats=True)\n",
              "        (conv2): Conv2d(64, 64, kernel_size=(3, 3), stride=(1, 1), padding=(1, 1), bias=False)\n",
              "        (bn2): BatchNorm2d(64, eps=1e-05, momentum=0.1, affine=True, track_running_stats=True)\n",
              "        (conv3): Conv2d(64, 256, kernel_size=(1, 1), stride=(1, 1), bias=False)\n",
              "        (bn3): BatchNorm2d(256, eps=1e-05, momentum=0.1, affine=True, track_running_stats=True)\n",
              "        (relu): ReLU(inplace=True)\n",
              "        (downsample): Sequential(\n",
              "          (0): Conv2d(64, 256, kernel_size=(1, 1), stride=(1, 1), bias=False)\n",
              "          (1): BatchNorm2d(256, eps=1e-05, momentum=0.1, affine=True, track_running_stats=True)\n",
              "        )\n",
              "      )\n",
              "      (1): Bottleneck(\n",
              "        (conv1): Conv2d(256, 64, kernel_size=(1, 1), stride=(1, 1), bias=False)\n",
              "        (bn1): BatchNorm2d(64, eps=1e-05, momentum=0.1, affine=True, track_running_stats=True)\n",
              "        (conv2): Conv2d(64, 64, kernel_size=(3, 3), stride=(1, 1), padding=(1, 1), bias=False)\n",
              "        (bn2): BatchNorm2d(64, eps=1e-05, momentum=0.1, affine=True, track_running_stats=True)\n",
              "        (conv3): Conv2d(64, 256, kernel_size=(1, 1), stride=(1, 1), bias=False)\n",
              "        (bn3): BatchNorm2d(256, eps=1e-05, momentum=0.1, affine=True, track_running_stats=True)\n",
              "        (relu): ReLU(inplace=True)\n",
              "      )\n",
              "      (2): Bottleneck(\n",
              "        (conv1): Conv2d(256, 64, kernel_size=(1, 1), stride=(1, 1), bias=False)\n",
              "        (bn1): BatchNorm2d(64, eps=1e-05, momentum=0.1, affine=True, track_running_stats=True)\n",
              "        (conv2): Conv2d(64, 64, kernel_size=(3, 3), stride=(1, 1), padding=(1, 1), bias=False)\n",
              "        (bn2): BatchNorm2d(64, eps=1e-05, momentum=0.1, affine=True, track_running_stats=True)\n",
              "        (conv3): Conv2d(64, 256, kernel_size=(1, 1), stride=(1, 1), bias=False)\n",
              "        (bn3): BatchNorm2d(256, eps=1e-05, momentum=0.1, affine=True, track_running_stats=True)\n",
              "        (relu): ReLU(inplace=True)\n",
              "      )\n",
              "    )\n",
              "    (5): Sequential(\n",
              "      (0): Bottleneck(\n",
              "        (conv1): Conv2d(256, 128, kernel_size=(1, 1), stride=(1, 1), bias=False)\n",
              "        (bn1): BatchNorm2d(128, eps=1e-05, momentum=0.1, affine=True, track_running_stats=True)\n",
              "        (conv2): Conv2d(128, 128, kernel_size=(3, 3), stride=(2, 2), padding=(1, 1), bias=False)\n",
              "        (bn2): BatchNorm2d(128, eps=1e-05, momentum=0.1, affine=True, track_running_stats=True)\n",
              "        (conv3): Conv2d(128, 512, kernel_size=(1, 1), stride=(1, 1), bias=False)\n",
              "        (bn3): BatchNorm2d(512, eps=1e-05, momentum=0.1, affine=True, track_running_stats=True)\n",
              "        (relu): ReLU(inplace=True)\n",
              "        (downsample): Sequential(\n",
              "          (0): Conv2d(256, 512, kernel_size=(1, 1), stride=(2, 2), bias=False)\n",
              "          (1): BatchNorm2d(512, eps=1e-05, momentum=0.1, affine=True, track_running_stats=True)\n",
              "        )\n",
              "      )\n",
              "      (1): Bottleneck(\n",
              "        (conv1): Conv2d(512, 128, kernel_size=(1, 1), stride=(1, 1), bias=False)\n",
              "        (bn1): BatchNorm2d(128, eps=1e-05, momentum=0.1, affine=True, track_running_stats=True)\n",
              "        (conv2): Conv2d(128, 128, kernel_size=(3, 3), stride=(1, 1), padding=(1, 1), bias=False)\n",
              "        (bn2): BatchNorm2d(128, eps=1e-05, momentum=0.1, affine=True, track_running_stats=True)\n",
              "        (conv3): Conv2d(128, 512, kernel_size=(1, 1), stride=(1, 1), bias=False)\n",
              "        (bn3): BatchNorm2d(512, eps=1e-05, momentum=0.1, affine=True, track_running_stats=True)\n",
              "        (relu): ReLU(inplace=True)\n",
              "      )\n",
              "      (2): Bottleneck(\n",
              "        (conv1): Conv2d(512, 128, kernel_size=(1, 1), stride=(1, 1), bias=False)\n",
              "        (bn1): BatchNorm2d(128, eps=1e-05, momentum=0.1, affine=True, track_running_stats=True)\n",
              "        (conv2): Conv2d(128, 128, kernel_size=(3, 3), stride=(1, 1), padding=(1, 1), bias=False)\n",
              "        (bn2): BatchNorm2d(128, eps=1e-05, momentum=0.1, affine=True, track_running_stats=True)\n",
              "        (conv3): Conv2d(128, 512, kernel_size=(1, 1), stride=(1, 1), bias=False)\n",
              "        (bn3): BatchNorm2d(512, eps=1e-05, momentum=0.1, affine=True, track_running_stats=True)\n",
              "        (relu): ReLU(inplace=True)\n",
              "      )\n",
              "      (3): Bottleneck(\n",
              "        (conv1): Conv2d(512, 128, kernel_size=(1, 1), stride=(1, 1), bias=False)\n",
              "        (bn1): BatchNorm2d(128, eps=1e-05, momentum=0.1, affine=True, track_running_stats=True)\n",
              "        (conv2): Conv2d(128, 128, kernel_size=(3, 3), stride=(1, 1), padding=(1, 1), bias=False)\n",
              "        (bn2): BatchNorm2d(128, eps=1e-05, momentum=0.1, affine=True, track_running_stats=True)\n",
              "        (conv3): Conv2d(128, 512, kernel_size=(1, 1), stride=(1, 1), bias=False)\n",
              "        (bn3): BatchNorm2d(512, eps=1e-05, momentum=0.1, affine=True, track_running_stats=True)\n",
              "        (relu): ReLU(inplace=True)\n",
              "      )\n",
              "    )\n",
              "    (6): Sequential(\n",
              "      (0): Bottleneck(\n",
              "        (conv1): Conv2d(512, 256, kernel_size=(1, 1), stride=(1, 1), bias=False)\n",
              "        (bn1): BatchNorm2d(256, eps=1e-05, momentum=0.1, affine=True, track_running_stats=True)\n",
              "        (conv2): Conv2d(256, 256, kernel_size=(3, 3), stride=(2, 2), padding=(1, 1), bias=False)\n",
              "        (bn2): BatchNorm2d(256, eps=1e-05, momentum=0.1, affine=True, track_running_stats=True)\n",
              "        (conv3): Conv2d(256, 1024, kernel_size=(1, 1), stride=(1, 1), bias=False)\n",
              "        (bn3): BatchNorm2d(1024, eps=1e-05, momentum=0.1, affine=True, track_running_stats=True)\n",
              "        (relu): ReLU(inplace=True)\n",
              "        (downsample): Sequential(\n",
              "          (0): Conv2d(512, 1024, kernel_size=(1, 1), stride=(2, 2), bias=False)\n",
              "          (1): BatchNorm2d(1024, eps=1e-05, momentum=0.1, affine=True, track_running_stats=True)\n",
              "        )\n",
              "      )\n",
              "      (1): Bottleneck(\n",
              "        (conv1): Conv2d(1024, 256, kernel_size=(1, 1), stride=(1, 1), bias=False)\n",
              "        (bn1): BatchNorm2d(256, eps=1e-05, momentum=0.1, affine=True, track_running_stats=True)\n",
              "        (conv2): Conv2d(256, 256, kernel_size=(3, 3), stride=(1, 1), padding=(1, 1), bias=False)\n",
              "        (bn2): BatchNorm2d(256, eps=1e-05, momentum=0.1, affine=True, track_running_stats=True)\n",
              "        (conv3): Conv2d(256, 1024, kernel_size=(1, 1), stride=(1, 1), bias=False)\n",
              "        (bn3): BatchNorm2d(1024, eps=1e-05, momentum=0.1, affine=True, track_running_stats=True)\n",
              "        (relu): ReLU(inplace=True)\n",
              "      )\n",
              "      (2): Bottleneck(\n",
              "        (conv1): Conv2d(1024, 256, kernel_size=(1, 1), stride=(1, 1), bias=False)\n",
              "        (bn1): BatchNorm2d(256, eps=1e-05, momentum=0.1, affine=True, track_running_stats=True)\n",
              "        (conv2): Conv2d(256, 256, kernel_size=(3, 3), stride=(1, 1), padding=(1, 1), bias=False)\n",
              "        (bn2): BatchNorm2d(256, eps=1e-05, momentum=0.1, affine=True, track_running_stats=True)\n",
              "        (conv3): Conv2d(256, 1024, kernel_size=(1, 1), stride=(1, 1), bias=False)\n",
              "        (bn3): BatchNorm2d(1024, eps=1e-05, momentum=0.1, affine=True, track_running_stats=True)\n",
              "        (relu): ReLU(inplace=True)\n",
              "      )\n",
              "      (3): Bottleneck(\n",
              "        (conv1): Conv2d(1024, 256, kernel_size=(1, 1), stride=(1, 1), bias=False)\n",
              "        (bn1): BatchNorm2d(256, eps=1e-05, momentum=0.1, affine=True, track_running_stats=True)\n",
              "        (conv2): Conv2d(256, 256, kernel_size=(3, 3), stride=(1, 1), padding=(1, 1), bias=False)\n",
              "        (bn2): BatchNorm2d(256, eps=1e-05, momentum=0.1, affine=True, track_running_stats=True)\n",
              "        (conv3): Conv2d(256, 1024, kernel_size=(1, 1), stride=(1, 1), bias=False)\n",
              "        (bn3): BatchNorm2d(1024, eps=1e-05, momentum=0.1, affine=True, track_running_stats=True)\n",
              "        (relu): ReLU(inplace=True)\n",
              "      )\n",
              "      (4): Bottleneck(\n",
              "        (conv1): Conv2d(1024, 256, kernel_size=(1, 1), stride=(1, 1), bias=False)\n",
              "        (bn1): BatchNorm2d(256, eps=1e-05, momentum=0.1, affine=True, track_running_stats=True)\n",
              "        (conv2): Conv2d(256, 256, kernel_size=(3, 3), stride=(1, 1), padding=(1, 1), bias=False)\n",
              "        (bn2): BatchNorm2d(256, eps=1e-05, momentum=0.1, affine=True, track_running_stats=True)\n",
              "        (conv3): Conv2d(256, 1024, kernel_size=(1, 1), stride=(1, 1), bias=False)\n",
              "        (bn3): BatchNorm2d(1024, eps=1e-05, momentum=0.1, affine=True, track_running_stats=True)\n",
              "        (relu): ReLU(inplace=True)\n",
              "      )\n",
              "      (5): Bottleneck(\n",
              "        (conv1): Conv2d(1024, 256, kernel_size=(1, 1), stride=(1, 1), bias=False)\n",
              "        (bn1): BatchNorm2d(256, eps=1e-05, momentum=0.1, affine=True, track_running_stats=True)\n",
              "        (conv2): Conv2d(256, 256, kernel_size=(3, 3), stride=(1, 1), padding=(1, 1), bias=False)\n",
              "        (bn2): BatchNorm2d(256, eps=1e-05, momentum=0.1, affine=True, track_running_stats=True)\n",
              "        (conv3): Conv2d(256, 1024, kernel_size=(1, 1), stride=(1, 1), bias=False)\n",
              "        (bn3): BatchNorm2d(1024, eps=1e-05, momentum=0.1, affine=True, track_running_stats=True)\n",
              "        (relu): ReLU(inplace=True)\n",
              "      )\n",
              "    )\n",
              "    (7): Sequential(\n",
              "      (0): Bottleneck(\n",
              "        (conv1): Conv2d(1024, 512, kernel_size=(1, 1), stride=(1, 1), bias=False)\n",
              "        (bn1): BatchNorm2d(512, eps=1e-05, momentum=0.1, affine=True, track_running_stats=True)\n",
              "        (conv2): Conv2d(512, 512, kernel_size=(3, 3), stride=(2, 2), padding=(1, 1), bias=False)\n",
              "        (bn2): BatchNorm2d(512, eps=1e-05, momentum=0.1, affine=True, track_running_stats=True)\n",
              "        (conv3): Conv2d(512, 2048, kernel_size=(1, 1), stride=(1, 1), bias=False)\n",
              "        (bn3): BatchNorm2d(2048, eps=1e-05, momentum=0.1, affine=True, track_running_stats=True)\n",
              "        (relu): ReLU(inplace=True)\n",
              "        (downsample): Sequential(\n",
              "          (0): Conv2d(1024, 2048, kernel_size=(1, 1), stride=(2, 2), bias=False)\n",
              "          (1): BatchNorm2d(2048, eps=1e-05, momentum=0.1, affine=True, track_running_stats=True)\n",
              "        )\n",
              "      )\n",
              "      (1): Bottleneck(\n",
              "        (conv1): Conv2d(2048, 512, kernel_size=(1, 1), stride=(1, 1), bias=False)\n",
              "        (bn1): BatchNorm2d(512, eps=1e-05, momentum=0.1, affine=True, track_running_stats=True)\n",
              "        (conv2): Conv2d(512, 512, kernel_size=(3, 3), stride=(1, 1), padding=(1, 1), bias=False)\n",
              "        (bn2): BatchNorm2d(512, eps=1e-05, momentum=0.1, affine=True, track_running_stats=True)\n",
              "        (conv3): Conv2d(512, 2048, kernel_size=(1, 1), stride=(1, 1), bias=False)\n",
              "        (bn3): BatchNorm2d(2048, eps=1e-05, momentum=0.1, affine=True, track_running_stats=True)\n",
              "        (relu): ReLU(inplace=True)\n",
              "      )\n",
              "      (2): Bottleneck(\n",
              "        (conv1): Conv2d(2048, 512, kernel_size=(1, 1), stride=(1, 1), bias=False)\n",
              "        (bn1): BatchNorm2d(512, eps=1e-05, momentum=0.1, affine=True, track_running_stats=True)\n",
              "        (conv2): Conv2d(512, 512, kernel_size=(3, 3), stride=(1, 1), padding=(1, 1), bias=False)\n",
              "        (bn2): BatchNorm2d(512, eps=1e-05, momentum=0.1, affine=True, track_running_stats=True)\n",
              "        (conv3): Conv2d(512, 2048, kernel_size=(1, 1), stride=(1, 1), bias=False)\n",
              "        (bn3): BatchNorm2d(2048, eps=1e-05, momentum=0.1, affine=True, track_running_stats=True)\n",
              "        (relu): ReLU(inplace=True)\n",
              "      )\n",
              "    )\n",
              "  )\n",
              "  (gap): AdaptiveAvgPool2d(output_size=(1, 1))\n",
              "  (gmp): AdaptiveMaxPool2d(output_size=(1, 1))\n",
              "  (dropout): Dropout(p=0.5, inplace=False)\n",
              "  (fc): Linear(in_features=4096, out_features=18, bias=True)\n",
              ")"
            ]
          },
          "execution_count": 28,
          "metadata": {},
          "output_type": "execute_result"
        }
      ],
      "source": [
        "torch_proposed_model = ProposedResNet(torch_proposed).to(device)\n",
        "\n",
        "torch_proposed_model.load_state_dict(torch.load(\"./saved_models/PREFINAL/weights/torch_weights_BESTproposedwithUNETmergedlayer4dp5b32notauglr001enhancedvallacc99testacc99-03traintime8m10sepoch5ratio70_30ratioNOBatchNormNOOVERFIT.pth\", map_location=device))\n",
        "\n",
        "# Set the model to evaluation mode\n",
        "torch_proposed_model.eval()"
      ]
    },
    {
      "cell_type": "markdown",
      "metadata": {},
      "source": [
        "# OTHER MODELS"
      ]
    },
    {
      "cell_type": "markdown",
      "metadata": {},
      "source": [
        "**VGG016**"
      ]
    },
    {
      "cell_type": "code",
      "execution_count": null,
      "metadata": {},
      "outputs": [],
      "source": [
        "# Model Definition\n",
        "from torchvision.models import vgg16\n",
        "torch.cuda.empty_cache()\n",
        "\n",
        "torch_vgg_model = vgg16(weights=\"IMAGENET1K_V1\")\n",
        "\n",
        "# Modify the classifier to match the number of classes\n",
        "torch_vgg_model.classifier[6] = nn.Linear(4096, 18)\n",
        "\n",
        "# Freeze all layers except the classifier\n",
        "for param in torch_vgg_model.features.parameters():\n",
        "    param.requires_grad = False\n",
        "\n",
        "# for name, param in torch_vgg_model.named_parameters():\n",
        "#     print(f\"Parameter: {name}, Trainable: {param.requires_grad}\")\n",
        "\n",
        "torch_vgg_model = torch_vgg_model.to(device)\n",
        "\n",
        "# Loss function and optimizer\n",
        "criterion = nn.CrossEntropyLoss()\n",
        "optimizer = optim.Adamax(filter(lambda p: p.requires_grad, torch_vgg_model.parameters()), lr=0.001)\n",
        "\n",
        "\n",
        "# Train the model\n",
        "vgg_history = train_and_validate(torch_vgg_model, criterion, optimizer, train_loader, test_loader, device, num_epochs=5)\n"
      ]
    },
    {
      "cell_type": "markdown",
      "metadata": {},
      "source": [
        "**INCEPTION**"
      ]
    },
    {
      "cell_type": "code",
      "execution_count": null,
      "metadata": {},
      "outputs": [],
      "source": [
        "# Model Definition\n",
        "from torchvision.models import inception_v3 \n",
        "torch.cuda.empty_cache()\n",
        "torch_inception_model = inception_v3(weights=\"IMAGENET1K_V1\")\n",
        "\n",
        "# Modify the classifier to match the number of classes\n",
        "torch_inception_model.fc = nn.Linear(torch_inception_model.fc.in_features, 18)\n",
        "\n",
        "# Freeze all layers except the classifier\n",
        "for param in torch_inception_model.parameters():\n",
        "    param.requires_grad = False\n",
        "\n",
        "for param in torch_inception_model.fc.parameters():\n",
        "    param.requires_grad = True\n",
        "\n",
        "torch_inception_model = torch_inception_model.to(device)\n",
        "\n",
        "# Loss function and optimizer\n",
        "criterion = nn.CrossEntropyLoss()\n",
        "optimizer = optim.Adamax(torch_inception_model.fc.parameters(), lr=0.001)\n",
        "\n",
        "# Train the model\n",
        "inception_history = train_and_validate(torch_inception_model, criterion, optimizer, train_loader, test_loader, device, num_epochs=5)\n"
      ]
    },
    {
      "cell_type": "markdown",
      "metadata": {},
      "source": [
        "**Dense Net**"
      ]
    },
    {
      "cell_type": "code",
      "execution_count": null,
      "metadata": {},
      "outputs": [],
      "source": [
        "# Model Definition\n",
        "torch_densenet_model = models.densenet121(weights=\"IMAGENET1K_V1\")\n",
        "\n",
        "# Modify the classifier to match the number of classes\n",
        "num_features = torch_densenet_model.classifier.in_features\n",
        "\n",
        "\n",
        "# Freeze all layers except the classifier\n",
        "for param in torch_densenet_model.features.parameters():\n",
        "    param.requires_grad = False\n",
        "# Train the model\n",
        "torch_densenet_model.classifier = nn.Linear(num_features, 18)\n",
        "\n",
        "optimizer = optim.Adamax(torch_densenet_model.parameters(), lr=0.001)\n",
        "criterion = nn.CrossEntropyLoss()\n",
        "# Loss function and optimizer\n",
        "\n",
        "torch_densenet_model = torch_densenet_model.to(device)\n",
        "\n",
        "densenet_history = train_and_validate(torch_densenet_model, criterion, optimizer, train_loader, test_loader, device, num_epochs=5)\n",
        "\n",
        "\n"
      ]
    },
    {
      "cell_type": "markdown",
      "metadata": {},
      "source": [
        "# TRAIN TEST SPLIT DO NOT RUN"
      ]
    },
    {
      "cell_type": "code",
      "execution_count": null,
      "metadata": {},
      "outputs": [],
      "source": [
        "import os\n",
        "import shutil\n",
        "import random\n",
        "\n",
        "# Paths to your dataset folders\n",
        "\n",
        "\n",
        "# Desired split ratio\n",
        "train_ratio = 0.7\n",
        "val_ratio = 0.2\n",
        "test_ratio = 0.1\n",
        "\n",
        "finished_folders = ['Acanthurus Nigrofuscus', 'Canthigaster Valentini', 'Chaetodon Trifascialis',\n",
        "                    'Hemigymnus Fasciatus', 'Neoniphon Sammara', 'Pomacentrus Moluccensis',\n",
        "                    'Myripristis Kuntee', 'Lutjanus fulvus'] \n",
        "\n",
        "skip_classes = ['class_to_skip_1', 'class_to_skip_2']\n",
        "\n",
        "# Create Validation and Test subdirectories with class subfolders\n",
        "def create_folders(src_dir, dest_dir):\n",
        "    if not os.path.exists(dest_dir):\n",
        "        os.makedirs(dest_dir)\n",
        "    for class_folder in os.listdir(src_dir):\n",
        "        if class_folder in finished_folders:\n",
        "            continue\n",
        "   \n",
        "        class_path = os.path.join(dest_dir, class_folder)\n",
        "        if not os.path.exists(class_path):\n",
        "            os.makedirs(class_path)\n",
        "\n",
        "create_folders(train_dir, validation_dir)\n",
        "create_folders(train_dir, test_dir)\n",
        "\n",
        "# Function to split data\n",
        "def split_data(src_dir, val_dir, test_dir, train_ratio, val_ratio, test_ratio):\n",
        "    for class_folder in os.listdir(src_dir):\n",
        "        if class_folder in finished_folders:\n",
        "            continue\n",
        "\n",
        "        class_path = os.path.join(src_dir, class_folder)\n",
        "        images = os.listdir(class_path)\n",
        "        random.shuffle(images)\n",
        "\n",
        "        # Calculate the split index\n",
        "        total_images = len(images)\n",
        "        train_count = int(total_images * train_ratio)\n",
        "        val_count = int(total_images * val_ratio)\n",
        "        \n",
        "        # Split images into train, val, test\n",
        "        train_images = images[:train_count]\n",
        "        val_images = images[train_count:train_count + val_count]\n",
        "        test_images = images[train_count + val_count:]\n",
        "        \n",
        "        # Move validation images\n",
        "        for image in val_images:\n",
        "            src_image_path = os.path.join(class_path, image)\n",
        "            dest_image_path = os.path.join(val_dir, class_folder, image)\n",
        "            shutil.move(src_image_path, dest_image_path)\n",
        "        \n",
        "        # Move test images\n",
        "        for image in test_images:\n",
        "            src_image_path = os.path.join(class_path, image)\n",
        "            dest_image_path = os.path.join(test_dir, class_folder, image)\n",
        "            shutil.move(src_image_path, dest_image_path)\n",
        "\n",
        "# Split the dataset\n",
        "split_data(train_dir, validation_dir, test_dir, train_ratio, val_ratio, test_ratio)\n"
      ]
    }
  ],
  "metadata": {
    "colab": {
      "provenance": [],
      "toc_visible": true
    },
    "kernelspec": {
      "display_name": "venv",
      "language": "python",
      "name": "python3"
    },
    "language_info": {
      "codemirror_mode": {
        "name": "ipython",
        "version": 3
      },
      "file_extension": ".py",
      "mimetype": "text/x-python",
      "name": "python",
      "nbconvert_exporter": "python",
      "pygments_lexer": "ipython3",
      "version": "3.12.5"
    }
  },
  "nbformat": 4,
  "nbformat_minor": 0
}
