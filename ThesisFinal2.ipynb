{
  "cells": [
    {
      "cell_type": "markdown",
      "metadata": {
        "id": "2aE2ZLtysudb"
      },
      "source": [
        "# Imports"
      ]
    },
    {
      "cell_type": "code",
      "execution_count": 1,
      "metadata": {
        "id": "2PUCYLbwlJuH"
      },
      "outputs": [
        {
          "name": "stdout",
          "output_type": "stream",
          "text": [
            "2.18.0\n",
            "Using device: cuda\n"
          ]
        }
      ],
      "source": [
        "import tensorflow as tf\n",
        "import random\n",
        "import torch\n",
        "import torch.nn as nn\n",
        "import torch.optim as optim\n",
        "from torchvision import models\n",
        "from torch.utils.data import DataLoader\n",
        "from torchvision import datasets, transforms\n",
        "from torchvision.models import resnet50\n",
        "\n",
        "import numpy as np\n",
        "# import tensorflow_hub as hub\n",
        "from PIL import Image\n",
        "from sklearn.model_selection import train_test_split\n",
        "import os\n",
        "import time\n",
        "from sklearn.metrics import classification_report, accuracy_score, f1_score, precision_score, recall_score\n",
        "import matplotlib.pyplot as plt\n",
        "import pickle\n",
        "from sklearn.utils import class_weight\n",
        "import os\n",
        "os.environ[\"SM_FRAMEWORK\"] = \"tf.keras\"\n",
        "import cv2\n",
        "import glob\n",
        "\n",
        "print(tf.__version__)\n",
        "\n",
        "device = torch.device(\"cuda\" if torch.cuda.is_available() else \"cpu\")\n",
        "\n",
        "print(f\"Using device: {device}\")\n",
        "\n",
        "\n"
      ]
    },
    {
      "cell_type": "markdown",
      "metadata": {},
      "source": [
        "**FUNCTIONS**"
      ]
    },
    {
      "cell_type": "code",
      "execution_count": 30,
      "metadata": {},
      "outputs": [],
      "source": [
        "import torch.nn.functional as F\n",
        "\n",
        "def train_and_validate(model, criterion, optimizer, train_loader, val_loader, device, num_epochs=5):\n",
        "    history = {\n",
        "        \"epoch\": [],\n",
        "        \"train_loss\": [],\n",
        "        \"train_accuracy\": [],\n",
        "        \"val_loss\": [],\n",
        "        \"val_accuracy\": []\n",
        "    }\n",
        "\n",
        "    # scheduler = CosineAnnealingLR(optimizer, T_max=num_epochs, eta_min=0)\n",
        "    for epoch in range(num_epochs):\n",
        "        # Training Phase\n",
        "        model.train()\n",
        "        train_loss, correct, total = 0.0, 0, 0\n",
        "\n",
        "        # lr = optimizer.param_groups[0]['lr']\n",
        "\n",
        "        print(f\"=====================================Epoch: {epoch + 1} / {num_epochs}=====================================\")\n",
        "        train_progress = tqdm(train_loader, total=len(train_loader), leave=True)\n",
        "\n",
        "        for images, labels in train_progress:\n",
        "            images, labels = images.to(device), labels.to(device)\n",
        "            optimizer.zero_grad()\n",
        "            outputs = model(images)\n",
        "            loss = criterion(outputs, labels)\n",
        "            loss.backward()\n",
        "            optimizer.step()\n",
        "\n",
        "            train_loss += loss.item() * images.size(0)\n",
        "            _, predicted = outputs.max(1)\n",
        "            total += labels.size(0)\n",
        "            correct += predicted.eq(labels).sum().item()\n",
        "            \n",
        "            train_progress.set_description(f'[TRAIN] ')\n",
        "            \n",
        "        train_loss /= len(train_loader.dataset)\n",
        "        train_acc = correct / total\n",
        "\n",
        "        # Validation Phase\n",
        "        model.eval()\n",
        "        val_loss, correct, total = 0.0, 0, 0\n",
        "\n",
        "        val_progress = tqdm(val_loader, total=len(val_loader), leave=True)\n",
        "        with torch.no_grad():\n",
        "            for inputs, labels in val_progress:\n",
        "                inputs, labels = inputs.to(device), labels.to(device)\n",
        "                outputs = model(inputs)\n",
        "                loss = criterion(outputs, labels)\n",
        "                val_loss += loss.item() * inputs.size(0) # 1\n",
        "\n",
        "                probs = F.softmax(outputs, dim=1) # 3\n",
        "                _, predicted = torch.max(probs, 1)\n",
        "                correct += predicted.eq(labels).sum().item()\n",
        "                total += labels.size(0)\n",
        "\n",
        "                val_progress.set_description(f'[VALID] ')\n",
        "\n",
        "        val_loss /= len(val_loader.dataset) # 2\n",
        "        val_acc = correct / total\n",
        "\n",
        "        print(f'=> Train Loss={train_loss:.4f}, Val Loss={val_loss:.4f} |  Train Acc={train_acc:.4f},  Val Acc={val_acc:.4f}')\n",
        "\n",
        "        history[\"epoch\"].append(epoch + 1)\n",
        "        history[\"train_loss\"].append(train_loss)\n",
        "        history[\"train_accuracy\"].append(train_acc)\n",
        "        history[\"val_loss\"].append(val_loss)\n",
        "        history[\"val_accuracy\"].append(val_acc)\n",
        "\n",
        "        # scheduler.step()\n",
        "\n",
        "    \n",
        "    return history\n",
        "\n",
        "def preprocess_image(image_path):\n",
        "  \"\"\" Loads image from path and preprocesses to make it model ready\n",
        "      Args:\n",
        "        image_path: Path to the image file\n",
        "  \"\"\"\n",
        "  hr_image = tf.image.decode_image(tf.io.read_file(image_path))\n",
        "  # If PNG, remove the alpha channel. The model only supports\n",
        "  # images with 3 color channels.\n",
        "  if hr_image.shape[-1] == 4:\n",
        "    hr_image = hr_image[...,:-1]\n",
        "  hr_size = (tf.convert_to_tensor(hr_image.shape[:-1]) // 4) * 4\n",
        "  hr_image = tf.image.crop_to_bounding_box(hr_image, 0, 0, hr_size[0], hr_size[1])\n",
        "  hr_image = tf.cast(hr_image, tf.float32)\n",
        "  return tf.expand_dims(hr_image, 0)\n",
        "\n",
        "\n",
        "def plot_hist(train_loss_hist, test_loss_hist, train_acc_hist, test_acc_hist):    \n",
        "    plt.figure(figsize=(15,4))\n",
        "    plt.subplot(1,2,1)\n",
        "    plt.plot(train_loss_hist, label='Train_Loss')\n",
        "    plt.plot(test_loss_hist, label='Test_loss')\n",
        "    plt.title('Cross Entropy Loss')\n",
        "    plt.legend()\n",
        "    \n",
        "    plt.subplot(1,2,2)\n",
        "    plt.plot(train_acc_hist, label='Train_Accuracy')\n",
        "    plt.plot(test_acc_hist, label='Val_Accuracy')\n",
        "    plt.title('Accuracy')\n",
        "    plt.legend()\n",
        "    plt.show()\n",
        "\n",
        "def preprocess_image2(image):\n",
        "    \"\"\" \n",
        "    Preprocesses an image tensor to make it model ready.\n",
        "    Args:\n",
        "        image: Tensor representing the image.\n",
        "    \"\"\"\n",
        "    # If PNG and has 4 channels, remove the alpha channel.\n",
        "    if image.shape[-1] == 4:\n",
        "        image = image[..., :-1]\n",
        "    \n",
        "    # Ensure the height and width are divisible by 4\n",
        "    hr_size = (tf.convert_to_tensor(image.shape[:-1]) // 4) * 4\n",
        "    image = tf.image.crop_to_bounding_box(image, 0, 0, hr_size[0], hr_size[1])\n",
        "    \n",
        "    # Cast image to float32\n",
        "    image = tf.cast(image, tf.float32)\n",
        "    \n",
        "    # Add batch dimension\n",
        "    return tf.expand_dims(image, 0)\n",
        "\n",
        "def save_image(image, filename):\n",
        "  \"\"\"\n",
        "    Saves unscaled Tensor Images.\n",
        "    Args:\n",
        "      image: 3D image tensor. [height, width, channels]\n",
        "      filename: Name of the file to save.\n",
        "  \"\"\"\n",
        "  if not isinstance(image, Image.Image):\n",
        "    image = tf.clip_by_value(image, 0, 255)\n",
        "    image = Image.fromarray(tf.cast(image, tf.uint8).numpy())\n",
        "  image.save(\"%s.jpg\" % filename)\n",
        "  print(\"Saved as %s.jpg\" % filename)\n",
        "\n",
        "  \n",
        "\n",
        "def pad_to_square(image):\n",
        "    # Get original dimensions\n",
        "    old_h, old_w = image.shape[:2]\n",
        "    \n",
        "    # Find the larger dimension to make the image square\n",
        "    max_dim = max(old_h, old_w)\n",
        "    \n",
        "    # Calculate padding\n",
        "    pad_h = (max_dim - old_h) // 2\n",
        "    pad_w = (max_dim - old_w) // 2\n",
        "    \n",
        "    # Ensure padding is non-negative and compatible\n",
        "    padded_image = tf.image.pad_to_bounding_box(image, pad_h, pad_w, max_dim, max_dim)\n",
        "    \n",
        "    # Handle any excess due to rounding differences\n",
        "    padded_image = tf.image.resize_with_crop_or_pad(padded_image, max_dim, max_dim)\n",
        "    \n",
        "    return padded_image\n",
        "\n",
        "def get_image_index(file_name, image_dir=\"./data/DATASET/TRAIN_UNET/enhanced_images/*.jpg\"):\n",
        "    \"\"\"\n",
        "    Retrieves the index of an image file name in the list of loaded images.\n",
        "    \n",
        "    Args:\n",
        "        file_name (str): The file name of the image (e.g., 'image1.jpg').\n",
        "        image_dir (str): The directory path of the images.\n",
        "\n",
        "    Returns:\n",
        "        int: The index of the image in the list of images, or -1 if not found.\n",
        "    \"\"\"\n",
        "    for idx, img_path in enumerate(glob.glob(image_dir)):\n",
        "        if file_name in img_path:\n",
        "            return idx\n",
        "    return -1\n",
        "\n",
        "%matplotlib inline\n",
        "def plot_image(image, title=\"\"):\n",
        "  \"\"\"\n",
        "    Plots images from image tensors.\n",
        "    Args:\n",
        "      image: 3D image tensor. [height, width, channels].\n",
        "      title: Title to display in the plot.\n",
        "  \"\"\"\n",
        "  image = np.asarray(image)\n",
        "  image = tf.clip_by_value(image, 0, 255)\n",
        "  image = Image.fromarray(tf.cast(image, tf.uint8).numpy())\n",
        "  plt.imshow(image)\n",
        "  plt.axis(\"off\")\n",
        "  plt.title(title)\n",
        "\n",
        "from tqdm import tqdm\n",
        "\n",
        "# Training and evaluation loop\n",
        "def train_model(model, dataloader, val_dataloader, optimizer, criterion, epochs, device):\n",
        "    # Initialize lists to store metrics for each epoch\n",
        "    train_losses = []\n",
        "    val_losses = []\n",
        "    train_accuracies = []\n",
        "    val_accuracies = []\n",
        "\n",
        "    for epoch in range(epochs):\n",
        "        model.train()\n",
        "        running_loss = 0.0\n",
        "        correct = 0\n",
        "        total = 0\n",
        "\n",
        "        # Create a tqdm progress bar for the dataloader\n",
        "        progress_bar = tqdm(dataloader, desc=f\"Epoch {epoch + 1}/{epochs}\", ncols=100, unit=\"batch\")\n",
        "\n",
        "        for inputs, labels in progress_bar:\n",
        "            inputs, labels = inputs.to(device), labels.to(device)\n",
        "\n",
        "            # Forward pass\n",
        "            optimizer.zero_grad()\n",
        "            outputs = model(inputs)\n",
        "            loss = criterion(outputs, labels)\n",
        "\n",
        "            # Backward pass and optimization\n",
        "            loss.backward()\n",
        "            optimizer.step()\n",
        "\n",
        "            running_loss += loss.item()\n",
        "            _, predicted = torch.max(outputs, 1)\n",
        "            correct += (predicted == labels).sum().item()\n",
        "            total += labels.size(0)\n",
        "\n",
        "            # Update progress bar with loss and accuracy\n",
        "            progress_bar.set_postfix(loss=running_loss/total, accuracy=correct/total)\n",
        "\n",
        "        # Calculate training accuracy\n",
        "        train_loss = running_loss / len(dataloader)\n",
        "        train_acc = correct / total\n",
        "\n",
        "        # Evaluate on the validation set\n",
        "        val_acc, val_loss = evaluate_model(model, val_dataloader, criterion)\n",
        "\n",
        "        # Save metrics for this epoch\n",
        "        train_losses.append(train_loss)\n",
        "        train_accuracies.append(train_acc)\n",
        "        val_losses.append(val_loss)\n",
        "        val_accuracies.append(val_acc)\n",
        "\n",
        "        print(f\"Epoch {epoch + 1}/{epochs}: Train Loss={train_loss:.4f}, Train Acc={train_acc:.4f}, Val Loss={val_loss:.4f}, Val Acc={val_acc:.4f}\")\n",
        "\n",
        "    # Return the history for further processing (such as saving or plotting)\n",
        "    history = {\n",
        "        'epoch': range(1, epochs + 1),\n",
        "        'train_loss': train_losses,\n",
        "        'val_loss': val_losses,\n",
        "        'train_accuracy': train_accuracies,\n",
        "        'val_accuracy': val_accuracies\n",
        "    }\n",
        "\n",
        "    return history  # Return the history dictionary\n",
        "\n",
        "\n",
        "# Evaluation loop\n",
        "def evaluate_model(model, dataloader, criterion):\n",
        "    model.eval()\n",
        "    val_loss = 0.0\n",
        "    correct = 0\n",
        "    total = 0\n",
        "\n",
        "    with torch.no_grad():\n",
        "        for inputs, labels in dataloader:\n",
        "            inputs, labels = inputs.to(device), labels.to(device)\n",
        "            outputs = model(inputs)\n",
        "            loss = criterion(outputs, labels)\n",
        "            val_loss += loss.item()\n",
        "\n",
        "            probs = F.softmax(outputs, dim=1)\n",
        "            _, predicted = torch.max(probs, 1)\n",
        "            correct += (predicted == labels).sum().item()\n",
        "            total += labels.size(0)\n",
        "\n",
        "    val_acc = correct / total\n",
        "    return val_acc, val_loss / len(dataloader)\n",
        "\n",
        "def test_model(model, test_dataloader):\n",
        "    model.eval()\n",
        "    y_true = []\n",
        "    y_pred = []\n",
        "\n",
        "    with torch.no_grad():\n",
        "        for inputs, labels in test_dataloader:\n",
        "            inputs, labels = inputs.to(device), labels.to(device)\n",
        "            outputs = model(inputs)\n",
        "            _, predicted = torch.max(outputs, 1)\n",
        "\n",
        "            y_true.extend(labels.cpu().numpy())\n",
        "            y_pred.extend(predicted.cpu().numpy())\n",
        "\n",
        "    return y_true, y_pred\n",
        "\n",
        "# Define the function for predicting and measuring speed\n",
        "def predict_image(model, image_path, device, class_labels):\n",
        "    # Load and preprocess the image\n",
        "    image = Image.open(image_path).convert('RGB')\n",
        "    transform = transforms.Compose([\n",
        "        transforms.Resize((224, 224)),  # Resize to match model input size\n",
        "        transforms.ToTensor(),\n",
        "        transforms.Normalize(mean=[0.485, 0.456, 0.406], std=[0.229, 0.224, 0.225])  # Normalize as per ResNet's requirements\n",
        "    ])\n",
        "    image = transform(image).unsqueeze(0)  # Add batch dimension\n",
        "\n",
        "    # Move the image to the same device as the model\n",
        "    image = image.to(device)\n",
        "\n",
        "    # Start time for inference\n",
        "    start_time = time.time()\n",
        "\n",
        "    # Perform inference\n",
        "    model.eval()\n",
        "    with torch.no_grad():\n",
        "        outputs = model(image)\n",
        "\n",
        "    # Calculate prediction probabilities using softmax\n",
        "    probabilities = torch.nn.functional.softmax(outputs, dim=1)\n",
        "\n",
        "    # Get the predicted class and its probability\n",
        "    predicted_class_index = probabilities.argmax().item()\n",
        "    predicted_class = class_labels[predicted_class_index]\n",
        "    prediction_time = time.time() - start_time\n",
        "\n",
        "    return predicted_class, prediction_time, probabilities[0]  # Return class, time, and probabilities\n",
        "\n",
        "def predict_image_with_debug(model, image_path, device, class_labels):\n",
        "    image = Image.open(image_path).convert('RGB')\n",
        "    transform = transforms.Compose([\n",
        "        transforms.Resize((224, 224)),\n",
        "        transforms.ToTensor(),\n",
        "        transforms.Normalize(mean=[0.485, 0.456, 0.406], std=[0.229, 0.224, 0.225])\n",
        "    ])\n",
        "    image = transform(image).unsqueeze(0).to(device)\n",
        "\n",
        "    # Start time for inference\n",
        "    start_time = time.time()\n",
        "\n",
        "    # Perform inference\n",
        "    model.eval()\n",
        "    with torch.no_grad():\n",
        "        logits = model(image)  # Raw logits from the model\n",
        "\n",
        "    # Print raw logits before softmax\n",
        "    print(\"Logits:\", logits)\n",
        "\n",
        "    # Calculate probabilities using softmax\n",
        "    probabilities = torch.nn.functional.softmax(logits, dim=1)\n",
        "\n",
        "    # Plot class probabilities\n",
        "    plt.bar(range(len(class_labels)), probabilities[0].cpu().numpy())\n",
        "    plt.xticks(range(len(class_labels)), class_labels, rotation=90)\n",
        "    plt.show()\n",
        "\n",
        "    # Get predicted class and its probability\n",
        "    predicted_class_index = probabilities.argmax().item()\n",
        "    predicted_class = class_labels[predicted_class_index]\n",
        "    confidence = probabilities.max().item()\n",
        "    prediction_time = time.time() - start_time\n",
        "\n",
        "    return predicted_class, confidence, prediction_time\n",
        "\n",
        "def plot_from_history(history):\n",
        "    # Extract data from the history dictionary\n",
        "    epochs = len(history['epoch'])\n",
        "    train_losses = history['train_loss']\n",
        "    val_losses = history['val_loss']\n",
        "    train_accuracies = history['train_accuracy']\n",
        "    val_accuracies = history['val_accuracy']\n",
        "\n",
        "    # Plot the metrics\n",
        "    plt.figure(figsize=(12, 6))\n",
        "\n",
        "    # Loss plot\n",
        "    plt.subplot(1, 2, 1)\n",
        "    plt.plot(range(1, epochs + 1), train_losses, label='Train Loss', color='blue')\n",
        "    plt.plot(range(1, epochs + 1), val_losses, label='Validation Loss', color='red')\n",
        "    plt.xlabel('Epoch')\n",
        "    plt.ylabel('Loss')\n",
        "    plt.title('Training and Validation Loss')\n",
        "    plt.legend()\n",
        "\n",
        "    # Accuracy plot\n",
        "    plt.subplot(1, 2, 2)\n",
        "    plt.plot(range(1, epochs + 1), train_accuracies, label='Train Accuracy', color='blue')\n",
        "    plt.plot(range(1, epochs + 1), val_accuracies, label='Validation Accuracy', color='red')\n",
        "    plt.xlabel('Epoch')\n",
        "    plt.ylabel('Accuracy')\n",
        "    plt.title('Training and Validation Accuracy')\n",
        "    plt.legend()\n",
        "\n",
        "    # Save the plot\n",
        "    plt.tight_layout()\n",
        "    plt.savefig('training_history.png')  # Save the plot as a PNG image\n",
        "    plt.show()\n",
        "    \n",
        "def get_class_labels(dataset_dir):\n",
        "    # Get all folder names in the directory, which are your class labels\n",
        "    class_labels = sorted(os.listdir(dataset_dir))  # Assuming each subfolder is a class\n",
        "    return class_labels"
      ]
    },
    {
      "cell_type": "markdown",
      "metadata": {
        "id": "D0ZinKSzn8CK"
      },
      "source": [
        "# Dataset Preparation"
      ]
    },
    {
      "cell_type": "code",
      "execution_count": 31,
      "metadata": {
        "id": "8EN9tbvv_7EB"
      },
      "outputs": [],
      "source": [
        "train_dir = './DATASET/TRAIN'\n",
        "enhancedtrain_dir = './DATASET/TRAIN_ESRGAN - ESRGAN'\n",
        "test_dir = './DATASET/TEST - mergedval'\n",
        "enhancedtest_dir = './DATASET/TEST_ESRGAN - ESRGAN-mergedval'\n",
        "validation_dir = './DATASET/VALIDATION'\n",
        "enhancedval_dir = './DATASET/VALIDATION_ESRGAN - ESRGAN'\n",
        "\n",
        "seed = 42\n",
        "np.random.seed(seed)\n",
        "random.seed(seed)\n"
      ]
    },
    {
      "cell_type": "markdown",
      "metadata": {
        "id": "KJ40ytbrAbUD"
      },
      "source": [
        "**AUGMENTED**"
      ]
    },
    {
      "cell_type": "code",
      "execution_count": 4,
      "metadata": {
        "colab": {
          "base_uri": "https://localhost:8080/"
        },
        "id": "kHIgHOnPxwSZ",
        "outputId": "b8a54fca-03e3-423b-f594-aeb2b626f4a1"
      },
      "outputs": [
        {
          "name": "stdout",
          "output_type": "stream",
          "text": [
            "Found 1679 images belonging to 18 classes.\n",
            "Found 720 images belonging to 18 classes.\n",
            "Found 720 images belonging to 18 classes.\n",
            "Found 1679 images belonging to 18 classes.\n",
            "Found 720 images belonging to 18 classes.\n",
            "Found 720 images belonging to 18 classes.\n"
          ]
        }
      ],
      "source": [
        "\n",
        "\n",
        "img_height, img_width = 224, 224\n",
        "batch_size = 32\n",
        "\n",
        "\n",
        "tf.random.set_seed(seed)\n",
        "\n",
        "\n",
        "\n",
        "# Option 1\n",
        "# train_datagen = ImageDataGenerator(\n",
        "#    rescale=1./255,\n",
        "#    rotation_range=90,\n",
        "#    shear_range=0.2,       # Random shear\n",
        "#    zoom_range=0.2,        # Random zoom\n",
        "#    brightness_range=[0.8, 1.2],  \n",
        "#    fill_mode='nearest'\n",
        "# )\n",
        "\n",
        "\n",
        "# Option 2\n",
        "# train_datagen = ImageDataGenerator(\n",
        "#    rescale=1./255,\n",
        "#    rotation_range=90,  # rotation up to 90 degrees, ensures range includes 30, 60, and 90 degrees\n",
        "#    brightness_range=[0.8, 1.2],  # light intensity adjustment\n",
        "#    horizontal_flip=True,\n",
        "#    vertical_flip=True,\n",
        "#    fill_mode='nearest'\n",
        "# )\n",
        "\n",
        "# Option 3\n",
        "# train_datagen = ImageDataGenerator(\n",
        "#     rescale=1./255,         # Scale pixel values to [0, 1]\n",
        "#     rotation_range=30,      # Random rotation\n",
        "#     width_shift_range=0.2,  # Random width shift\n",
        "#     height_shift_range=0.2, # Random height shift\n",
        "#     shear_range=0.2,       # Random shear\n",
        "#     zoom_range=0.2,        # Random zoom\n",
        "#     horizontal_flip=True,   # Random horizontal flip\n",
        "#     fill_mode='nearest'     # Fill mode for new pixels\n",
        "# )\n",
        "\n",
        "# Option 4\n",
        "train_datagen = ImageDataGenerator(\n",
        "#                                   rescale=1./255,\n",
        "#                                   zoom_range=0.2,\n",
        "#                                   rotation_range=30,\n",
        "                                   brightness_range=[0.8, 1.2],\n",
        "                                   preprocessing_function=preprocess_input,\n",
        "#                                   fill_mode='nearest',\n",
        "                                   )\n",
        "\n",
        "enhancedtrain_datagen = ImageDataGenerator(\n",
        "#                                   rescale=1./255,\n",
        "#                                   zoom_range=0.2,\n",
        "#                                   rotation_range=30,\n",
        "                                   preprocessing_function=preprocess_input,\n",
        "                                   brightness_range=[0.8, 1.2],\n",
        "#                                   fill_mode='nearest',\n",
        "                                   )\n",
        "\n",
        "\n",
        "\n",
        "test_datagen = ImageDataGenerator(preprocessing_function=preprocess_input)\n",
        "validation_datagen = ImageDataGenerator(preprocessing_function=preprocess_input)\n",
        "\n",
        "\n",
        "enhancedval_datagen = ImageDataGenerator(preprocessing_function=preprocess_input)\n",
        "enhancedtest_datagen = ImageDataGenerator(preprocessing_function=preprocess_input)\n",
        "\n",
        "train_generator = train_datagen.flow_from_directory(\n",
        "    train_dir,\n",
        "    target_size=(img_height, img_width),  \n",
        "    batch_size=batch_size,\n",
        "    class_mode='categorical',\n",
        "    shuffle=True,\n",
        "    seed=seed\n",
        ")\n",
        "\n",
        "\n",
        "validation_generator = validation_datagen.flow_from_directory(\n",
        "    test_dir,  \n",
        "    target_size=(img_height, img_width),  \n",
        "    batch_size=batch_size,\n",
        "    class_mode='categorical',\n",
        "    shuffle=False  \n",
        ")\n",
        "\n",
        "test_generator = test_datagen.flow_from_directory(\n",
        "    test_dir,\n",
        "    target_size=(img_height, img_width),  \n",
        "    batch_size=batch_size,\n",
        "    class_mode='categorical',\n",
        "    shuffle=False\n",
        ")\n",
        "\n",
        "enhancedtrain_generator = enhancedtrain_datagen.flow_from_directory(\n",
        "    enhancedtrain_dir,\n",
        "    target_size=(img_height, img_width),  \n",
        "    batch_size=batch_size,\n",
        "    class_mode='categorical',\n",
        "    shuffle=True,\n",
        "    seed=seed\n",
        ")\n",
        "\n",
        "enhancedvalidation_generator = enhancedval_datagen.flow_from_directory(\n",
        "    enhancedtest_dir,  \n",
        "    target_size=(img_height, img_width),  \n",
        "    batch_size=batch_size,\n",
        "    class_mode='categorical',\n",
        "    shuffle=False  \n",
        ")\n",
        "\n",
        "enhancedtest_generator = enhancedtest_datagen.flow_from_directory(\n",
        "    enhancedtest_dir,  \n",
        "    target_size=(img_height, img_width),  \n",
        "    batch_size=batch_size,\n",
        "    class_mode='categorical',\n",
        "    shuffle=False  \n",
        ")"
      ]
    },
    {
      "cell_type": "markdown",
      "metadata": {},
      "source": [
        "**PYTORCH**"
      ]
    },
    {
      "cell_type": "code",
      "execution_count": null,
      "metadata": {},
      "outputs": [
        {
          "name": "stdout",
          "output_type": "stream",
          "text": [
            "Number of images in training set: 1679\n",
            "Number of images in validation set: 474\n",
            "Number of images in test set: 720\n",
            "Number of images in enhanced training set: 1679\n",
            "Number of images in enhanced validation set: 474\n",
            "Number of images in enhanced test set: 720\n"
          ]
        }
      ],
      "source": [
        "\n",
        "import random\n",
        "\n",
        "from sklearn.utils import compute_class_weight\n",
        "\n",
        "# Hyperparameters\n",
        "img_height, img_width = 224, 224\n",
        "batch_size = 16\n",
        "\n",
        "device = torch.device(\"cuda\" if torch.cuda.is_available() else \"cpu\")\n",
        "\n",
        "\n",
        "torch.manual_seed(seed)\n",
        "torch.cuda.manual_seed(seed)\n",
        "torch.cuda.manual_seed_all(seed)  # For multi-GPU\n",
        "# torch.backends.cudnn.deterministic = True\n",
        "# torch.backends.cudnn.benchmark = False  # Ensures deterministic behavior\n",
        "\n",
        "\n",
        "# Data augmentation and normalization for training\n",
        "train_transform = transforms.Compose([\n",
        "    transforms.Resize((img_height, img_width)),\n",
        "    #transforms.RandomRotation(30),\n",
        "    transforms.RandomAffine(degrees=15, translate=(0.1,0.1), scale=(0.8,1.2), shear=5),\n",
        "#    transforms.ColorJitter(brightness=(0.8, 1.2)),\n",
        "    #transforms.RandomHorizontalFlip(),\n",
        "    #transforms.RandomResizedCrop((img_height, img_width), scale=(0.8, 1.0)),\n",
        "    transforms.ToTensor(),\n",
        "    transforms.Normalize([0.485, 0.456, 0.406], [0.229, 0.224, 0.225]),\n",
        "])\n",
        "\n",
        "val_test_transform = transforms.Compose([\n",
        "    transforms.Resize((img_height, img_width), interpolation=Image.BICUBIC),\n",
        "    transforms.ToTensor(),\n",
        "    transforms.Normalize([0.485, 0.456, 0.406], [0.229, 0.224, 0.225]),\n",
        "])\n",
        "\n",
        "# Load datasets\n",
        "train_dataset = datasets.ImageFolder(train_dir, transform=val_test_transform) # train transform for augmented\n",
        "val_dataset = datasets.ImageFolder(validation_dir, transform=val_test_transform)\n",
        "test_dataset = datasets.ImageFolder(test_dir, transform=val_test_transform)\n",
        "\n",
        "# Enhanced datasets\n",
        "enhanced_train_dataset = datasets.ImageFolder(enhancedtrain_dir, transform=val_test_transform) # train transform for augmented\n",
        "enhanced_val_dataset = datasets.ImageFolder(enhancedval_dir, transform=val_test_transform)\n",
        "enhanced_test_dataset = datasets.ImageFolder(enhancedtest_dir, transform=val_test_transform)\n",
        "\n",
        "# Create DataLoaders\n",
        "train_loader = DataLoader(train_dataset, batch_size=batch_size, shuffle=True, num_workers=4)\n",
        "val_loader = DataLoader(val_dataset, batch_size=batch_size, shuffle=False, num_workers=4)\n",
        "test_loader = DataLoader(test_dataset, batch_size=batch_size, shuffle=False, num_workers=4)\n",
        "\n",
        "enhanced_train_loader = DataLoader(enhanced_train_dataset, batch_size=batch_size, shuffle=True, num_workers=4)\n",
        "enhanced_val_loader = DataLoader(enhanced_val_dataset, batch_size=batch_size, shuffle=False, num_workers=4)\n",
        "enhanced_test_loader = DataLoader(enhanced_test_dataset, batch_size=batch_size, shuffle=False, num_workers=4)\n",
        "\n",
        "y_true = [sample[1] for sample in train_dataset.samples]  # Extract the labels (index 1 in each tuple)\n",
        "\n",
        "# Compute class weights based on the class distribution in y_true\n",
        "class_weights = compute_class_weight(class_weight='balanced', classes=np.unique(y_true), y=y_true)\n",
        "class_weights_tensor = torch.tensor(class_weights, dtype=torch.float).to(device)\n",
        "\n",
        "print(f\"Number of images in training set: {len(train_dataset)}\")\n",
        "print(f\"Number of images in validation set: {len(val_dataset)}\")\n",
        "print(f\"Number of images in test set: {len(test_dataset)}\")\n",
        "\n",
        "print(f\"Number of images in enhanced training set: {len(enhanced_train_dataset)}\")\n",
        "print(f\"Number of images in enhanced validation set: {len(enhanced_val_dataset)}\")\n",
        "print(f\"Number of images in enhanced test set: {len(enhanced_test_dataset)}\")\n"
      ]
    },
    {
      "cell_type": "markdown",
      "metadata": {
        "id": "FEL9y4dysLLi"
      },
      "source": [
        "# Baseline"
      ]
    },
    {
      "cell_type": "code",
      "execution_count": null,
      "metadata": {},
      "outputs": [],
      "source": [
        "print(\"TensorFlow version:\", tf.__version__)\n",
        "gpus = tf.config.list_physical_devices('GPU')\n",
        "print(\"GPUs available:\", gpus)\n",
        "print(\"Running on GPU\" if tf.config.list_physical_devices('GPU') else \"Running on CPU\")\n",
        "# Check if CUDA and cuDNN are available\n",
        "print(\"Is built with GPU support:\", tf.config.list_physical_devices('GPU'))\n",
        "print(\"Is cuDNN available:\", tf.test.is_gpu_available())\n"
      ]
    },
    {
      "cell_type": "code",
      "execution_count": 66,
      "metadata": {
        "id": "HwctR_dXs2pi"
      },
      "outputs": [
        {
          "name": "stdout",
          "output_type": "stream",
          "text": [
            "0 input_layer_7 False\n",
            "1 conv1_pad False\n",
            "2 conv1_conv False\n",
            "3 conv1_bn False\n",
            "4 conv1_relu False\n",
            "5 pool1_pad False\n",
            "6 pool1_pool False\n",
            "7 conv2_block1_1_conv False\n",
            "8 conv2_block1_1_bn False\n",
            "9 conv2_block1_1_relu False\n",
            "10 conv2_block1_2_conv False\n",
            "11 conv2_block1_2_bn False\n",
            "12 conv2_block1_2_relu False\n",
            "13 conv2_block1_0_conv False\n",
            "14 conv2_block1_3_conv False\n",
            "15 conv2_block1_0_bn False\n",
            "16 conv2_block1_3_bn False\n",
            "17 conv2_block1_add False\n",
            "18 conv2_block1_out False\n",
            "19 conv2_block2_1_conv False\n",
            "20 conv2_block2_1_bn False\n",
            "21 conv2_block2_1_relu False\n",
            "22 conv2_block2_2_conv False\n",
            "23 conv2_block2_2_bn False\n",
            "24 conv2_block2_2_relu False\n",
            "25 conv2_block2_3_conv False\n",
            "26 conv2_block2_3_bn False\n",
            "27 conv2_block2_add False\n",
            "28 conv2_block2_out False\n",
            "29 conv2_block3_1_conv False\n",
            "30 conv2_block3_1_bn False\n",
            "31 conv2_block3_1_relu False\n",
            "32 conv2_block3_2_conv False\n",
            "33 conv2_block3_2_bn False\n",
            "34 conv2_block3_2_relu False\n",
            "35 conv2_block3_3_conv False\n",
            "36 conv2_block3_3_bn False\n",
            "37 conv2_block3_add False\n",
            "38 conv2_block3_out False\n",
            "39 conv3_block1_1_conv False\n",
            "40 conv3_block1_1_bn False\n",
            "41 conv3_block1_1_relu False\n",
            "42 conv3_block1_2_conv False\n",
            "43 conv3_block1_2_bn False\n",
            "44 conv3_block1_2_relu False\n",
            "45 conv3_block1_0_conv False\n",
            "46 conv3_block1_3_conv False\n",
            "47 conv3_block1_0_bn False\n",
            "48 conv3_block1_3_bn False\n",
            "49 conv3_block1_add False\n",
            "50 conv3_block1_out False\n",
            "51 conv3_block2_1_conv False\n",
            "52 conv3_block2_1_bn False\n",
            "53 conv3_block2_1_relu False\n",
            "54 conv3_block2_2_conv False\n",
            "55 conv3_block2_2_bn False\n",
            "56 conv3_block2_2_relu False\n",
            "57 conv3_block2_3_conv False\n",
            "58 conv3_block2_3_bn False\n",
            "59 conv3_block2_add False\n",
            "60 conv3_block2_out False\n",
            "61 conv3_block3_1_conv False\n",
            "62 conv3_block3_1_bn False\n",
            "63 conv3_block3_1_relu False\n",
            "64 conv3_block3_2_conv False\n",
            "65 conv3_block3_2_bn False\n",
            "66 conv3_block3_2_relu False\n",
            "67 conv3_block3_3_conv False\n",
            "68 conv3_block3_3_bn False\n",
            "69 conv3_block3_add False\n",
            "70 conv3_block3_out False\n",
            "71 conv3_block4_1_conv False\n",
            "72 conv3_block4_1_bn False\n",
            "73 conv3_block4_1_relu False\n",
            "74 conv3_block4_2_conv False\n",
            "75 conv3_block4_2_bn False\n",
            "76 conv3_block4_2_relu False\n",
            "77 conv3_block4_3_conv False\n",
            "78 conv3_block4_3_bn False\n",
            "79 conv3_block4_add False\n",
            "80 conv3_block4_out False\n",
            "81 conv4_block1_1_conv False\n",
            "82 conv4_block1_1_bn False\n",
            "83 conv4_block1_1_relu False\n",
            "84 conv4_block1_2_conv False\n",
            "85 conv4_block1_2_bn False\n",
            "86 conv4_block1_2_relu False\n",
            "87 conv4_block1_0_conv False\n",
            "88 conv4_block1_3_conv False\n",
            "89 conv4_block1_0_bn False\n",
            "90 conv4_block1_3_bn False\n",
            "91 conv4_block1_add False\n",
            "92 conv4_block1_out False\n",
            "93 conv4_block2_1_conv False\n",
            "94 conv4_block2_1_bn False\n",
            "95 conv4_block2_1_relu False\n",
            "96 conv4_block2_2_conv False\n",
            "97 conv4_block2_2_bn False\n",
            "98 conv4_block2_2_relu False\n",
            "99 conv4_block2_3_conv False\n",
            "100 conv4_block2_3_bn False\n",
            "101 conv4_block2_add False\n",
            "102 conv4_block2_out False\n",
            "103 conv4_block3_1_conv False\n",
            "104 conv4_block3_1_bn False\n",
            "105 conv4_block3_1_relu False\n",
            "106 conv4_block3_2_conv False\n",
            "107 conv4_block3_2_bn False\n",
            "108 conv4_block3_2_relu False\n",
            "109 conv4_block3_3_conv False\n",
            "110 conv4_block3_3_bn False\n",
            "111 conv4_block3_add False\n",
            "112 conv4_block3_out False\n",
            "113 conv4_block4_1_conv False\n",
            "114 conv4_block4_1_bn False\n",
            "115 conv4_block4_1_relu False\n",
            "116 conv4_block4_2_conv False\n",
            "117 conv4_block4_2_bn False\n",
            "118 conv4_block4_2_relu False\n",
            "119 conv4_block4_3_conv False\n",
            "120 conv4_block4_3_bn False\n",
            "121 conv4_block4_add False\n",
            "122 conv4_block4_out False\n",
            "123 conv4_block5_1_conv False\n",
            "124 conv4_block5_1_bn False\n",
            "125 conv4_block5_1_relu False\n",
            "126 conv4_block5_2_conv False\n",
            "127 conv4_block5_2_bn False\n",
            "128 conv4_block5_2_relu False\n",
            "129 conv4_block5_3_conv False\n",
            "130 conv4_block5_3_bn False\n",
            "131 conv4_block5_add False\n",
            "132 conv4_block5_out False\n",
            "133 conv4_block6_1_conv False\n",
            "134 conv4_block6_1_bn False\n",
            "135 conv4_block6_1_relu False\n",
            "136 conv4_block6_2_conv False\n",
            "137 conv4_block6_2_bn False\n",
            "138 conv4_block6_2_relu False\n",
            "139 conv4_block6_3_conv False\n",
            "140 conv4_block6_3_bn False\n",
            "141 conv4_block6_add False\n",
            "142 conv4_block6_out False\n",
            "143 conv5_block1_1_conv True\n",
            "144 conv5_block1_1_bn True\n",
            "145 conv5_block1_1_relu True\n",
            "146 conv5_block1_2_conv True\n",
            "147 conv5_block1_2_bn True\n",
            "148 conv5_block1_2_relu True\n",
            "149 conv5_block1_0_conv True\n",
            "150 conv5_block1_3_conv True\n",
            "151 conv5_block1_0_bn True\n",
            "152 conv5_block1_3_bn True\n",
            "153 conv5_block1_add True\n",
            "154 conv5_block1_out True\n",
            "155 conv5_block2_1_conv True\n",
            "156 conv5_block2_1_bn True\n",
            "157 conv5_block2_1_relu True\n",
            "158 conv5_block2_2_conv True\n",
            "159 conv5_block2_2_bn True\n",
            "160 conv5_block2_2_relu True\n",
            "161 conv5_block2_3_conv True\n",
            "162 conv5_block2_3_bn True\n",
            "163 conv5_block2_add True\n",
            "164 conv5_block2_out True\n",
            "165 conv5_block3_1_conv True\n",
            "166 conv5_block3_1_bn True\n",
            "167 conv5_block3_1_relu True\n",
            "168 conv5_block3_2_conv True\n",
            "169 conv5_block3_2_bn True\n",
            "170 conv5_block3_2_relu True\n",
            "171 conv5_block3_3_conv True\n",
            "172 conv5_block3_3_bn True\n",
            "173 conv5_block3_add True\n",
            "174 conv5_block3_out True\n"
          ]
        }
      ],
      "source": [
        "baseline_model = ResNet50(weights='imagenet', include_top=False, input_shape=(224, 224, 3))\n",
        "\n",
        "#143 LAYERS ORIGINAL\n",
        "for layer in baseline_model.layers[:]:  \n",
        "    layer.trainable = False\n",
        "\n",
        "\n",
        "for i, layer in enumerate(baseline_model.layers):\n",
        "   print(i, layer.name, layer.trainable)"
      ]
    },
    {
      "cell_type": "code",
      "execution_count": 67,
      "metadata": {
        "id": "9yzJPO2DWiH4"
      },
      "outputs": [],
      "source": [
        "x = baseline_model.output\n",
        "\n",
        "x = GlobalAveragePooling2D()(x)\n",
        "\n",
        "\n",
        "output_layer = Dense(18, activation=\"softmax\", name='classification_output')(x)\n",
        "\n",
        "# Final model\n",
        "basemodel = Model(inputs=baseline_model.input, outputs=output_layer, name=\"baseline_ResNet-50\")\n",
        "\n",
        "\n"
      ]
    },
    {
      "cell_type": "code",
      "execution_count": null,
      "metadata": {
        "colab": {
          "base_uri": "https://localhost:8080/",
          "height": 1000
        },
        "id": "3aWm68r-tw2D",
        "outputId": "24a60415-c998-4a69-9d7d-48e9cb35be9f"
      },
      "outputs": [],
      "source": [
        "\n",
        "initial_lr = 0.001\n",
        "\n",
        "optimizer = Adamax(learning_rate=initial_lr)\n",
        "\n",
        "basemodel.compile(optimizer=optimizer, loss='categorical_crossentropy', metrics=['accuracy'])\n",
        "\n",
        "basemodel.summary()"
      ]
    },
    {
      "cell_type": "code",
      "execution_count": 32,
      "metadata": {},
      "outputs": [
        {
          "name": "stdout",
          "output_type": "stream",
          "text": [
            "[0 0 0 0 0 0 0 0 0 0 0 0 0 0 0 0 0 0 0 0 0 1 1 1 1 1 1 1 1 1 1 1 1 1 1 2 2\n",
            " 2 2 2 2 2 2 2 2 2 2 2 2 2 2 2 2 2 3 3 3 3 3 3 3 3 3 3 3 3 3 3 3 3 3 3 3 3\n",
            " 3 3 3 3 4 4 4 4 4 4 4 4 4 4 4 4 4 4 4 4 4 4 4 4 5 5 5 5 5 5 5 5 5 5 5 5 5\n",
            " 5 5 5 5 5 5 5 5 5 5 5 5 5 5 5 5 5 5 5 5 5 5 5 5 5 5 5 5 5 5 5 5 6 6 6 6 6\n",
            " 6 6 6 6 6 6 6 6 6 6 6 6 6 6 6 6 6 6 6 6 6 6 6 6 7 7 7 7 7 7 7 7 7 7 7 7 7\n",
            " 7 7 7 7 7]\n",
            "{0: 1.130952380952381, 1: 1.6964285714285714, 2: 1.25, 3: 0.9895833333333334, 4: 1.1875, 5: 0.5277777777777778, 6: 0.8189655172413793, 7: 1.3194444444444444}\n"
          ]
        }
      ],
      "source": [
        "y_true = test_generator.classes\n",
        "\n",
        "class_weights = class_weight.compute_class_weight(\n",
        "    class_weight='balanced',\n",
        "    classes=np.unique(y_true),  \n",
        "    y=y_true  \n",
        ")\n",
        "\n",
        "class_weight_dict = dict(enumerate(class_weights))\n",
        "\n",
        "print(y_true)\n",
        "print(class_weight_dict)"
      ]
    },
    {
      "cell_type": "markdown",
      "metadata": {},
      "source": [
        "**TRAIN**"
      ]
    },
    {
      "cell_type": "code",
      "execution_count": null,
      "metadata": {
        "colab": {
          "base_uri": "https://localhost:8080/"
        },
        "id": "-6IfzGhEOwJ_",
        "outputId": "fe679324-0a54-4fcf-f0da-96d6e0d23108"
      },
      "outputs": [],
      "source": [
        "#checkpoint = ModelCheckpoint('best_model.keras', monitor='val_loss', save_best_only=True, mode='min')\n",
        "#early_stopping = EarlyStopping(monitor='val_loss', patience=3, restore_best_weights=True)\n",
        "#reduce_lr = ReduceLROnPlateau(monitor='val_loss', factor=0.2, patience=1, min_lr=0.00001)\n",
        "\n",
        "baseline_history = basemodel.fit(\n",
        "    train_generator,\n",
        "    validation_data = validation_generator,\n",
        "    epochs=5,\n",
        "    #class_weight = class_weight_dict,\n",
        "    validation_freq=1,\n",
        "    verbose=1,\n",
        ")\n"
      ]
    },
    {
      "cell_type": "code",
      "execution_count": 42,
      "metadata": {},
      "outputs": [
        {
          "name": "stdout",
          "output_type": "stream",
          "text": [
            "\u001b[1m8/8\u001b[0m \u001b[32m━━━━━━━━━━━━━━━━━━━━\u001b[0m\u001b[37m\u001b[0m \u001b[1m12s\u001b[0m 1s/step - accuracy: 0.9937 - loss: 0.0473\n",
            "Test Accuracy: 98.37%\n"
          ]
        }
      ],
      "source": [
        "# Evaluate the model on the test set\n",
        "test_loss, test_acc = basemodel.evaluate(test_generator)\n",
        "print(f'Test Accuracy: {test_acc * 100:.2f}%')"
      ]
    },
    {
      "cell_type": "code",
      "execution_count": null,
      "metadata": {},
      "outputs": [],
      "source": [
        "# Evaluate the model on the test set\n",
        "test_loss, test_acc = basemodel.evaluate(enhancedtest_generator)\n",
        "print(f'Test Accuracy: {test_acc * 100:.2f}%')"
      ]
    },
    {
      "cell_type": "markdown",
      "metadata": {},
      "source": [
        "**END======================================Save Model======================================END**"
      ]
    },
    {
      "cell_type": "code",
      "execution_count": 11,
      "metadata": {},
      "outputs": [
        {
          "name": "stderr",
          "output_type": "stream",
          "text": [
            "WARNING:absl:You are saving your model as an HDF5 file via `model.save()` or `keras.saving.save_model(model)`. This file format is considered legacy. We recommend using instead the native Keras format, e.g. `model.save('my_model.keras')` or `keras.saving.save_model(model, 'my_model.keras')`. \n"
          ]
        }
      ],
      "source": [
        "basemodel.save('./saved_models/resnetb8augepoch5layer81acc93finalenhanced94+noOverfitBEST.h5')\n",
        "\n",
        "with open('./saved_models/resnetb8augepoch5layer81acc93finalenhanced94+noOverfitBEST_history.pkl', 'wb') as file:\n",
        "    pickle.dump(baseline_history.history, file)"
      ]
    },
    {
      "cell_type": "markdown",
      "metadata": {},
      "source": [
        "**LOAD MODEL**"
      ]
    },
    {
      "cell_type": "code",
      "execution_count": 37,
      "metadata": {},
      "outputs": [
        {
          "name": "stderr",
          "output_type": "stream",
          "text": [
            "WARNING:absl:Compiled the loaded model, but the compiled metrics have yet to be built. `model.compile_metrics` will be empty until you train or evaluate the model.\n"
          ]
        }
      ],
      "source": [
        "baseline_saved = tf.keras.models.load_model('./saved_models/resnetb16augepoch5layer81acc93enhanced92.h5')\n",
        "\n",
        "\n",
        "# with open('./saved_models/resnetb16augepoch5layer81acc90enhanced90+53_history.pkl', 'rb') as file:\n",
        "#     loaded_history = pickle.load(file)"
      ]
    },
    {
      "cell_type": "code",
      "execution_count": null,
      "metadata": {},
      "outputs": [],
      "source": [
        "test_loss, test_acc = baseline_saved.evaluate(test_generator)\n",
        "print(f'Test Accuracy: {test_acc * 100:.2f}%')"
      ]
    },
    {
      "cell_type": "code",
      "execution_count": null,
      "metadata": {},
      "outputs": [],
      "source": [
        "test_loss, test_acc = baseline_saved.evaluate(enhancedtest_generator)\n",
        "print(f'Test Accuracy: {test_acc * 100:.2f}%')"
      ]
    },
    {
      "cell_type": "markdown",
      "metadata": {},
      "source": [
        "**TEST THE MODEL**"
      ]
    },
    {
      "cell_type": "code",
      "execution_count": null,
      "metadata": {},
      "outputs": [],
      "source": [
        "y_pred = basemodel.predict(enhancedtest_generator)\n",
        "y_pred_classes = y_pred.argmax(axis=1)  \n",
        "\n",
        "y_true = enhancedtest_generator.classes\n",
        "\n",
        "\n",
        "for i in range(10):  # Checking the first 10 predictions\n",
        "    print(f\"True Label: {y_true[i]}, Predicted Label: {y_pred_classes[i]}\")\n",
        "\n",
        "print(\"Classification Report:\")\n",
        "print(classification_report(y_true, y_pred_classes, target_names=enhancedtest_generator.class_indices.keys()))\n",
        "\n",
        "f1 = f1_score(y_true, y_pred_classes, average='weighted')\n",
        "precision = precision_score(y_true, y_pred_classes, average='weighted')\n",
        "recall = recall_score(y_true, y_pred_classes, average='weighted')\n",
        "accuracy = accuracy_score(y_true, y_pred_classes)\n",
        "\n",
        "print(f'F1 Score: {f1:.4f}')\n",
        "print(f'Precision: {precision:.4f}')\n",
        "print(f'Recall: {recall:.4f}')\n",
        "print(f'Accuracy: {accuracy:.4f}')"
      ]
    },
    {
      "cell_type": "code",
      "execution_count": 43,
      "metadata": {},
      "outputs": [
        {
          "name": "stdout",
          "output_type": "stream",
          "text": [
            "\u001b[1m8/8\u001b[0m \u001b[32m━━━━━━━━━━━━━━━━━━━━\u001b[0m\u001b[37m\u001b[0m \u001b[1m16s\u001b[0m 2s/step\n",
            "True Label: 0, Predicted Label: 0\n",
            "True Label: 0, Predicted Label: 0\n",
            "True Label: 0, Predicted Label: 0\n",
            "True Label: 0, Predicted Label: 0\n",
            "True Label: 0, Predicted Label: 0\n",
            "True Label: 0, Predicted Label: 0\n",
            "True Label: 0, Predicted Label: 0\n",
            "True Label: 0, Predicted Label: 0\n",
            "True Label: 0, Predicted Label: 0\n",
            "True Label: 0, Predicted Label: 0\n",
            "Classification Report:\n",
            "                         precision    recall  f1-score   support\n",
            "\n",
            "   Abudefduf Vaigiensis       1.00      1.00      1.00        11\n",
            " Acanthurus Nigrofuscus       0.91      1.00      0.95        21\n",
            "   Balistapus Undulatus       1.00      1.00      1.00         5\n",
            " Canthigaster Valentini       1.00      1.00      1.00        14\n",
            " Chaetodon Trifascialis       0.90      1.00      0.95        19\n",
            "   Hemigymnus Fasciatus       1.00      1.00      1.00        24\n",
            "  Hemigymnus Melapterus       1.00      1.00      1.00         5\n",
            "        Lutjanus fulvus       1.00      1.00      1.00        20\n",
            "     Myripristis Kuntee       1.00      1.00      1.00        45\n",
            "Neoglyphidodon Nigroris       1.00      0.33      0.50         3\n",
            "      Neoniphon Sammara       1.00      0.97      0.98        29\n",
            " Pempheris Vanicolensis       1.00      1.00      1.00         4\n",
            "Pomacentrus Moluccensis       1.00      1.00      1.00        18\n",
            "               Scaridae       1.00      1.00      1.00         6\n",
            "    Scolopsis Bilineata       1.00      1.00      1.00         6\n",
            "     Siganus Fuscescens       1.00      1.00      1.00         3\n",
            "       Zanclus Cornutus       1.00      0.67      0.80         3\n",
            "       Zebrasoma Scopas       1.00      1.00      1.00        10\n",
            "\n",
            "               accuracy                           0.98       246\n",
            "              macro avg       0.99      0.94      0.95       246\n",
            "           weighted avg       0.99      0.98      0.98       246\n",
            "\n",
            "F1 Score: 0.9817\n",
            "Precision: 0.9852\n",
            "Recall: 0.9837\n",
            "Accuracy: 0.9837\n"
          ]
        }
      ],
      "source": [
        "y_pred = basemodel.predict(test_generator)\n",
        "y_pred_classes = y_pred.argmax(axis=1)\n",
        "\n",
        "y_true = test_generator.classes\n",
        "\n",
        "\n",
        "for i in range(10):  # Checking the first 10 predictions\n",
        "    print(f\"True Label: {y_true[i]}, Predicted Label: {y_pred_classes[i]}\")\n",
        "\n",
        "print(\"Classification Report:\")\n",
        "print(classification_report(y_true, y_pred_classes, target_names=test_generator.class_indices.keys()))\n",
        "\n",
        "f1 = f1_score(y_true, y_pred_classes, average='weighted')\n",
        "precision = precision_score(y_true, y_pred_classes, average='weighted')\n",
        "recall = recall_score(y_true, y_pred_classes, average='weighted')\n",
        "accuracy = accuracy_score(y_true, y_pred_classes)\n",
        "\n",
        "print(f'F1 Score: {f1:.4f}')\n",
        "print(f'Precision: {precision:.4f}')\n",
        "print(f'Recall: {recall:.4f}')\n",
        "print(f'Accuracy: {accuracy:.4f}')"
      ]
    },
    {
      "cell_type": "code",
      "execution_count": 44,
      "metadata": {},
      "outputs": [
        {
          "data": {
            "image/png": "[encoded data removed]",
            "text/plain": [
              "<Figure size 640x480 with 1 Axes>"
            ]
          },
          "metadata": {},
          "output_type": "display_data"
        },
        {
          "data": {
            "image/png": "[encoded data removed]",
            "text/plain": [
              "<Figure size 640x480 with 1 Axes>"
            ]
          },
          "metadata": {},
          "output_type": "display_data"
        }
      ],
      "source": [
        "# Plot the Loss\n",
        "\n",
        "plt.plot(baseline_history.history['loss'], label = 'train_loss')\n",
        "plt.plot(baseline_history.history['val_loss'], label ='val loss')\n",
        "plt.legend()\n",
        "plt.show()\n",
        "# plt.savefig('LossVal_loss')\n",
        "\n",
        "# Plot the Accuracy\n",
        "plt.plot(baseline_history.history['accuracy'], label = 'train accuracy')\n",
        "plt.plot(baseline_history.history['val_accuracy'], label ='val accuracy')\n",
        "plt.legend()\n",
        "plt.show()\n",
        "# plt.savefig('valAccuracy')\n"
      ]
    },
    {
      "cell_type": "markdown",
      "metadata": {},
      "source": [
        "**WITH LOADED**"
      ]
    },
    {
      "cell_type": "code",
      "execution_count": null,
      "metadata": {},
      "outputs": [],
      "source": [
        "# Plot the Loss\n",
        "plt.plot(loaded_history['loss'], label='train_loss')\n",
        "plt.plot(loaded_history['val_loss'], label='val_loss')\n",
        "plt.legend()\n",
        "plt.show()\n",
        "# plt.savefig('LossVal_loss.png')\n",
        "\n",
        "# Plot the Accuracy\n",
        "plt.plot(loaded_history['accuracy'], label='train_accuracy')\n",
        "plt.plot(loaded_history['val_accuracy'], label='val_accuracy')\n",
        "plt.legend()\n",
        "plt.show()\n",
        "# plt.savefig('valAccuracy.png')\n"
      ]
    },
    {
      "cell_type": "markdown",
      "metadata": {},
      "source": [
        "# PYTORCH (BASELINE)"
      ]
    },
    {
      "cell_type": "code",
      "execution_count": 60,
      "metadata": {},
      "outputs": [
        {
          "name": "stdout",
          "output_type": "stream",
          "text": [
            ": True\n",
            "base_model: False\n",
            "base_model.0: False\n",
            "base_model.1: False\n",
            "base_model.2: False\n",
            "base_model.3: False\n",
            "base_model.4: False\n",
            "base_model.4.0: False\n",
            "base_model.4.0.conv1: False\n",
            "base_model.4.0.bn1: False\n",
            "base_model.4.0.conv2: False\n",
            "base_model.4.0.bn2: False\n",
            "base_model.4.0.conv3: False\n",
            "base_model.4.0.bn3: False\n",
            "base_model.4.0.relu: False\n",
            "base_model.4.0.downsample: False\n",
            "base_model.4.0.downsample.0: False\n",
            "base_model.4.0.downsample.1: False\n",
            "base_model.4.1: False\n",
            "base_model.4.1.conv1: False\n",
            "base_model.4.1.bn1: False\n",
            "base_model.4.1.conv2: False\n",
            "base_model.4.1.bn2: False\n",
            "base_model.4.1.conv3: False\n",
            "base_model.4.1.bn3: False\n",
            "base_model.4.1.relu: False\n",
            "base_model.4.2: False\n",
            "base_model.4.2.conv1: False\n",
            "base_model.4.2.bn1: False\n",
            "base_model.4.2.conv2: False\n",
            "base_model.4.2.bn2: False\n",
            "base_model.4.2.conv3: False\n",
            "base_model.4.2.bn3: False\n",
            "base_model.4.2.relu: False\n",
            "base_model.5: False\n",
            "base_model.5.0: False\n",
            "base_model.5.0.conv1: False\n",
            "base_model.5.0.bn1: False\n",
            "base_model.5.0.conv2: False\n",
            "base_model.5.0.bn2: False\n",
            "base_model.5.0.conv3: False\n",
            "base_model.5.0.bn3: False\n",
            "base_model.5.0.relu: False\n",
            "base_model.5.0.downsample: False\n",
            "base_model.5.0.downsample.0: False\n",
            "base_model.5.0.downsample.1: False\n",
            "base_model.5.1: False\n",
            "base_model.5.1.conv1: False\n",
            "base_model.5.1.bn1: False\n",
            "base_model.5.1.conv2: False\n",
            "base_model.5.1.bn2: False\n",
            "base_model.5.1.conv3: False\n",
            "base_model.5.1.bn3: False\n",
            "base_model.5.1.relu: False\n",
            "base_model.5.2: False\n",
            "base_model.5.2.conv1: False\n",
            "base_model.5.2.bn1: False\n",
            "base_model.5.2.conv2: False\n",
            "base_model.5.2.bn2: False\n",
            "base_model.5.2.conv3: False\n",
            "base_model.5.2.bn3: False\n",
            "base_model.5.2.relu: False\n",
            "base_model.5.3: False\n",
            "base_model.5.3.conv1: False\n",
            "base_model.5.3.bn1: False\n",
            "base_model.5.3.conv2: False\n",
            "base_model.5.3.bn2: False\n",
            "base_model.5.3.conv3: False\n",
            "base_model.5.3.bn3: False\n",
            "base_model.5.3.relu: False\n",
            "base_model.6: False\n",
            "base_model.6.0: False\n",
            "base_model.6.0.conv1: False\n",
            "base_model.6.0.bn1: False\n",
            "base_model.6.0.conv2: False\n",
            "base_model.6.0.bn2: False\n",
            "base_model.6.0.conv3: False\n",
            "base_model.6.0.bn3: False\n",
            "base_model.6.0.relu: False\n",
            "base_model.6.0.downsample: False\n",
            "base_model.6.0.downsample.0: False\n",
            "base_model.6.0.downsample.1: False\n",
            "base_model.6.1: False\n",
            "base_model.6.1.conv1: False\n",
            "base_model.6.1.bn1: False\n",
            "base_model.6.1.conv2: False\n",
            "base_model.6.1.bn2: False\n",
            "base_model.6.1.conv3: False\n",
            "base_model.6.1.bn3: False\n",
            "base_model.6.1.relu: False\n",
            "base_model.6.2: False\n",
            "base_model.6.2.conv1: False\n",
            "base_model.6.2.bn1: False\n",
            "base_model.6.2.conv2: False\n",
            "base_model.6.2.bn2: False\n",
            "base_model.6.2.conv3: False\n",
            "base_model.6.2.bn3: False\n",
            "base_model.6.2.relu: False\n",
            "base_model.6.3: False\n",
            "base_model.6.3.conv1: False\n",
            "base_model.6.3.bn1: False\n",
            "base_model.6.3.conv2: False\n",
            "base_model.6.3.bn2: False\n",
            "base_model.6.3.conv3: False\n",
            "base_model.6.3.bn3: False\n",
            "base_model.6.3.relu: False\n",
            "base_model.6.4: False\n",
            "base_model.6.4.conv1: False\n",
            "base_model.6.4.bn1: False\n",
            "base_model.6.4.conv2: False\n",
            "base_model.6.4.bn2: False\n",
            "base_model.6.4.conv3: False\n",
            "base_model.6.4.bn3: False\n",
            "base_model.6.4.relu: False\n",
            "base_model.6.5: False\n",
            "base_model.6.5.conv1: False\n",
            "base_model.6.5.bn1: False\n",
            "base_model.6.5.conv2: False\n",
            "base_model.6.5.bn2: False\n",
            "base_model.6.5.conv3: False\n",
            "base_model.6.5.bn3: False\n",
            "base_model.6.5.relu: False\n",
            "base_model.7: False\n",
            "base_model.7.0: False\n",
            "base_model.7.0.conv1: False\n",
            "base_model.7.0.bn1: False\n",
            "base_model.7.0.conv2: False\n",
            "base_model.7.0.bn2: False\n",
            "base_model.7.0.conv3: False\n",
            "base_model.7.0.bn3: False\n",
            "base_model.7.0.relu: False\n",
            "base_model.7.0.downsample: False\n",
            "base_model.7.0.downsample.0: False\n",
            "base_model.7.0.downsample.1: False\n",
            "base_model.7.1: False\n",
            "base_model.7.1.conv1: False\n",
            "base_model.7.1.bn1: False\n",
            "base_model.7.1.conv2: False\n",
            "base_model.7.1.bn2: False\n",
            "base_model.7.1.conv3: False\n",
            "base_model.7.1.bn3: False\n",
            "base_model.7.1.relu: False\n",
            "base_model.7.2: False\n",
            "base_model.7.2.conv1: False\n",
            "base_model.7.2.bn1: False\n",
            "base_model.7.2.conv2: False\n",
            "base_model.7.2.bn2: False\n",
            "base_model.7.2.conv3: False\n",
            "base_model.7.2.bn3: False\n",
            "base_model.7.2.relu: False\n",
            "gap: False\n",
            "fc: True\n"
          ]
        }
      ],
      "source": [
        "learning_rate = 0.001\n",
        "epochs = 30\n",
        "\n",
        "\n",
        "torch_baseline = resnet50(weights=\"IMAGENET1K_V1\").to(device)\n",
        "\n",
        "# Freeze the initial 39 layers\n",
        "# freeze = True\n",
        "# for name, layer in torch_baseline.named_modules():\n",
        "#     # Explicitly freeze all layers up to layer3\n",
        "#     if 'layer4' in name:\n",
        "#         freeze = False  # Start unfreezing at layer3\n",
        "#     if freeze:\n",
        "#         for param in layer.parameters():\n",
        "#             param.requires_grad = False\n",
        "#     else:\n",
        "#         for param in layer.parameters():\n",
        "#             param.requires_grad = True\n",
        "\n",
        "# FREEZE ALL LAYERS\n",
        "for param in torch_baseline.parameters():\n",
        "    param.requires_grad = False\n",
        "\n",
        "class BaselineResNet(nn.Module):\n",
        "    def __init__(self, base_model, num_classes=18):\n",
        "        super(BaselineResNet, self).__init__()\n",
        "        self.base_model = nn.Sequential(*list(base_model.children())[:-2])  # Exclude top layers\n",
        "        self.gap = nn.AdaptiveAvgPool2d((1, 1))\n",
        "        self.fc = nn.Linear(2048, num_classes)  # 2048 (gap) + 2048 (gmp) = 4096\n",
        "\n",
        "    def forward(self, x):\n",
        "        x = self.base_model(x)\n",
        "        gap = self.gap(x).view(x.size(0), -1)\n",
        "        x = self.fc(gap)\n",
        "        return x\n",
        "\n",
        "\n",
        "torch_baseline_model = BaselineResNet(torch_baseline).to(device)\n",
        "\n",
        "\n",
        "criterion = nn.CrossEntropyLoss(weight=class_weights_tensor)\n",
        "optimizer = optim.Adamax(torch_baseline_model.fc.parameters(), lr=learning_rate)\n",
        "\n",
        "for name, layer in torch_baseline_model.named_modules():\n",
        "    print(f'{name}: {any(param.requires_grad for param in layer.parameters())}')\n",
        "\n"
      ]
    },
    {
      "cell_type": "code",
      "execution_count": 56,
      "metadata": {},
      "outputs": [
        {
          "name": "stdout",
          "output_type": "stream",
          "text": [
            "=====================================Epoch: 1 / 30=====================================\n"
          ]
        },
        {
          "name": "stderr",
          "output_type": "stream",
          "text": [
            "[TRAIN] : 100%|██████████| 105/105 [00:45<00:00,  2.30it/s]\n",
            "[VALID] : 100%|██████████| 45/45 [00:30<00:00,  1.46it/s]\n"
          ]
        },
        {
          "name": "stdout",
          "output_type": "stream",
          "text": [
            "=> Train Loss=2.4544, Val Loss=1.5498 |  Train Acc=0.4592,  Val Acc=0.7222\n",
            "=====================================Epoch: 2 / 30=====================================\n"
          ]
        },
        {
          "name": "stderr",
          "output_type": "stream",
          "text": [
            "[TRAIN] : 100%|██████████| 105/105 [01:22<00:00,  1.28it/s]\n",
            "[VALID] : 100%|██████████| 45/45 [00:30<00:00,  1.48it/s]\n"
          ]
        },
        {
          "name": "stdout",
          "output_type": "stream",
          "text": [
            "=> Train Loss=1.6606, Val Loss=1.1435 |  Train Acc=0.7772,  Val Acc=0.8097\n",
            "=====================================Epoch: 3 / 30=====================================\n"
          ]
        },
        {
          "name": "stderr",
          "output_type": "stream",
          "text": [
            "[TRAIN] : 100%|██████████| 105/105 [00:45<00:00,  2.31it/s]\n",
            "[VALID] : 100%|██████████| 45/45 [00:31<00:00,  1.42it/s]\n"
          ]
        },
        {
          "name": "stdout",
          "output_type": "stream",
          "text": [
            "=> Train Loss=1.2936, Val Loss=0.9673 |  Train Acc=0.8362,  Val Acc=0.8444\n",
            "=====================================Epoch: 4 / 30=====================================\n"
          ]
        },
        {
          "name": "stderr",
          "output_type": "stream",
          "text": [
            "[TRAIN] : 100%|██████████| 105/105 [00:52<00:00,  2.01it/s]\n",
            "[VALID] : 100%|██████████| 45/45 [00:29<00:00,  1.52it/s]\n"
          ]
        },
        {
          "name": "stdout",
          "output_type": "stream",
          "text": [
            "=> Train Loss=1.0832, Val Loss=0.8244 |  Train Acc=0.8565,  Val Acc=0.8514\n",
            "=====================================Epoch: 5 / 30=====================================\n"
          ]
        },
        {
          "name": "stderr",
          "output_type": "stream",
          "text": [
            "[TRAIN] : 100%|██████████| 105/105 [00:30<00:00,  3.49it/s]\n",
            "[VALID] : 100%|██████████| 45/45 [00:11<00:00,  3.84it/s]\n"
          ]
        },
        {
          "name": "stdout",
          "output_type": "stream",
          "text": [
            "=> Train Loss=0.9116, Val Loss=0.7070 |  Train Acc=0.8749,  Val Acc=0.8708\n",
            "=====================================Epoch: 6 / 30=====================================\n"
          ]
        },
        {
          "name": "stderr",
          "output_type": "stream",
          "text": [
            "[TRAIN] : 100%|██████████| 105/105 [00:31<00:00,  3.37it/s]\n",
            "[VALID] : 100%|██████████| 45/45 [00:11<00:00,  3.85it/s]\n"
          ]
        },
        {
          "name": "stdout",
          "output_type": "stream",
          "text": [
            "=> Train Loss=0.7959, Val Loss=0.6211 |  Train Acc=0.8892,  Val Acc=0.8847\n",
            "=====================================Epoch: 7 / 30=====================================\n"
          ]
        },
        {
          "name": "stderr",
          "output_type": "stream",
          "text": [
            "[TRAIN] : 100%|██████████| 105/105 [00:31<00:00,  3.36it/s]\n",
            "[VALID] : 100%|██████████| 45/45 [00:11<00:00,  3.94it/s]\n"
          ]
        },
        {
          "name": "stdout",
          "output_type": "stream",
          "text": [
            "=> Train Loss=0.7040, Val Loss=0.5931 |  Train Acc=0.9017,  Val Acc=0.8917\n",
            "=====================================Epoch: 8 / 30=====================================\n"
          ]
        },
        {
          "name": "stderr",
          "output_type": "stream",
          "text": [
            "[TRAIN] : 100%|██████████| 105/105 [00:30<00:00,  3.41it/s]\n",
            "[VALID] : 100%|██████████| 45/45 [00:11<00:00,  4.07it/s]\n"
          ]
        },
        {
          "name": "stdout",
          "output_type": "stream",
          "text": [
            "=> Train Loss=0.6524, Val Loss=0.5278 |  Train Acc=0.9059,  Val Acc=0.8986\n",
            "=====================================Epoch: 9 / 30=====================================\n"
          ]
        },
        {
          "name": "stderr",
          "output_type": "stream",
          "text": [
            "[TRAIN] : 100%|██████████| 105/105 [00:30<00:00,  3.49it/s]\n",
            "[VALID] : 100%|██████████| 45/45 [00:11<00:00,  4.03it/s]\n"
          ]
        },
        {
          "name": "stdout",
          "output_type": "stream",
          "text": [
            "=> Train Loss=0.5776, Val Loss=0.4924 |  Train Acc=0.9119,  Val Acc=0.9014\n",
            "=====================================Epoch: 10 / 30=====================================\n"
          ]
        },
        {
          "name": "stderr",
          "output_type": "stream",
          "text": [
            "[TRAIN] : 100%|██████████| 105/105 [00:30<00:00,  3.45it/s]\n",
            "[VALID] : 100%|██████████| 45/45 [00:11<00:00,  3.80it/s]\n"
          ]
        },
        {
          "name": "stdout",
          "output_type": "stream",
          "text": [
            "=> Train Loss=0.5333, Val Loss=0.4622 |  Train Acc=0.9130,  Val Acc=0.9083\n",
            "=====================================Epoch: 11 / 30=====================================\n"
          ]
        },
        {
          "name": "stderr",
          "output_type": "stream",
          "text": [
            "[TRAIN] : 100%|██████████| 105/105 [00:30<00:00,  3.49it/s]\n",
            "[VALID] : 100%|██████████| 45/45 [00:10<00:00,  4.09it/s]\n"
          ]
        },
        {
          "name": "stdout",
          "output_type": "stream",
          "text": [
            "=> Train Loss=0.4749, Val Loss=0.4345 |  Train Acc=0.9279,  Val Acc=0.9208\n",
            "=====================================Epoch: 12 / 30=====================================\n"
          ]
        },
        {
          "name": "stderr",
          "output_type": "stream",
          "text": [
            "[TRAIN] : 100%|██████████| 105/105 [00:31<00:00,  3.37it/s]\n",
            "[VALID] : 100%|██████████| 45/45 [00:11<00:00,  4.03it/s]\n"
          ]
        },
        {
          "name": "stdout",
          "output_type": "stream",
          "text": [
            "=> Train Loss=0.4706, Val Loss=0.4456 |  Train Acc=0.9214,  Val Acc=0.9014\n",
            "=====================================Epoch: 13 / 30=====================================\n"
          ]
        },
        {
          "name": "stderr",
          "output_type": "stream",
          "text": [
            "[TRAIN] : 100%|██████████| 105/105 [00:30<00:00,  3.44it/s]\n",
            "[VALID] : 100%|██████████| 45/45 [00:10<00:00,  4.16it/s]\n"
          ]
        },
        {
          "name": "stdout",
          "output_type": "stream",
          "text": [
            "=> Train Loss=0.4239, Val Loss=0.4090 |  Train Acc=0.9202,  Val Acc=0.9069\n",
            "=====================================Epoch: 14 / 30=====================================\n"
          ]
        },
        {
          "name": "stderr",
          "output_type": "stream",
          "text": [
            "[TRAIN] : 100%|██████████| 105/105 [00:29<00:00,  3.51it/s]\n",
            "[VALID] : 100%|██████████| 45/45 [00:12<00:00,  3.55it/s]\n"
          ]
        },
        {
          "name": "stdout",
          "output_type": "stream",
          "text": [
            "=> Train Loss=0.3764, Val Loss=0.3701 |  Train Acc=0.9375,  Val Acc=0.9208\n",
            "=====================================Epoch: 15 / 30=====================================\n"
          ]
        },
        {
          "name": "stderr",
          "output_type": "stream",
          "text": [
            "[TRAIN] : 100%|██████████| 105/105 [00:29<00:00,  3.60it/s]\n",
            "[VALID] : 100%|██████████| 45/45 [00:12<00:00,  3.74it/s]\n"
          ]
        },
        {
          "name": "stdout",
          "output_type": "stream",
          "text": [
            "=> Train Loss=0.3663, Val Loss=0.3676 |  Train Acc=0.9375,  Val Acc=0.9097\n",
            "=====================================Epoch: 16 / 30=====================================\n"
          ]
        },
        {
          "name": "stderr",
          "output_type": "stream",
          "text": [
            "[TRAIN] : 100%|██████████| 105/105 [00:29<00:00,  3.52it/s]\n",
            "[VALID] : 100%|██████████| 45/45 [00:10<00:00,  4.23it/s]\n"
          ]
        },
        {
          "name": "stdout",
          "output_type": "stream",
          "text": [
            "=> Train Loss=0.3606, Val Loss=0.3716 |  Train Acc=0.9369,  Val Acc=0.9056\n",
            "=====================================Epoch: 17 / 30=====================================\n"
          ]
        },
        {
          "name": "stderr",
          "output_type": "stream",
          "text": [
            "[TRAIN] : 100%|██████████| 105/105 [00:30<00:00,  3.46it/s]\n",
            "[VALID] : 100%|██████████| 45/45 [00:11<00:00,  4.08it/s]\n"
          ]
        },
        {
          "name": "stdout",
          "output_type": "stream",
          "text": [
            "=> Train Loss=0.3428, Val Loss=0.3457 |  Train Acc=0.9345,  Val Acc=0.9236\n",
            "=====================================Epoch: 18 / 30=====================================\n"
          ]
        },
        {
          "name": "stderr",
          "output_type": "stream",
          "text": [
            "[TRAIN] : 100%|██████████| 105/105 [00:28<00:00,  3.63it/s]\n",
            "[VALID] : 100%|██████████| 45/45 [00:11<00:00,  4.05it/s]\n"
          ]
        },
        {
          "name": "stdout",
          "output_type": "stream",
          "text": [
            "=> Train Loss=0.3239, Val Loss=0.3203 |  Train Acc=0.9381,  Val Acc=0.9306\n",
            "=====================================Epoch: 19 / 30=====================================\n"
          ]
        },
        {
          "name": "stderr",
          "output_type": "stream",
          "text": [
            "[TRAIN] : 100%|██████████| 105/105 [00:32<00:00,  3.22it/s]\n",
            "[VALID] : 100%|██████████| 45/45 [00:11<00:00,  3.85it/s]\n"
          ]
        },
        {
          "name": "stdout",
          "output_type": "stream",
          "text": [
            "=> Train Loss=0.3062, Val Loss=0.3116 |  Train Acc=0.9369,  Val Acc=0.9319\n",
            "=====================================Epoch: 20 / 30=====================================\n"
          ]
        },
        {
          "name": "stderr",
          "output_type": "stream",
          "text": [
            "[TRAIN] : 100%|██████████| 105/105 [00:34<00:00,  3.08it/s]\n",
            "[VALID] : 100%|██████████| 45/45 [00:12<00:00,  3.55it/s]\n"
          ]
        },
        {
          "name": "stdout",
          "output_type": "stream",
          "text": [
            "=> Train Loss=0.2812, Val Loss=0.3126 |  Train Acc=0.9434,  Val Acc=0.9306\n",
            "=====================================Epoch: 21 / 30=====================================\n"
          ]
        },
        {
          "name": "stderr",
          "output_type": "stream",
          "text": [
            "[TRAIN] : 100%|██████████| 105/105 [00:31<00:00,  3.37it/s]\n",
            "[VALID] : 100%|██████████| 45/45 [00:11<00:00,  3.84it/s]\n"
          ]
        },
        {
          "name": "stdout",
          "output_type": "stream",
          "text": [
            "=> Train Loss=0.2696, Val Loss=0.2967 |  Train Acc=0.9494,  Val Acc=0.9292\n",
            "=====================================Epoch: 22 / 30=====================================\n"
          ]
        },
        {
          "name": "stderr",
          "output_type": "stream",
          "text": [
            "[TRAIN] : 100%|██████████| 105/105 [00:31<00:00,  3.29it/s]\n",
            "[VALID] : 100%|██████████| 45/45 [00:10<00:00,  4.14it/s]\n"
          ]
        },
        {
          "name": "stdout",
          "output_type": "stream",
          "text": [
            "=> Train Loss=0.2738, Val Loss=0.2997 |  Train Acc=0.9392,  Val Acc=0.9292\n",
            "=====================================Epoch: 23 / 30=====================================\n"
          ]
        },
        {
          "name": "stderr",
          "output_type": "stream",
          "text": [
            "[TRAIN] : 100%|██████████| 105/105 [00:31<00:00,  3.37it/s]\n",
            "[VALID] : 100%|██████████| 45/45 [00:10<00:00,  4.15it/s]\n"
          ]
        },
        {
          "name": "stdout",
          "output_type": "stream",
          "text": [
            "=> Train Loss=0.2431, Val Loss=0.2789 |  Train Acc=0.9535,  Val Acc=0.9333\n",
            "=====================================Epoch: 24 / 30=====================================\n"
          ]
        },
        {
          "name": "stderr",
          "output_type": "stream",
          "text": [
            "[TRAIN] : 100%|██████████| 105/105 [00:29<00:00,  3.52it/s]\n",
            "[VALID] : 100%|██████████| 45/45 [00:11<00:00,  4.05it/s]\n"
          ]
        },
        {
          "name": "stdout",
          "output_type": "stream",
          "text": [
            "=> Train Loss=0.2484, Val Loss=0.2882 |  Train Acc=0.9422,  Val Acc=0.9347\n",
            "=====================================Epoch: 25 / 30=====================================\n"
          ]
        },
        {
          "name": "stderr",
          "output_type": "stream",
          "text": [
            "[TRAIN] : 100%|██████████| 105/105 [00:29<00:00,  3.60it/s]\n",
            "[VALID] : 100%|██████████| 45/45 [00:11<00:00,  3.97it/s]\n"
          ]
        },
        {
          "name": "stdout",
          "output_type": "stream",
          "text": [
            "=> Train Loss=0.2429, Val Loss=0.2740 |  Train Acc=0.9506,  Val Acc=0.9292\n",
            "=====================================Epoch: 26 / 30=====================================\n"
          ]
        },
        {
          "name": "stderr",
          "output_type": "stream",
          "text": [
            "[TRAIN] : 100%|██████████| 105/105 [00:30<00:00,  3.44it/s]\n",
            "[VALID] : 100%|██████████| 45/45 [00:14<00:00,  3.08it/s]\n"
          ]
        },
        {
          "name": "stdout",
          "output_type": "stream",
          "text": [
            "=> Train Loss=0.2345, Val Loss=0.2729 |  Train Acc=0.9482,  Val Acc=0.9347\n",
            "=====================================Epoch: 27 / 30=====================================\n"
          ]
        },
        {
          "name": "stderr",
          "output_type": "stream",
          "text": [
            "[TRAIN] : 100%|██████████| 105/105 [00:30<00:00,  3.46it/s]\n",
            "[VALID] : 100%|██████████| 45/45 [00:11<00:00,  3.98it/s]\n"
          ]
        },
        {
          "name": "stdout",
          "output_type": "stream",
          "text": [
            "=> Train Loss=0.2274, Val Loss=0.2683 |  Train Acc=0.9547,  Val Acc=0.9389\n",
            "=====================================Epoch: 28 / 30=====================================\n"
          ]
        },
        {
          "name": "stderr",
          "output_type": "stream",
          "text": [
            "[TRAIN] : 100%|██████████| 105/105 [00:33<00:00,  3.14it/s]\n",
            "[VALID] : 100%|██████████| 45/45 [00:11<00:00,  4.00it/s]\n"
          ]
        },
        {
          "name": "stdout",
          "output_type": "stream",
          "text": [
            "=> Train Loss=0.2115, Val Loss=0.2579 |  Train Acc=0.9535,  Val Acc=0.9361\n",
            "=====================================Epoch: 29 / 30=====================================\n"
          ]
        },
        {
          "name": "stderr",
          "output_type": "stream",
          "text": [
            "[TRAIN] : 100%|██████████| 105/105 [00:30<00:00,  3.43it/s]\n",
            "[VALID] : 100%|██████████| 45/45 [00:11<00:00,  3.89it/s]\n"
          ]
        },
        {
          "name": "stdout",
          "output_type": "stream",
          "text": [
            "=> Train Loss=0.1991, Val Loss=0.2664 |  Train Acc=0.9577,  Val Acc=0.9361\n",
            "=====================================Epoch: 30 / 30=====================================\n"
          ]
        },
        {
          "name": "stderr",
          "output_type": "stream",
          "text": [
            "[TRAIN] : 100%|██████████| 105/105 [00:30<00:00,  3.50it/s]\n",
            "[VALID] : 100%|██████████| 45/45 [00:11<00:00,  4.01it/s]"
          ]
        },
        {
          "name": "stdout",
          "output_type": "stream",
          "text": [
            "=> Train Loss=0.1911, Val Loss=0.2592 |  Train Acc=0.9565,  Val Acc=0.9361\n"
          ]
        },
        {
          "name": "stderr",
          "output_type": "stream",
          "text": [
            "\n"
          ]
        }
      ],
      "source": [
        "baseline_history = train_and_validate(torch_baseline_model, criterion, optimizer, train_loader, test_loader, device, num_epochs=epochs)"
      ]
    },
    {
      "cell_type": "code",
      "execution_count": 61,
      "metadata": {},
      "outputs": [
        {
          "name": "stdout",
          "output_type": "stream",
          "text": [
            "=====================================Epoch: 1 / 30=====================================\n"
          ]
        },
        {
          "name": "stderr",
          "output_type": "stream",
          "text": [
            "[TRAIN] : 100%|██████████| 105/105 [00:33<00:00,  3.13it/s]\n",
            "[VALID] : 100%|██████████| 45/45 [00:22<00:00,  1.98it/s]\n"
          ]
        },
        {
          "name": "stdout",
          "output_type": "stream",
          "text": [
            "=> Train Loss=2.4885, Val Loss=1.6751 |  Train Acc=0.4753,  Val Acc=0.7014\n",
            "=====================================Epoch: 2 / 30=====================================\n"
          ]
        },
        {
          "name": "stderr",
          "output_type": "stream",
          "text": [
            "[TRAIN] : 100%|██████████| 105/105 [00:31<00:00,  3.36it/s]\n",
            "[VALID] : 100%|██████████| 45/45 [00:22<00:00,  2.03it/s]\n"
          ]
        },
        {
          "name": "stdout",
          "output_type": "stream",
          "text": [
            "=> Train Loss=1.7157, Val Loss=1.2211 |  Train Acc=0.7570,  Val Acc=0.8028\n",
            "=====================================Epoch: 3 / 30=====================================\n"
          ]
        },
        {
          "name": "stderr",
          "output_type": "stream",
          "text": [
            "[TRAIN] : 100%|██████████| 105/105 [00:31<00:00,  3.33it/s]\n",
            "[VALID] : 100%|██████████| 45/45 [00:22<00:00,  2.04it/s]\n"
          ]
        },
        {
          "name": "stdout",
          "output_type": "stream",
          "text": [
            "=> Train Loss=1.3342, Val Loss=1.0580 |  Train Acc=0.8350,  Val Acc=0.8153\n",
            "=====================================Epoch: 4 / 30=====================================\n"
          ]
        },
        {
          "name": "stderr",
          "output_type": "stream",
          "text": [
            "[TRAIN] : 100%|██████████| 105/105 [00:31<00:00,  3.29it/s]\n",
            "[VALID] : 100%|██████████| 45/45 [00:23<00:00,  1.93it/s]\n"
          ]
        },
        {
          "name": "stdout",
          "output_type": "stream",
          "text": [
            "=> Train Loss=1.1161, Val Loss=0.8437 |  Train Acc=0.8553,  Val Acc=0.8639\n",
            "=====================================Epoch: 5 / 30=====================================\n"
          ]
        },
        {
          "name": "stderr",
          "output_type": "stream",
          "text": [
            "[TRAIN] : 100%|██████████| 105/105 [00:31<00:00,  3.36it/s]\n",
            "[VALID] : 100%|██████████| 45/45 [00:21<00:00,  2.06it/s]\n"
          ]
        },
        {
          "name": "stdout",
          "output_type": "stream",
          "text": [
            "=> Train Loss=0.9691, Val Loss=0.7409 |  Train Acc=0.8731,  Val Acc=0.8778\n",
            "=====================================Epoch: 6 / 30=====================================\n"
          ]
        },
        {
          "name": "stderr",
          "output_type": "stream",
          "text": [
            "[TRAIN] : 100%|██████████| 105/105 [00:31<00:00,  3.35it/s]\n",
            "[VALID] : 100%|██████████| 45/45 [00:22<00:00,  1.96it/s]\n"
          ]
        },
        {
          "name": "stdout",
          "output_type": "stream",
          "text": [
            "=> Train Loss=0.8252, Val Loss=0.6651 |  Train Acc=0.8839,  Val Acc=0.8819\n",
            "=====================================Epoch: 7 / 30=====================================\n"
          ]
        },
        {
          "name": "stderr",
          "output_type": "stream",
          "text": [
            "[TRAIN] : 100%|██████████| 105/105 [00:31<00:00,  3.34it/s]\n",
            "[VALID] : 100%|██████████| 45/45 [00:21<00:00,  2.06it/s]\n"
          ]
        },
        {
          "name": "stdout",
          "output_type": "stream",
          "text": [
            "=> Train Loss=0.7573, Val Loss=0.6276 |  Train Acc=0.8827,  Val Acc=0.8833\n",
            "=====================================Epoch: 8 / 30=====================================\n"
          ]
        },
        {
          "name": "stderr",
          "output_type": "stream",
          "text": [
            "[TRAIN] : 100%|██████████| 105/105 [00:31<00:00,  3.37it/s]\n",
            "[VALID] : 100%|██████████| 45/45 [00:22<00:00,  2.03it/s]\n"
          ]
        },
        {
          "name": "stdout",
          "output_type": "stream",
          "text": [
            "=> Train Loss=0.6582, Val Loss=0.5760 |  Train Acc=0.8999,  Val Acc=0.8847\n",
            "=====================================Epoch: 9 / 30=====================================\n"
          ]
        },
        {
          "name": "stderr",
          "output_type": "stream",
          "text": [
            "[TRAIN] : 100%|██████████| 105/105 [00:30<00:00,  3.39it/s]\n",
            "[VALID] : 100%|██████████| 45/45 [00:25<00:00,  1.77it/s]\n"
          ]
        },
        {
          "name": "stdout",
          "output_type": "stream",
          "text": [
            "=> Train Loss=0.6011, Val Loss=0.5446 |  Train Acc=0.9065,  Val Acc=0.8986\n",
            "=====================================Epoch: 10 / 30=====================================\n"
          ]
        },
        {
          "name": "stderr",
          "output_type": "stream",
          "text": [
            "[TRAIN] : 100%|██████████| 105/105 [00:32<00:00,  3.22it/s]\n",
            "[VALID] : 100%|██████████| 45/45 [00:23<00:00,  1.93it/s]\n"
          ]
        },
        {
          "name": "stdout",
          "output_type": "stream",
          "text": [
            "=> Train Loss=0.5419, Val Loss=0.4884 |  Train Acc=0.9136,  Val Acc=0.9069\n",
            "=====================================Epoch: 11 / 30=====================================\n"
          ]
        },
        {
          "name": "stderr",
          "output_type": "stream",
          "text": [
            "[TRAIN] : 100%|██████████| 105/105 [00:32<00:00,  3.23it/s]\n",
            "[VALID] : 100%|██████████| 45/45 [00:25<00:00,  1.78it/s]\n"
          ]
        },
        {
          "name": "stdout",
          "output_type": "stream",
          "text": [
            "=> Train Loss=0.5090, Val Loss=0.4532 |  Train Acc=0.9119,  Val Acc=0.9222\n",
            "=====================================Epoch: 12 / 30=====================================\n"
          ]
        },
        {
          "name": "stderr",
          "output_type": "stream",
          "text": [
            "[TRAIN] : 100%|██████████| 105/105 [00:30<00:00,  3.45it/s]\n",
            "[VALID] : 100%|██████████| 45/45 [00:25<00:00,  1.77it/s]\n"
          ]
        },
        {
          "name": "stdout",
          "output_type": "stream",
          "text": [
            "=> Train Loss=0.4756, Val Loss=0.4627 |  Train Acc=0.9172,  Val Acc=0.9125\n",
            "=====================================Epoch: 13 / 30=====================================\n"
          ]
        },
        {
          "name": "stderr",
          "output_type": "stream",
          "text": [
            "[TRAIN] : 100%|██████████| 105/105 [00:29<00:00,  3.59it/s]\n",
            "[VALID] : 100%|██████████| 45/45 [00:22<00:00,  2.02it/s]\n"
          ]
        },
        {
          "name": "stdout",
          "output_type": "stream",
          "text": [
            "=> Train Loss=0.4451, Val Loss=0.4184 |  Train Acc=0.9214,  Val Acc=0.9153\n",
            "=====================================Epoch: 14 / 30=====================================\n"
          ]
        },
        {
          "name": "stderr",
          "output_type": "stream",
          "text": [
            "[TRAIN] : 100%|██████████| 105/105 [00:30<00:00,  3.42it/s]\n",
            "[VALID] : 100%|██████████| 45/45 [00:22<00:00,  2.02it/s]\n"
          ]
        },
        {
          "name": "stdout",
          "output_type": "stream",
          "text": [
            "=> Train Loss=0.3951, Val Loss=0.4100 |  Train Acc=0.9381,  Val Acc=0.9153\n",
            "=====================================Epoch: 15 / 30=====================================\n"
          ]
        },
        {
          "name": "stderr",
          "output_type": "stream",
          "text": [
            "[TRAIN] : 100%|██████████| 105/105 [00:30<00:00,  3.40it/s]\n",
            "[VALID] : 100%|██████████| 45/45 [00:22<00:00,  2.04it/s]\n"
          ]
        },
        {
          "name": "stdout",
          "output_type": "stream",
          "text": [
            "=> Train Loss=0.3997, Val Loss=0.3778 |  Train Acc=0.9232,  Val Acc=0.9264\n",
            "=====================================Epoch: 16 / 30=====================================\n"
          ]
        },
        {
          "name": "stderr",
          "output_type": "stream",
          "text": [
            "[TRAIN] : 100%|██████████| 105/105 [00:30<00:00,  3.43it/s]\n",
            "[VALID] : 100%|██████████| 45/45 [00:25<00:00,  1.75it/s]\n"
          ]
        },
        {
          "name": "stdout",
          "output_type": "stream",
          "text": [
            "=> Train Loss=0.3598, Val Loss=0.3721 |  Train Acc=0.9357,  Val Acc=0.9125\n",
            "=====================================Epoch: 17 / 30=====================================\n"
          ]
        },
        {
          "name": "stderr",
          "output_type": "stream",
          "text": [
            "[TRAIN] : 100%|██████████| 105/105 [00:31<00:00,  3.33it/s]\n",
            "[VALID] : 100%|██████████| 45/45 [00:22<00:00,  2.04it/s]\n"
          ]
        },
        {
          "name": "stdout",
          "output_type": "stream",
          "text": [
            "=> Train Loss=0.3346, Val Loss=0.3703 |  Train Acc=0.9404,  Val Acc=0.9194\n",
            "=====================================Epoch: 18 / 30=====================================\n"
          ]
        },
        {
          "name": "stderr",
          "output_type": "stream",
          "text": [
            "[TRAIN] : 100%|██████████| 105/105 [00:30<00:00,  3.41it/s]\n",
            "[VALID] : 100%|██████████| 45/45 [00:22<00:00,  1.97it/s]\n"
          ]
        },
        {
          "name": "stdout",
          "output_type": "stream",
          "text": [
            "=> Train Loss=0.3365, Val Loss=0.3556 |  Train Acc=0.9351,  Val Acc=0.9250\n",
            "=====================================Epoch: 19 / 30=====================================\n"
          ]
        },
        {
          "name": "stderr",
          "output_type": "stream",
          "text": [
            "[TRAIN] : 100%|██████████| 105/105 [00:33<00:00,  3.10it/s]\n",
            "[VALID] : 100%|██████████| 45/45 [00:22<00:00,  1.96it/s]\n"
          ]
        },
        {
          "name": "stdout",
          "output_type": "stream",
          "text": [
            "=> Train Loss=0.3194, Val Loss=0.3485 |  Train Acc=0.9434,  Val Acc=0.9153\n",
            "=====================================Epoch: 20 / 30=====================================\n"
          ]
        },
        {
          "name": "stderr",
          "output_type": "stream",
          "text": [
            "[TRAIN] : 100%|██████████| 105/105 [00:30<00:00,  3.46it/s]\n",
            "[VALID] : 100%|██████████| 45/45 [00:21<00:00,  2.07it/s]\n"
          ]
        },
        {
          "name": "stdout",
          "output_type": "stream",
          "text": [
            "=> Train Loss=0.3123, Val Loss=0.3403 |  Train Acc=0.9375,  Val Acc=0.9222\n",
            "=====================================Epoch: 21 / 30=====================================\n"
          ]
        },
        {
          "name": "stderr",
          "output_type": "stream",
          "text": [
            "[TRAIN] : 100%|██████████| 105/105 [00:30<00:00,  3.44it/s]\n",
            "[VALID] : 100%|██████████| 45/45 [00:29<00:00,  1.54it/s]\n"
          ]
        },
        {
          "name": "stdout",
          "output_type": "stream",
          "text": [
            "=> Train Loss=0.2839, Val Loss=0.3179 |  Train Acc=0.9381,  Val Acc=0.9306\n",
            "=====================================Epoch: 22 / 30=====================================\n"
          ]
        },
        {
          "name": "stderr",
          "output_type": "stream",
          "text": [
            "[TRAIN] : 100%|██████████| 105/105 [01:27<00:00,  1.20it/s]\n",
            "[VALID] : 100%|██████████| 45/45 [00:41<00:00,  1.09it/s]\n"
          ]
        },
        {
          "name": "stdout",
          "output_type": "stream",
          "text": [
            "=> Train Loss=0.2719, Val Loss=0.2943 |  Train Acc=0.9422,  Val Acc=0.9417\n",
            "=====================================Epoch: 23 / 30=====================================\n"
          ]
        },
        {
          "name": "stderr",
          "output_type": "stream",
          "text": [
            "[TRAIN] : 100%|██████████| 105/105 [00:47<00:00,  2.22it/s]\n",
            "[VALID] : 100%|██████████| 45/45 [00:42<00:00,  1.05it/s]\n"
          ]
        },
        {
          "name": "stdout",
          "output_type": "stream",
          "text": [
            "=> Train Loss=0.2669, Val Loss=0.3001 |  Train Acc=0.9470,  Val Acc=0.9444\n",
            "=====================================Epoch: 24 / 30=====================================\n"
          ]
        },
        {
          "name": "stderr",
          "output_type": "stream",
          "text": [
            "[TRAIN] : 100%|██████████| 105/105 [01:19<00:00,  1.32it/s]\n",
            "[VALID] : 100%|██████████| 45/45 [00:37<00:00,  1.20it/s]\n"
          ]
        },
        {
          "name": "stdout",
          "output_type": "stream",
          "text": [
            "=> Train Loss=0.2541, Val Loss=0.2828 |  Train Acc=0.9482,  Val Acc=0.9417\n",
            "=====================================Epoch: 25 / 30=====================================\n"
          ]
        },
        {
          "name": "stderr",
          "output_type": "stream",
          "text": [
            "[TRAIN] : 100%|██████████| 105/105 [01:22<00:00,  1.27it/s]\n",
            "[VALID] : 100%|██████████| 45/45 [00:43<00:00,  1.03it/s]\n"
          ]
        },
        {
          "name": "stdout",
          "output_type": "stream",
          "text": [
            "=> Train Loss=0.2464, Val Loss=0.2782 |  Train Acc=0.9547,  Val Acc=0.9375\n",
            "=====================================Epoch: 26 / 30=====================================\n"
          ]
        },
        {
          "name": "stderr",
          "output_type": "stream",
          "text": [
            "[TRAIN] : 100%|██████████| 105/105 [00:38<00:00,  2.75it/s]\n",
            "[VALID] : 100%|██████████| 45/45 [00:26<00:00,  1.69it/s]\n"
          ]
        },
        {
          "name": "stdout",
          "output_type": "stream",
          "text": [
            "=> Train Loss=0.2420, Val Loss=0.2925 |  Train Acc=0.9482,  Val Acc=0.9375\n",
            "=====================================Epoch: 27 / 30=====================================\n"
          ]
        },
        {
          "name": "stderr",
          "output_type": "stream",
          "text": [
            "[TRAIN] : 100%|██████████| 105/105 [00:32<00:00,  3.26it/s]\n",
            "[VALID] : 100%|██████████| 45/45 [00:28<00:00,  1.56it/s]\n"
          ]
        },
        {
          "name": "stdout",
          "output_type": "stream",
          "text": [
            "=> Train Loss=0.2318, Val Loss=0.2810 |  Train Acc=0.9529,  Val Acc=0.9389\n",
            "=====================================Epoch: 28 / 30=====================================\n"
          ]
        },
        {
          "name": "stderr",
          "output_type": "stream",
          "text": [
            "[TRAIN] : 100%|██████████| 105/105 [00:31<00:00,  3.36it/s]\n",
            "[VALID] : 100%|██████████| 45/45 [00:26<00:00,  1.69it/s]\n"
          ]
        },
        {
          "name": "stdout",
          "output_type": "stream",
          "text": [
            "=> Train Loss=0.2110, Val Loss=0.2714 |  Train Acc=0.9595,  Val Acc=0.9444\n",
            "=====================================Epoch: 29 / 30=====================================\n"
          ]
        },
        {
          "name": "stderr",
          "output_type": "stream",
          "text": [
            "[TRAIN] : 100%|██████████| 105/105 [00:31<00:00,  3.32it/s]\n",
            "[VALID] : 100%|██████████| 45/45 [00:26<00:00,  1.67it/s]\n"
          ]
        },
        {
          "name": "stdout",
          "output_type": "stream",
          "text": [
            "=> Train Loss=0.1910, Val Loss=0.2681 |  Train Acc=0.9571,  Val Acc=0.9347\n",
            "=====================================Epoch: 30 / 30=====================================\n"
          ]
        },
        {
          "name": "stderr",
          "output_type": "stream",
          "text": [
            "[TRAIN] : 100%|██████████| 105/105 [00:29<00:00,  3.56it/s]\n",
            "[VALID] : 100%|██████████| 45/45 [00:22<00:00,  1.98it/s]"
          ]
        },
        {
          "name": "stdout",
          "output_type": "stream",
          "text": [
            "=> Train Loss=0.2123, Val Loss=0.2591 |  Train Acc=0.9535,  Val Acc=0.9458\n"
          ]
        },
        {
          "name": "stderr",
          "output_type": "stream",
          "text": [
            "\n"
          ]
        }
      ],
      "source": [
        "baseline_history = train_and_validate(torch_baseline_model, criterion, optimizer, enhanced_train_loader, enhanced_test_loader, device, num_epochs=epochs)"
      ]
    },
    {
      "cell_type": "code",
      "execution_count": 26,
      "metadata": {},
      "outputs": [
        {
          "name": "stderr",
          "output_type": "stream",
          "text": [
            "Epoch 1/30: 100%|██████████████████| 105/105 [01:08<00:00,  1.52batch/s, accuracy=0.537, loss=0.116]\n"
          ]
        },
        {
          "name": "stdout",
          "output_type": "stream",
          "text": [
            "Epoch 1/30: Train Loss=1.8477, Train Acc=0.5372, Val Loss=1.2906, Val Acc=0.7278\n"
          ]
        },
        {
          "name": "stderr",
          "output_type": "stream",
          "text": [
            "Epoch 2/30: 100%|█████████████████| 105/105 [01:07<00:00,  1.54batch/s, accuracy=0.743, loss=0.0713]\n"
          ]
        },
        {
          "name": "stdout",
          "output_type": "stream",
          "text": [
            "Epoch 2/30: Train Loss=1.1403, Train Acc=0.7427, Val Loss=0.9360, Val Acc=0.8017\n"
          ]
        },
        {
          "name": "stderr",
          "output_type": "stream",
          "text": [
            "Epoch 3/30: 100%|█████████████████| 105/105 [01:08<00:00,  1.54batch/s, accuracy=0.797, loss=0.0548]\n"
          ]
        },
        {
          "name": "stdout",
          "output_type": "stream",
          "text": [
            "Epoch 3/30: Train Loss=0.8763, Train Acc=0.7969, Val Loss=0.7541, Val Acc=0.8376\n"
          ]
        },
        {
          "name": "stderr",
          "output_type": "stream",
          "text": [
            "Epoch 4/30: 100%|█████████████████| 105/105 [01:08<00:00,  1.54batch/s, accuracy=0.831, loss=0.0446]\n"
          ]
        },
        {
          "name": "stdout",
          "output_type": "stream",
          "text": [
            "Epoch 4/30: Train Loss=0.7139, Train Acc=0.8309, Val Loss=0.6539, Val Acc=0.8544\n"
          ]
        },
        {
          "name": "stderr",
          "output_type": "stream",
          "text": [
            "Epoch 5/30: 100%|█████████████████| 105/105 [01:07<00:00,  1.55batch/s, accuracy=0.848, loss=0.0399]\n"
          ]
        },
        {
          "name": "stdout",
          "output_type": "stream",
          "text": [
            "Epoch 5/30: Train Loss=0.6386, Train Acc=0.8481, Val Loss=0.6087, Val Acc=0.8333\n"
          ]
        },
        {
          "name": "stderr",
          "output_type": "stream",
          "text": [
            "Epoch 6/30: 100%|██████████████████| 105/105 [01:08<00:00,  1.54batch/s, accuracy=0.87, loss=0.0353]\n"
          ]
        },
        {
          "name": "stdout",
          "output_type": "stream",
          "text": [
            "Epoch 6/30: Train Loss=0.5641, Train Acc=0.8702, Val Loss=0.5147, Val Acc=0.8861\n"
          ]
        },
        {
          "name": "stderr",
          "output_type": "stream",
          "text": [
            "Epoch 7/30: 100%|█████████████████| 105/105 [01:08<00:00,  1.54batch/s, accuracy=0.896, loss=0.0305]\n"
          ]
        },
        {
          "name": "stdout",
          "output_type": "stream",
          "text": [
            "Epoch 7/30: Train Loss=0.4874, Train Acc=0.8964, Val Loss=0.4717, Val Acc=0.8945\n"
          ]
        },
        {
          "name": "stderr",
          "output_type": "stream",
          "text": [
            "Epoch 8/30: 100%|█████████████████| 105/105 [01:08<00:00,  1.54batch/s, accuracy=0.905, loss=0.0282]\n"
          ]
        },
        {
          "name": "stdout",
          "output_type": "stream",
          "text": [
            "Epoch 8/30: Train Loss=0.4503, Train Acc=0.9047, Val Loss=0.4456, Val Acc=0.8966\n"
          ]
        },
        {
          "name": "stderr",
          "output_type": "stream",
          "text": [
            "Epoch 9/30: 100%|██████████████████| 105/105 [01:08<00:00,  1.54batch/s, accuracy=0.917, loss=0.026]\n"
          ]
        },
        {
          "name": "stdout",
          "output_type": "stream",
          "text": [
            "Epoch 9/30: Train Loss=0.4154, Train Acc=0.9172, Val Loss=0.4141, Val Acc=0.8924\n"
          ]
        },
        {
          "name": "stderr",
          "output_type": "stream",
          "text": [
            "Epoch 10/30: 100%|█████████████████| 105/105 [01:07<00:00,  1.54batch/s, accuracy=0.92, loss=0.0234]\n"
          ]
        },
        {
          "name": "stdout",
          "output_type": "stream",
          "text": [
            "Epoch 10/30: Train Loss=0.3740, Train Acc=0.9196, Val Loss=0.3816, Val Acc=0.9051\n"
          ]
        },
        {
          "name": "stderr",
          "output_type": "stream",
          "text": [
            "Epoch 11/30: 100%|█████████████████| 105/105 [01:07<00:00,  1.55batch/s, accuracy=0.93, loss=0.0217]\n"
          ]
        },
        {
          "name": "stdout",
          "output_type": "stream",
          "text": [
            "Epoch 11/30: Train Loss=0.3473, Train Acc=0.9297, Val Loss=0.3501, Val Acc=0.9114\n"
          ]
        },
        {
          "name": "stderr",
          "output_type": "stream",
          "text": [
            "Epoch 12/30: 100%|████████████████| 105/105 [01:08<00:00,  1.54batch/s, accuracy=0.937, loss=0.0193]\n"
          ]
        },
        {
          "name": "stdout",
          "output_type": "stream",
          "text": [
            "Epoch 12/30: Train Loss=0.3083, Train Acc=0.9369, Val Loss=0.3320, Val Acc=0.9219\n"
          ]
        },
        {
          "name": "stderr",
          "output_type": "stream",
          "text": [
            "Epoch 13/30: 100%|████████████████| 105/105 [01:07<00:00,  1.54batch/s, accuracy=0.927, loss=0.0195]\n"
          ]
        },
        {
          "name": "stdout",
          "output_type": "stream",
          "text": [
            "Epoch 13/30: Train Loss=0.3126, Train Acc=0.9273, Val Loss=0.3446, Val Acc=0.9156\n"
          ]
        },
        {
          "name": "stderr",
          "output_type": "stream",
          "text": [
            "Epoch 14/30: 100%|████████████████| 105/105 [01:08<00:00,  1.54batch/s, accuracy=0.926, loss=0.0189]\n"
          ]
        },
        {
          "name": "stdout",
          "output_type": "stream",
          "text": [
            "Epoch 14/30: Train Loss=0.3027, Train Acc=0.9261, Val Loss=0.3178, Val Acc=0.9198\n"
          ]
        },
        {
          "name": "stderr",
          "output_type": "stream",
          "text": [
            "Epoch 15/30: 100%|████████████████| 105/105 [01:07<00:00,  1.55batch/s, accuracy=0.943, loss=0.0174]\n"
          ]
        },
        {
          "name": "stdout",
          "output_type": "stream",
          "text": [
            "Epoch 15/30: Train Loss=0.2789, Train Acc=0.9434, Val Loss=0.3026, Val Acc=0.9114\n"
          ]
        },
        {
          "name": "stderr",
          "output_type": "stream",
          "text": [
            "Epoch 16/30: 100%|████████████████| 105/105 [01:07<00:00,  1.55batch/s, accuracy=0.932, loss=0.0165]\n"
          ]
        },
        {
          "name": "stdout",
          "output_type": "stream",
          "text": [
            "Epoch 16/30: Train Loss=0.2643, Train Acc=0.9315, Val Loss=0.2741, Val Acc=0.9283\n"
          ]
        },
        {
          "name": "stderr",
          "output_type": "stream",
          "text": [
            "Epoch 17/30: 100%|████████████████| 105/105 [01:07<00:00,  1.54batch/s, accuracy=0.947, loss=0.0151]\n"
          ]
        },
        {
          "name": "stdout",
          "output_type": "stream",
          "text": [
            "Epoch 17/30: Train Loss=0.2408, Train Acc=0.9470, Val Loss=0.2641, Val Acc=0.9367\n"
          ]
        },
        {
          "name": "stderr",
          "output_type": "stream",
          "text": [
            "Epoch 18/30: 100%|████████████████| 105/105 [01:15<00:00,  1.40batch/s, accuracy=0.958, loss=0.0145]\n"
          ]
        },
        {
          "name": "stdout",
          "output_type": "stream",
          "text": [
            "Epoch 18/30: Train Loss=0.2311, Train Acc=0.9577, Val Loss=0.2596, Val Acc=0.9304\n"
          ]
        },
        {
          "name": "stderr",
          "output_type": "stream",
          "text": [
            "Epoch 19/30: 100%|████████████████| 105/105 [01:11<00:00,  1.48batch/s, accuracy=0.942, loss=0.0151]\n"
          ]
        },
        {
          "name": "stdout",
          "output_type": "stream",
          "text": [
            "Epoch 19/30: Train Loss=0.2408, Train Acc=0.9416, Val Loss=0.2616, Val Acc=0.9304\n"
          ]
        },
        {
          "name": "stderr",
          "output_type": "stream",
          "text": [
            "Epoch 20/30: 100%|████████████████| 105/105 [01:09<00:00,  1.52batch/s, accuracy=0.955, loss=0.0136]\n"
          ]
        },
        {
          "name": "stdout",
          "output_type": "stream",
          "text": [
            "Epoch 20/30: Train Loss=0.2171, Train Acc=0.9547, Val Loss=0.2626, Val Acc=0.9198\n"
          ]
        },
        {
          "name": "stderr",
          "output_type": "stream",
          "text": [
            "Epoch 21/30: 100%|████████████████| 105/105 [01:11<00:00,  1.47batch/s, accuracy=0.952, loss=0.0136]\n"
          ]
        },
        {
          "name": "stdout",
          "output_type": "stream",
          "text": [
            "Epoch 21/30: Train Loss=0.2175, Train Acc=0.9524, Val Loss=0.2582, Val Acc=0.9304\n"
          ]
        },
        {
          "name": "stderr",
          "output_type": "stream",
          "text": [
            "Epoch 22/30: 100%|████████████████| 105/105 [01:17<00:00,  1.36batch/s, accuracy=0.951, loss=0.0132]\n"
          ]
        },
        {
          "name": "stdout",
          "output_type": "stream",
          "text": [
            "Epoch 22/30: Train Loss=0.2104, Train Acc=0.9512, Val Loss=0.2411, Val Acc=0.9409\n"
          ]
        },
        {
          "name": "stderr",
          "output_type": "stream",
          "text": [
            "Epoch 23/30: 100%|████████████████| 105/105 [01:16<00:00,  1.36batch/s, accuracy=0.961, loss=0.0118]\n"
          ]
        },
        {
          "name": "stdout",
          "output_type": "stream",
          "text": [
            "Epoch 23/30: Train Loss=0.1894, Train Acc=0.9607, Val Loss=0.2402, Val Acc=0.9241\n"
          ]
        },
        {
          "name": "stderr",
          "output_type": "stream",
          "text": [
            "Epoch 24/30: 100%|████████████████| 105/105 [00:34<00:00,  3.02batch/s, accuracy=0.957, loss=0.0121]\n"
          ]
        },
        {
          "name": "stdout",
          "output_type": "stream",
          "text": [
            "Epoch 24/30: Train Loss=0.1936, Train Acc=0.9565, Val Loss=0.2300, Val Acc=0.9409\n"
          ]
        },
        {
          "name": "stderr",
          "output_type": "stream",
          "text": [
            "Epoch 25/30: 100%|████████████████| 105/105 [00:36<00:00,  2.91batch/s, accuracy=0.956, loss=0.0116]\n"
          ]
        },
        {
          "name": "stdout",
          "output_type": "stream",
          "text": [
            "Epoch 25/30: Train Loss=0.1861, Train Acc=0.9559, Val Loss=0.2345, Val Acc=0.9304\n"
          ]
        },
        {
          "name": "stderr",
          "output_type": "stream",
          "text": [
            "Epoch 26/30: 100%|█████████████████| 105/105 [00:36<00:00,  2.85batch/s, accuracy=0.959, loss=0.011]\n"
          ]
        },
        {
          "name": "stdout",
          "output_type": "stream",
          "text": [
            "Epoch 26/30: Train Loss=0.1756, Train Acc=0.9595, Val Loss=0.2141, Val Acc=0.9367\n"
          ]
        },
        {
          "name": "stderr",
          "output_type": "stream",
          "text": [
            "Epoch 27/30: 100%|████████████████| 105/105 [00:41<00:00,  2.52batch/s, accuracy=0.966, loss=0.0106]\n"
          ]
        },
        {
          "name": "stdout",
          "output_type": "stream",
          "text": [
            "Epoch 27/30: Train Loss=0.1697, Train Acc=0.9661, Val Loss=0.2042, Val Acc=0.9430\n"
          ]
        },
        {
          "name": "stderr",
          "output_type": "stream",
          "text": [
            "Epoch 28/30: 100%|████████████████| 105/105 [00:59<00:00,  1.78batch/s, accuracy=0.965, loss=0.0105]\n"
          ]
        },
        {
          "name": "stdout",
          "output_type": "stream",
          "text": [
            "Epoch 28/30: Train Loss=0.1683, Train Acc=0.9649, Val Loss=0.2027, Val Acc=0.9473\n"
          ]
        },
        {
          "name": "stderr",
          "output_type": "stream",
          "text": [
            "Epoch 29/30: 100%|███████████████| 105/105 [00:45<00:00,  2.33batch/s, accuracy=0.964, loss=0.00987]\n"
          ]
        },
        {
          "name": "stdout",
          "output_type": "stream",
          "text": [
            "Epoch 29/30: Train Loss=0.1578, Train Acc=0.9643, Val Loss=0.2216, Val Acc=0.9367\n"
          ]
        },
        {
          "name": "stderr",
          "output_type": "stream",
          "text": [
            "Epoch 30/30: 100%|███████████████| 105/105 [01:17<00:00,  1.35batch/s, accuracy=0.966, loss=0.00969]\n"
          ]
        },
        {
          "name": "stdout",
          "output_type": "stream",
          "text": [
            "Epoch 30/30: Train Loss=0.1549, Train Acc=0.9661, Val Loss=0.1916, Val Acc=0.9494\n"
          ]
        }
      ],
      "source": [
        "baseline_history = train_model(torch_baseline_model, train_loader, test_loader, optimizer, criterion, epochs=epochs, device=device)"
      ]
    },
    {
      "cell_type": "code",
      "execution_count": 21,
      "metadata": {},
      "outputs": [
        {
          "name": "stderr",
          "output_type": "stream",
          "text": [
            "Epoch 1/30: 100%|██████████████████| 105/105 [01:12<00:00,  1.45batch/s, accuracy=0.566, loss=0.112]\n"
          ]
        },
        {
          "name": "stdout",
          "output_type": "stream",
          "text": [
            "Epoch 1/30: Train Loss=1.7848, Train Acc=0.5664, Val Loss=1.2548, Val Acc=0.7110\n"
          ]
        },
        {
          "name": "stderr",
          "output_type": "stream",
          "text": [
            "Epoch 2/30: 100%|█████████████████| 105/105 [01:12<00:00,  1.46batch/s, accuracy=0.751, loss=0.0689]\n"
          ]
        },
        {
          "name": "stdout",
          "output_type": "stream",
          "text": [
            "Epoch 2/30: Train Loss=1.1017, Train Acc=0.7510, Val Loss=0.9302, Val Acc=0.7890\n"
          ]
        },
        {
          "name": "stderr",
          "output_type": "stream",
          "text": [
            "Epoch 3/30: 100%|██████████████████| 105/105 [01:12<00:00,  1.46batch/s, accuracy=0.789, loss=0.055]\n"
          ]
        },
        {
          "name": "stdout",
          "output_type": "stream",
          "text": [
            "Epoch 3/30: Train Loss=0.8789, Train Acc=0.7886, Val Loss=0.7782, Val Acc=0.8439\n"
          ]
        },
        {
          "name": "stderr",
          "output_type": "stream",
          "text": [
            "Epoch 4/30: 100%|█████████████████| 105/105 [01:11<00:00,  1.46batch/s, accuracy=0.828, loss=0.0455]\n"
          ]
        },
        {
          "name": "stdout",
          "output_type": "stream",
          "text": [
            "Epoch 4/30: Train Loss=0.7273, Train Acc=0.8279, Val Loss=0.6632, Val Acc=0.8460\n"
          ]
        },
        {
          "name": "stderr",
          "output_type": "stream",
          "text": [
            "Epoch 5/30: 100%|█████████████████| 105/105 [01:12<00:00,  1.46batch/s, accuracy=0.863, loss=0.0384]\n"
          ]
        },
        {
          "name": "stdout",
          "output_type": "stream",
          "text": [
            "Epoch 5/30: Train Loss=0.6137, Train Acc=0.8630, Val Loss=0.5894, Val Acc=0.8671\n"
          ]
        },
        {
          "name": "stderr",
          "output_type": "stream",
          "text": [
            "Epoch 6/30: 100%|█████████████████| 105/105 [01:11<00:00,  1.46batch/s, accuracy=0.885, loss=0.0335]\n"
          ]
        },
        {
          "name": "stdout",
          "output_type": "stream",
          "text": [
            "Epoch 6/30: Train Loss=0.5359, Train Acc=0.8851, Val Loss=0.5385, Val Acc=0.8671\n"
          ]
        },
        {
          "name": "stderr",
          "output_type": "stream",
          "text": [
            "Epoch 7/30: 100%|██████████████████| 105/105 [01:11<00:00,  1.47batch/s, accuracy=0.89, loss=0.0312]\n"
          ]
        },
        {
          "name": "stdout",
          "output_type": "stream",
          "text": [
            "Epoch 7/30: Train Loss=0.4990, Train Acc=0.8898, Val Loss=0.4726, Val Acc=0.8987\n"
          ]
        },
        {
          "name": "stderr",
          "output_type": "stream",
          "text": [
            "Epoch 8/30: 100%|█████████████████| 105/105 [01:13<00:00,  1.43batch/s, accuracy=0.911, loss=0.0269]\n"
          ]
        },
        {
          "name": "stdout",
          "output_type": "stream",
          "text": [
            "Epoch 8/30: Train Loss=0.4309, Train Acc=0.9113, Val Loss=0.4604, Val Acc=0.8840\n"
          ]
        },
        {
          "name": "stderr",
          "output_type": "stream",
          "text": [
            "Epoch 9/30: 100%|█████████████████| 105/105 [01:23<00:00,  1.25batch/s, accuracy=0.902, loss=0.0262]\n"
          ]
        },
        {
          "name": "stdout",
          "output_type": "stream",
          "text": [
            "Epoch 9/30: Train Loss=0.4187, Train Acc=0.9017, Val Loss=0.4252, Val Acc=0.8924\n"
          ]
        },
        {
          "name": "stderr",
          "output_type": "stream",
          "text": [
            "Epoch 10/30: 100%|████████████████| 105/105 [01:16<00:00,  1.36batch/s, accuracy=0.921, loss=0.0239]\n"
          ]
        },
        {
          "name": "stdout",
          "output_type": "stream",
          "text": [
            "Epoch 10/30: Train Loss=0.3816, Train Acc=0.9214, Val Loss=0.3981, Val Acc=0.9093\n"
          ]
        },
        {
          "name": "stderr",
          "output_type": "stream",
          "text": [
            "Epoch 11/30: 100%|████████████████| 105/105 [01:17<00:00,  1.35batch/s, accuracy=0.923, loss=0.0222]\n"
          ]
        },
        {
          "name": "stdout",
          "output_type": "stream",
          "text": [
            "Epoch 11/30: Train Loss=0.3546, Train Acc=0.9232, Val Loss=0.3622, Val Acc=0.9177\n"
          ]
        },
        {
          "name": "stderr",
          "output_type": "stream",
          "text": [
            "Epoch 12/30: 100%|████████████████| 105/105 [01:12<00:00,  1.46batch/s, accuracy=0.921, loss=0.0212]\n"
          ]
        },
        {
          "name": "stdout",
          "output_type": "stream",
          "text": [
            "Epoch 12/30: Train Loss=0.3395, Train Acc=0.9208, Val Loss=0.3637, Val Acc=0.9072\n"
          ]
        },
        {
          "name": "stderr",
          "output_type": "stream",
          "text": [
            "Epoch 13/30: 100%|█████████████████| 105/105 [01:11<00:00,  1.46batch/s, accuracy=0.93, loss=0.0196]\n"
          ]
        },
        {
          "name": "stdout",
          "output_type": "stream",
          "text": [
            "Epoch 13/30: Train Loss=0.3131, Train Acc=0.9303, Val Loss=0.3345, Val Acc=0.9051\n"
          ]
        },
        {
          "name": "stderr",
          "output_type": "stream",
          "text": [
            "Epoch 14/30: 100%|████████████████| 105/105 [01:11<00:00,  1.47batch/s, accuracy=0.939, loss=0.0179]\n"
          ]
        },
        {
          "name": "stdout",
          "output_type": "stream",
          "text": [
            "Epoch 14/30: Train Loss=0.2868, Train Acc=0.9392, Val Loss=0.3183, Val Acc=0.9219\n"
          ]
        },
        {
          "name": "stderr",
          "output_type": "stream",
          "text": [
            "Epoch 15/30: 100%|████████████████| 105/105 [01:11<00:00,  1.46batch/s, accuracy=0.939, loss=0.0175]\n"
          ]
        },
        {
          "name": "stdout",
          "output_type": "stream",
          "text": [
            "Epoch 15/30: Train Loss=0.2791, Train Acc=0.9387, Val Loss=0.2925, Val Acc=0.9283\n"
          ]
        },
        {
          "name": "stderr",
          "output_type": "stream",
          "text": [
            "Epoch 16/30: 100%|█████████████████| 105/105 [01:11<00:00,  1.48batch/s, accuracy=0.945, loss=0.016]\n"
          ]
        },
        {
          "name": "stdout",
          "output_type": "stream",
          "text": [
            "Epoch 16/30: Train Loss=0.2555, Train Acc=0.9446, Val Loss=0.2973, Val Acc=0.9325\n"
          ]
        },
        {
          "name": "stderr",
          "output_type": "stream",
          "text": [
            "Epoch 17/30: 100%|████████████████| 105/105 [01:11<00:00,  1.47batch/s, accuracy=0.944, loss=0.0157]\n"
          ]
        },
        {
          "name": "stdout",
          "output_type": "stream",
          "text": [
            "Epoch 17/30: Train Loss=0.2517, Train Acc=0.9440, Val Loss=0.2789, Val Acc=0.9304\n"
          ]
        },
        {
          "name": "stderr",
          "output_type": "stream",
          "text": [
            "Epoch 18/30: 100%|████████████████| 105/105 [01:10<00:00,  1.48batch/s, accuracy=0.948, loss=0.0159]\n"
          ]
        },
        {
          "name": "stdout",
          "output_type": "stream",
          "text": [
            "Epoch 18/30: Train Loss=0.2540, Train Acc=0.9482, Val Loss=0.2667, Val Acc=0.9262\n"
          ]
        },
        {
          "name": "stderr",
          "output_type": "stream",
          "text": [
            "Epoch 19/30: 100%|████████████████| 105/105 [01:11<00:00,  1.46batch/s, accuracy=0.952, loss=0.0146]\n"
          ]
        },
        {
          "name": "stdout",
          "output_type": "stream",
          "text": [
            "Epoch 19/30: Train Loss=0.2327, Train Acc=0.9524, Val Loss=0.2635, Val Acc=0.9325\n"
          ]
        },
        {
          "name": "stderr",
          "output_type": "stream",
          "text": [
            "Epoch 20/30: 100%|████████████████| 105/105 [01:11<00:00,  1.48batch/s, accuracy=0.958, loss=0.0132]\n"
          ]
        },
        {
          "name": "stdout",
          "output_type": "stream",
          "text": [
            "Epoch 20/30: Train Loss=0.2110, Train Acc=0.9577, Val Loss=0.2614, Val Acc=0.9198\n"
          ]
        },
        {
          "name": "stderr",
          "output_type": "stream",
          "text": [
            "Epoch 21/30: 100%|████████████████| 105/105 [01:11<00:00,  1.46batch/s, accuracy=0.956, loss=0.0132]\n"
          ]
        },
        {
          "name": "stdout",
          "output_type": "stream",
          "text": [
            "Epoch 21/30: Train Loss=0.2111, Train Acc=0.9559, Val Loss=0.2464, Val Acc=0.9346\n"
          ]
        },
        {
          "name": "stderr",
          "output_type": "stream",
          "text": [
            "Epoch 22/30: 100%|████████████████| 105/105 [01:11<00:00,  1.47batch/s, accuracy=0.954, loss=0.0127]\n"
          ]
        },
        {
          "name": "stdout",
          "output_type": "stream",
          "text": [
            "Epoch 22/30: Train Loss=0.2032, Train Acc=0.9535, Val Loss=0.2440, Val Acc=0.9346\n"
          ]
        },
        {
          "name": "stderr",
          "output_type": "stream",
          "text": [
            "Epoch 23/30: 100%|████████████████| 105/105 [01:11<00:00,  1.47batch/s, accuracy=0.961, loss=0.0116]\n"
          ]
        },
        {
          "name": "stdout",
          "output_type": "stream",
          "text": [
            "Epoch 23/30: Train Loss=0.1857, Train Acc=0.9607, Val Loss=0.2319, Val Acc=0.9346\n"
          ]
        },
        {
          "name": "stderr",
          "output_type": "stream",
          "text": [
            "Epoch 24/30: 100%|████████████████| 105/105 [01:11<00:00,  1.48batch/s, accuracy=0.962, loss=0.0118]\n"
          ]
        },
        {
          "name": "stdout",
          "output_type": "stream",
          "text": [
            "Epoch 24/30: Train Loss=0.1882, Train Acc=0.9625, Val Loss=0.2272, Val Acc=0.9409\n"
          ]
        },
        {
          "name": "stderr",
          "output_type": "stream",
          "text": [
            "Epoch 25/30: 100%|█████████████████| 105/105 [01:11<00:00,  1.46batch/s, accuracy=0.959, loss=0.012]\n"
          ]
        },
        {
          "name": "stdout",
          "output_type": "stream",
          "text": [
            "Epoch 25/30: Train Loss=0.1911, Train Acc=0.9595, Val Loss=0.2201, Val Acc=0.9325\n"
          ]
        },
        {
          "name": "stderr",
          "output_type": "stream",
          "text": [
            "Epoch 26/30: 100%|████████████████| 105/105 [01:11<00:00,  1.47batch/s, accuracy=0.967, loss=0.0115]\n"
          ]
        },
        {
          "name": "stdout",
          "output_type": "stream",
          "text": [
            "Epoch 26/30: Train Loss=0.1834, Train Acc=0.9672, Val Loss=0.2284, Val Acc=0.9367\n"
          ]
        },
        {
          "name": "stderr",
          "output_type": "stream",
          "text": [
            "Epoch 27/30: 100%|████████████████| 105/105 [01:09<00:00,  1.52batch/s, accuracy=0.965, loss=0.0105]\n"
          ]
        },
        {
          "name": "stdout",
          "output_type": "stream",
          "text": [
            "Epoch 27/30: Train Loss=0.1682, Train Acc=0.9655, Val Loss=0.2045, Val Acc=0.9473\n"
          ]
        },
        {
          "name": "stderr",
          "output_type": "stream",
          "text": [
            "Epoch 28/30: 100%|████████████████| 105/105 [01:09<00:00,  1.51batch/s, accuracy=0.961, loss=0.0111]\n"
          ]
        },
        {
          "name": "stdout",
          "output_type": "stream",
          "text": [
            "Epoch 28/30: Train Loss=0.1780, Train Acc=0.9613, Val Loss=0.2138, Val Acc=0.9367\n"
          ]
        },
        {
          "name": "stderr",
          "output_type": "stream",
          "text": [
            "Epoch 29/30: 100%|████████████████| 105/105 [01:09<00:00,  1.51batch/s, accuracy=0.973, loss=0.0095]\n"
          ]
        },
        {
          "name": "stdout",
          "output_type": "stream",
          "text": [
            "Epoch 29/30: Train Loss=0.1519, Train Acc=0.9732, Val Loss=0.2141, Val Acc=0.9451\n"
          ]
        },
        {
          "name": "stderr",
          "output_type": "stream",
          "text": [
            "Epoch 30/30: 100%|████████████████| 105/105 [01:09<00:00,  1.51batch/s, accuracy=0.97, loss=0.00981]\n"
          ]
        },
        {
          "name": "stdout",
          "output_type": "stream",
          "text": [
            "Epoch 30/30: Train Loss=0.1569, Train Acc=0.9696, Val Loss=0.2292, Val Acc=0.9346\n"
          ]
        }
      ],
      "source": [
        "baseline_history = train_model(torch_baseline_model, enhanced_train_loader, enhanced_test_loader, optimizer, criterion, epochs=epochs, device=device)"
      ]
    },
    {
      "cell_type": "code",
      "execution_count": 95,
      "metadata": {},
      "outputs": [
        {
          "name": "stderr",
          "output_type": "stream",
          "text": [
            "Epoch 1/30: 100%|██████████████████| 105/105 [00:37<00:00,  2.81batch/s, accuracy=0.412, loss=0.163]\n"
          ]
        },
        {
          "name": "stdout",
          "output_type": "stream",
          "text": [
            "Epoch 1/30: Train Loss=2.6045, Train Acc=0.4116, Val Loss=2.0646, Val Acc=0.6266\n"
          ]
        },
        {
          "name": "stderr",
          "output_type": "stream",
          "text": [
            "Epoch 2/30: 100%|██████████████████| 105/105 [00:35<00:00,  2.93batch/s, accuracy=0.675, loss=0.121]\n"
          ]
        },
        {
          "name": "stdout",
          "output_type": "stream",
          "text": [
            "Epoch 2/30: Train Loss=1.9406, Train Acc=0.6748, Val Loss=1.6359, Val Acc=0.7194\n"
          ]
        },
        {
          "name": "stderr",
          "output_type": "stream",
          "text": [
            "Epoch 3/30: 100%|███████████████████| 105/105 [00:41<00:00,  2.52batch/s, accuracy=0.76, loss=0.101]\n"
          ]
        },
        {
          "name": "stdout",
          "output_type": "stream",
          "text": [
            "Epoch 3/30: Train Loss=1.6185, Train Acc=0.7600, Val Loss=1.4322, Val Acc=0.7405\n"
          ]
        },
        {
          "name": "stderr",
          "output_type": "stream",
          "text": [
            "Epoch 4/30: 100%|█████████████████| 105/105 [00:39<00:00,  2.69batch/s, accuracy=0.788, loss=0.0893]\n"
          ]
        },
        {
          "name": "stdout",
          "output_type": "stream",
          "text": [
            "Epoch 4/30: Train Loss=1.4274, Train Acc=0.7880, Val Loss=1.2784, Val Acc=0.7848\n"
          ]
        },
        {
          "name": "stderr",
          "output_type": "stream",
          "text": [
            "Epoch 5/30: 100%|█████████████████| 105/105 [00:36<00:00,  2.87batch/s, accuracy=0.813, loss=0.0784]\n"
          ]
        },
        {
          "name": "stdout",
          "output_type": "stream",
          "text": [
            "Epoch 5/30: Train Loss=1.2534, Train Acc=0.8130, Val Loss=1.1974, Val Acc=0.7764\n"
          ]
        },
        {
          "name": "stderr",
          "output_type": "stream",
          "text": [
            "Epoch 6/30: 100%|█████████████████| 105/105 [00:37<00:00,  2.77batch/s, accuracy=0.826, loss=0.0725]\n"
          ]
        },
        {
          "name": "stdout",
          "output_type": "stream",
          "text": [
            "Epoch 6/30: Train Loss=1.1593, Train Acc=0.8261, Val Loss=1.1088, Val Acc=0.8101\n"
          ]
        },
        {
          "name": "stderr",
          "output_type": "stream",
          "text": [
            "Epoch 7/30: 100%|█████████████████| 105/105 [01:11<00:00,  1.47batch/s, accuracy=0.838, loss=0.0655]\n"
          ]
        },
        {
          "name": "stdout",
          "output_type": "stream",
          "text": [
            "Epoch 7/30: Train Loss=1.0479, Train Acc=0.8380, Val Loss=1.0001, Val Acc=0.8165\n"
          ]
        },
        {
          "name": "stderr",
          "output_type": "stream",
          "text": [
            "Epoch 8/30: 100%|██████████████████| 105/105 [01:10<00:00,  1.49batch/s, accuracy=0.85, loss=0.0588]\n"
          ]
        },
        {
          "name": "stdout",
          "output_type": "stream",
          "text": [
            "Epoch 8/30: Train Loss=0.9408, Train Acc=0.8499, Val Loss=0.9085, Val Acc=0.8523\n"
          ]
        },
        {
          "name": "stderr",
          "output_type": "stream",
          "text": [
            "Epoch 9/30: 100%|█████████████████| 105/105 [01:10<00:00,  1.49batch/s, accuracy=0.846, loss=0.0572]\n"
          ]
        },
        {
          "name": "stdout",
          "output_type": "stream",
          "text": [
            "Epoch 9/30: Train Loss=0.9149, Train Acc=0.8457, Val Loss=0.8791, Val Acc=0.8439\n"
          ]
        },
        {
          "name": "stderr",
          "output_type": "stream",
          "text": [
            "Epoch 10/30: 100%|█████████████████| 105/105 [01:10<00:00,  1.49batch/s, accuracy=0.87, loss=0.0519]\n"
          ]
        },
        {
          "name": "stdout",
          "output_type": "stream",
          "text": [
            "Epoch 10/30: Train Loss=0.8295, Train Acc=0.8702, Val Loss=0.8327, Val Acc=0.8312\n"
          ]
        },
        {
          "name": "stderr",
          "output_type": "stream",
          "text": [
            "Epoch 11/30: 100%|████████████████| 105/105 [01:10<00:00,  1.49batch/s, accuracy=0.859, loss=0.0495]\n"
          ]
        },
        {
          "name": "stdout",
          "output_type": "stream",
          "text": [
            "Epoch 11/30: Train Loss=0.7921, Train Acc=0.8594, Val Loss=0.7921, Val Acc=0.8418\n"
          ]
        },
        {
          "name": "stderr",
          "output_type": "stream",
          "text": [
            "Epoch 12/30: 100%|████████████████| 105/105 [01:10<00:00,  1.49batch/s, accuracy=0.876, loss=0.0455]\n"
          ]
        },
        {
          "name": "stdout",
          "output_type": "stream",
          "text": [
            "Epoch 12/30: Train Loss=0.7277, Train Acc=0.8755, Val Loss=0.7676, Val Acc=0.8228\n"
          ]
        },
        {
          "name": "stderr",
          "output_type": "stream",
          "text": [
            "Epoch 13/30: 100%|████████████████| 105/105 [01:09<00:00,  1.50batch/s, accuracy=0.864, loss=0.0446]\n"
          ]
        },
        {
          "name": "stdout",
          "output_type": "stream",
          "text": [
            "Epoch 13/30: Train Loss=0.7135, Train Acc=0.8642, Val Loss=0.7351, Val Acc=0.8291\n"
          ]
        },
        {
          "name": "stderr",
          "output_type": "stream",
          "text": [
            "Epoch 14/30: 100%|████████████████| 105/105 [01:10<00:00,  1.48batch/s, accuracy=0.884, loss=0.0422]\n"
          ]
        },
        {
          "name": "stdout",
          "output_type": "stream",
          "text": [
            "Epoch 14/30: Train Loss=0.6740, Train Acc=0.8845, Val Loss=0.7184, Val Acc=0.8629\n"
          ]
        },
        {
          "name": "stderr",
          "output_type": "stream",
          "text": [
            "Epoch 15/30: 100%|████████████████| 105/105 [01:10<00:00,  1.49batch/s, accuracy=0.876, loss=0.0403]\n"
          ]
        },
        {
          "name": "stdout",
          "output_type": "stream",
          "text": [
            "Epoch 15/30: Train Loss=0.6452, Train Acc=0.8761, Val Loss=0.6888, Val Acc=0.8460\n"
          ]
        },
        {
          "name": "stderr",
          "output_type": "stream",
          "text": [
            "Epoch 16/30: 100%|████████████████| 105/105 [01:10<00:00,  1.49batch/s, accuracy=0.878, loss=0.0392]\n"
          ]
        },
        {
          "name": "stdout",
          "output_type": "stream",
          "text": [
            "Epoch 16/30: Train Loss=0.6263, Train Acc=0.8779, Val Loss=0.6426, Val Acc=0.8734\n"
          ]
        },
        {
          "name": "stderr",
          "output_type": "stream",
          "text": [
            "Epoch 17/30: 100%|████████████████| 105/105 [01:11<00:00,  1.48batch/s, accuracy=0.893, loss=0.0355]\n"
          ]
        },
        {
          "name": "stdout",
          "output_type": "stream",
          "text": [
            "Epoch 17/30: Train Loss=0.5682, Train Acc=0.8928, Val Loss=0.6662, Val Acc=0.8481\n"
          ]
        },
        {
          "name": "stderr",
          "output_type": "stream",
          "text": [
            "Epoch 18/30: 100%|████████████████| 105/105 [01:10<00:00,  1.49batch/s, accuracy=0.884, loss=0.0379]\n"
          ]
        },
        {
          "name": "stdout",
          "output_type": "stream",
          "text": [
            "Epoch 18/30: Train Loss=0.6061, Train Acc=0.8839, Val Loss=0.5926, Val Acc=0.8776\n"
          ]
        },
        {
          "name": "stderr",
          "output_type": "stream",
          "text": [
            "Epoch 19/30: 100%|████████████████| 105/105 [01:10<00:00,  1.50batch/s, accuracy=0.887, loss=0.0359]\n"
          ]
        },
        {
          "name": "stdout",
          "output_type": "stream",
          "text": [
            "Epoch 19/30: Train Loss=0.5735, Train Acc=0.8874, Val Loss=0.6518, Val Acc=0.8608\n"
          ]
        },
        {
          "name": "stderr",
          "output_type": "stream",
          "text": [
            "Epoch 20/30: 100%|████████████████| 105/105 [01:08<00:00,  1.54batch/s, accuracy=0.887, loss=0.0356]\n"
          ]
        },
        {
          "name": "stdout",
          "output_type": "stream",
          "text": [
            "Epoch 20/30: Train Loss=0.5686, Train Acc=0.8868, Val Loss=0.6362, Val Acc=0.8376\n"
          ]
        },
        {
          "name": "stderr",
          "output_type": "stream",
          "text": [
            "Epoch 21/30: 100%|████████████████| 105/105 [01:08<00:00,  1.53batch/s, accuracy=0.893, loss=0.0322]\n"
          ]
        },
        {
          "name": "stdout",
          "output_type": "stream",
          "text": [
            "Epoch 21/30: Train Loss=0.5146, Train Acc=0.8928, Val Loss=0.5936, Val Acc=0.8734\n"
          ]
        },
        {
          "name": "stderr",
          "output_type": "stream",
          "text": [
            "Epoch 22/30: 100%|████████████████| 105/105 [01:08<00:00,  1.54batch/s, accuracy=0.902, loss=0.0317]\n"
          ]
        },
        {
          "name": "stdout",
          "output_type": "stream",
          "text": [
            "Epoch 22/30: Train Loss=0.5070, Train Acc=0.9023, Val Loss=0.5789, Val Acc=0.8671\n"
          ]
        },
        {
          "name": "stderr",
          "output_type": "stream",
          "text": [
            "Epoch 23/30: 100%|█████████████████| 105/105 [01:09<00:00,  1.51batch/s, accuracy=0.902, loss=0.031]\n"
          ]
        },
        {
          "name": "stdout",
          "output_type": "stream",
          "text": [
            "Epoch 23/30: Train Loss=0.4960, Train Acc=0.9023, Val Loss=0.5591, Val Acc=0.8797\n"
          ]
        },
        {
          "name": "stderr",
          "output_type": "stream",
          "text": [
            "Epoch 24/30: 100%|█████████████████| 105/105 [01:08<00:00,  1.53batch/s, accuracy=0.894, loss=0.031]\n"
          ]
        },
        {
          "name": "stdout",
          "output_type": "stream",
          "text": [
            "Epoch 24/30: Train Loss=0.4960, Train Acc=0.8940, Val Loss=0.5675, Val Acc=0.8629\n"
          ]
        },
        {
          "name": "stderr",
          "output_type": "stream",
          "text": [
            "Epoch 25/30: 100%|████████████████| 105/105 [01:08<00:00,  1.52batch/s, accuracy=0.886, loss=0.0317]\n"
          ]
        },
        {
          "name": "stdout",
          "output_type": "stream",
          "text": [
            "Epoch 25/30: Train Loss=0.5066, Train Acc=0.8862, Val Loss=0.5585, Val Acc=0.8734\n"
          ]
        },
        {
          "name": "stderr",
          "output_type": "stream",
          "text": [
            "Epoch 26/30: 100%|████████████████| 105/105 [01:08<00:00,  1.54batch/s, accuracy=0.906, loss=0.0303]\n"
          ]
        },
        {
          "name": "stdout",
          "output_type": "stream",
          "text": [
            "Epoch 26/30: Train Loss=0.4845, Train Acc=0.9059, Val Loss=0.5371, Val Acc=0.8755\n"
          ]
        },
        {
          "name": "stderr",
          "output_type": "stream",
          "text": [
            "Epoch 27/30: 100%|████████████████| 105/105 [01:08<00:00,  1.53batch/s, accuracy=0.904, loss=0.0285]\n"
          ]
        },
        {
          "name": "stdout",
          "output_type": "stream",
          "text": [
            "Epoch 27/30: Train Loss=0.4563, Train Acc=0.9041, Val Loss=0.5372, Val Acc=0.8776\n"
          ]
        },
        {
          "name": "stderr",
          "output_type": "stream",
          "text": [
            "Epoch 28/30: 100%|████████████████| 105/105 [01:08<00:00,  1.54batch/s, accuracy=0.904, loss=0.0281]\n"
          ]
        },
        {
          "name": "stdout",
          "output_type": "stream",
          "text": [
            "Epoch 28/30: Train Loss=0.4490, Train Acc=0.9035, Val Loss=0.5330, Val Acc=0.8776\n"
          ]
        },
        {
          "name": "stderr",
          "output_type": "stream",
          "text": [
            "Epoch 29/30: 100%|████████████████| 105/105 [01:08<00:00,  1.53batch/s, accuracy=0.902, loss=0.0287]\n"
          ]
        },
        {
          "name": "stdout",
          "output_type": "stream",
          "text": [
            "Epoch 29/30: Train Loss=0.4587, Train Acc=0.9023, Val Loss=0.4956, Val Acc=0.8819\n"
          ]
        },
        {
          "name": "stderr",
          "output_type": "stream",
          "text": [
            "Epoch 30/30: 100%|████████████████| 105/105 [01:08<00:00,  1.54batch/s, accuracy=0.906, loss=0.0265]\n"
          ]
        },
        {
          "name": "stdout",
          "output_type": "stream",
          "text": [
            "Epoch 30/30: Train Loss=0.4237, Train Acc=0.9059, Val Loss=0.5236, Val Acc=0.8797\n"
          ]
        }
      ],
      "source": [
        "baseline_history = train_model(torch_baseline_model, train_loader, test_loader, optimizer, criterion, epochs=epochs, device=device)"
      ]
    },
    {
      "cell_type": "code",
      "execution_count": 100,
      "metadata": {},
      "outputs": [
        {
          "name": "stderr",
          "output_type": "stream",
          "text": [
            "Epoch 1/30: 100%|██████████████████| 105/105 [01:00<00:00,  1.73batch/s, accuracy=0.434, loss=0.161]\n"
          ]
        },
        {
          "name": "stdout",
          "output_type": "stream",
          "text": [
            "Epoch 1/30: Train Loss=2.5686, Train Acc=0.4336, Val Loss=2.0009, Val Acc=0.6414\n"
          ]
        },
        {
          "name": "stderr",
          "output_type": "stream",
          "text": [
            "Epoch 2/30: 100%|██████████████████| 105/105 [00:35<00:00,  2.99batch/s, accuracy=0.708, loss=0.122]\n"
          ]
        },
        {
          "name": "stdout",
          "output_type": "stream",
          "text": [
            "Epoch 2/30: Train Loss=1.9447, Train Acc=0.7076, Val Loss=1.6072, Val Acc=0.7257\n"
          ]
        },
        {
          "name": "stderr",
          "output_type": "stream",
          "text": [
            "Epoch 3/30: 100%|█████████████████| 105/105 [01:08<00:00,  1.54batch/s, accuracy=0.789, loss=0.0992]\n"
          ]
        },
        {
          "name": "stdout",
          "output_type": "stream",
          "text": [
            "Epoch 3/30: Train Loss=1.5860, Train Acc=0.7886, Val Loss=1.3522, Val Acc=0.8122\n"
          ]
        },
        {
          "name": "stderr",
          "output_type": "stream",
          "text": [
            "Epoch 4/30: 100%|█████████████████| 105/105 [01:08<00:00,  1.54batch/s, accuracy=0.805, loss=0.0878]\n"
          ]
        },
        {
          "name": "stdout",
          "output_type": "stream",
          "text": [
            "Epoch 4/30: Train Loss=1.4046, Train Acc=0.8046, Val Loss=1.2109, Val Acc=0.7996\n"
          ]
        },
        {
          "name": "stderr",
          "output_type": "stream",
          "text": [
            "Epoch 5/30: 100%|█████████████████| 105/105 [01:11<00:00,  1.47batch/s, accuracy=0.823, loss=0.0765]\n"
          ]
        },
        {
          "name": "stdout",
          "output_type": "stream",
          "text": [
            "Epoch 5/30: Train Loss=1.2238, Train Acc=0.8225, Val Loss=1.0931, Val Acc=0.7975\n"
          ]
        },
        {
          "name": "stderr",
          "output_type": "stream",
          "text": [
            "Epoch 6/30: 100%|█████████████████| 105/105 [01:10<00:00,  1.48batch/s, accuracy=0.838, loss=0.0707]\n"
          ]
        },
        {
          "name": "stdout",
          "output_type": "stream",
          "text": [
            "Epoch 6/30: Train Loss=1.1307, Train Acc=0.8380, Val Loss=1.0131, Val Acc=0.8165\n"
          ]
        },
        {
          "name": "stderr",
          "output_type": "stream",
          "text": [
            "Epoch 7/30: 100%|█████████████████| 105/105 [01:10<00:00,  1.48batch/s, accuracy=0.843, loss=0.0644]\n"
          ]
        },
        {
          "name": "stdout",
          "output_type": "stream",
          "text": [
            "Epoch 7/30: Train Loss=1.0298, Train Acc=0.8434, Val Loss=0.9408, Val Acc=0.8333\n"
          ]
        },
        {
          "name": "stderr",
          "output_type": "stream",
          "text": [
            "Epoch 8/30: 100%|██████████████████| 105/105 [00:48<00:00,  2.17batch/s, accuracy=0.86, loss=0.0573]\n"
          ]
        },
        {
          "name": "stdout",
          "output_type": "stream",
          "text": [
            "Epoch 8/30: Train Loss=0.9156, Train Acc=0.8600, Val Loss=0.8365, Val Acc=0.8502\n"
          ]
        },
        {
          "name": "stderr",
          "output_type": "stream",
          "text": [
            "Epoch 9/30: 100%|█████████████████| 105/105 [00:33<00:00,  3.11batch/s, accuracy=0.864, loss=0.0548]\n"
          ]
        },
        {
          "name": "stdout",
          "output_type": "stream",
          "text": [
            "Epoch 9/30: Train Loss=0.8762, Train Acc=0.8642, Val Loss=0.8220, Val Acc=0.8439\n"
          ]
        },
        {
          "name": "stderr",
          "output_type": "stream",
          "text": [
            "Epoch 10/30: 100%|████████████████| 105/105 [00:34<00:00,  3.02batch/s, accuracy=0.858, loss=0.0517]\n"
          ]
        },
        {
          "name": "stdout",
          "output_type": "stream",
          "text": [
            "Epoch 10/30: Train Loss=0.8260, Train Acc=0.8582, Val Loss=0.7427, Val Acc=0.8608\n"
          ]
        },
        {
          "name": "stderr",
          "output_type": "stream",
          "text": [
            "Epoch 11/30: 100%|████████████████| 105/105 [00:35<00:00,  2.99batch/s, accuracy=0.863, loss=0.0485]\n"
          ]
        },
        {
          "name": "stdout",
          "output_type": "stream",
          "text": [
            "Epoch 11/30: Train Loss=0.7762, Train Acc=0.8630, Val Loss=0.7004, Val Acc=0.8692\n"
          ]
        },
        {
          "name": "stderr",
          "output_type": "stream",
          "text": [
            "Epoch 12/30: 100%|████████████████| 105/105 [00:40<00:00,  2.58batch/s, accuracy=0.874, loss=0.0447]\n"
          ]
        },
        {
          "name": "stdout",
          "output_type": "stream",
          "text": [
            "Epoch 12/30: Train Loss=0.7147, Train Acc=0.8743, Val Loss=0.7105, Val Acc=0.8692\n"
          ]
        },
        {
          "name": "stderr",
          "output_type": "stream",
          "text": [
            "Epoch 13/30: 100%|████████████████| 105/105 [00:35<00:00,  2.99batch/s, accuracy=0.875, loss=0.0424]\n"
          ]
        },
        {
          "name": "stdout",
          "output_type": "stream",
          "text": [
            "Epoch 13/30: Train Loss=0.6778, Train Acc=0.8749, Val Loss=0.6802, Val Acc=0.8586\n"
          ]
        },
        {
          "name": "stderr",
          "output_type": "stream",
          "text": [
            "Epoch 14/30: 100%|████████████████| 105/105 [01:10<00:00,  1.49batch/s, accuracy=0.879, loss=0.0408]\n"
          ]
        },
        {
          "name": "stdout",
          "output_type": "stream",
          "text": [
            "Epoch 14/30: Train Loss=0.6516, Train Acc=0.8791, Val Loss=0.6427, Val Acc=0.8671\n"
          ]
        },
        {
          "name": "stderr",
          "output_type": "stream",
          "text": [
            "Epoch 15/30: 100%|████████████████| 105/105 [01:10<00:00,  1.49batch/s, accuracy=0.888, loss=0.0384]\n"
          ]
        },
        {
          "name": "stdout",
          "output_type": "stream",
          "text": [
            "Epoch 15/30: Train Loss=0.6133, Train Acc=0.8880, Val Loss=0.6548, Val Acc=0.8502\n"
          ]
        },
        {
          "name": "stderr",
          "output_type": "stream",
          "text": [
            "Epoch 16/30: 100%|████████████████| 105/105 [01:10<00:00,  1.49batch/s, accuracy=0.883, loss=0.0379]\n"
          ]
        },
        {
          "name": "stdout",
          "output_type": "stream",
          "text": [
            "Epoch 16/30: Train Loss=0.6064, Train Acc=0.8833, Val Loss=0.6258, Val Acc=0.8608\n"
          ]
        },
        {
          "name": "stderr",
          "output_type": "stream",
          "text": [
            "Epoch 17/30: 100%|████████████████| 105/105 [01:10<00:00,  1.49batch/s, accuracy=0.884, loss=0.0376]\n"
          ]
        },
        {
          "name": "stdout",
          "output_type": "stream",
          "text": [
            "Epoch 17/30: Train Loss=0.6016, Train Acc=0.8839, Val Loss=0.6105, Val Acc=0.8565\n"
          ]
        },
        {
          "name": "stderr",
          "output_type": "stream",
          "text": [
            "Epoch 18/30: 100%|██████████████████| 105/105 [01:10<00:00,  1.48batch/s, accuracy=0.89, loss=0.036]\n"
          ]
        },
        {
          "name": "stdout",
          "output_type": "stream",
          "text": [
            "Epoch 18/30: Train Loss=0.5753, Train Acc=0.8898, Val Loss=0.5792, Val Acc=0.8734\n"
          ]
        },
        {
          "name": "stderr",
          "output_type": "stream",
          "text": [
            "Epoch 19/30: 100%|████████████████| 105/105 [01:10<00:00,  1.48batch/s, accuracy=0.899, loss=0.0337]\n"
          ]
        },
        {
          "name": "stdout",
          "output_type": "stream",
          "text": [
            "Epoch 19/30: Train Loss=0.5396, Train Acc=0.8993, Val Loss=0.5738, Val Acc=0.8734\n"
          ]
        },
        {
          "name": "stderr",
          "output_type": "stream",
          "text": [
            "Epoch 20/30: 100%|█████████████████| 105/105 [01:10<00:00,  1.49batch/s, accuracy=0.893, loss=0.034]\n"
          ]
        },
        {
          "name": "stdout",
          "output_type": "stream",
          "text": [
            "Epoch 20/30: Train Loss=0.5432, Train Acc=0.8928, Val Loss=0.5146, Val Acc=0.8882\n"
          ]
        },
        {
          "name": "stderr",
          "output_type": "stream",
          "text": [
            "Epoch 21/30: 100%|████████████████| 105/105 [01:10<00:00,  1.49batch/s, accuracy=0.886, loss=0.0344]\n"
          ]
        },
        {
          "name": "stdout",
          "output_type": "stream",
          "text": [
            "Epoch 21/30: Train Loss=0.5499, Train Acc=0.8856, Val Loss=0.5386, Val Acc=0.8797\n"
          ]
        },
        {
          "name": "stderr",
          "output_type": "stream",
          "text": [
            "Epoch 22/30: 100%|████████████████| 105/105 [01:10<00:00,  1.48batch/s, accuracy=0.908, loss=0.0306]\n"
          ]
        },
        {
          "name": "stdout",
          "output_type": "stream",
          "text": [
            "Epoch 22/30: Train Loss=0.4892, Train Acc=0.9077, Val Loss=0.5341, Val Acc=0.8861\n"
          ]
        },
        {
          "name": "stderr",
          "output_type": "stream",
          "text": [
            "Epoch 23/30: 100%|████████████████| 105/105 [01:10<00:00,  1.48batch/s, accuracy=0.895, loss=0.0307]\n"
          ]
        },
        {
          "name": "stdout",
          "output_type": "stream",
          "text": [
            "Epoch 23/30: Train Loss=0.4905, Train Acc=0.8946, Val Loss=0.5133, Val Acc=0.8797\n"
          ]
        },
        {
          "name": "stderr",
          "output_type": "stream",
          "text": [
            "Epoch 24/30: 100%|████████████████| 105/105 [01:10<00:00,  1.48batch/s, accuracy=0.905, loss=0.0286]\n"
          ]
        },
        {
          "name": "stdout",
          "output_type": "stream",
          "text": [
            "Epoch 24/30: Train Loss=0.4570, Train Acc=0.9047, Val Loss=0.5077, Val Acc=0.8861\n"
          ]
        },
        {
          "name": "stderr",
          "output_type": "stream",
          "text": [
            "Epoch 25/30: 100%|████████████████| 105/105 [01:09<00:00,  1.52batch/s, accuracy=0.906, loss=0.0288]\n"
          ]
        },
        {
          "name": "stdout",
          "output_type": "stream",
          "text": [
            "Epoch 25/30: Train Loss=0.4605, Train Acc=0.9059, Val Loss=0.5194, Val Acc=0.8776\n"
          ]
        },
        {
          "name": "stderr",
          "output_type": "stream",
          "text": [
            "Epoch 26/30: 100%|██████████████████| 105/105 [01:09<00:00,  1.51batch/s, accuracy=0.9, loss=0.0286]\n"
          ]
        },
        {
          "name": "stdout",
          "output_type": "stream",
          "text": [
            "Epoch 26/30: Train Loss=0.4565, Train Acc=0.8999, Val Loss=0.5099, Val Acc=0.8776\n"
          ]
        },
        {
          "name": "stderr",
          "output_type": "stream",
          "text": [
            "Epoch 27/30: 100%|████████████████| 105/105 [01:09<00:00,  1.51batch/s, accuracy=0.904, loss=0.0281]\n"
          ]
        },
        {
          "name": "stdout",
          "output_type": "stream",
          "text": [
            "Epoch 27/30: Train Loss=0.4501, Train Acc=0.9035, Val Loss=0.5328, Val Acc=0.8544\n"
          ]
        },
        {
          "name": "stderr",
          "output_type": "stream",
          "text": [
            "Epoch 28/30: 100%|████████████████| 105/105 [01:11<00:00,  1.48batch/s, accuracy=0.908, loss=0.0264]\n"
          ]
        },
        {
          "name": "stdout",
          "output_type": "stream",
          "text": [
            "Epoch 28/30: Train Loss=0.4222, Train Acc=0.9077, Val Loss=0.4752, Val Acc=0.8797\n"
          ]
        },
        {
          "name": "stderr",
          "output_type": "stream",
          "text": [
            "Epoch 29/30: 100%|█████████████████| 105/105 [01:09<00:00,  1.52batch/s, accuracy=0.902, loss=0.027]\n"
          ]
        },
        {
          "name": "stdout",
          "output_type": "stream",
          "text": [
            "Epoch 29/30: Train Loss=0.4310, Train Acc=0.9023, Val Loss=0.4812, Val Acc=0.8797\n"
          ]
        },
        {
          "name": "stderr",
          "output_type": "stream",
          "text": [
            "Epoch 30/30: 100%|████████████████| 105/105 [00:36<00:00,  2.84batch/s, accuracy=0.899, loss=0.0277]\n"
          ]
        },
        {
          "name": "stdout",
          "output_type": "stream",
          "text": [
            "Epoch 30/30: Train Loss=0.4428, Train Acc=0.8987, Val Loss=0.4707, Val Acc=0.8924\n"
          ]
        }
      ],
      "source": [
        "baseline_history = train_model(torch_baseline_model, enhanced_train_loader, enhanced_test_loader, optimizer, criterion, epochs=epochs, device=device)"
      ]
    },
    {
      "cell_type": "markdown",
      "metadata": {},
      "source": [
        "**OLD**"
      ]
    },
    {
      "cell_type": "code",
      "execution_count": 96,
      "metadata": {},
      "outputs": [
        {
          "name": "stdout",
          "output_type": "stream",
          "text": [
            "\n",
            "Classification Report:\n",
            "                         precision    recall  f1-score   support\n",
            "\n",
            "   Abudefduf Vaigiensis       0.88      0.79      0.83        19\n",
            " Acanthurus Nigrofuscus       0.87      0.77      0.81        43\n",
            "   Balistapus Undulatus       0.80      1.00      0.89         8\n",
            " Canthigaster Valentini       0.84      0.93      0.89        29\n",
            " Chaetodon Trifascialis       0.85      0.76      0.81        38\n",
            "   Hemigymnus Fasciatus       0.95      0.85      0.90        48\n",
            "  Hemigymnus Melapterus       0.78      0.88      0.82         8\n",
            "        Lutjanus fulvus       1.00      0.95      0.97        41\n",
            "     Myripristis Kuntee       0.95      0.92      0.94        90\n",
            "Neoglyphidodon Nigroris       1.00      0.33      0.50         3\n",
            "      Neoniphon Sammara       0.98      1.00      0.99        59\n",
            " Pempheris Vanicolensis       0.36      1.00      0.53         5\n",
            "Pomacentrus Moluccensis       0.97      0.94      0.96        36\n",
            "               Scaridae       0.77      0.91      0.83        11\n",
            "    Scolopsis Bilineata       0.73      0.89      0.80         9\n",
            "     Siganus Fuscescens       0.36      1.00      0.53         5\n",
            "       Zanclus Cornutus       0.57      1.00      0.73         4\n",
            "       Zebrasoma Scopas       0.90      0.50      0.64        18\n",
            "\n",
            "               accuracy                           0.88       474\n",
            "              macro avg       0.81      0.86      0.80       474\n",
            "           weighted avg       0.91      0.88      0.88       474\n",
            "\n",
            "\n",
            "F1 Score: 0.8841\n",
            "Precision: 0.9057\n",
            "Recall: 0.8797\n",
            "Accuracy: 0.8797\n"
          ]
        }
      ],
      "source": [
        "# Test model and evaluate performance\n",
        "y_true, y_pred = test_model(torch_baseline_model, test_loader)\n",
        "\n",
        "print(\"\\nClassification Report:\")\n",
        "\n",
        "class_names = train_dataset.classes\n",
        "\n",
        "print(classification_report(y_true, y_pred, target_names=class_names))\n",
        "\n",
        "f1 = f1_score(y_true, y_pred, average='weighted')\n",
        "precision = precision_score(y_true, y_pred, average='weighted')\n",
        "recall = recall_score(y_true, y_pred, average='weighted')\n",
        "accuracy = accuracy_score(y_true, y_pred)\n",
        "\n",
        "print(f'\\nF1 Score: {f1:.4f}')\n",
        "print(f'Precision: {precision:.4f}')\n",
        "print(f'Recall: {recall:.4f}')\n",
        "print(f'Accuracy: {accuracy:.4f}')"
      ]
    },
    {
      "cell_type": "code",
      "execution_count": 101,
      "metadata": {},
      "outputs": [
        {
          "name": "stdout",
          "output_type": "stream",
          "text": [
            "\n",
            "Classification Report:\n",
            "                         precision    recall  f1-score   support\n",
            "\n",
            "   Abudefduf Vaigiensis       0.94      0.89      0.92        19\n",
            " Acanthurus Nigrofuscus       0.94      0.70      0.80        43\n",
            "   Balistapus Undulatus       0.89      1.00      0.94         8\n",
            " Canthigaster Valentini       0.87      0.93      0.90        29\n",
            " Chaetodon Trifascialis       0.86      0.84      0.85        38\n",
            "   Hemigymnus Fasciatus       0.96      0.90      0.92        48\n",
            "  Hemigymnus Melapterus       1.00      0.88      0.93         8\n",
            "        Lutjanus fulvus       0.98      0.98      0.98        41\n",
            "     Myripristis Kuntee       0.92      0.91      0.92        90\n",
            "Neoglyphidodon Nigroris       1.00      0.33      0.50         3\n",
            "      Neoniphon Sammara       0.98      1.00      0.99        59\n",
            " Pempheris Vanicolensis       0.33      1.00      0.50         5\n",
            "Pomacentrus Moluccensis       0.97      1.00      0.99        36\n",
            "               Scaridae       0.82      0.82      0.82        11\n",
            "    Scolopsis Bilineata       0.75      1.00      0.86         9\n",
            "     Siganus Fuscescens       0.62      1.00      0.77         5\n",
            "       Zanclus Cornutus       0.40      1.00      0.57         4\n",
            "       Zebrasoma Scopas       0.82      0.50      0.62        18\n",
            "\n",
            "               accuracy                           0.89       474\n",
            "              macro avg       0.84      0.87      0.82       474\n",
            "           weighted avg       0.91      0.89      0.90       474\n",
            "\n",
            "\n",
            "F1 Score: 0.8951\n",
            "Precision: 0.9139\n",
            "Recall: 0.8924\n",
            "Accuracy: 0.8924\n"
          ]
        }
      ],
      "source": [
        "# Test model and evaluate performance\n",
        "y_true, y_pred = test_model(torch_baseline_model, enhanced_test_loader)\n",
        "\n",
        "print(\"\\nClassification Report:\")\n",
        "\n",
        "class_names = train_dataset.classes\n",
        "\n",
        "print(classification_report(y_true, y_pred, target_names=class_names))\n",
        "\n",
        "f1 = f1_score(y_true, y_pred, average='weighted')\n",
        "precision = precision_score(y_true, y_pred, average='weighted')\n",
        "recall = recall_score(y_true, y_pred, average='weighted')\n",
        "accuracy = accuracy_score(y_true, y_pred)\n",
        "\n",
        "print(f'\\nF1 Score: {f1:.4f}')\n",
        "print(f'Precision: {precision:.4f}')\n",
        "print(f'Recall: {recall:.4f}')\n",
        "print(f'Accuracy: {accuracy:.4f}')"
      ]
    },
    {
      "cell_type": "markdown",
      "metadata": {},
      "source": [
        "**NEW** ADAMAX FC"
      ]
    },
    {
      "cell_type": "code",
      "execution_count": 27,
      "metadata": {},
      "outputs": [
        {
          "name": "stdout",
          "output_type": "stream",
          "text": [
            "\n",
            "Classification Report:\n",
            "                         precision    recall  f1-score   support\n",
            "\n",
            "   Abudefduf Vaigiensis       1.00      0.84      0.91        19\n",
            " Acanthurus Nigrofuscus       0.85      0.91      0.88        43\n",
            "   Balistapus Undulatus       1.00      0.88      0.93         8\n",
            " Canthigaster Valentini       0.88      1.00      0.94        29\n",
            " Chaetodon Trifascialis       0.97      0.87      0.92        38\n",
            "   Hemigymnus Fasciatus       0.94      0.96      0.95        48\n",
            "  Hemigymnus Melapterus       0.86      0.75      0.80         8\n",
            "        Lutjanus fulvus       0.98      1.00      0.99        41\n",
            "     Myripristis Kuntee       0.98      1.00      0.99        90\n",
            "Neoglyphidodon Nigroris       1.00      0.67      0.80         3\n",
            "      Neoniphon Sammara       1.00      1.00      1.00        59\n",
            " Pempheris Vanicolensis       1.00      1.00      1.00         5\n",
            "Pomacentrus Moluccensis       1.00      1.00      1.00        36\n",
            "               Scaridae       0.91      0.91      0.91        11\n",
            "    Scolopsis Bilineata       0.89      0.89      0.89         9\n",
            "     Siganus Fuscescens       1.00      0.80      0.89         5\n",
            "       Zanclus Cornutus       0.67      1.00      0.80         4\n",
            "       Zebrasoma Scopas       0.94      0.83      0.88        18\n",
            "\n",
            "               accuracy                           0.95       474\n",
            "              macro avg       0.94      0.91      0.92       474\n",
            "           weighted avg       0.95      0.95      0.95       474\n",
            "\n",
            "\n",
            "F1 Score: 0.9491\n",
            "Precision: 0.9522\n",
            "Recall: 0.9494\n",
            "Accuracy: 0.9494\n"
          ]
        }
      ],
      "source": [
        "# Test model and evaluate performance\n",
        "y_true, y_pred = test_model(torch_baseline_model, test_loader)\n",
        "\n",
        "print(\"\\nClassification Report:\")\n",
        "\n",
        "class_names = train_dataset.classes\n",
        "\n",
        "print(classification_report(y_true, y_pred, target_names=class_names))\n",
        "\n",
        "f1 = f1_score(y_true, y_pred, average='weighted')\n",
        "precision = precision_score(y_true, y_pred, average='weighted')\n",
        "recall = recall_score(y_true, y_pred, average='weighted')\n",
        "accuracy = accuracy_score(y_true, y_pred)\n",
        "\n",
        "print(f'\\nF1 Score: {f1:.4f}')\n",
        "print(f'Precision: {precision:.4f}')\n",
        "print(f'Recall: {recall:.4f}')\n",
        "print(f'Accuracy: {accuracy:.4f}')"
      ]
    },
    {
      "cell_type": "code",
      "execution_count": 63,
      "metadata": {},
      "outputs": [
        {
          "name": "stdout",
          "output_type": "stream",
          "text": [
            "\n",
            "Classification Report:\n",
            "                         precision    recall  f1-score   support\n",
            "\n",
            "   Abudefduf Vaigiensis       0.96      0.87      0.91        30\n",
            " Acanthurus Nigrofuscus       0.85      0.89      0.87        64\n",
            "   Balistapus Undulatus       1.00      0.77      0.87        13\n",
            " Canthigaster Valentini       0.88      0.98      0.92        43\n",
            " Chaetodon Trifascialis       0.93      0.91      0.92        57\n",
            "   Hemigymnus Fasciatus       0.96      0.92      0.94        72\n",
            "  Hemigymnus Melapterus       0.92      0.92      0.92        13\n",
            "        Lutjanus fulvus       1.00      1.00      1.00        61\n",
            "     Myripristis Kuntee       0.99      0.99      0.99       135\n",
            "Neoglyphidodon Nigroris       1.00      0.83      0.91         6\n",
            "      Neoniphon Sammara       1.00      0.99      0.99        88\n",
            " Pempheris Vanicolensis       0.90      1.00      0.95         9\n",
            "Pomacentrus Moluccensis       0.98      1.00      0.99        54\n",
            "               Scaridae       0.79      0.88      0.83        17\n",
            "    Scolopsis Bilineata       0.88      1.00      0.94        15\n",
            "     Siganus Fuscescens       0.78      0.88      0.82         8\n",
            "       Zanclus Cornutus       0.67      0.86      0.75         7\n",
            "       Zebrasoma Scopas       1.00      0.82      0.90        28\n",
            "\n",
            "               accuracy                           0.95       720\n",
            "              macro avg       0.92      0.92      0.91       720\n",
            "           weighted avg       0.95      0.95      0.95       720\n",
            "\n",
            "\n",
            "F1 Score: 0.9462\n",
            "Precision: 0.9492\n",
            "Recall: 0.9458\n",
            "Accuracy: 0.9458\n"
          ]
        }
      ],
      "source": [
        "# Test model and evaluate performance\n",
        "y_true, y_pred = test_model(torch_baseline_model, enhanced_test_loader)\n",
        "\n",
        "print(\"\\nClassification Report:\")\n",
        "\n",
        "class_names = train_dataset.classes\n",
        "\n",
        "print(classification_report(y_true, y_pred, target_names=class_names))\n",
        "\n",
        "f1 = f1_score(y_true, y_pred, average='weighted')\n",
        "precision = precision_score(y_true, y_pred, average='weighted')\n",
        "recall = recall_score(y_true, y_pred, average='weighted')\n",
        "accuracy = accuracy_score(y_true, y_pred)\n",
        "\n",
        "print(f'\\nF1 Score: {f1:.4f}')\n",
        "print(f'Precision: {precision:.4f}')\n",
        "print(f'Recall: {recall:.4f}')\n",
        "print(f'Accuracy: {accuracy:.4f}')"
      ]
    },
    {
      "cell_type": "code",
      "execution_count": 51,
      "metadata": {},
      "outputs": [
        {
          "name": "stdout",
          "output_type": "stream",
          "text": [
            "['Abudefduf Vaigiensis', 'Acanthurus Nigrofuscus', 'Balistapus Undulatus', 'Canthigaster Valentini', 'Chaetodon Trifascialis', 'Hemigymnus Fasciatus', 'Hemigymnus Melapterus', 'Lutjanus fulvus', 'Myripristis Kuntee', 'Neoglyphidodon Nigroris', 'Neoniphon Sammara', 'Pempheris Vanicolensis', 'Pomacentrus Moluccensis', 'Scaridae', 'Scolopsis Bilineata', 'Siganus Fuscescens', 'Zanclus Cornutus', 'Zebrasoma Scopas']\n",
            "Logits: tensor([[-1.0696,  0.2507, -1.1920, -3.9113, -1.8608, -0.8615, -2.2136,  1.5567,\n",
            "         -1.0376,  0.1705, -1.1154,  0.3584, -0.2793, -1.4290, -2.4604, -2.5903,\n",
            "         -1.8324, -1.0928]], device='cuda:0')\n"
          ]
        },
        {
          "data": {
            "image/png": "[encoded data removed]",
            "text/plain": [
              "<Figure size 640x480 with 1 Axes>"
            ]
          },
          "metadata": {},
          "output_type": "display_data"
        },
        {
          "name": "stdout",
          "output_type": "stream",
          "text": [
            "Predicted Class: Lutjanus fulvus\n",
            "Confidence: 38.46%\n",
            "Inference Time: 0.2694 seconds\n"
          ]
        }
      ],
      "source": [
        "class_labels = train_dataset.classes\n",
        "print(class_labels)\n",
        "\n",
        "\n",
        "image_path = \"./data/DATASET/TEST/Lutjanus fulvus/fish_000000819594_03407.png\"\n",
        "\n",
        "random_path = './sample_images/SAMPLE_LUTJANUS.jpg'\n",
        "predicted_class, confidence, prediction_time = predict_image_with_debug(torch_baseline_model, random_path, device, class_labels)\n",
        "\n",
        "\n",
        "predicted_class_label = predicted_class\n",
        "# confidence = prediction_probs.max().item()  # Get the highest probability\n",
        "# predicted_class_index = prediction_probs.argmax().item()  # Index of the predicted class\n",
        "\n",
        "\n",
        "print(f\"Predicted Class: {predicted_class_label}\")\n",
        "print(f\"Confidence: {confidence * 100:.2f}%\") \n",
        "print(f\"Inference Time: {prediction_time:.4f} seconds\")\n"
      ]
    },
    {
      "cell_type": "markdown",
      "metadata": {},
      "source": [
        "**OLD**"
      ]
    },
    {
      "cell_type": "code",
      "execution_count": 57,
      "metadata": {},
      "outputs": [
        {
          "data": {
            "image/png": "[encoded data removed]",
            "text/plain": [
              "<Figure size 1200x600 with 2 Axes>"
            ]
          },
          "metadata": {},
          "output_type": "display_data"
        }
      ],
      "source": [
        "#not enhanced\n",
        "plot_from_history(baseline_history)"
      ]
    },
    {
      "cell_type": "code",
      "execution_count": 102,
      "metadata": {},
      "outputs": [
        {
          "data": {
            "image/png": "[encoded data removed]",
            "text/plain": [
              "<Figure size 1200x600 with 2 Axes>"
            ]
          },
          "metadata": {},
          "output_type": "display_data"
        }
      ],
      "source": [
        "#enhanced\n",
        "plot_from_history(baseline_history)"
      ]
    },
    {
      "cell_type": "markdown",
      "metadata": {},
      "source": [
        "**NEW** with fc adamanaxx"
      ]
    },
    {
      "cell_type": "code",
      "execution_count": 28,
      "metadata": {},
      "outputs": [
        {
          "name": "stderr",
          "output_type": "stream",
          "text": [
            "Exception ignored in: <function _MultiProcessingDataLoaderIter.__del__ at 0x0000024BB77BF6A0>\n",
            "Traceback (most recent call last):\n",
            "  File \"d:\\workspace\\ThesisProject\\venv\\Lib\\site-packages\\torch\\utils\\data\\dataloader.py\", line 1618, in __del__\n",
            "    self._shutdown_workers()\n",
            "  File \"d:\\workspace\\ThesisProject\\venv\\Lib\\site-packages\\torch\\utils\\data\\dataloader.py\", line 1576, in _shutdown_workers\n",
            "    if self._persistent_workers or self._workers_status[worker_id]:\n",
            "                                   ^^^^^^^^^^^^^^^^^^^^\n",
            "AttributeError: '_MultiProcessingDataLoaderIter' object has no attribute '_workers_status'\n"
          ]
        },
        {
          "data": {
            "image/png": "[encoded data removed]",
            "text/plain": [
              "<Figure size 1200x600 with 2 Axes>"
            ]
          },
          "metadata": {},
          "output_type": "display_data"
        }
      ],
      "source": [
        "#not enhanced\n",
        "plot_from_history(baseline_history)"
      ]
    },
    {
      "cell_type": "code",
      "execution_count": 23,
      "metadata": {},
      "outputs": [
        {
          "data": {
            "image/png": "[encoded data removed]",
            "text/plain": [
              "<Figure size 1200x600 with 2 Axes>"
            ]
          },
          "metadata": {},
          "output_type": "display_data"
        }
      ],
      "source": [
        "#enhanced\n",
        "plot_from_history(baseline_history)"
      ]
    },
    {
      "cell_type": "markdown",
      "metadata": {},
      "source": [
        "**END======================================Save Model======================================END**"
      ]
    },
    {
      "cell_type": "code",
      "execution_count": 58,
      "metadata": {},
      "outputs": [],
      "source": [
        "import pandas as pd\n",
        "\n",
        "df = pd.DataFrame(baseline_history)\n",
        "df.to_csv('./saved_models/history/TrainAndValidate_Rightway_TEST3_torch_history_baselineb16notauglr001notenhancedtraintime_freezeAllEpoch30withclassweights.csv', index=False)\n",
        "torch.save(torch_baseline_model, './saved_models/model/TrainAndValidate_Rightway_TEST3_torch_baselineb16notauglr001notenhancedtraintime_freezeAllEpoch30withclassweights.pth')\n",
        "torch.save(torch_baseline_model.state_dict(), './saved_models/weights/TrainAndValidate_Rightway_TEST3_torch_weights_baselineb16notauglr001notenhancedtraintime_freezeAllEpoch30withclassweights.pth')"
      ]
    },
    {
      "cell_type": "code",
      "execution_count": 62,
      "metadata": {},
      "outputs": [],
      "source": [
        "import pandas as pd\n",
        "\n",
        "df = pd.DataFrame(baseline_history)\n",
        "df.to_csv('./saved_models/history/TrainAndValidate_Rightway_TEST3_torch_history_baselineb16notauglr001ENHANCEDtraintime_freezeAllEpoch30withclassweights.csv', index=False)\n",
        "torch.save(torch_baseline_model, './saved_models/model/TrainAndValidate_Rightway_TEST3_torch_baselineb16notauglr001ENHANCEDtraintime_freezeAllEpoch30withclassweights.pth')\n",
        "torch.save(torch_baseline_model.state_dict(), './saved_models/weights/TrainAndValidate_Rightway_TEST3_torch_weights_baselineb16notauglr001ENHANCEDtraintime_freezeAllEpoch30withclassweights.pth')"
      ]
    },
    {
      "cell_type": "markdown",
      "metadata": {
        "id": "jMltb08tQzg5"
      },
      "source": [
        "# Proposed"
      ]
    },
    {
      "cell_type": "code",
      "execution_count": 59,
      "metadata": {
        "id": "P-dmPjMDQ1tm"
      },
      "outputs": [
        {
          "name": "stdout",
          "output_type": "stream",
          "text": [
            "0 input_layer_5 False\n",
            "1 conv1_pad False\n",
            "2 conv1_conv False\n",
            "3 conv1_bn False\n",
            "4 conv1_relu False\n",
            "5 pool1_pad False\n",
            "6 pool1_pool False\n",
            "7 conv2_block1_1_conv False\n",
            "8 conv2_block1_1_bn False\n",
            "9 conv2_block1_1_relu False\n",
            "10 conv2_block1_2_conv False\n",
            "11 conv2_block1_2_bn False\n",
            "12 conv2_block1_2_relu False\n",
            "13 conv2_block1_0_conv False\n",
            "14 conv2_block1_3_conv False\n",
            "15 conv2_block1_0_bn False\n",
            "16 conv2_block1_3_bn False\n",
            "17 conv2_block1_add False\n",
            "18 conv2_block1_out False\n",
            "19 conv2_block2_1_conv False\n",
            "20 conv2_block2_1_bn False\n",
            "21 conv2_block2_1_relu False\n",
            "22 conv2_block2_2_conv False\n",
            "23 conv2_block2_2_bn False\n",
            "24 conv2_block2_2_relu False\n",
            "25 conv2_block2_3_conv False\n",
            "26 conv2_block2_3_bn False\n",
            "27 conv2_block2_add False\n",
            "28 conv2_block2_out False\n",
            "29 conv2_block3_1_conv False\n",
            "30 conv2_block3_1_bn False\n",
            "31 conv2_block3_1_relu False\n",
            "32 conv2_block3_2_conv False\n",
            "33 conv2_block3_2_bn False\n",
            "34 conv2_block3_2_relu False\n",
            "35 conv2_block3_3_conv False\n",
            "36 conv2_block3_3_bn False\n",
            "37 conv2_block3_add False\n",
            "38 conv2_block3_out False\n",
            "39 conv3_block1_1_conv False\n",
            "40 conv3_block1_1_bn False\n",
            "41 conv3_block1_1_relu False\n",
            "42 conv3_block1_2_conv False\n",
            "43 conv3_block1_2_bn False\n",
            "44 conv3_block1_2_relu False\n",
            "45 conv3_block1_0_conv False\n",
            "46 conv3_block1_3_conv False\n",
            "47 conv3_block1_0_bn False\n",
            "48 conv3_block1_3_bn False\n",
            "49 conv3_block1_add False\n",
            "50 conv3_block1_out False\n",
            "51 conv3_block2_1_conv False\n",
            "52 conv3_block2_1_bn False\n",
            "53 conv3_block2_1_relu False\n",
            "54 conv3_block2_2_conv False\n",
            "55 conv3_block2_2_bn False\n",
            "56 conv3_block2_2_relu False\n",
            "57 conv3_block2_3_conv False\n",
            "58 conv3_block2_3_bn False\n",
            "59 conv3_block2_add False\n",
            "60 conv3_block2_out False\n",
            "61 conv3_block3_1_conv False\n",
            "62 conv3_block3_1_bn False\n",
            "63 conv3_block3_1_relu False\n",
            "64 conv3_block3_2_conv False\n",
            "65 conv3_block3_2_bn False\n",
            "66 conv3_block3_2_relu False\n",
            "67 conv3_block3_3_conv False\n",
            "68 conv3_block3_3_bn False\n",
            "69 conv3_block3_add False\n",
            "70 conv3_block3_out False\n",
            "71 conv3_block4_1_conv False\n",
            "72 conv3_block4_1_bn False\n",
            "73 conv3_block4_1_relu False\n",
            "74 conv3_block4_2_conv False\n",
            "75 conv3_block4_2_bn False\n",
            "76 conv3_block4_2_relu False\n",
            "77 conv3_block4_3_conv False\n",
            "78 conv3_block4_3_bn False\n",
            "79 conv3_block4_add False\n",
            "80 conv3_block4_out False\n",
            "81 conv4_block1_1_conv False\n",
            "82 conv4_block1_1_bn False\n",
            "83 conv4_block1_1_relu False\n",
            "84 conv4_block1_2_conv False\n",
            "85 conv4_block1_2_bn False\n",
            "86 conv4_block1_2_relu False\n",
            "87 conv4_block1_0_conv False\n",
            "88 conv4_block1_3_conv False\n",
            "89 conv4_block1_0_bn False\n",
            "90 conv4_block1_3_bn False\n",
            "91 conv4_block1_add False\n",
            "92 conv4_block1_out False\n",
            "93 conv4_block2_1_conv False\n",
            "94 conv4_block2_1_bn False\n",
            "95 conv4_block2_1_relu False\n",
            "96 conv4_block2_2_conv False\n",
            "97 conv4_block2_2_bn False\n",
            "98 conv4_block2_2_relu False\n",
            "99 conv4_block2_3_conv False\n",
            "100 conv4_block2_3_bn False\n",
            "101 conv4_block2_add False\n",
            "102 conv4_block2_out False\n",
            "103 conv4_block3_1_conv False\n",
            "104 conv4_block3_1_bn False\n",
            "105 conv4_block3_1_relu False\n",
            "106 conv4_block3_2_conv False\n",
            "107 conv4_block3_2_bn False\n",
            "108 conv4_block3_2_relu False\n",
            "109 conv4_block3_3_conv False\n",
            "110 conv4_block3_3_bn False\n",
            "111 conv4_block3_add False\n",
            "112 conv4_block3_out False\n",
            "113 conv4_block4_1_conv False\n",
            "114 conv4_block4_1_bn False\n",
            "115 conv4_block4_1_relu False\n",
            "116 conv4_block4_2_conv False\n",
            "117 conv4_block4_2_bn False\n",
            "118 conv4_block4_2_relu False\n",
            "119 conv4_block4_3_conv False\n",
            "120 conv4_block4_3_bn False\n",
            "121 conv4_block4_add False\n",
            "122 conv4_block4_out False\n",
            "123 conv4_block5_1_conv False\n",
            "124 conv4_block5_1_bn False\n",
            "125 conv4_block5_1_relu False\n",
            "126 conv4_block5_2_conv False\n",
            "127 conv4_block5_2_bn False\n",
            "128 conv4_block5_2_relu False\n",
            "129 conv4_block5_3_conv False\n",
            "130 conv4_block5_3_bn False\n",
            "131 conv4_block5_add False\n",
            "132 conv4_block5_out False\n",
            "133 conv4_block6_1_conv False\n",
            "134 conv4_block6_1_bn False\n",
            "135 conv4_block6_1_relu False\n",
            "136 conv4_block6_2_conv False\n",
            "137 conv4_block6_2_bn False\n",
            "138 conv4_block6_2_relu False\n",
            "139 conv4_block6_3_conv False\n",
            "140 conv4_block6_3_bn False\n",
            "141 conv4_block6_add False\n",
            "142 conv4_block6_out False\n",
            "143 conv5_block1_1_conv True\n",
            "144 conv5_block1_1_bn True\n",
            "145 conv5_block1_1_relu True\n",
            "146 conv5_block1_2_conv True\n",
            "147 conv5_block1_2_bn True\n",
            "148 conv5_block1_2_relu True\n",
            "149 conv5_block1_0_conv True\n",
            "150 conv5_block1_3_conv True\n",
            "151 conv5_block1_0_bn True\n",
            "152 conv5_block1_3_bn True\n",
            "153 conv5_block1_add True\n",
            "154 conv5_block1_out True\n",
            "155 conv5_block2_1_conv True\n",
            "156 conv5_block2_1_bn True\n",
            "157 conv5_block2_1_relu True\n",
            "158 conv5_block2_2_conv True\n",
            "159 conv5_block2_2_bn True\n",
            "160 conv5_block2_2_relu True\n",
            "161 conv5_block2_3_conv True\n",
            "162 conv5_block2_3_bn True\n",
            "163 conv5_block2_add True\n",
            "164 conv5_block2_out True\n",
            "165 conv5_block3_1_conv True\n",
            "166 conv5_block3_1_bn True\n",
            "167 conv5_block3_1_relu True\n",
            "168 conv5_block3_2_conv True\n",
            "169 conv5_block3_2_bn True\n",
            "170 conv5_block3_2_relu True\n",
            "171 conv5_block3_3_conv True\n",
            "172 conv5_block3_3_bn True\n",
            "173 conv5_block3_add True\n",
            "174 conv5_block3_out True\n"
          ]
        }
      ],
      "source": [
        "baseline_model2 = ResNet50(weights='imagenet', include_top=False, input_shape=(224, 224, 3))\n",
        "\n",
        "for layer in baseline_model2.layers[:]:\n",
        "    layer.trainable = False\n",
        "\n",
        "\n",
        "for i, layer in enumerate(baseline_model2.layers):\n",
        "   print(i, layer.name, layer.trainable)\n"
      ]
    },
    {
      "cell_type": "code",
      "execution_count": 51,
      "metadata": {
        "id": "WnaAuFLLRC4Y"
      },
      "outputs": [],
      "source": [
        "x = baseline_model2.output\n",
        "\n",
        "\n",
        "\n",
        "\n",
        "\n",
        "\n",
        "\n",
        "proposed_gap = GlobalAveragePooling2D()(x)\n",
        "proposed_gmp = GlobalMaxPooling2D()(x)\n",
        "\n",
        "concat = Concatenate()([proposed_gap, proposed_gmp])\n",
        "\n",
        "x = Dropout(0.2)(concat) \n",
        "\n",
        "output_layer = Dense(18, activation=\"softmax\", name='classification_output')(x)\n",
        "\n",
        "# Final model\n",
        "model3 = Model(inputs=baseline_model2.input, outputs=output_layer, name=\"baseline_ResNet-50\")\n",
        "\n"
      ]
    },
    {
      "cell_type": "code",
      "execution_count": 52,
      "metadata": {
        "id": "wgFMzRO2kKBH"
      },
      "outputs": [],
      "source": [
        "\n",
        "initial_lr = 0.001\n",
        "\n",
        "optimizer = Adamax(learning_rate=initial_lr)\n",
        "\n",
        "model3.compile(optimizer=optimizer, loss='categorical_crossentropy', metrics=['accuracy'])\n"
      ]
    },
    {
      "cell_type": "code",
      "execution_count": 8,
      "metadata": {},
      "outputs": [
        {
          "name": "stdout",
          "output_type": "stream",
          "text": [
            "[0 0 0 0 0 0 0 0 0 0 0 0 0 0 0 0 0 0 0 0 0 1 1 1 1 1 1 1 1 1 1 1 1 1 1 2 2\n",
            " 2 2 2 2 2 2 2 2 2 2 2 2 2 2 2 2 2 3 3 3 3 3 3 3 3 3 3 3 3 3 3 3 3 3 3 3 3\n",
            " 3 3 3 3 4 4 4 4 4 4 4 4 4 4 4 4 4 4 4 4 4 4 4 4 5 5 5 5 5 5 5 5 5 5 5 5 5\n",
            " 5 5 5 5 5 5 5 5 5 5 5 5 5 5 5 5 5 5 5 5 5 5 5 5 5 5 5 5 5 5 5 5 6 6 6 6 6\n",
            " 6 6 6 6 6 6 6 6 6 6 6 6 6 6 6 6 6 6 6 6 6 6 6 6 7 7 7 7 7 7 7 7 7 7 7 7 7\n",
            " 7 7 7 7 7]\n",
            "{0: 1.130952380952381, 1: 1.6964285714285714, 2: 1.25, 3: 0.9895833333333334, 4: 1.1875, 5: 0.5277777777777778, 6: 0.8189655172413793, 7: 1.3194444444444444}\n"
          ]
        }
      ],
      "source": [
        "y_true = enhancedtest_generator.classes\n",
        "\n",
        "class_weights = class_weight.compute_class_weight(\n",
        "    class_weight='balanced',\n",
        "    classes=np.unique(y_true),\n",
        "    y=y_true \n",
        ")\n",
        "\n",
        "class_weight_dict = dict(enumerate(class_weights))\n",
        "print(y_true)\n",
        "\n",
        "print(class_weight_dict)"
      ]
    },
    {
      "cell_type": "code",
      "execution_count": 53,
      "metadata": {
        "colab": {
          "base_uri": "https://localhost:8080/"
        },
        "id": "XiXyFa1NRJOo",
        "outputId": "0218a235-97c7-4cf8-c56c-6f53f2462d1c"
      },
      "outputs": [
        {
          "name": "stdout",
          "output_type": "stream",
          "text": [
            "Epoch 1/5\n",
            "\u001b[1m53/53\u001b[0m \u001b[32m━━━━━━━━━━━━━━━━━━━━\u001b[0m\u001b[37m\u001b[0m \u001b[1m156s\u001b[0m 3s/step - accuracy: 0.6218 - loss: 5.1618 - val_accuracy: 0.8629 - val_loss: 1.0657\n",
            "Epoch 2/5\n",
            "\u001b[1m53/53\u001b[0m \u001b[32m━━━━━━━━━━━━━━━━━━━━\u001b[0m\u001b[37m\u001b[0m \u001b[1m147s\u001b[0m 3s/step - accuracy: 0.9555 - loss: 0.2029 - val_accuracy: 0.9451 - val_loss: 0.2478\n",
            "Epoch 3/5\n",
            "\u001b[1m53/53\u001b[0m \u001b[32m━━━━━━━━━━━━━━━━━━━━\u001b[0m\u001b[37m\u001b[0m \u001b[1m155s\u001b[0m 3s/step - accuracy: 0.9851 - loss: 0.0734 - val_accuracy: 0.9578 - val_loss: 0.2399\n",
            "Epoch 4/5\n",
            "\u001b[1m53/53\u001b[0m \u001b[32m━━━━━━━━━━━━━━━━━━━━\u001b[0m\u001b[37m\u001b[0m \u001b[1m169s\u001b[0m 3s/step - accuracy: 0.9870 - loss: 0.0687 - val_accuracy: 0.9789 - val_loss: 0.1011\n",
            "Epoch 5/5\n",
            "\u001b[1m53/53\u001b[0m \u001b[32m━━━━━━━━━━━━━━━━━━━━\u001b[0m\u001b[37m\u001b[0m \u001b[1m151s\u001b[0m 3s/step - accuracy: 0.9899 - loss: 0.0298 - val_accuracy: 0.9684 - val_loss: 0.1016\n"
          ]
        }
      ],
      "source": [
        "reduce_lr = ReduceLROnPlateau(monitor='val_loss', factor=0.2, patience=1, min_lr=0.00001)\n",
        "\n",
        "baseline_history3 = model3.fit(\n",
        "    train_generator,\n",
        "    validation_data = validation_generator,\n",
        "    epochs=5,\n",
        "    validation_freq=1,\n",
        "#    class_weight = class_weight_dict,\n",
        "    verbose=1,\n",
        "    #callbacks=[reduce_lr]\n",
        ")\n",
        "\n"
      ]
    },
    {
      "cell_type": "code",
      "execution_count": 54,
      "metadata": {},
      "outputs": [
        {
          "name": "stdout",
          "output_type": "stream",
          "text": [
            "\u001b[1m8/8\u001b[0m \u001b[32m━━━━━━━━━━━━━━━━━━━━\u001b[0m\u001b[37m\u001b[0m \u001b[1m11s\u001b[0m 1s/step - accuracy: 0.9826 - loss: 0.0834\n",
            "Test Accuracy: 97.56%\n"
          ]
        }
      ],
      "source": [
        "test_loss, test_acc = model3.evaluate(test_generator)\n",
        "print(f'Test Accuracy: {test_acc * 100:.2f}%')"
      ]
    },
    {
      "cell_type": "code",
      "execution_count": 14,
      "metadata": {},
      "outputs": [
        {
          "name": "stdout",
          "output_type": "stream",
          "text": [
            "\u001b[1m24/24\u001b[0m \u001b[32m━━━━━━━━━━━━━━━━━━━━\u001b[0m\u001b[37m\u001b[0m \u001b[1m9s\u001b[0m 383ms/step - accuracy: 0.8151 - loss: 0.7468\n",
            "Test Accuracy: 87.37%\n"
          ]
        }
      ],
      "source": [
        "test_loss, test_acc = model3.evaluate(enhancedtest_generator)\n",
        "print(f'Test Accuracy: {test_acc * 100:.2f}%')"
      ]
    },
    {
      "cell_type": "markdown",
      "metadata": {},
      "source": [
        "**END======================================Save Model======================================END**"
      ]
    },
    {
      "cell_type": "code",
      "execution_count": 78,
      "metadata": {},
      "outputs": [
        {
          "name": "stderr",
          "output_type": "stream",
          "text": [
            "WARNING:absl:You are saving your model as an HDF5 file via `model.save()` or `keras.saving.save_model(model)`. This file format is considered legacy. We recommend using instead the native Keras format, e.g. `model.save('my_model.keras')` or `keras.saving.save_model(model, 'my_model.keras')`. \n"
          ]
        }
      ],
      "source": [
        "model3.save('./saved_models/proposedb8augepoch5lr0001layer81acc91enhanced94.h5')\n",
        "\n",
        "with open('./saved_models/proposedb8augepoch5lr0001layer81acc91enhanced94_history.pkl', 'wb') as file:\n",
        "    pickle.dump(baseline_history3.history, file)"
      ]
    },
    {
      "cell_type": "markdown",
      "metadata": {},
      "source": [
        "**TEST THE MODEL**"
      ]
    },
    {
      "cell_type": "code",
      "execution_count": 55,
      "metadata": {},
      "outputs": [
        {
          "name": "stdout",
          "output_type": "stream",
          "text": [
            "\u001b[1m8/8\u001b[0m \u001b[32m━━━━━━━━━━━━━━━━━━━━\u001b[0m\u001b[37m\u001b[0m \u001b[1m15s\u001b[0m 2s/step\n",
            "True Label: 0, Predicted Label: 0\n",
            "True Label: 0, Predicted Label: 0\n",
            "True Label: 0, Predicted Label: 0\n",
            "True Label: 0, Predicted Label: 0\n",
            "True Label: 0, Predicted Label: 0\n",
            "True Label: 0, Predicted Label: 0\n",
            "True Label: 0, Predicted Label: 0\n",
            "True Label: 0, Predicted Label: 0\n",
            "True Label: 0, Predicted Label: 0\n",
            "True Label: 0, Predicted Label: 0\n",
            "Classification Report:\n",
            "                         precision    recall  f1-score   support\n",
            "\n",
            "   Abudefduf Vaigiensis       0.92      1.00      0.96        11\n",
            " Acanthurus Nigrofuscus       0.91      1.00      0.95        21\n",
            "   Balistapus Undulatus       1.00      1.00      1.00         5\n",
            " Canthigaster Valentini       1.00      0.93      0.96        14\n",
            " Chaetodon Trifascialis       0.95      0.95      0.95        19\n",
            "   Hemigymnus Fasciatus       1.00      1.00      1.00        24\n",
            "  Hemigymnus Melapterus       0.83      1.00      0.91         5\n",
            "        Lutjanus fulvus       0.95      1.00      0.98        20\n",
            "     Myripristis Kuntee       1.00      1.00      1.00        45\n",
            "Neoglyphidodon Nigroris       1.00      0.33      0.50         3\n",
            "      Neoniphon Sammara       1.00      0.97      0.98        29\n",
            " Pempheris Vanicolensis       1.00      1.00      1.00         4\n",
            "Pomacentrus Moluccensis       1.00      1.00      1.00        18\n",
            "               Scaridae       1.00      1.00      1.00         6\n",
            "    Scolopsis Bilineata       1.00      1.00      1.00         6\n",
            "     Siganus Fuscescens       1.00      1.00      1.00         3\n",
            "       Zanclus Cornutus       1.00      0.67      0.80         3\n",
            "       Zebrasoma Scopas       1.00      1.00      1.00        10\n",
            "\n",
            "               accuracy                           0.98       246\n",
            "              macro avg       0.98      0.94      0.94       246\n",
            "           weighted avg       0.98      0.98      0.97       246\n",
            "\n",
            "F1 Score: 0.9736\n",
            "Precision: 0.9775\n",
            "Recall: 0.9756\n",
            "Accuracy: 0.9756\n"
          ]
        }
      ],
      "source": [
        "y_pred = model3.predict(test_generator)\n",
        "y_pred_classes = y_pred.argmax(axis=1)  \n",
        "\n",
        "y_true = test_generator.classes\n",
        "\n",
        "\n",
        "for i in range(10):  # Checking the first 10 predictions\n",
        "    print(f\"True Label: {y_true[i]}, Predicted Label: {y_pred_classes[i]}\")\n",
        "\n",
        "print(\"Classification Report:\")\n",
        "print(classification_report(y_true, y_pred_classes, target_names=test_generator.class_indices.keys()))\n",
        "\n",
        "f1 = f1_score(y_true, y_pred_classes, average='weighted')\n",
        "precision = precision_score(y_true, y_pred_classes, average='weighted')\n",
        "recall = recall_score(y_true, y_pred_classes, average='weighted')\n",
        "accuracy = accuracy_score(y_true, y_pred_classes)\n",
        "\n",
        "print(f'F1 Score: {f1:.4f}')\n",
        "print(f'Precision: {precision:.4f}')\n",
        "print(f'Recall: {recall:.4f}')\n",
        "print(f'Accuracy: {accuracy:.4f}')"
      ]
    },
    {
      "cell_type": "code",
      "execution_count": 56,
      "metadata": {},
      "outputs": [
        {
          "data": {
            "image/png": "[encoded data removed]",
            "text/plain": [
              "<Figure size 640x480 with 1 Axes>"
            ]
          },
          "metadata": {},
          "output_type": "display_data"
        },
        {
          "data": {
            "image/png": "[encoded data removed]",
            "text/plain": [
              "<Figure size 640x480 with 1 Axes>"
            ]
          },
          "metadata": {},
          "output_type": "display_data"
        }
      ],
      "source": [
        "# Plot the Loss\n",
        "\n",
        "plt.plot(baseline_history3.history['loss'], label = 'train_loss')\n",
        "plt.plot(baseline_history3.history['val_loss'], label ='val loss')\n",
        "plt.legend()\n",
        "plt.show()\n",
        "# plt.savefig('LossVal_loss')\n",
        "\n",
        "# Plot the Accuracy\n",
        "plt.plot(baseline_history3.history['accuracy'], label = 'train accuracy')\n",
        "plt.plot(baseline_history3.history['val_accuracy'], label ='val accuracy')\n",
        "plt.legend()\n",
        "plt.show()\n",
        "# plt.savefig('valAccuracy')\n"
      ]
    },
    {
      "cell_type": "markdown",
      "metadata": {},
      "source": [
        "# PYTORCH (PROPOSED)"
      ]
    },
    {
      "cell_type": "code",
      "execution_count": null,
      "metadata": {},
      "outputs": [
        {
          "name": "stdout",
          "output_type": "stream",
          "text": [
            ": True\n",
            "base_model: False\n",
            "base_model.0: False\n",
            "base_model.1: False\n",
            "base_model.2: False\n",
            "base_model.3: False\n",
            "base_model.4: False\n",
            "base_model.4.0: False\n",
            "base_model.4.0.conv1: False\n",
            "base_model.4.0.bn1: False\n",
            "base_model.4.0.conv2: False\n",
            "base_model.4.0.bn2: False\n",
            "base_model.4.0.conv3: False\n",
            "base_model.4.0.bn3: False\n",
            "base_model.4.0.relu: False\n",
            "base_model.4.0.downsample: False\n",
            "base_model.4.0.downsample.0: False\n",
            "base_model.4.0.downsample.1: False\n",
            "base_model.4.1: False\n",
            "base_model.4.1.conv1: False\n",
            "base_model.4.1.bn1: False\n",
            "base_model.4.1.conv2: False\n",
            "base_model.4.1.bn2: False\n",
            "base_model.4.1.conv3: False\n",
            "base_model.4.1.bn3: False\n",
            "base_model.4.1.relu: False\n",
            "base_model.4.2: False\n",
            "base_model.4.2.conv1: False\n",
            "base_model.4.2.bn1: False\n",
            "base_model.4.2.conv2: False\n",
            "base_model.4.2.bn2: False\n",
            "base_model.4.2.conv3: False\n",
            "base_model.4.2.bn3: False\n",
            "base_model.4.2.relu: False\n",
            "base_model.5: False\n",
            "base_model.5.0: False\n",
            "base_model.5.0.conv1: False\n",
            "base_model.5.0.bn1: False\n",
            "base_model.5.0.conv2: False\n",
            "base_model.5.0.bn2: False\n",
            "base_model.5.0.conv3: False\n",
            "base_model.5.0.bn3: False\n",
            "base_model.5.0.relu: False\n",
            "base_model.5.0.downsample: False\n",
            "base_model.5.0.downsample.0: False\n",
            "base_model.5.0.downsample.1: False\n",
            "base_model.5.1: False\n",
            "base_model.5.1.conv1: False\n",
            "base_model.5.1.bn1: False\n",
            "base_model.5.1.conv2: False\n",
            "base_model.5.1.bn2: False\n",
            "base_model.5.1.conv3: False\n",
            "base_model.5.1.bn3: False\n",
            "base_model.5.1.relu: False\n",
            "base_model.5.2: False\n",
            "base_model.5.2.conv1: False\n",
            "base_model.5.2.bn1: False\n",
            "base_model.5.2.conv2: False\n",
            "base_model.5.2.bn2: False\n",
            "base_model.5.2.conv3: False\n",
            "base_model.5.2.bn3: False\n",
            "base_model.5.2.relu: False\n",
            "base_model.5.3: False\n",
            "base_model.5.3.conv1: False\n",
            "base_model.5.3.bn1: False\n",
            "base_model.5.3.conv2: False\n",
            "base_model.5.3.bn2: False\n",
            "base_model.5.3.conv3: False\n",
            "base_model.5.3.bn3: False\n",
            "base_model.5.3.relu: False\n",
            "base_model.6: False\n",
            "base_model.6.0: False\n",
            "base_model.6.0.conv1: False\n",
            "base_model.6.0.bn1: False\n",
            "base_model.6.0.conv2: False\n",
            "base_model.6.0.bn2: False\n",
            "base_model.6.0.conv3: False\n",
            "base_model.6.0.bn3: False\n",
            "base_model.6.0.relu: False\n",
            "base_model.6.0.downsample: False\n",
            "base_model.6.0.downsample.0: False\n",
            "base_model.6.0.downsample.1: False\n",
            "base_model.6.1: False\n",
            "base_model.6.1.conv1: False\n",
            "base_model.6.1.bn1: False\n",
            "base_model.6.1.conv2: False\n",
            "base_model.6.1.bn2: False\n",
            "base_model.6.1.conv3: False\n",
            "base_model.6.1.bn3: False\n",
            "base_model.6.1.relu: False\n",
            "base_model.6.2: False\n",
            "base_model.6.2.conv1: False\n",
            "base_model.6.2.bn1: False\n",
            "base_model.6.2.conv2: False\n",
            "base_model.6.2.bn2: False\n",
            "base_model.6.2.conv3: False\n",
            "base_model.6.2.bn3: False\n",
            "base_model.6.2.relu: False\n",
            "base_model.6.3: False\n",
            "base_model.6.3.conv1: False\n",
            "base_model.6.3.bn1: False\n",
            "base_model.6.3.conv2: False\n",
            "base_model.6.3.bn2: False\n",
            "base_model.6.3.conv3: False\n",
            "base_model.6.3.bn3: False\n",
            "base_model.6.3.relu: False\n",
            "base_model.6.4: False\n",
            "base_model.6.4.conv1: False\n",
            "base_model.6.4.bn1: False\n",
            "base_model.6.4.conv2: False\n",
            "base_model.6.4.bn2: False\n",
            "base_model.6.4.conv3: False\n",
            "base_model.6.4.bn3: False\n",
            "base_model.6.4.relu: False\n",
            "base_model.6.5: False\n",
            "base_model.6.5.conv1: False\n",
            "base_model.6.5.bn1: False\n",
            "base_model.6.5.conv2: False\n",
            "base_model.6.5.bn2: False\n",
            "base_model.6.5.conv3: False\n",
            "base_model.6.5.bn3: False\n",
            "base_model.6.5.relu: False\n",
            "base_model.7: False\n",
            "base_model.7.0: False\n",
            "base_model.7.0.conv1: False\n",
            "base_model.7.0.bn1: False\n",
            "base_model.7.0.conv2: False\n",
            "base_model.7.0.bn2: False\n",
            "base_model.7.0.conv3: False\n",
            "base_model.7.0.bn3: False\n",
            "base_model.7.0.relu: False\n",
            "base_model.7.0.downsample: False\n",
            "base_model.7.0.downsample.0: False\n",
            "base_model.7.0.downsample.1: False\n",
            "base_model.7.1: False\n",
            "base_model.7.1.conv1: False\n",
            "base_model.7.1.bn1: False\n",
            "base_model.7.1.conv2: False\n",
            "base_model.7.1.bn2: False\n",
            "base_model.7.1.conv3: False\n",
            "base_model.7.1.bn3: False\n",
            "base_model.7.1.relu: False\n",
            "base_model.7.2: False\n",
            "base_model.7.2.conv1: False\n",
            "base_model.7.2.bn1: False\n",
            "base_model.7.2.conv2: False\n",
            "base_model.7.2.bn2: False\n",
            "base_model.7.2.conv3: False\n",
            "base_model.7.2.bn3: False\n",
            "base_model.7.2.relu: False\n",
            "gap: False\n",
            "gmp: False\n",
            "dropout: False\n",
            "fc: True\n"
          ]
        }
      ],
      "source": [
        "learning_rate = 0.001\n",
        "epochs = 30\n",
        "\n",
        "torch_proposed = resnet50(weights=\"IMAGENET1K_V1\")\n",
        "torch_proposed = torch_proposed.to(device)\n",
        "\n",
        "# FREEZE ALL LAYERS\n",
        "for name, layer in torch_proposed.named_modules():\n",
        "    for param in layer.parameters():\n",
        "        param.requires_grad = False\n",
        "\n",
        "class ProposedResNet(nn.Module):\n",
        "    def __init__(self, base_model, num_classes=18, dropout_rate=0.5):\n",
        "        super(ProposedResNet, self).__init__()\n",
        "        self.base_model = nn.Sequential(*list(base_model.children())[:-2])  # Exclude top layers\n",
        "        self.gap = nn.AdaptiveAvgPool2d((1, 1))\n",
        "        self.gmp = nn.AdaptiveMaxPool2d((1, 1))\n",
        "        self.dropout = nn.Dropout(dropout_rate)\n",
        "        self.fc = nn.Linear(4096, num_classes)  # 2048 (gap) + 2048 (gmp) = 4096\n",
        "\n",
        "    def forward(self, x):\n",
        "        x = self.base_model(x)\n",
        "        gap = self.gap(x).view(x.size(0), -1)\n",
        "        gmp = self.gmp(x).view(x.size(0), -1)\n",
        "        concat = torch.cat((gap, gmp), dim=1)\n",
        "        concat = self.dropout(concat)\n",
        "        x = self.fc(concat)\n",
        "        return x\n",
        "\n",
        "\n",
        "torch_proposed_model = ProposedResNet(torch_proposed).to(device)\n",
        "\n",
        "criterion = nn.CrossEntropyLoss(weight=class_weights_tensor)\n",
        "optimizer = optim.Adamax(torch_proposed_model.fc.parameters, lr=learning_rate)\n",
        "\n",
        "\n",
        "for name, layer in torch_proposed_model.named_modules():\n",
        "    print(f'{name}: {any(param.requires_grad for param in layer.parameters())}')\n"
      ]
    },
    {
      "cell_type": "code",
      "execution_count": 7,
      "metadata": {},
      "outputs": [
        {
          "name": "stderr",
          "output_type": "stream",
          "text": [
            "Epoch 1/30: 100%|██████████████████| 105/105 [00:35<00:00,  2.96batch/s, accuracy=0.256, loss=0.208]\n"
          ]
        },
        {
          "name": "stdout",
          "output_type": "stream",
          "text": [
            "Epoch 1/30: Train Loss=3.3191, Train Acc=0.2561, Val Loss=1.5801, Val Acc=0.6962\n"
          ]
        },
        {
          "name": "stderr",
          "output_type": "stream",
          "text": [
            "Epoch 2/30: 100%|███████████████████| 105/105 [01:13<00:00,  1.43batch/s, accuracy=0.541, loss=0.12]\n"
          ]
        },
        {
          "name": "stdout",
          "output_type": "stream",
          "text": [
            "Epoch 2/30: Train Loss=1.9146, Train Acc=0.5414, Val Loss=0.9543, Val Acc=0.7806\n"
          ]
        },
        {
          "name": "stderr",
          "output_type": "stream",
          "text": [
            "Epoch 3/30:  13%|██▌                | 14/105 [00:23<02:35,  1.71s/batch, accuracy=0.589, loss=0.105]\n"
          ]
        },
        {
          "ename": "KeyboardInterrupt",
          "evalue": "",
          "output_type": "error",
          "traceback": [
            "\u001b[1;31m---------------------------------------------------------------------------\u001b[0m",
            "\u001b[1;31mKeyboardInterrupt\u001b[0m                         Traceback (most recent call last)",
            "Cell \u001b[1;32mIn[7], line 2\u001b[0m\n\u001b[0;32m      1\u001b[0m \u001b[38;5;66;03m# Train model\u001b[39;00m\n\u001b[1;32m----> 2\u001b[0m proposed_history \u001b[38;5;241m=\u001b[39m \u001b[43mtrain_model\u001b[49m\u001b[43m(\u001b[49m\u001b[43mtorch_proposed_model\u001b[49m\u001b[43m,\u001b[49m\u001b[43m \u001b[49m\u001b[43mtrain_loader\u001b[49m\u001b[43m,\u001b[49m\u001b[43m \u001b[49m\u001b[43mtest_loader\u001b[49m\u001b[43m,\u001b[49m\u001b[43m \u001b[49m\u001b[43moptimizer\u001b[49m\u001b[43m,\u001b[49m\u001b[43m \u001b[49m\u001b[43mcriterion\u001b[49m\u001b[43m,\u001b[49m\u001b[43m \u001b[49m\u001b[43mepochs\u001b[49m\u001b[38;5;241;43m=\u001b[39;49m\u001b[43mepochs\u001b[49m\u001b[43m,\u001b[49m\u001b[43m \u001b[49m\u001b[43mdevice\u001b[49m\u001b[38;5;241;43m=\u001b[39;49m\u001b[43mdevice\u001b[49m\u001b[43m)\u001b[49m\n",
            "Cell \u001b[1;32mIn[2], line 150\u001b[0m, in \u001b[0;36mtrain_model\u001b[1;34m(model, dataloader, val_dataloader, optimizer, criterion, epochs, device)\u001b[0m\n\u001b[0;32m    147\u001b[0m loss\u001b[38;5;241m.\u001b[39mbackward()\n\u001b[0;32m    148\u001b[0m optimizer\u001b[38;5;241m.\u001b[39mstep()\n\u001b[1;32m--> 150\u001b[0m running_loss \u001b[38;5;241m+\u001b[39m\u001b[38;5;241m=\u001b[39m \u001b[43mloss\u001b[49m\u001b[38;5;241;43m.\u001b[39;49m\u001b[43mitem\u001b[49m\u001b[43m(\u001b[49m\u001b[43m)\u001b[49m\n\u001b[0;32m    151\u001b[0m _, predicted \u001b[38;5;241m=\u001b[39m torch\u001b[38;5;241m.\u001b[39mmax(outputs, \u001b[38;5;241m1\u001b[39m)\n\u001b[0;32m    152\u001b[0m correct \u001b[38;5;241m+\u001b[39m\u001b[38;5;241m=\u001b[39m (predicted \u001b[38;5;241m==\u001b[39m labels)\u001b[38;5;241m.\u001b[39msum()\u001b[38;5;241m.\u001b[39mitem()\n",
            "\u001b[1;31mKeyboardInterrupt\u001b[0m: "
          ]
        }
      ],
      "source": [
        "# Train model\n",
        "proposed_history = train_model(torch_proposed_model, train_loader, test_loader, optimizer, criterion, epochs=epochs, device=device)"
      ]
    },
    {
      "cell_type": "code",
      "execution_count": 54,
      "metadata": {},
      "outputs": [
        {
          "name": "stderr",
          "output_type": "stream",
          "text": [
            "Epoch 1/5: 100%|████████████████████| 53/53 [00:28<00:00,  1.87batch/s, accuracy=0.377, loss=0.0848]\n"
          ]
        },
        {
          "name": "stdout",
          "output_type": "stream",
          "text": [
            "Epoch 1/5: Train Loss=2.6873, Train Acc=0.3770, Val Loss=1.5467, Val Acc=0.6382\n"
          ]
        },
        {
          "name": "stderr",
          "output_type": "stream",
          "text": [
            "Epoch 2/5: 100%|████████████████████| 53/53 [00:28<00:00,  1.88batch/s, accuracy=0.683, loss=0.0383]\n"
          ]
        },
        {
          "name": "stdout",
          "output_type": "stream",
          "text": [
            "Epoch 2/5: Train Loss=1.2139, Train Acc=0.6831, Val Loss=1.1153, Val Acc=0.7358\n"
          ]
        },
        {
          "name": "stderr",
          "output_type": "stream",
          "text": [
            "Epoch 3/5: 100%|████████████████████| 53/53 [00:27<00:00,  1.92batch/s, accuracy=0.746, loss=0.0297]\n"
          ]
        },
        {
          "name": "stdout",
          "output_type": "stream",
          "text": [
            "Epoch 3/5: Train Loss=0.9404, Train Acc=0.7463, Val Loss=0.9365, Val Acc=0.8089\n"
          ]
        },
        {
          "name": "stderr",
          "output_type": "stream",
          "text": [
            "Epoch 4/5: 100%|█████████████████████| 53/53 [00:27<00:00,  1.92batch/s, accuracy=0.79, loss=0.0245]\n"
          ]
        },
        {
          "name": "stdout",
          "output_type": "stream",
          "text": [
            "Epoch 4/5: Train Loss=0.7758, Train Acc=0.7904, Val Loss=0.8536, Val Acc=0.8089\n"
          ]
        },
        {
          "name": "stderr",
          "output_type": "stream",
          "text": [
            "Epoch 5/5: 100%|████████████████████| 53/53 [00:28<00:00,  1.88batch/s, accuracy=0.808, loss=0.0218]\n"
          ]
        },
        {
          "name": "stdout",
          "output_type": "stream",
          "text": [
            "Epoch 5/5: Train Loss=0.6899, Train Acc=0.8082, Val Loss=0.7076, Val Acc=0.8293\n"
          ]
        }
      ],
      "source": [
        "# Train model\n",
        "proposed_history = train_model(torch_proposed_model, enhanced_train_loader, enhanced_val_loader, optimizer, criterion, epochs=epochs, device=device)"
      ]
    },
    {
      "cell_type": "code",
      "execution_count": 59,
      "metadata": {},
      "outputs": [
        {
          "name": "stdout",
          "output_type": "stream",
          "text": [
            "\n",
            "Classification Report:\n",
            "                         precision    recall  f1-score   support\n",
            "\n",
            "   Abudefduf Vaigiensis       1.00      0.42      0.59        19\n",
            " Acanthurus Nigrofuscus       0.81      0.70      0.75        43\n",
            "   Balistapus Undulatus       0.86      0.75      0.80         8\n",
            " Canthigaster Valentini       0.76      0.97      0.85        29\n",
            " Chaetodon Trifascialis       0.77      0.87      0.81        38\n",
            "   Hemigymnus Fasciatus       0.84      0.85      0.85        48\n",
            "  Hemigymnus Melapterus       1.00      0.25      0.40         8\n",
            "        Lutjanus fulvus       0.98      0.98      0.98        41\n",
            "     Myripristis Kuntee       0.86      0.96      0.91        90\n",
            "Neoglyphidodon Nigroris       0.00      0.00      0.00         3\n",
            "      Neoniphon Sammara       0.92      1.00      0.96        59\n",
            " Pempheris Vanicolensis       1.00      1.00      1.00         5\n",
            "Pomacentrus Moluccensis       0.88      1.00      0.94        36\n",
            "               Scaridae       0.58      0.64      0.61        11\n",
            "    Scolopsis Bilineata       0.83      0.56      0.67         9\n",
            "     Siganus Fuscescens       1.00      0.60      0.75         5\n",
            "       Zanclus Cornutus       0.50      0.50      0.50         4\n",
            "       Zebrasoma Scopas       0.80      0.67      0.73        18\n",
            "\n",
            "               accuracy                           0.85       474\n",
            "              macro avg       0.80      0.71      0.73       474\n",
            "           weighted avg       0.85      0.85      0.84       474\n",
            "\n",
            "\n",
            "F1 Score: 0.8387\n",
            "Precision: 0.8517\n",
            "Recall: 0.8502\n",
            "Accuracy: 0.8502\n"
          ]
        },
        {
          "name": "stderr",
          "output_type": "stream",
          "text": [
            "d:\\workspace\\ThesisProject\\venv\\Lib\\site-packages\\sklearn\\metrics\\_classification.py:1565: UndefinedMetricWarning: Precision is ill-defined and being set to 0.0 in labels with no predicted samples. Use `zero_division` parameter to control this behavior.\n",
            "  _warn_prf(average, modifier, f\"{metric.capitalize()} is\", len(result))\n",
            "d:\\workspace\\ThesisProject\\venv\\Lib\\site-packages\\sklearn\\metrics\\_classification.py:1565: UndefinedMetricWarning: Precision is ill-defined and being set to 0.0 in labels with no predicted samples. Use `zero_division` parameter to control this behavior.\n",
            "  _warn_prf(average, modifier, f\"{metric.capitalize()} is\", len(result))\n",
            "d:\\workspace\\ThesisProject\\venv\\Lib\\site-packages\\sklearn\\metrics\\_classification.py:1565: UndefinedMetricWarning: Precision is ill-defined and being set to 0.0 in labels with no predicted samples. Use `zero_division` parameter to control this behavior.\n",
            "  _warn_prf(average, modifier, f\"{metric.capitalize()} is\", len(result))\n",
            "d:\\workspace\\ThesisProject\\venv\\Lib\\site-packages\\sklearn\\metrics\\_classification.py:1565: UndefinedMetricWarning: Precision is ill-defined and being set to 0.0 in labels with no predicted samples. Use `zero_division` parameter to control this behavior.\n",
            "  _warn_prf(average, modifier, f\"{metric.capitalize()} is\", len(result))\n"
          ]
        }
      ],
      "source": [
        "\n",
        "# Test model and evaluate performance\n",
        "y_true, y_pred = test_model(torch_proposed_model, enhanced_test_loader)\n",
        "\n",
        "print(\"\\nClassification Report:\")\n",
        "class_names = train_dataset.classes\n",
        "\n",
        "print(classification_report(y_true, y_pred, target_names=class_names))\n",
        "\n",
        "f1 = f1_score(y_true, y_pred, average='weighted')\n",
        "precision = precision_score(y_true, y_pred, average='weighted')\n",
        "recall = recall_score(y_true, y_pred, average='weighted')\n",
        "accuracy = accuracy_score(y_true, y_pred)\n",
        "\n",
        "print(f'\\nF1 Score: {f1:.4f}')\n",
        "print(f'Precision: {precision:.4f}')\n",
        "print(f'Recall: {recall:.4f}')\n",
        "print(f'Accuracy: {accuracy:.4f}')"
      ]
    },
    {
      "cell_type": "code",
      "execution_count": null,
      "metadata": {},
      "outputs": [],
      "source": [
        "\n",
        "# Test model and evaluate performance\n",
        "y_true, y_pred = test_model(torch_proposed_model, test_loader)\n",
        "\n",
        "print(\"\\nClassification Report:\")\n",
        "class_names = train_dataset.classes\n",
        "\n",
        "print(classification_report(y_true, y_pred, target_names=class_names))\n",
        "\n",
        "f1 = f1_score(y_true, y_pred, average='weighted')\n",
        "precision = precision_score(y_true, y_pred, average='weighted')\n",
        "recall = recall_score(y_true, y_pred, average='weighted')\n",
        "accuracy = accuracy_score(y_true, y_pred)\n",
        "\n",
        "print(f'\\nF1 Score: {f1:.4f}')\n",
        "print(f'Precision: {precision:.4f}')\n",
        "print(f'Recall: {recall:.4f}')\n",
        "print(f'Accuracy: {accuracy:.4f}')"
      ]
    },
    {
      "cell_type": "markdown",
      "metadata": {},
      "source": [
        "**TEST ON SAMPLE IMAGE**"
      ]
    },
    {
      "cell_type": "code",
      "execution_count": 92,
      "metadata": {},
      "outputs": [
        {
          "name": "stdout",
          "output_type": "stream",
          "text": [
            "['Abudefduf Vaigiensis', 'Acanthurus Nigrofuscus', 'Balistapus Undulatus', 'Canthigaster Valentini', 'Chaetodon Trifascialis', 'Hemigymnus Fasciatus', 'Hemigymnus Melapterus', 'Lutjanus fulvus', 'Myripristis Kuntee', 'Neoglyphidodon Nigroris', 'Neoniphon Sammara', 'Pempheris Vanicolensis', 'Pomacentrus Moluccensis', 'Scaridae', 'Scolopsis Bilineata', 'Siganus Fuscescens', 'Zanclus Cornutus', 'Zebrasoma Scopas']\n",
            "Logits: tensor([[-1.6972, -3.5669, -0.9817,  2.1569,  5.6750,  1.2796, -1.2186, -1.6959,\n",
            "         -1.7428, -0.8209, -1.0790,  2.1686,  2.7590, -2.2121, -2.0770, -0.3907,\n",
            "          2.3496, -0.6949]], device='cuda:0')\n"
          ]
        },
        {
          "data": {
            "image/png": "[encoded data removed]",
            "text/plain": [
              "<Figure size 640x480 with 1 Axes>"
            ]
          },
          "metadata": {},
          "output_type": "display_data"
        },
        {
          "name": "stdout",
          "output_type": "stream",
          "text": [
            "Predicted Class: Chaetodon Trifascialis\n",
            "Confidence: 85.19%\n",
            "Inference Time: 0.3723 seconds\n"
          ]
        }
      ],
      "source": [
        "class_labels = train_dataset.classes\n",
        "print(class_labels)\n",
        "\n",
        "image_path = \"./sample_images/Chaetodon Trifascialis.jpg\"\n",
        "\n",
        "predicted_class, confidence, prediction_time = predict_image_with_debug(torch_proposed_model, image_path, device, class_labels)\n",
        "\n",
        "predicted_class_label = predicted_class\n",
        "# confidence = prediction_probs.max().item()  # Get the highest probability\n",
        "# predicted_class_index = prediction_probs.argmax().item()  # Index of the predicted class\n",
        "\n",
        "\n",
        "print(f\"Predicted Class: {predicted_class_label}\")\n",
        "print(f\"Confidence: {confidence * 100:.2f}%\")  \n",
        "print(f\"Inference Time: {prediction_time:.4f} seconds\")"
      ]
    },
    {
      "cell_type": "code",
      "execution_count": 67,
      "metadata": {},
      "outputs": [
        {
          "data": {
            "image/png": "[encoded data removed]",
            "text/plain": [
              "<Figure size 1200x600 with 2 Axes>"
            ]
          },
          "metadata": {},
          "output_type": "display_data"
        }
      ],
      "source": [
        "plot_from_history(proposed_history)"
      ]
    },
    {
      "cell_type": "code",
      "execution_count": 30,
      "metadata": {},
      "outputs": [
        {
          "data": {
            "image/png": "[encoded data removed]",
            "text/plain": [
              "<Figure size 1200x600 with 2 Axes>"
            ]
          },
          "metadata": {},
          "output_type": "display_data"
        }
      ],
      "source": [
        "history_df = pd.read_csv('./saved_models/torch_proposedb8aug1lr001vallacc98testacc100traintime4m15s_history.csv')\n",
        "\n",
        "history = {\n",
        "    'epoch': history_df['epoch'].tolist(),\n",
        "    'train_loss': history_df['train_loss'].tolist(),\n",
        "    'val_loss': history_df['val_loss'].tolist(),\n",
        "    'train_accuracy': history_df['train_accuracy'].tolist(),\n",
        "    'val_accuracy': history_df['val_accuracy'].tolist(),\n",
        "}\n",
        "\n",
        "plot_from_history(history)"
      ]
    },
    {
      "cell_type": "markdown",
      "metadata": {},
      "source": [
        "**END======================================Save Model======================================END**"
      ]
    },
    {
      "cell_type": "code",
      "execution_count": 49,
      "metadata": {},
      "outputs": [],
      "source": [
        "import pandas as pd\n",
        "\n",
        "df = pd.DataFrame(proposed_history)\n",
        "df.to_csv('torch_proposedb16aug1lr001vallacc99testacc100traintime4m15s_history.csv', index=False)\n",
        "torch.save(model6, './saved_models/torch_proposedb16aug1lr001vallacc99testacc100traintime4m15s.pth')\n",
        "torch.save(model6.state_dict(), './saved_models/torch_weights_proposedb16aug1lr001vallacc99testacc100traintime4m15s.pth')"
      ]
    }
  ],
  "metadata": {
    "colab": {
      "provenance": [],
      "toc_visible": true
    },
    "kernelspec": {
      "display_name": "venv",
      "language": "python",
      "name": "python3"
    },
    "language_info": {
      "codemirror_mode": {
        "name": "ipython",
        "version": 3
      },
      "file_extension": ".py",
      "mimetype": "text/x-python",
      "name": "python",
      "nbconvert_exporter": "python",
      "pygments_lexer": "ipython3",
      "version": "3.12.5"
    }
  },
  "nbformat": 4,
  "nbformat_minor": 0
}
